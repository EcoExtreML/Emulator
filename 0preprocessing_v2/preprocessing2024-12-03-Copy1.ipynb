{
 "cells": [
  {
   "cell_type": "markdown",
   "id": "3a72d8d0-e4fd-4b5e-ac80-992ae2e98b75",
   "metadata": {},
   "source": [
    "## Preparing data"
   ]
  },
  {
   "cell_type": "code",
   "execution_count": 1,
   "id": "236cfe17-19dc-4c09-a33d-385637259cd8",
   "metadata": {
    "tags": []
   },
   "outputs": [],
   "source": [
    "import xarray as xr\n",
    "import geopandas as gpd\n",
    "from dask.distributed import Client, LocalCluster\n",
    "from datetime import datetime, timedelta\n",
    "from functools import partial\n",
    "from PyStemmusScope import variable_conversion as vc\n",
    "from rasterio.warp import reproject, Resampling\n",
    "import numpy as np\n",
    "import glob\n",
    "import dask.array as da\n",
    "import pandas as pd\n",
    "from dask_jobqueue import SLURMCluster"
   ]
  },
  {
   "cell_type": "code",
   "execution_count": 2,
   "id": "b8d8dec8-cc71-4376-b844-1e8de8e64fc9",
   "metadata": {
    "tags": []
   },
   "outputs": [],
   "source": [
    "year = 2015\n",
    "\n",
    "parent_in_path = f\"/gpfs/work2/0/ttse0619/qianqian/global_data_Qianqian/1input_data\"\n",
    "data_paths = {\n",
    "            \"era5land\": f\"{parent_in_path}/{year}global/era5land/era5-land_*.nc\",\n",
    "            \"lai\": f\"{parent_in_path}/{year}global/lai_v2/*.nc\",\n",
    "            \"ssm\": f\"{parent_in_path}/{year}global/ssm/GlobalGSSM11km2014_20240214.tif\",\n",
    "            \"co2\": f\"{parent_in_path}/{year}global/co2/CAMS_CO2_2003-2020.nc\",\n",
    "            \"landcover\": f\"{parent_in_path}/landcover/ESACCI-LC-L4-LCCS-Map-300m-P1Y-2013-v2.0.7cds.nc\",\n",
    "            \"vcmax\": f\"{parent_in_path}/Vcmax/TROPOMI_Vmax_Tg_mean.tif\",\n",
    "            \"canopyheight\": f\"{parent_in_path}/canopy_height/canopy_height_11kmGlobal20240215.tif\",\n",
    "            }\n",
    "\n",
    "parent_out_path = \"/gpfs/work2/0/ttse0619/qianqian/global_data_Qianqian/testSarah\""
   ]
  },
  {
   "cell_type": "code",
   "execution_count": 3,
   "id": "e4c63fbd-3b98-41d0-bda9-21ca5e1d0588",
   "metadata": {
    "tags": []
   },
   "outputs": [],
   "source": [
    "def era5_preprocess(ds):    \n",
    "    # Convert the longitude coordinates from [0, 360] to [-180, 180]\n",
    "    ds = ds.assign_coords(longitude=(((ds.longitude + 180) % 360) - 180))\n",
    "    \n",
    "    return ds\n",
    "\n",
    "def fix_coords(ds):\n",
    "    if 'band' in ds.dims:\n",
    "        ds = ds.rename_dims({'band': 'time'})\n",
    "        ds = ds.rename_vars({'band': 'time'})\n",
    "\n",
    "    if 'x' in ds.dims and 'y' in ds.dims:\n",
    "        ds = ds.rename_dims({'x': 'longitude', 'y': 'latitude'})\n",
    "        ds = ds.rename_vars({'x': 'longitude', 'y': 'latitude'})\n",
    "        \n",
    "    elif 'lon' in ds.dims and 'lat' in ds.dims:\n",
    "        ds = ds.rename_dims({'lon': 'longitude', 'lat': 'latitude'})\n",
    "        ds = ds.rename_vars({'lon': 'longitude', 'lat': 'latitude'})\n",
    "    return ds"
   ]
  },
  {
   "cell_type": "code",
   "execution_count": 4,
   "id": "d96cd87d-4b44-49ec-adbb-cd87b231aed7",
   "metadata": {
    "tags": []
   },
   "outputs": [
    {
     "name": "stderr",
     "output_type": "stream",
     "text": [
      "/home/qiahan/.conda/envs/mamba/envs/emulator/lib/python3.9/site-packages/distributed/node.py:182: UserWarning: Port 8787 is already in use.\n",
      "Perhaps you already have a cluster running?\n",
      "Hosting the HTTP server on port 41735 instead\n",
      "  warnings.warn(\n"
     ]
    },
    {
     "data": {
      "text/html": [
       "<div>\n",
       "    <div style=\"width: 24px; height: 24px; background-color: #e1e1e1; border: 3px solid #9D9D9D; border-radius: 5px; position: absolute;\"> </div>\n",
       "    <div style=\"margin-left: 48px;\">\n",
       "        <h3 style=\"margin-bottom: 0px;\">Client</h3>\n",
       "        <p style=\"color: #9D9D9D; margin-bottom: 0px;\">Client-c510a34e-b26a-11ef-a5be-b8cef6790e70</p>\n",
       "        <table style=\"width: 100%; text-align: left;\">\n",
       "\n",
       "        <tr>\n",
       "        \n",
       "            <td style=\"text-align: left;\"><strong>Connection method:</strong> Cluster object</td>\n",
       "            <td style=\"text-align: left;\"><strong>Cluster type:</strong> dask_jobqueue.SLURMCluster</td>\n",
       "        \n",
       "        </tr>\n",
       "\n",
       "        \n",
       "            <tr>\n",
       "                <td style=\"text-align: left;\">\n",
       "                    <strong>Dashboard: </strong> <a href=\"/proxy/41735/status\" target=\"_blank\">/proxy/41735/status</a>\n",
       "                </td>\n",
       "                <td style=\"text-align: left;\"></td>\n",
       "            </tr>\n",
       "        \n",
       "\n",
       "        </table>\n",
       "\n",
       "        \n",
       "            <button style=\"margin-bottom: 12px;\" data-commandlinker-command=\"dask:populate-and-launch-layout\" data-commandlinker-args='{\"url\": \"/proxy/41735/status\" }'>\n",
       "                Launch dashboard in JupyterLab\n",
       "            </button>\n",
       "        \n",
       "\n",
       "        \n",
       "            <details>\n",
       "            <summary style=\"margin-bottom: 20px;\"><h3 style=\"display: inline;\">Cluster Info</h3></summary>\n",
       "            <div class=\"jp-RenderedHTMLCommon jp-RenderedHTML jp-mod-trusted jp-OutputArea-output\">\n",
       "    <div style=\"width: 24px; height: 24px; background-color: #e1e1e1; border: 3px solid #9D9D9D; border-radius: 5px; position: absolute;\">\n",
       "    </div>\n",
       "    <div style=\"margin-left: 48px;\">\n",
       "        <h3 style=\"margin-bottom: 0px; margin-top: 0px;\">SLURMCluster</h3>\n",
       "        <p style=\"color: #9D9D9D; margin-bottom: 0px;\">dask-worker</p>\n",
       "        <table style=\"width: 100%; text-align: left;\">\n",
       "            <tr>\n",
       "                <td style=\"text-align: left;\">\n",
       "                    <strong>Dashboard:</strong> <a href=\"/proxy/41735/status\" target=\"_blank\">/proxy/41735/status</a>\n",
       "                </td>\n",
       "                <td style=\"text-align: left;\">\n",
       "                    <strong>Workers:</strong> 0\n",
       "                </td>\n",
       "            </tr>\n",
       "            <tr>\n",
       "                <td style=\"text-align: left;\">\n",
       "                    <strong>Total threads:</strong> 0\n",
       "                </td>\n",
       "                <td style=\"text-align: left;\">\n",
       "                    <strong>Total memory:</strong> 0 B\n",
       "                </td>\n",
       "            </tr>\n",
       "            \n",
       "        </table>\n",
       "\n",
       "        <details>\n",
       "            <summary style=\"margin-bottom: 20px;\">\n",
       "                <h3 style=\"display: inline;\">Scheduler Info</h3>\n",
       "            </summary>\n",
       "\n",
       "            <div style=\"\">\n",
       "    <div>\n",
       "        <div style=\"width: 24px; height: 24px; background-color: #FFF7E5; border: 3px solid #FF6132; border-radius: 5px; position: absolute;\"> </div>\n",
       "        <div style=\"margin-left: 48px;\">\n",
       "            <h3 style=\"margin-bottom: 0px;\">Scheduler</h3>\n",
       "            <p style=\"color: #9D9D9D; margin-bottom: 0px;\">Scheduler-32073850-e694-4c3e-88f8-1755b42f99c9</p>\n",
       "            <table style=\"width: 100%; text-align: left;\">\n",
       "                <tr>\n",
       "                    <td style=\"text-align: left;\">\n",
       "                        <strong>Comm:</strong> tcp://145.136.63.38:33811\n",
       "                    </td>\n",
       "                    <td style=\"text-align: left;\">\n",
       "                        <strong>Workers:</strong> 0\n",
       "                    </td>\n",
       "                </tr>\n",
       "                <tr>\n",
       "                    <td style=\"text-align: left;\">\n",
       "                        <strong>Dashboard:</strong> <a href=\"/proxy/41735/status\" target=\"_blank\">/proxy/41735/status</a>\n",
       "                    </td>\n",
       "                    <td style=\"text-align: left;\">\n",
       "                        <strong>Total threads:</strong> 0\n",
       "                    </td>\n",
       "                </tr>\n",
       "                <tr>\n",
       "                    <td style=\"text-align: left;\">\n",
       "                        <strong>Started:</strong> Just now\n",
       "                    </td>\n",
       "                    <td style=\"text-align: left;\">\n",
       "                        <strong>Total memory:</strong> 0 B\n",
       "                    </td>\n",
       "                </tr>\n",
       "            </table>\n",
       "        </div>\n",
       "    </div>\n",
       "\n",
       "    <details style=\"margin-left: 48px;\">\n",
       "        <summary style=\"margin-bottom: 20px;\">\n",
       "            <h3 style=\"display: inline;\">Workers</h3>\n",
       "        </summary>\n",
       "\n",
       "        \n",
       "\n",
       "    </details>\n",
       "</div>\n",
       "\n",
       "        </details>\n",
       "    </div>\n",
       "</div>\n",
       "            </details>\n",
       "        \n",
       "\n",
       "    </div>\n",
       "</div>"
      ],
      "text/plain": [
       "<Client: 'tcp://145.136.63.38:33811' processes=0 threads=0, memory=0 B>"
      ]
     },
     "execution_count": 4,
     "metadata": {},
     "output_type": "execute_result"
    }
   ],
   "source": [
    "cluster = SLURMCluster(\n",
    "    name='dask-worker',\n",
    "    cores=16,\n",
    "    processes=16,\n",
    "    queue='fat',\n",
    "    memory='120GiB',\n",
    "    local_directory='$TMPDIR',\n",
    "    walltime='3:00:00'\n",
    ")\n",
    "cluster.scale(jobs=4)\n",
    "client = Client(cluster)\n",
    "client"
   ]
  },
  {
   "cell_type": "markdown",
   "id": "f55b33a6-bad0-4b60-bd62-9aa2df154ccf",
   "metadata": {},
   "source": [
    "## ERA5LAND"
   ]
  },
  {
   "cell_type": "code",
   "execution_count": 5,
   "id": "d7cb5e5d-f068-4bcf-9e03-8dfdbc5efaed",
   "metadata": {
    "tags": []
   },
   "outputs": [
    {
     "name": "stdout",
     "output_type": "stream",
     "text": [
      "CPU times: user 20min 20s, sys: 1min, total: 21min 21s\n",
      "Wall time: 1h 25min 28s\n"
     ]
    },
    {
     "data": {
      "text/plain": [
       "<xarray.backends.zarr.ZarrStore at 0x149811e8a6d0>"
      ]
     },
     "execution_count": 5,
     "metadata": {},
     "output_type": "execute_result"
    }
   ],
   "source": [
    "%%time\n",
    "era5land = xr.open_mfdataset(data_paths['era5land'], preprocess=era5_preprocess, chunks={'longitude': 250, 'latitude': 250})\n",
    "# era5land = era5land.chunk({'time': 750})\n",
    "era5land = era5land.sortby(['longitude', 'latitude'])\n",
    "era5land = era5land.chunk(\n",
    "    time=750, \n",
    "    longitude=250, \n",
    "    latitude=250\n",
    ")\n",
    "# # svae to zarr\n",
    "out_path = f\"{parent_in_path}/{year}global/era5land/{'era5land'}_{year}.zarr\"\n",
    "era5land.to_zarr(out_path, mode='w')"
   ]
  },
  {
   "cell_type": "code",
   "execution_count": 6,
   "id": "e15b69d0-8fc3-4b36-a08b-d4d6e680d031",
   "metadata": {
    "tags": []
   },
   "outputs": [],
   "source": [
    "client.shutdown()"
   ]
  },
  {
   "cell_type": "code",
   "execution_count": 7,
   "id": "f3d40c81-e325-4ba0-bec9-530a20c15ee9",
   "metadata": {
    "tags": []
   },
   "outputs": [
    {
     "data": {
      "text/plain": [
       "'/gpfs/work2/0/ttse0619/qianqian/global_data_Qianqian/1input_data/2013global/era5land/era5land_2013.zarr'"
      ]
     },
     "execution_count": 7,
     "metadata": {},
     "output_type": "execute_result"
    }
   ],
   "source": [
    "out_path"
   ]
  },
  {
   "cell_type": "code",
   "execution_count": 7,
   "id": "0b02de46-bfe0-482d-ae9b-ef69aca44272",
   "metadata": {
    "tags": []
   },
   "outputs": [],
   "source": [
    "target = era5land['sp'].isel(time=0, drop=True)\n",
    "target = target.rio.write_crs('EPSG:4326')"
   ]
  },
  {
   "cell_type": "markdown",
   "id": "d386d27a-6d97-4e3d-9220-9bb24ca7f96c",
   "metadata": {},
   "source": [
    "## CO2"
   ]
  },
  {
   "cell_type": "code",
   "execution_count": 36,
   "id": "bbb05b76-36fd-4070-8a2f-0430f1001006",
   "metadata": {
    "tags": []
   },
   "outputs": [
    {
     "name": "stdout",
     "output_type": "stream",
     "text": [
      "CPU times: user 15.1 ms, sys: 6.19 ms, total: 21.3 ms\n",
      "Wall time: 80 ms\n"
     ]
    }
   ],
   "source": [
    "%%time\n",
    "## CO2\n",
    "co2 = xr.open_dataset(data_paths['co2']).sel(time=str(year))\n",
    "co2 = co2.assign_coords(longitude=(((co2.longitude + 180) % 360) - 180))     \n",
    "co2 = co2.sortby(['longitude', 'latitude'])\n",
    "co2 = vc.co2_mass_fraction_to_kg_per_m3(co2['co2'])*1e6 #kg/kg -> mg/m3"
   ]
  },
  {
   "cell_type": "code",
   "execution_count": 41,
   "id": "49594be7-5fd1-4aa4-ae48-5c9560362c48",
   "metadata": {
    "tags": []
   },
   "outputs": [
    {
     "data": {
      "text/plain": [
       "[<matplotlib.lines.Line2D at 0x14f55aad3a60>]"
      ]
     },
     "execution_count": 41,
     "metadata": {},
     "output_type": "execute_result"
    },
    {
     "data": {
      "image/png": "[encoded data removed]",
      "text/plain": [
       "<Figure size 640x480 with 1 Axes>"
      ]
     },
     "metadata": {},
     "output_type": "display_data"
    }
   ],
   "source": [
    "(co2['co2']*1.0e6 * 28.966 / 44.0).sel(longitude=vali0[vali0.station=='IT-Lav'].longitude.unique()[0],latitude=vali0[vali0.station=='IT-Lav'].latitude.unique()[0],method='nearest').plot()"
   ]
  },
  {
   "cell_type": "code",
   "execution_count": 8,
   "id": "cc85dceb-0542-4167-9328-29cbb2d75e2d",
   "metadata": {
    "tags": []
   },
   "outputs": [],
   "source": [
    "vali0 = pd.read_csv(\"/projects/0/ttse0619/qianqian/global_data_Qianqian/3RF_train/testing_space-withindex_v6_hourlyUTC.csv\") \n",
    "# vali = pd.read_csv(\"/projects/0/ttse0619/qianqian/global_data_Qianqian/5output_data/\"+station+\"_spaceVali.csv\")\n"
   ]
  },
  {
   "cell_type": "code",
   "execution_count": 35,
   "id": "6d858159-8e1c-4070-b670-535a2483be37",
   "metadata": {
    "tags": []
   },
   "outputs": [
    {
     "name": "stderr",
     "output_type": "stream",
     "text": [
      "/home/qiahan/.local/lib/python3.9/site-packages/IPython/core/displayhook.py:281: UserWarning: Output cache limit (currently 20 entries) hit.\n",
      "Flushing oldest 4 entries.\n",
      "  warn('Output cache limit (currently {sz} entries) hit.\\n'\n"
     ]
    },
    {
     "data": {
      "text/plain": [
       "<Axes: >"
      ]
     },
     "execution_count": 35,
     "metadata": {},
     "output_type": "execute_result"
    },
    {
     "data": {
      "image/png": "[encoded data removed]",
      "text/plain": [
       "<Figure size 640x480 with 1 Axes>"
      ]
     },
     "metadata": {},
     "output_type": "display_data"
    }
   ],
   "source": [
    "(vali0[vali0.station=='IT-Lav'].CO2).plot()"
   ]
  },
  {
   "cell_type": "code",
   "execution_count": 30,
   "id": "a1f12ef2-e847-4711-8726-ae0f3dbb9563",
   "metadata": {
    "tags": []
   },
   "outputs": [
    {
     "data": {
      "text/plain": [
       "[<matplotlib.lines.Line2D at 0x14f5c07f9a30>]"
      ]
     },
     "execution_count": 30,
     "metadata": {},
     "output_type": "execute_result"
    },
    {
     "data": {
      "image/png": "[encoded data removed]",
      "text/plain": [
       "<Figure size 640x480 with 1 Axes>"
      ]
     },
     "metadata": {},
     "output_type": "display_data"
    }
   ],
   "source": [
    "\n",
    "(co2*29/44).sel(longitude=vali0[vali0.station=='IT-Lav'].longitude.unique()[0],latitude=vali0[vali0.station=='IT-Lav'].latitude.unique()[0],method='nearest').plot()"
   ]
  },
  {
   "cell_type": "code",
   "execution_count": 33,
   "id": "e10f0b9d-0246-49dc-acd0-2803382d90df",
   "metadata": {
    "tags": []
   },
   "outputs": [
    {
     "data": {
      "text/plain": [
       "<matplotlib.collections.QuadMesh at 0x14f5ab4a1ac0>"
      ]
     },
     "execution_count": 33,
     "metadata": {},
     "output_type": "execute_result"
    },
    {
     "data": {
      "image/png": "[encoded data removed]",
      "text/plain": [
       "<Figure size 640x480 with 2 Axes>"
      ]
     },
     "metadata": {},
     "output_type": "display_data"
    }
   ],
   "source": [
    "\n",
    "(co2*29/44)[1000].plot()"
   ]
  },
  {
   "cell_type": "code",
   "execution_count": 9,
   "id": "4d2277ae-0775-4ad3-b849-7af91d28380b",
   "metadata": {
    "tags": []
   },
   "outputs": [],
   "source": [
    "# co2 = co2.sel(time=slice('2014-01-01T00:00:00.000000000','2014-01-31T03:00:00.000000000'))"
   ]
  },
  {
   "cell_type": "code",
   "execution_count": null,
   "id": "f84e3009-9004-42e8-94cf-402674772c44",
   "metadata": {
    "tags": []
   },
   "outputs": [],
   "source": [
    "%%time\n",
    "co2 = co2.rio.write_crs('EPSG:4326')\n",
    "co2.rio.write_nodata(co2.rio.nodata, inplace=True)\n",
    "co2_reprojected = co2.rio.reproject_match(target, resampling=Resampling.average, nodata=np.nan)\n",
    "co2_reprojected = co2_reprojected.assign_coords({\n",
    "    \"x\": co2_reprojected.x,\n",
    "    \"y\": co2_reprojected.y,\n",
    "    'time':('time',co2_reprojected.time.values + np.timedelta64(3,'h'),co2_reprojected.time.attrs) # convert from starting time to ending time, same as ERA5Land\n",
    "})\n",
    "co2_reprojected = co2_reprojected.rename({'x':'longitude','y':'latitude'})\n"
   ]
  },
  {
   "cell_type": "code",
   "execution_count": null,
   "id": "704e92e2-467b-4f00-ae75-8652988e8b6b",
   "metadata": {
    "tags": []
   },
   "outputs": [],
   "source": [
    "%%time\n",
    "co2_reprojected = co2_reprojected.chunk(\n",
    "    time=-1, \n",
    "    longitude=250, \n",
    "    latitude=250\n",
    ")\n",
    "co2_reprojected = co2_reprojected.to_dataset(name='co2')\n"
   ]
  },
  {
   "cell_type": "code",
   "execution_count": null,
   "id": "b017608f-3a98-433e-aeea-0ab743faa70e",
   "metadata": {},
   "outputs": [],
   "source": [
    "co2_reprojected"
   ]
  },
  {
   "cell_type": "code",
   "execution_count": 11,
   "id": "126a523b-fdcc-4bc3-b242-948411b5ecf9",
   "metadata": {
    "tags": []
   },
   "outputs": [
    {
     "name": "stdout",
     "output_type": "stream",
     "text": [
      "CPU times: user 1min 50s, sys: 46.6 s, total: 2min 37s\n",
      "Wall time: 11.3 s\n"
     ]
    },
    {
     "data": {
      "text/plain": [
       "<xarray.backends.zarr.ZarrStore at 0x1479f5f22eb0>"
      ]
     },
     "execution_count": 11,
     "metadata": {},
     "output_type": "execute_result"
    }
   ],
   "source": [
    "%%time\n",
    "# svae to zarr\n",
    "out_path = f\"{parent_in_path}/{year}global/co2/{'co2'}_{year}.zarr\"\n",
    "co2_reprojected.to_zarr(out_path, mode='w')"
   ]
  },
  {
   "cell_type": "markdown",
   "id": "63e30ada-967d-473f-b019-4e862bc1d7a5",
   "metadata": {},
   "source": [
    "## LAI"
   ]
  },
  {
   "cell_type": "code",
   "execution_count": 7,
   "id": "88894479-cc01-493a-8172-aeca64da05de",
   "metadata": {
    "tags": []
   },
   "outputs": [],
   "source": [
    "LAI_DIR_before = (f\"{parent_in_path}/{year-1}global/lai_v2/\")\n",
    "LAI_DIR_after = (f\"{parent_in_path}/{year+1}global/lai_v2/\")\n",
    "LAI_DIR = (f\"{parent_in_path}/{year}global/lai_v2/\")\n",
    "lai_paths_year = sorted(\n",
    "    glob.glob(f'{LAI_DIR}/c_gls_LAI*_GLOBE_*.nc') #different from LAI_V1\n",
    ")\n",
    "lai_paths_before = sorted(\n",
    "    glob.glob(f'{LAI_DIR_before}/c_gls_LAI*_GLOBE_*.nc')\n",
    ")[-1]\n",
    "lai_paths_after = sorted(\n",
    "    glob.glob(f'{LAI_DIR_after}/c_gls_LAI*_GLOBE_*.nc')\n",
    ")[0]\n",
    "lai_paths = []\n",
    "lai_paths.append(lai_paths_before)\n",
    "lai_paths.extend(lai_paths_year)\n",
    "lai_paths.append(lai_paths_after)"
   ]
  },
  {
   "cell_type": "code",
   "execution_count": 8,
   "id": "da7aac29-27b0-43a2-b6a1-80317ba22ccf",
   "metadata": {
    "tags": []
   },
   "outputs": [],
   "source": [
    "lai = xr.open_mfdataset(lai_paths, chunks={})\n",
    "lai = lai['LAI']  # keep only one variable\n",
    "lai.rio.write_nodata(np.nan, inplace=True)\n",
    "lai = lai.rio.write_crs('WGS84')\n",
    "lai = lai.rename(\n",
    "    lon='longitude',\n",
    "    lat='latitude',\n",
    ")"
   ]
  },
  {
   "cell_type": "code",
   "execution_count": 14,
   "id": "f68f0579-3987-409f-abd7-bd802f398c7a",
   "metadata": {
    "tags": []
   },
   "outputs": [],
   "source": [
    "template = xr.DataArray(\n",
    "    data=da.zeros(\n",
    "        (len(lai.time), len(target.latitude), len(target.longitude)),\n",
    "        chunks=(1, -1, -1),\n",
    "    ),\n",
    "    dims=('time', 'latitude', 'longitude'),\n",
    "    coords={\n",
    "        'time': lai.time, \n",
    "        'latitude': target.latitude, \n",
    "        'longitude': target.longitude,\n",
    "    },\n",
    ")\n",
    "def reproject(source):\n",
    "    # import here, otherwise not seen by workers\n",
    "    import rioxarray\n",
    "    from rasterio.warp import reproject, Resampling\n",
    "    reprojected = source.rio.reproject_match(\n",
    "        target,\n",
    "        nodata=np.nan,\n",
    "        resampling=Resampling.average\n",
    "    )\n",
    "    reprojected = reprojected.drop_vars('crs')\n",
    "    return reprojected.rename(x='longitude', y='latitude')\n",
    "\n",
    "lai_reprojected = xr.map_blocks(\n",
    "    reproject,\n",
    "    lai,\n",
    "    template=template,\n",
    ")"
   ]
  },
  {
   "cell_type": "code",
   "execution_count": 19,
   "id": "40302de1-b1ca-4d64-8540-16b7fcb658f6",
   "metadata": {
    "tags": []
   },
   "outputs": [
    {
     "name": "stdout",
     "output_type": "stream",
     "text": [
      "CPU times: user 8.9 s, sys: 1.34 s, total: 10.2 s\n",
      "Wall time: 10.7 s\n"
     ]
    },
    {
     "data": {
      "text/plain": [
       "<xarray.backends.zarr.ZarrStore at 0x154b0773add0>"
      ]
     },
     "execution_count": 19,
     "metadata": {},
     "output_type": "execute_result"
    }
   ],
   "source": [
    "%%time\n",
    "lai_reprojected = lai_reprojected.chunk(\n",
    "    time=-1, \n",
    "    longitude=250, \n",
    "    latitude=250\n",
    ")\n",
    "lai_reprojected = lai_reprojected.to_dataset(name='LAI')\n",
    "# svae to zarr\n",
    "out_path = f\"{parent_in_path}/{year}global/lai_v2/{'lai_v2'}_{year}111.zarr\"\n",
    "lai_reprojected.to_zarr(out_path, mode='w')"
   ]
  },
  {
   "cell_type": "code",
   "execution_count": 24,
   "id": "b3c5ca3f-fbd2-437e-88da-8d1300624c9e",
   "metadata": {
    "tags": []
   },
   "outputs": [
    {
     "name": "stdout",
     "output_type": "stream",
     "text": [
      "{'source': '/gpfs/work2/0/ttse0619/qianqian/global_data_Qianqian/1input_data/2014global/era5land/era5-land_2m_dewpoint_temperature_2014-01.nc', 'original_shape': (1801,), 'dtype': dtype('float32')}\n",
      "{}\n"
     ]
    }
   ],
   "source": [
    "print(lai_reprojected['latitude'].encoding)\n",
    "print(lai_reprojected['longitude'].encoding)\n"
   ]
  },
  {
   "cell_type": "code",
   "execution_count": 25,
   "id": "f05c8e07-bb0c-40dd-b765-4d56ecd8deb6",
   "metadata": {
    "tags": []
   },
   "outputs": [
    {
     "name": "stdout",
     "output_type": "stream",
     "text": [
      "float64\n",
      "float64\n"
     ]
    }
   ],
   "source": [
    "print(lai_reprojected['latitude'].dtype)  # 确认为 float64\n",
    "print(lai_reprojected['longitude'].dtype)  # 确认为 float64"
   ]
  },
  {
   "cell_type": "code",
   "execution_count": 27,
   "id": "c7d07356-a5b1-4628-b2a5-29683d394212",
   "metadata": {
    "tags": []
   },
   "outputs": [],
   "source": [
    "client.shutdown()"
   ]
  },
  {
   "cell_type": "markdown",
   "id": "221fb161-18ce-4f44-b186-9416a60d70db",
   "metadata": {},
   "source": [
    "## SSM"
   ]
  },
  {
   "cell_type": "code",
   "execution_count": 24,
   "id": "e5415b8e-0c0e-44c2-9034-ec665b1235d5",
   "metadata": {
    "tags": []
   },
   "outputs": [
    {
     "name": "stdout",
     "output_type": "stream",
     "text": [
      "CPU times: user 2 µs, sys: 1e+03 ns, total: 3 µs\n",
      "Wall time: 5.25 µs\n"
     ]
    }
   ],
   "source": [
    "%time\n",
    "ssm = xr.open_dataset(data_paths['ssm'])\n",
    "ssm = ssm.rio.write_crs('WGS84')\n",
    "ssm = fix_coords(ssm)\n",
    "ssm = ssm['band_data']\n",
    "ssm['time'] = pd.to_datetime(ssm.time-1, unit='D', origin=str(data_paths['ssm'].split('/')[-1][14:18]))"
   ]
  },
  {
   "cell_type": "code",
   "execution_count": 25,
   "id": "83fea73a-134f-4021-82c0-ab733c98c0af",
   "metadata": {
    "tags": []
   },
   "outputs": [],
   "source": [
    "ssm.rio.write_nodata(np.nan, inplace=True)\n",
    "SSM0 = ssm\n",
    "SSM0 = SSM0.rio.write_crs('EPSG:4326')\n",
    "target = target.rio.write_crs('EPSG:4326')\n",
    "ssm.rio.write_nodata(SSM0.rio.nodata, inplace=True)\n",
    "ssm_reprojected = SSM0.rio.reproject_match(target, resampling=Resampling.average, nodata=np.nan) #\n",
    "ssm_reprojected = ssm_reprojected.rename(\n",
    "    x='longitude',\n",
    "    y='latitude',\n",
    ")\n",
    "# ssm_reprojected.isnull().sum()"
   ]
  },
  {
   "cell_type": "code",
   "execution_count": null,
   "id": "45bc3702-babf-447f-9696-ed0e7bfaf010",
   "metadata": {
    "tags": []
   },
   "outputs": [],
   "source": [
    "%%time\n",
    "ssm_reprojected = ssm_reprojected.chunk(\n",
    "    time=-1, \n",
    "    longitude=250, \n",
    "    latitude=250\n",
    ")\n",
    "ssm_reprojected = ssm_reprojected.to_dataset(name='SSM')"
   ]
  },
  {
   "cell_type": "code",
   "execution_count": 29,
   "id": "07345d61-539a-448e-8b43-3590f7ea8876",
   "metadata": {
    "tags": []
   },
   "outputs": [
    {
     "name": "stdout",
     "output_type": "stream",
     "text": [
      "CPU times: user 19.8 s, sys: 6.83 s, total: 26.7 s\n",
      "Wall time: 2.48 s\n"
     ]
    },
    {
     "data": {
      "text/plain": [
       "<xarray.backends.zarr.ZarrStore at 0x147a0d07eac0>"
      ]
     },
     "execution_count": 29,
     "metadata": {},
     "output_type": "execute_result"
    }
   ],
   "source": [
    "%%time\n",
    "# svae to zarr\n",
    "out_path = f\"{parent_in_path}/{year}global/ssm/{'ssm_global'}_{year}.zarr\"\n",
    "ssm_reprojected.to_zarr(out_path, mode='w')"
   ]
  },
  {
   "cell_type": "markdown",
   "id": "6c53b134-d6f5-4507-ad29-5940c1bbde25",
   "metadata": {},
   "source": [
    "## landcover"
   ]
  },
  {
   "cell_type": "code",
   "execution_count": 30,
   "id": "0095cde9-8348-424d-9532-6b8603bc5137",
   "metadata": {
    "tags": []
   },
   "outputs": [],
   "source": [
    "landcover = xr.open_mfdataset(data_paths['landcover'])[\"lccs_class\"]\n",
    "landcover = landcover.rio.write_crs('WGS84')\n",
    "landcover = landcover.rename(\n",
    "    lon='longitude',\n",
    "    lat='latitude',\n",
    ")"
   ]
  },
  {
   "cell_type": "code",
   "execution_count": 31,
   "id": "2d66a6fc-7902-4468-a51d-06d4722d7692",
   "metadata": {
    "tags": []
   },
   "outputs": [],
   "source": [
    "landcover = landcover.rio.write_crs('EPSG:4326')\n",
    "landcover.rio.write_nodata(landcover.rio.nodata, inplace=True)\n",
    "landcover_reprojected = landcover.rio.reproject_match(target, resampling=Resampling.mode)\n",
    "landcover_reprojected = landcover_reprojected.assign_coords({\n",
    "    \"x\": landcover_reprojected.x,\n",
    "    \"y\": landcover_reprojected.y,\n",
    "})\n",
    "# fix naming of coordinates\n",
    "landcover_reprojected = landcover_reprojected.rename(\n",
    "    x='longitude',\n",
    "    y='latitude'\n",
    ")"
   ]
  },
  {
   "cell_type": "code",
   "execution_count": 32,
   "id": "f6d9b2b5-b13b-41b1-820b-e029ec303b0b",
   "metadata": {
    "tags": []
   },
   "outputs": [],
   "source": [
    "landcover_reprojected = landcover_reprojected.to_dataset(name='lccs_class')\n",
    "landcover_reprojected = landcover_reprojected.chunk(\n",
    "    longitude=250, \n",
    "    latitude=250\n",
    ")"
   ]
  },
  {
   "cell_type": "code",
   "execution_count": 33,
   "id": "52fbcc1d-460a-483d-b297-bc8ed3c26c84",
   "metadata": {
    "tags": []
   },
   "outputs": [
    {
     "name": "stdout",
     "output_type": "stream",
     "text": [
      "CPU times: user 55.3 ms, sys: 57.9 ms, total: 113 ms\n",
      "Wall time: 120 ms\n"
     ]
    },
    {
     "data": {
      "text/plain": [
       "<xarray.backends.zarr.ZarrStore at 0x147a19cc22e0>"
      ]
     },
     "execution_count": 33,
     "metadata": {},
     "output_type": "execute_result"
    }
   ],
   "source": [
    "%%time\n",
    "# svae to zarr\n",
    "out_path = f\"{parent_in_path}/landcover/{'landcover'}.zarr\"\n",
    "landcover_reprojected.to_zarr(out_path, mode='w')"
   ]
  },
  {
   "cell_type": "markdown",
   "id": "c8962a0f-e625-4118-b09f-ddda0ff68de7",
   "metadata": {},
   "source": [
    "## canopy height (hc)"
   ]
  },
  {
   "cell_type": "code",
   "execution_count": 34,
   "id": "702f8d9d-af4e-4bd8-8c79-39b406f724c0",
   "metadata": {
    "tags": []
   },
   "outputs": [],
   "source": [
    "hc = xr.open_dataset(data_paths['canopyheight']).band_data\n",
    "# hc = hc.squeeze('band')  # drop band dimension\n",
    "hc = hc.rio.write_crs('WGS84')\n",
    "hc = hc.rename(\n",
    "    x='longitude',\n",
    "    y='latitude',\n",
    ")\n",
    "hc = hc.sortby([\"longitude\", \"latitude\"])"
   ]
  },
  {
   "cell_type": "code",
   "execution_count": 35,
   "id": "46e38dab-37a4-4f72-afd2-943776259d69",
   "metadata": {
    "tags": []
   },
   "outputs": [],
   "source": [
    "import numpy as np\n",
    "hc.rio.write_nodata(np.nan, inplace=True)\n",
    "hc = hc.rio.write_crs('EPSG:4326')\n",
    "target = target.rio.write_crs('EPSG:4326')\n",
    "hc_reprojected = hc.rio.reproject_match(target, resampling=Resampling.average, nodata=np.nan)\n",
    "hc_reprojected = hc_reprojected.assign_coords({\n",
    "    \"x\": hc_reprojected.x,\n",
    "    \"y\": hc_reprojected.y,\n",
    "})\n",
    "# fix naming of coordinates\n",
    "hc_reprojected = hc_reprojected.rename(\n",
    "    x='longitude',\n",
    "    y='latitude'\n",
    ")"
   ]
  },
  {
   "cell_type": "code",
   "execution_count": 36,
   "id": "9c5c0af7-3936-4d2f-aa68-526ad473fdcc",
   "metadata": {
    "tags": []
   },
   "outputs": [
    {
     "data": {
      "text/plain": [
       "<xarray.backends.zarr.ZarrStore at 0x147a114fd580>"
      ]
     },
     "execution_count": 36,
     "metadata": {},
     "output_type": "execute_result"
    }
   ],
   "source": [
    "hc_reprojected = hc_reprojected.to_dataset(name='hc')\n",
    "hc_reprojected = hc_reprojected.chunk(\n",
    "    longitude=250, \n",
    "    latitude=250\n",
    ")\n",
    "# svae to zarr\n",
    "out_path = f\"{parent_in_path}/canopy_height/{'hc_global'}.zarr\"\n",
    "hc_reprojected.to_zarr(out_path, mode='w')"
   ]
  },
  {
   "cell_type": "markdown",
   "id": "99692c60-24d1-4222-8381-d8c98e296a4e",
   "metadata": {},
   "source": [
    "## Vcmax"
   ]
  },
  {
   "cell_type": "code",
   "execution_count": 37,
   "id": "2e63f0ba-8ec7-42e1-a6b0-edb937ad8155",
   "metadata": {
    "tags": []
   },
   "outputs": [
    {
     "data": {
      "text/html": [
       "<div><svg style=\"position: absolute; width: 0; height: 0; overflow: hidden\">\n",
       "<defs>\n",
       "<symbol id=\"icon-database\" viewBox=\"0 0 32 32\">\n",
       "<path d=\"M16 0c-8.837 0-16 2.239-16 5v4c0 2.761 7.163 5 16 5s16-2.239 16-5v-4c0-2.761-7.163-5-16-5z\"></path>\n",
       "<path d=\"M16 17c-8.837 0-16-2.239-16-5v6c0 2.761 7.163 5 16 5s16-2.239 16-5v-6c0 2.761-7.163 5-16 5z\"></path>\n",
       "<path d=\"M16 26c-8.837 0-16-2.239-16-5v6c0 2.761 7.163 5 16 5s16-2.239 16-5v-6c0 2.761-7.163 5-16 5z\"></path>\n",
       "</symbol>\n",
       "<symbol id=\"icon-file-text2\" viewBox=\"0 0 32 32\">\n",
       "<path d=\"M28.681 7.159c-0.694-0.947-1.662-2.053-2.724-3.116s-2.169-2.030-3.116-2.724c-1.612-1.182-2.393-1.319-2.841-1.319h-15.5c-1.378 0-2.5 1.121-2.5 2.5v27c0 1.378 1.122 2.5 2.5 2.5h23c1.378 0 2.5-1.122 2.5-2.5v-19.5c0-0.448-0.137-1.23-1.319-2.841zM24.543 5.457c0.959 0.959 1.712 1.825 2.268 2.543h-4.811v-4.811c0.718 0.556 1.584 1.309 2.543 2.268zM28 29.5c0 0.271-0.229 0.5-0.5 0.5h-23c-0.271 0-0.5-0.229-0.5-0.5v-27c0-0.271 0.229-0.5 0.5-0.5 0 0 15.499-0 15.5 0v7c0 0.552 0.448 1 1 1h7v19.5z\"></path>\n",
       "<path d=\"M23 26h-14c-0.552 0-1-0.448-1-1s0.448-1 1-1h14c0.552 0 1 0.448 1 1s-0.448 1-1 1z\"></path>\n",
       "<path d=\"M23 22h-14c-0.552 0-1-0.448-1-1s0.448-1 1-1h14c0.552 0 1 0.448 1 1s-0.448 1-1 1z\"></path>\n",
       "<path d=\"M23 18h-14c-0.552 0-1-0.448-1-1s0.448-1 1-1h14c0.552 0 1 0.448 1 1s-0.448 1-1 1z\"></path>\n",
       "</symbol>\n",
       "</defs>\n",
       "</svg>\n",
       "<style>/* CSS stylesheet for displaying xarray objects in jupyterlab.\n",
       " *\n",
       " */\n",
       "\n",
       ":root {\n",
       "  --xr-font-color0: var(--jp-content-font-color0, rgba(0, 0, 0, 1));\n",
       "  --xr-font-color2: var(--jp-content-font-color2, rgba(0, 0, 0, 0.54));\n",
       "  --xr-font-color3: var(--jp-content-font-color3, rgba(0, 0, 0, 0.38));\n",
       "  --xr-border-color: var(--jp-border-color2, #e0e0e0);\n",
       "  --xr-disabled-color: var(--jp-layout-color3, #bdbdbd);\n",
       "  --xr-background-color: var(--jp-layout-color0, white);\n",
       "  --xr-background-color-row-even: var(--jp-layout-color1, white);\n",
       "  --xr-background-color-row-odd: var(--jp-layout-color2, #eeeeee);\n",
       "}\n",
       "\n",
       "html[theme=dark],\n",
       "body[data-theme=dark],\n",
       "body.vscode-dark {\n",
       "  --xr-font-color0: rgba(255, 255, 255, 1);\n",
       "  --xr-font-color2: rgba(255, 255, 255, 0.54);\n",
       "  --xr-font-color3: rgba(255, 255, 255, 0.38);\n",
       "  --xr-border-color: #1F1F1F;\n",
       "  --xr-disabled-color: #515151;\n",
       "  --xr-background-color: #111111;\n",
       "  --xr-background-color-row-even: #111111;\n",
       "  --xr-background-color-row-odd: #313131;\n",
       "}\n",
       "\n",
       ".xr-wrap {\n",
       "  display: block !important;\n",
       "  min-width: 300px;\n",
       "  max-width: 700px;\n",
       "}\n",
       "\n",
       ".xr-text-repr-fallback {\n",
       "  /* fallback to plain text repr when CSS is not injected (untrusted notebook) */\n",
       "  display: none;\n",
       "}\n",
       "\n",
       ".xr-header {\n",
       "  padding-top: 6px;\n",
       "  padding-bottom: 6px;\n",
       "  margin-bottom: 4px;\n",
       "  border-bottom: solid 1px var(--xr-border-color);\n",
       "}\n",
       "\n",
       ".xr-header > div,\n",
       ".xr-header > ul {\n",
       "  display: inline;\n",
       "  margin-top: 0;\n",
       "  margin-bottom: 0;\n",
       "}\n",
       "\n",
       ".xr-obj-type,\n",
       ".xr-array-name {\n",
       "  margin-left: 2px;\n",
       "  margin-right: 10px;\n",
       "}\n",
       "\n",
       ".xr-obj-type {\n",
       "  color: var(--xr-font-color2);\n",
       "}\n",
       "\n",
       ".xr-sections {\n",
       "  padding-left: 0 !important;\n",
       "  display: grid;\n",
       "  grid-template-columns: 150px auto auto 1fr 20px 20px;\n",
       "}\n",
       "\n",
       ".xr-section-item {\n",
       "  display: contents;\n",
       "}\n",
       "\n",
       ".xr-section-item input {\n",
       "  display: none;\n",
       "}\n",
       "\n",
       ".xr-section-item input + label {\n",
       "  color: var(--xr-disabled-color);\n",
       "}\n",
       "\n",
       ".xr-section-item input:enabled + label {\n",
       "  cursor: pointer;\n",
       "  color: var(--xr-font-color2);\n",
       "}\n",
       "\n",
       ".xr-section-item input:enabled + label:hover {\n",
       "  color: var(--xr-font-color0);\n",
       "}\n",
       "\n",
       ".xr-section-summary {\n",
       "  grid-column: 1;\n",
       "  color: var(--xr-font-color2);\n",
       "  font-weight: 500;\n",
       "}\n",
       "\n",
       ".xr-section-summary > span {\n",
       "  display: inline-block;\n",
       "  padding-left: 0.5em;\n",
       "}\n",
       "\n",
       ".xr-section-summary-in:disabled + label {\n",
       "  color: var(--xr-font-color2);\n",
       "}\n",
       "\n",
       ".xr-section-summary-in + label:before {\n",
       "  display: inline-block;\n",
       "  content: '►';\n",
       "  font-size: 11px;\n",
       "  width: 15px;\n",
       "  text-align: center;\n",
       "}\n",
       "\n",
       ".xr-section-summary-in:disabled + label:before {\n",
       "  color: var(--xr-disabled-color);\n",
       "}\n",
       "\n",
       ".xr-section-summary-in:checked + label:before {\n",
       "  content: '▼';\n",
       "}\n",
       "\n",
       ".xr-section-summary-in:checked + label > span {\n",
       "  display: none;\n",
       "}\n",
       "\n",
       ".xr-section-summary,\n",
       ".xr-section-inline-details {\n",
       "  padding-top: 4px;\n",
       "  padding-bottom: 4px;\n",
       "}\n",
       "\n",
       ".xr-section-inline-details {\n",
       "  grid-column: 2 / -1;\n",
       "}\n",
       "\n",
       ".xr-section-details {\n",
       "  display: none;\n",
       "  grid-column: 1 / -1;\n",
       "  margin-bottom: 5px;\n",
       "}\n",
       "\n",
       ".xr-section-summary-in:checked ~ .xr-section-details {\n",
       "  display: contents;\n",
       "}\n",
       "\n",
       ".xr-array-wrap {\n",
       "  grid-column: 1 / -1;\n",
       "  display: grid;\n",
       "  grid-template-columns: 20px auto;\n",
       "}\n",
       "\n",
       ".xr-array-wrap > label {\n",
       "  grid-column: 1;\n",
       "  vertical-align: top;\n",
       "}\n",
       "\n",
       ".xr-preview {\n",
       "  color: var(--xr-font-color3);\n",
       "}\n",
       "\n",
       ".xr-array-preview,\n",
       ".xr-array-data {\n",
       "  padding: 0 5px !important;\n",
       "  grid-column: 2;\n",
       "}\n",
       "\n",
       ".xr-array-data,\n",
       ".xr-array-in:checked ~ .xr-array-preview {\n",
       "  display: none;\n",
       "}\n",
       "\n",
       ".xr-array-in:checked ~ .xr-array-data,\n",
       ".xr-array-preview {\n",
       "  display: inline-block;\n",
       "}\n",
       "\n",
       ".xr-dim-list {\n",
       "  display: inline-block !important;\n",
       "  list-style: none;\n",
       "  padding: 0 !important;\n",
       "  margin: 0;\n",
       "}\n",
       "\n",
       ".xr-dim-list li {\n",
       "  display: inline-block;\n",
       "  padding: 0;\n",
       "  margin: 0;\n",
       "}\n",
       "\n",
       ".xr-dim-list:before {\n",
       "  content: '(';\n",
       "}\n",
       "\n",
       ".xr-dim-list:after {\n",
       "  content: ')';\n",
       "}\n",
       "\n",
       ".xr-dim-list li:not(:last-child):after {\n",
       "  content: ',';\n",
       "  padding-right: 5px;\n",
       "}\n",
       "\n",
       ".xr-has-index {\n",
       "  font-weight: bold;\n",
       "}\n",
       "\n",
       ".xr-var-list,\n",
       ".xr-var-item {\n",
       "  display: contents;\n",
       "}\n",
       "\n",
       ".xr-var-item > div,\n",
       ".xr-var-item label,\n",
       ".xr-var-item > .xr-var-name span {\n",
       "  background-color: var(--xr-background-color-row-even);\n",
       "  margin-bottom: 0;\n",
       "}\n",
       "\n",
       ".xr-var-item > .xr-var-name:hover span {\n",
       "  padding-right: 5px;\n",
       "}\n",
       "\n",
       ".xr-var-list > li:nth-child(odd) > div,\n",
       ".xr-var-list > li:nth-child(odd) > label,\n",
       ".xr-var-list > li:nth-child(odd) > .xr-var-name span {\n",
       "  background-color: var(--xr-background-color-row-odd);\n",
       "}\n",
       "\n",
       ".xr-var-name {\n",
       "  grid-column: 1;\n",
       "}\n",
       "\n",
       ".xr-var-dims {\n",
       "  grid-column: 2;\n",
       "}\n",
       "\n",
       ".xr-var-dtype {\n",
       "  grid-column: 3;\n",
       "  text-align: right;\n",
       "  color: var(--xr-font-color2);\n",
       "}\n",
       "\n",
       ".xr-var-preview {\n",
       "  grid-column: 4;\n",
       "}\n",
       "\n",
       ".xr-var-name,\n",
       ".xr-var-dims,\n",
       ".xr-var-dtype,\n",
       ".xr-preview,\n",
       ".xr-attrs dt {\n",
       "  white-space: nowrap;\n",
       "  overflow: hidden;\n",
       "  text-overflow: ellipsis;\n",
       "  padding-right: 10px;\n",
       "}\n",
       "\n",
       ".xr-var-name:hover,\n",
       ".xr-var-dims:hover,\n",
       ".xr-var-dtype:hover,\n",
       ".xr-attrs dt:hover {\n",
       "  overflow: visible;\n",
       "  width: auto;\n",
       "  z-index: 1;\n",
       "}\n",
       "\n",
       ".xr-var-attrs,\n",
       ".xr-var-data {\n",
       "  display: none;\n",
       "  background-color: var(--xr-background-color) !important;\n",
       "  padding-bottom: 5px !important;\n",
       "}\n",
       "\n",
       ".xr-var-attrs-in:checked ~ .xr-var-attrs,\n",
       ".xr-var-data-in:checked ~ .xr-var-data {\n",
       "  display: block;\n",
       "}\n",
       "\n",
       ".xr-var-data > table {\n",
       "  float: right;\n",
       "}\n",
       "\n",
       ".xr-var-name span,\n",
       ".xr-var-data,\n",
       ".xr-attrs {\n",
       "  padding-left: 25px !important;\n",
       "}\n",
       "\n",
       ".xr-attrs,\n",
       ".xr-var-attrs,\n",
       ".xr-var-data {\n",
       "  grid-column: 1 / -1;\n",
       "}\n",
       "\n",
       "dl.xr-attrs {\n",
       "  padding: 0;\n",
       "  margin: 0;\n",
       "  display: grid;\n",
       "  grid-template-columns: 125px auto;\n",
       "}\n",
       "\n",
       ".xr-attrs dt,\n",
       ".xr-attrs dd {\n",
       "  padding: 0;\n",
       "  margin: 0;\n",
       "  float: left;\n",
       "  padding-right: 10px;\n",
       "  width: auto;\n",
       "}\n",
       "\n",
       ".xr-attrs dt {\n",
       "  font-weight: normal;\n",
       "  grid-column: 1;\n",
       "}\n",
       "\n",
       ".xr-attrs dt:hover span {\n",
       "  display: inline-block;\n",
       "  background: var(--xr-background-color);\n",
       "  padding-right: 10px;\n",
       "}\n",
       "\n",
       ".xr-attrs dd {\n",
       "  grid-column: 2;\n",
       "  white-space: pre-wrap;\n",
       "  word-break: break-all;\n",
       "}\n",
       "\n",
       ".xr-icon-database,\n",
       ".xr-icon-file-text2 {\n",
       "  display: inline-block;\n",
       "  vertical-align: middle;\n",
       "  width: 1em;\n",
       "  height: 1.5em !important;\n",
       "  stroke-width: 0;\n",
       "  stroke: currentColor;\n",
       "  fill: currentColor;\n",
       "}\n",
       "</style><pre class='xr-text-repr-fallback'>&lt;xarray.DataArray &#x27;band_data&#x27; (band: 1, y: 360, x: 720)&gt;\n",
       "[259200 values with dtype=float32]\n",
       "Coordinates:\n",
       "  * band         (band) int64 1\n",
       "  * x            (x) float64 -179.8 -179.2 -178.8 -178.2 ... 178.8 179.2 179.8\n",
       "  * y            (y) float64 89.75 89.25 88.75 88.25 ... -88.75 -89.25 -89.75\n",
       "    spatial_ref  int64 0\n",
       "Attributes:\n",
       "    AREA_OR_POINT:             Area\n",
       "    STATISTICS_MAXIMUM:        185.50468444824\n",
       "    STATISTICS_MEAN:           32.584587871174\n",
       "    STATISTICS_MINIMUM:        0.44747722148895\n",
       "    STATISTICS_STDDEV:         30.55013573823\n",
       "    STATISTICS_VALID_PERCENT:  20.61\n",
       "    _FillValue:                nan</pre><div class='xr-wrap' style='display:none'><div class='xr-header'><div class='xr-obj-type'>xarray.DataArray</div><div class='xr-array-name'>'band_data'</div><ul class='xr-dim-list'><li><span class='xr-has-index'>band</span>: 1</li><li><span class='xr-has-index'>y</span>: 360</li><li><span class='xr-has-index'>x</span>: 720</li></ul></div><ul class='xr-sections'><li class='xr-section-item'><div class='xr-array-wrap'><input id='section-367d2698-b183-423c-9345-bd4b6f2c9ce6' class='xr-array-in' type='checkbox' checked><label for='section-367d2698-b183-423c-9345-bd4b6f2c9ce6' title='Show/hide data repr'><svg class='icon xr-icon-database'><use xlink:href='#icon-database'></use></svg></label><div class='xr-array-preview xr-preview'><span>...</span></div><div class='xr-array-data'><pre>[259200 values with dtype=float32]</pre></div></div></li><li class='xr-section-item'><input id='section-0c6f3265-368a-496f-b638-b5de57efae27' class='xr-section-summary-in' type='checkbox'  checked><label for='section-0c6f3265-368a-496f-b638-b5de57efae27' class='xr-section-summary' >Coordinates: <span>(4)</span></label><div class='xr-section-inline-details'></div><div class='xr-section-details'><ul class='xr-var-list'><li class='xr-var-item'><div class='xr-var-name'><span class='xr-has-index'>band</span></div><div class='xr-var-dims'>(band)</div><div class='xr-var-dtype'>int64</div><div class='xr-var-preview xr-preview'>1</div><input id='attrs-43f421e8-06b2-4656-bd78-5b9d2cb59155' class='xr-var-attrs-in' type='checkbox' disabled><label for='attrs-43f421e8-06b2-4656-bd78-5b9d2cb59155' title='Show/Hide attributes'><svg class='icon xr-icon-file-text2'><use xlink:href='#icon-file-text2'></use></svg></label><input id='data-ea361ab7-cde5-4c3b-ae48-76916909c78f' class='xr-var-data-in' type='checkbox'><label for='data-ea361ab7-cde5-4c3b-ae48-76916909c78f' title='Show/Hide data repr'><svg class='icon xr-icon-database'><use xlink:href='#icon-database'></use></svg></label><div class='xr-var-attrs'><dl class='xr-attrs'></dl></div><div class='xr-var-data'><pre>array([1])</pre></div></li><li class='xr-var-item'><div class='xr-var-name'><span class='xr-has-index'>x</span></div><div class='xr-var-dims'>(x)</div><div class='xr-var-dtype'>float64</div><div class='xr-var-preview xr-preview'>-179.8 -179.2 ... 179.2 179.8</div><input id='attrs-94b4c46b-11c0-457a-848d-6beb8b35eaa2' class='xr-var-attrs-in' type='checkbox' disabled><label for='attrs-94b4c46b-11c0-457a-848d-6beb8b35eaa2' title='Show/Hide attributes'><svg class='icon xr-icon-file-text2'><use xlink:href='#icon-file-text2'></use></svg></label><input id='data-d461b5e2-ce69-4f8b-8a25-9a158facb36f' class='xr-var-data-in' type='checkbox'><label for='data-d461b5e2-ce69-4f8b-8a25-9a158facb36f' title='Show/Hide data repr'><svg class='icon xr-icon-database'><use xlink:href='#icon-database'></use></svg></label><div class='xr-var-attrs'><dl class='xr-attrs'></dl></div><div class='xr-var-data'><pre>array([-179.75, -179.25, -178.75, ...,  178.75,  179.25,  179.75])</pre></div></li><li class='xr-var-item'><div class='xr-var-name'><span class='xr-has-index'>y</span></div><div class='xr-var-dims'>(y)</div><div class='xr-var-dtype'>float64</div><div class='xr-var-preview xr-preview'>89.75 89.25 88.75 ... -89.25 -89.75</div><input id='attrs-47df5685-6e07-4813-b9fc-ca586ba41e78' class='xr-var-attrs-in' type='checkbox' disabled><label for='attrs-47df5685-6e07-4813-b9fc-ca586ba41e78' title='Show/Hide attributes'><svg class='icon xr-icon-file-text2'><use xlink:href='#icon-file-text2'></use></svg></label><input id='data-5f7cb78a-8768-47ad-9e9b-900a3b8c601e' class='xr-var-data-in' type='checkbox'><label for='data-5f7cb78a-8768-47ad-9e9b-900a3b8c601e' title='Show/Hide data repr'><svg class='icon xr-icon-database'><use xlink:href='#icon-database'></use></svg></label><div class='xr-var-attrs'><dl class='xr-attrs'></dl></div><div class='xr-var-data'><pre>array([ 89.75,  89.25,  88.75, ..., -88.75, -89.25, -89.75])</pre></div></li><li class='xr-var-item'><div class='xr-var-name'><span>spatial_ref</span></div><div class='xr-var-dims'>()</div><div class='xr-var-dtype'>int64</div><div class='xr-var-preview xr-preview'>0</div><input id='attrs-49862d4b-bd90-4b87-aa30-dddebd81aa64' class='xr-var-attrs-in' type='checkbox' ><label for='attrs-49862d4b-bd90-4b87-aa30-dddebd81aa64' title='Show/Hide attributes'><svg class='icon xr-icon-file-text2'><use xlink:href='#icon-file-text2'></use></svg></label><input id='data-0036be9a-8e30-4811-9101-133be11f78a4' class='xr-var-data-in' type='checkbox'><label for='data-0036be9a-8e30-4811-9101-133be11f78a4' title='Show/Hide data repr'><svg class='icon xr-icon-database'><use xlink:href='#icon-database'></use></svg></label><div class='xr-var-attrs'><dl class='xr-attrs'><dt><span>crs_wkt :</span></dt><dd>GEOGCS[&quot;WGS 84&quot;,DATUM[&quot;WGS_1984&quot;,SPHEROID[&quot;WGS 84&quot;,6378137,298.257223563,AUTHORITY[&quot;EPSG&quot;,&quot;7030&quot;]],AUTHORITY[&quot;EPSG&quot;,&quot;6326&quot;]],PRIMEM[&quot;Greenwich&quot;,0,AUTHORITY[&quot;EPSG&quot;,&quot;8901&quot;]],UNIT[&quot;degree&quot;,0.0174532925199433,AUTHORITY[&quot;EPSG&quot;,&quot;9122&quot;]],AXIS[&quot;Latitude&quot;,NORTH],AXIS[&quot;Longitude&quot;,EAST],AUTHORITY[&quot;EPSG&quot;,&quot;4326&quot;]]</dd><dt><span>semi_major_axis :</span></dt><dd>6378137.0</dd><dt><span>semi_minor_axis :</span></dt><dd>6356752.314245179</dd><dt><span>inverse_flattening :</span></dt><dd>298.257223563</dd><dt><span>reference_ellipsoid_name :</span></dt><dd>WGS 84</dd><dt><span>longitude_of_prime_meridian :</span></dt><dd>0.0</dd><dt><span>prime_meridian_name :</span></dt><dd>Greenwich</dd><dt><span>geographic_crs_name :</span></dt><dd>WGS 84</dd><dt><span>horizontal_datum_name :</span></dt><dd>World Geodetic System 1984</dd><dt><span>grid_mapping_name :</span></dt><dd>latitude_longitude</dd><dt><span>spatial_ref :</span></dt><dd>GEOGCS[&quot;WGS 84&quot;,DATUM[&quot;WGS_1984&quot;,SPHEROID[&quot;WGS 84&quot;,6378137,298.257223563,AUTHORITY[&quot;EPSG&quot;,&quot;7030&quot;]],AUTHORITY[&quot;EPSG&quot;,&quot;6326&quot;]],PRIMEM[&quot;Greenwich&quot;,0,AUTHORITY[&quot;EPSG&quot;,&quot;8901&quot;]],UNIT[&quot;degree&quot;,0.0174532925199433,AUTHORITY[&quot;EPSG&quot;,&quot;9122&quot;]],AXIS[&quot;Latitude&quot;,NORTH],AXIS[&quot;Longitude&quot;,EAST],AUTHORITY[&quot;EPSG&quot;,&quot;4326&quot;]]</dd><dt><span>GeoTransform :</span></dt><dd>-180.0 0.5 0.0 90.0 0.0 -0.5</dd></dl></div><div class='xr-var-data'><pre>array(0)</pre></div></li></ul></div></li><li class='xr-section-item'><input id='section-762b9034-8a3a-4adf-b3e4-f39d2573c91c' class='xr-section-summary-in' type='checkbox'  checked><label for='section-762b9034-8a3a-4adf-b3e4-f39d2573c91c' class='xr-section-summary' >Attributes: <span>(7)</span></label><div class='xr-section-inline-details'></div><div class='xr-section-details'><dl class='xr-attrs'><dt><span>AREA_OR_POINT :</span></dt><dd>Area</dd><dt><span>STATISTICS_MAXIMUM :</span></dt><dd>185.50468444824</dd><dt><span>STATISTICS_MEAN :</span></dt><dd>32.584587871174</dd><dt><span>STATISTICS_MINIMUM :</span></dt><dd>0.44747722148895</dd><dt><span>STATISTICS_STDDEV :</span></dt><dd>30.55013573823</dd><dt><span>STATISTICS_VALID_PERCENT :</span></dt><dd>20.61</dd><dt><span>_FillValue :</span></dt><dd>nan</dd></dl></div></li></ul></div></div>"
      ],
      "text/plain": [
       "<xarray.DataArray 'band_data' (band: 1, y: 360, x: 720)>\n",
       "[259200 values with dtype=float32]\n",
       "Coordinates:\n",
       "  * band         (band) int64 1\n",
       "  * x            (x) float64 -179.8 -179.2 -178.8 -178.2 ... 178.8 179.2 179.8\n",
       "  * y            (y) float64 89.75 89.25 88.75 88.25 ... -88.75 -89.25 -89.75\n",
       "    spatial_ref  int64 0\n",
       "Attributes:\n",
       "    AREA_OR_POINT:             Area\n",
       "    STATISTICS_MAXIMUM:        185.50468444824\n",
       "    STATISTICS_MEAN:           32.584587871174\n",
       "    STATISTICS_MINIMUM:        0.44747722148895\n",
       "    STATISTICS_STDDEV:         30.55013573823\n",
       "    STATISTICS_VALID_PERCENT:  20.61\n",
       "    _FillValue:                nan"
      ]
     },
     "execution_count": 37,
     "metadata": {},
     "output_type": "execute_result"
    }
   ],
   "source": [
    "vcmax = xr.open_dataset(data_paths['vcmax']).band_data\n",
    "vcmax.rio.write_crs(\"EPSG:4326\", inplace=True)\n",
    "vcmax.rio.write_nodata(np.nan, inplace=True)"
   ]
  },
  {
   "cell_type": "code",
   "execution_count": 38,
   "id": "fc5f9866-63c8-4737-af8e-56d04c664e83",
   "metadata": {
    "tags": []
   },
   "outputs": [],
   "source": [
    "vcmax_fillna = vcmax.rio.interpolate_na(method='nearest') #interpolation method see: scipy.interpolate.griddata\n",
    "vcmax_fillna = vcmax_fillna.rio.write_crs('WGS84')\n",
    "vcmax_fillna = vcmax_fillna.rename(\n",
    "    x='longitude',\n",
    "    y='latitude',\n",
    ")"
   ]
  },
  {
   "cell_type": "code",
   "execution_count": 39,
   "id": "98feaf05-3d41-4caa-9101-ade6952dba75",
   "metadata": {
    "tags": []
   },
   "outputs": [],
   "source": [
    "vcmax_fillna_reprojected = vcmax_fillna.rio.reproject_match(target, resampling=Resampling.average, nodata=np.nan)\n",
    "vcmax_fillna_reprojected = vcmax_fillna_reprojected.assign_coords({\n",
    "    \"x\": vcmax_fillna_reprojected.x,\n",
    "    \"y\": vcmax_fillna_reprojected.y,\n",
    "})\n",
    "# fix naming of coordinates\n",
    "vcmax_fillna_reprojected = vcmax_fillna_reprojected.rename(\n",
    "    x='longitude',\n",
    "    y='latitude'\n",
    ")"
   ]
  },
  {
   "cell_type": "code",
   "execution_count": 40,
   "id": "52a56cd4-4052-49f9-88b8-bea4cf714b7d",
   "metadata": {
    "tags": []
   },
   "outputs": [],
   "source": [
    "vcmax_fillna_reprojected = xr.where(target.notnull(), vcmax_fillna_reprojected, np.nan)\n",
    "vcmax_fillna_reprojected_mask = vcmax_fillna_reprojected.where(vcmax_fillna_reprojected['latitude'] > -63, other=float('nan'))"
   ]
  },
  {
   "cell_type": "code",
   "execution_count": 41,
   "id": "e94c4fec-c376-4a9c-bd4b-d0ea1fa4e116",
   "metadata": {
    "tags": []
   },
   "outputs": [],
   "source": [
    "vcmax_fillna_reprojected_mask = vcmax_fillna_reprojected_mask.to_dataset(name='vcmax')"
   ]
  },
  {
   "cell_type": "code",
   "execution_count": 43,
   "id": "997330dc-cb74-404e-9610-e353ea5ae13a",
   "metadata": {
    "tags": []
   },
   "outputs": [
    {
     "name": "stdout",
     "output_type": "stream",
     "text": [
      "CPU times: user 2min 18s, sys: 7min 41s, total: 9min 59s\n",
      "Wall time: 8min 22s\n"
     ]
    },
    {
     "data": {
      "text/plain": [
       "<xarray.backends.zarr.ZarrStore at 0x1479ef345dd0>"
      ]
     },
     "execution_count": 43,
     "metadata": {},
     "output_type": "execute_result"
    }
   ],
   "source": [
    "%%time\n",
    "vcmax_fillna_reprojected_mask = vcmax_fillna_reprojected_mask.chunk(\n",
    "    longitude=250, \n",
    "    latitude=250\n",
    ")\n",
    "# svae to zarr\n",
    "out_path = f\"{parent_in_path}/Vcmax/{'vcmax_fillnan'}.zarr\"\n",
    "vcmax_fillna_reprojected_mask.to_zarr(out_path, mode='w')"
   ]
  },
  {
   "cell_type": "code",
   "execution_count": null,
   "id": "816753e0-bb05-4ca4-82b9-35245011d80e",
   "metadata": {},
   "outputs": [],
   "source": []
  }
 ],
 "metadata": {
  "kernelspec": {
   "display_name": "Python 3 (ipykernel)",
   "language": "python",
   "name": "python3"
  },
  "language_info": {
   "codemirror_mode": {
    "name": "ipython",
    "version": 3
   },
   "file_extension": ".py",
   "mimetype": "text/x-python",
   "name": "python",
   "nbconvert_exporter": "python",
   "pygments_lexer": "ipython3",
   "version": "3.9.16"
  }
 },
 "nbformat": 4,
 "nbformat_minor": 5
}
