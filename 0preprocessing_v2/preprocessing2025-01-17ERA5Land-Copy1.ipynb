{
 "cells": [
  {
   "cell_type": "markdown",
   "id": "3a72d8d0-e4fd-4b5e-ac80-992ae2e98b75",
   "metadata": {},
   "source": [
    "## Preparing data"
   ]
  },
  {
   "cell_type": "code",
   "execution_count": 1,
   "id": "236cfe17-19dc-4c09-a33d-385637259cd8",
   "metadata": {
    "tags": []
   },
   "outputs": [],
   "source": [
    "import xarray as xr\n",
    "import geopandas as gpd\n",
    "from dask.distributed import Client, LocalCluster\n",
    "from datetime import datetime, timedelta\n",
    "from functools import partial\n",
    "from PyStemmusScope import variable_conversion as vc\n",
    "from rasterio.warp import reproject, Resampling\n",
    "import numpy as np\n",
    "import glob\n",
    "import dask.array as da\n",
    "import pandas as pd\n",
    "from dask_jobqueue import SLURMCluster"
   ]
  },
  {
   "cell_type": "code",
   "execution_count": 2,
   "id": "8ba57800-cd2d-4ccf-98aa-468da3f09d9e",
   "metadata": {},
   "outputs": [
    {
     "name": "stderr",
     "output_type": "stream",
     "text": [
      "usage: ipykernel_launcher.py [-h] --year YEAR\n",
      "ipykernel_launcher.py: error: the following arguments are required: --year\n"
     ]
    },
    {
     "ename": "SystemExit",
     "evalue": "2",
     "output_type": "error",
     "traceback": [
      "An exception has occurred, use %tb to see the full traceback.\n",
      "\u001b[0;31mSystemExit\u001b[0m\u001b[0;31m:\u001b[0m 2\n"
     ]
    },
    {
     "name": "stderr",
     "output_type": "stream",
     "text": [
      "/home/qiahan/.local/lib/python3.9/site-packages/IPython/core/interactiveshell.py:3516: UserWarning: To exit: use 'exit', 'quit', or Ctrl-D.\n",
      "  warn(\"To exit: use 'exit', 'quit', or Ctrl-D.\", stacklevel=1)\n"
     ]
    }
   ],
   "source": [
    "import argparse\n",
    "\n",
    "# 设置命令行参数\n",
    "parser = argparse.ArgumentParser()\n",
    "parser.add_argument('--year', type=int, required=True, help='Year for the data')\n",
    "args = parser.parse_args()\n",
    "\n",
    "year = args.year\n",
    "\n",
    "# 使用 year 和 month 执行你的逻辑\n",
    "print(f\"Processing data for {year}\", flush=True)\n"
   ]
  },
  {
   "cell_type": "code",
   "execution_count": 2,
   "id": "8f306201-e44f-44b4-8244-1b3b5b856f1b",
   "metadata": {
    "tags": []
   },
   "outputs": [],
   "source": [
    "year = 2001"
   ]
  },
  {
   "cell_type": "code",
   "execution_count": 3,
   "id": "b8d8dec8-cc71-4376-b844-1e8de8e64fc9",
   "metadata": {
    "tags": []
   },
   "outputs": [],
   "source": [
    "# parent_in_path = f\"/gpfs/work2/0/ttse0619/qianqian/global_data_Qianqian/1input_data\"\n",
    "parent_in_path = f\"/projects/0/einf2480/era5land2000_2009_2020\"\n",
    "data_paths = {\n",
    "            \"era5land\": f\"{parent_in_path}/{year}/*.nc\",\n",
    "            \"lai\": f\"{parent_in_path}/{year}global/lai_v2/*.nc\",\n",
    "            \"ssm\": f\"{parent_in_path}/{year}global/ssm/GlobalGSSM11km2014_20240214.tif\",\n",
    "            \"co2\": f\"{parent_in_path}/{year}global/co2/CAMS_CO2_2003-2020.nc\",\n",
    "            \"landcover\": f\"{parent_in_path}/landcover/ESACCI-LC-L4-LCCS-Map-300m-P1Y-2013-v2.0.7cds.nc\",\n",
    "            \"vcmax\": f\"{parent_in_path}/Vcmax/TROPOMI_Vmax_Tg_mean.tif\",\n",
    "            \"canopyheight\": f\"{parent_in_path}/canopy_height/canopy_height_11kmGlobal20240215.tif\",\n",
    "            }"
   ]
  },
  {
   "cell_type": "code",
   "execution_count": 4,
   "id": "e4c63fbd-3b98-41d0-bda9-21ca5e1d0588",
   "metadata": {
    "tags": []
   },
   "outputs": [],
   "source": [
    "def era5_preprocess(ds):    \n",
    "    # Convert the longitude coordinates from [0, 360] to [-180, 180]\n",
    "    if 'valid_time' in ds.dims:\n",
    "        ds = ds.rename({'valid_time': 'time'})\n",
    "        \n",
    "    ds = ds.assign_coords(\n",
    "        latitude=ds.latitude.astype('float32'),\n",
    "        longitude=ds.longitude.astype('float32')\n",
    "    )\n",
    "    ds = ds.assign_coords(longitude=(((ds.longitude + 180) % 360) - 180))\n",
    "    return ds\n",
    "\n",
    "def fix_coords(ds):\n",
    "    if 'band' in ds.dims:\n",
    "        ds = ds.rename_dims({'band': 'time'})\n",
    "        ds = ds.rename_vars({'band': 'time'})\n",
    "\n",
    "    if 'x' in ds.dims and 'y' in ds.dims:\n",
    "        ds = ds.rename_dims({'x': 'longitude', 'y': 'latitude'})\n",
    "        ds = ds.rename_vars({'x': 'longitude', 'y': 'latitude'})\n",
    "        \n",
    "    elif 'lon' in ds.dims and 'lat' in ds.dims:\n",
    "        ds = ds.rename_dims({'lon': 'longitude', 'lat': 'latitude'})\n",
    "        ds = ds.rename_vars({'lon': 'longitude', 'lat': 'latitude'})\n",
    "    return ds"
   ]
  },
  {
   "cell_type": "code",
   "execution_count": 5,
   "id": "d96cd87d-4b44-49ec-adbb-cd87b231aed7",
   "metadata": {
    "tags": []
   },
   "outputs": [
    {
     "name": "stderr",
     "output_type": "stream",
     "text": [
      "/home/qiahan/.conda/envs/mamba/envs/emulator/lib/python3.9/site-packages/distributed/node.py:182: UserWarning: Port 8787 is already in use.\n",
      "Perhaps you already have a cluster running?\n",
      "Hosting the HTTP server on port 36163 instead\n",
      "  warnings.warn(\n"
     ]
    },
    {
     "data": {
      "text/html": [
       "<div>\n",
       "    <div style=\"width: 24px; height: 24px; background-color: #e1e1e1; border: 3px solid #9D9D9D; border-radius: 5px; position: absolute;\"> </div>\n",
       "    <div style=\"margin-left: 48px;\">\n",
       "        <h3 style=\"margin-bottom: 0px;\">Client</h3>\n",
       "        <p style=\"color: #9D9D9D; margin-bottom: 0px;\">Client-beab5e56-e7cd-11ef-9114-b8cef6790e70</p>\n",
       "        <table style=\"width: 100%; text-align: left;\">\n",
       "\n",
       "        <tr>\n",
       "        \n",
       "            <td style=\"text-align: left;\"><strong>Connection method:</strong> Cluster object</td>\n",
       "            <td style=\"text-align: left;\"><strong>Cluster type:</strong> dask_jobqueue.SLURMCluster</td>\n",
       "        \n",
       "        </tr>\n",
       "\n",
       "        \n",
       "            <tr>\n",
       "                <td style=\"text-align: left;\">\n",
       "                    <strong>Dashboard: </strong> <a href=\"/proxy/36163/status\" target=\"_blank\">/proxy/36163/status</a>\n",
       "                </td>\n",
       "                <td style=\"text-align: left;\"></td>\n",
       "            </tr>\n",
       "        \n",
       "\n",
       "        </table>\n",
       "\n",
       "        \n",
       "            <button style=\"margin-bottom: 12px;\" data-commandlinker-command=\"dask:populate-and-launch-layout\" data-commandlinker-args='{\"url\": \"/proxy/36163/status\" }'>\n",
       "                Launch dashboard in JupyterLab\n",
       "            </button>\n",
       "        \n",
       "\n",
       "        \n",
       "            <details>\n",
       "            <summary style=\"margin-bottom: 20px;\"><h3 style=\"display: inline;\">Cluster Info</h3></summary>\n",
       "            <div class=\"jp-RenderedHTMLCommon jp-RenderedHTML jp-mod-trusted jp-OutputArea-output\">\n",
       "    <div style=\"width: 24px; height: 24px; background-color: #e1e1e1; border: 3px solid #9D9D9D; border-radius: 5px; position: absolute;\">\n",
       "    </div>\n",
       "    <div style=\"margin-left: 48px;\">\n",
       "        <h3 style=\"margin-bottom: 0px; margin-top: 0px;\">SLURMCluster</h3>\n",
       "        <p style=\"color: #9D9D9D; margin-bottom: 0px;\">dask-worker</p>\n",
       "        <table style=\"width: 100%; text-align: left;\">\n",
       "            <tr>\n",
       "                <td style=\"text-align: left;\">\n",
       "                    <strong>Dashboard:</strong> <a href=\"/proxy/36163/status\" target=\"_blank\">/proxy/36163/status</a>\n",
       "                </td>\n",
       "                <td style=\"text-align: left;\">\n",
       "                    <strong>Workers:</strong> 0\n",
       "                </td>\n",
       "            </tr>\n",
       "            <tr>\n",
       "                <td style=\"text-align: left;\">\n",
       "                    <strong>Total threads:</strong> 0\n",
       "                </td>\n",
       "                <td style=\"text-align: left;\">\n",
       "                    <strong>Total memory:</strong> 0 B\n",
       "                </td>\n",
       "            </tr>\n",
       "            \n",
       "        </table>\n",
       "\n",
       "        <details>\n",
       "            <summary style=\"margin-bottom: 20px;\">\n",
       "                <h3 style=\"display: inline;\">Scheduler Info</h3>\n",
       "            </summary>\n",
       "\n",
       "            <div style=\"\">\n",
       "    <div>\n",
       "        <div style=\"width: 24px; height: 24px; background-color: #FFF7E5; border: 3px solid #FF6132; border-radius: 5px; position: absolute;\"> </div>\n",
       "        <div style=\"margin-left: 48px;\">\n",
       "            <h3 style=\"margin-bottom: 0px;\">Scheduler</h3>\n",
       "            <p style=\"color: #9D9D9D; margin-bottom: 0px;\">Scheduler-07e5af4c-4885-43e9-8ef9-5dcdc9bcd78c</p>\n",
       "            <table style=\"width: 100%; text-align: left;\">\n",
       "                <tr>\n",
       "                    <td style=\"text-align: left;\">\n",
       "                        <strong>Comm:</strong> tcp://145.136.63.38:35165\n",
       "                    </td>\n",
       "                    <td style=\"text-align: left;\">\n",
       "                        <strong>Workers:</strong> 0\n",
       "                    </td>\n",
       "                </tr>\n",
       "                <tr>\n",
       "                    <td style=\"text-align: left;\">\n",
       "                        <strong>Dashboard:</strong> <a href=\"/proxy/36163/status\" target=\"_blank\">/proxy/36163/status</a>\n",
       "                    </td>\n",
       "                    <td style=\"text-align: left;\">\n",
       "                        <strong>Total threads:</strong> 0\n",
       "                    </td>\n",
       "                </tr>\n",
       "                <tr>\n",
       "                    <td style=\"text-align: left;\">\n",
       "                        <strong>Started:</strong> Just now\n",
       "                    </td>\n",
       "                    <td style=\"text-align: left;\">\n",
       "                        <strong>Total memory:</strong> 0 B\n",
       "                    </td>\n",
       "                </tr>\n",
       "            </table>\n",
       "        </div>\n",
       "    </div>\n",
       "\n",
       "    <details style=\"margin-left: 48px;\">\n",
       "        <summary style=\"margin-bottom: 20px;\">\n",
       "            <h3 style=\"display: inline;\">Workers</h3>\n",
       "        </summary>\n",
       "\n",
       "        \n",
       "\n",
       "    </details>\n",
       "</div>\n",
       "\n",
       "        </details>\n",
       "    </div>\n",
       "</div>\n",
       "            </details>\n",
       "        \n",
       "\n",
       "    </div>\n",
       "</div>"
      ],
      "text/plain": [
       "<Client: 'tcp://145.136.63.38:35165' processes=0 threads=0, memory=0 B>"
      ]
     },
     "execution_count": 5,
     "metadata": {},
     "output_type": "execute_result"
    }
   ],
   "source": [
    "cluster = SLURMCluster(\n",
    "    name='dask-worker',\n",
    "    cores=16,\n",
    "    processes=16,\n",
    "    queue='fat',\n",
    "    memory='120GiB',\n",
    "    local_directory='$TMPDIR',\n",
    "    walltime='4:00:00'\n",
    ")\n",
    "cluster.scale(jobs=4)\n",
    "client = Client(cluster)\n",
    "client"
   ]
  },
  {
   "cell_type": "code",
   "execution_count": 7,
   "id": "d7cb5e5d-f068-4bcf-9e03-8dfdbc5efaed",
   "metadata": {
    "tags": []
   },
   "outputs": [
    {
     "name": "stderr",
     "output_type": "stream",
     "text": [
      "/home/qiahan/.conda/envs/mamba/envs/emulator/lib/python3.9/site-packages/xarray/conventions.py:205: SerializationWarning: variable None has data in the form of a dask array with dtype=object, which means it is being loaded into memory to determine a data type that can be safely stored on disk. To avoid this, coerce this variable to a fixed-size dtype with astype() before saving it.\n",
      "  warnings.warn(\n"
     ]
    },
    {
     "name": "stdout",
     "output_type": "stream",
     "text": [
      "CPU times: user 9min 24s, sys: 26.3 s, total: 9min 50s\n",
      "Wall time: 35min 11s\n"
     ]
    },
    {
     "data": {
      "text/plain": [
       "<xarray.backends.zarr.ZarrStore at 0x15367caa1580>"
      ]
     },
     "execution_count": 7,
     "metadata": {},
     "output_type": "execute_result"
    }
   ],
   "source": [
    "%%time\n",
    "era5land = xr.open_mfdataset(data_paths['era5land'], preprocess=era5_preprocess, chunks={'longitude': 250, 'latitude': 250})\n",
    "# era5land = era5land.chunk({'time': 750})\n",
    "era5land = era5land.sortby(['longitude', 'latitude'])\n",
    "era5land = era5land.chunk(\n",
    "    time=750,\n",
    "    longitude=250, \n",
    "    latitude=250\n",
    ")\n",
    "# # # svae to zarr\n",
    "out_path = f\"{parent_in_path}/{'era5land'}_{year}.zarr\"\n",
    "era5land.to_zarr(out_path, mode='w')"
   ]
  },
  {
   "cell_type": "code",
   "execution_count": 8,
   "id": "ab268ecf-2723-4568-b882-94337c7155b5",
   "metadata": {},
   "outputs": [],
   "source": [
    "client.shutdown()"
   ]
  },
  {
   "cell_type": "code",
   "execution_count": 17,
   "id": "f6b9d2dd-4a04-4bc4-935b-4a1e9e6ae8a9",
   "metadata": {
    "tags": []
   },
   "outputs": [],
   "source": [
    "test2011 = xr.open_zarr(out_path)"
   ]
  }
 ],
 "metadata": {
  "kernelspec": {
   "display_name": "Python 3 (ipykernel)",
   "language": "python",
   "name": "python3"
  },
  "language_info": {
   "codemirror_mode": {
    "name": "ipython",
    "version": 3
   },
   "file_extension": ".py",
   "mimetype": "text/x-python",
   "name": "python",
   "nbconvert_exporter": "python",
   "pygments_lexer": "ipython3",
   "version": "3.9.16"
  }
 },
 "nbformat": 4,
 "nbformat_minor": 5
}
