{
 "cells": [
  {
   "cell_type": "markdown",
   "id": "3a72d8d0-e4fd-4b5e-ac80-992ae2e98b75",
   "metadata": {},
   "source": [
    "## Preparing data"
   ]
  },
  {
   "cell_type": "code",
   "execution_count": 5,
   "id": "236cfe17-19dc-4c09-a33d-385637259cd8",
   "metadata": {
    "tags": []
   },
   "outputs": [],
   "source": [
    "import xarray as xr\n",
    "import geopandas as gpd\n",
    "from dask.distributed import Client, LocalCluster\n",
    "from datetime import datetime, timedelta\n",
    "from functools import partial\n",
    "from PyStemmusScope import variable_conversion as vc\n",
    "from rasterio.warp import reproject, Resampling\n",
    "import numpy as np\n",
    "import glob\n",
    "import dask.array as da\n",
    "import pandas as pd\n",
    "from dask_jobqueue import SLURMCluster"
   ]
  },
  {
   "cell_type": "code",
   "execution_count": 6,
   "id": "8ba57800-cd2d-4ccf-98aa-468da3f09d9e",
   "metadata": {},
   "outputs": [],
   "source": [
    "import argparse\n",
    "\n",
    "# 设置命令行参数\n",
    "parser = argparse.ArgumentParser()\n",
    "parser.add_argument('--year', type=int, required=True, help='Year for the data')\n",
    "args = parser.parse_args()\n",
    "\n",
    "year = args.year\n",
    "\n",
    "# 使用 year 和 month 执行你的逻辑\n",
    "print(f\"Processing data for {year}\", flush=True)\n"
   ]
  },
  {
   "cell_type": "code",
   "execution_count": 7,
   "id": "b8d8dec8-cc71-4376-b844-1e8de8e64fc9",
   "metadata": {
    "tags": []
   },
   "outputs": [],
   "source": [
    "parent_in_path = f\"/gpfs/work2/0/ttse0619/qianqian/global_data_Qianqian/1input_data\"\n",
    "data_paths = {\n",
    "            \"era5land\": f\"{parent_in_path}/{year}global/era5land/*.nc\",\n",
    "            \"lai\": f\"{parent_in_path}/{year}global/lai_v2/*.nc\",\n",
    "            \"ssm\": f\"{parent_in_path}/{year}global/ssm/GlobalGSSM11km2014_20240214.tif\",\n",
    "            \"co2\": f\"{parent_in_path}/{year}global/co2/CAMS_CO2_2003-2020.nc\",\n",
    "            \"landcover\": f\"{parent_in_path}/landcover/ESACCI-LC-L4-LCCS-Map-300m-P1Y-2013-v2.0.7cds.nc\",\n",
    "            \"vcmax\": f\"{parent_in_path}/Vcmax/TROPOMI_Vmax_Tg_mean.tif\",\n",
    "            \"canopyheight\": f\"{parent_in_path}/canopy_height/canopy_height_11kmGlobal20240215.tif\",\n",
    "            }"
   ]
  },
  {
   "cell_type": "code",
   "execution_count": 8,
   "id": "e4c63fbd-3b98-41d0-bda9-21ca5e1d0588",
   "metadata": {
    "tags": []
   },
   "outputs": [],
   "source": [
    "def era5_preprocess(ds):    \n",
    "    # Convert the longitude coordinates from [0, 360] to [-180, 180]\n",
    "    ds = ds.assign_coords(longitude=(((ds.longitude + 180) % 360) - 180))\n",
    "    \n",
    "    return ds\n",
    "\n",
    "def fix_coords(ds):\n",
    "    if 'band' in ds.dims:\n",
    "        ds = ds.rename_dims({'band': 'time'})\n",
    "        ds = ds.rename_vars({'band': 'time'})\n",
    "\n",
    "    if 'x' in ds.dims and 'y' in ds.dims:\n",
    "        ds = ds.rename_dims({'x': 'longitude', 'y': 'latitude'})\n",
    "        ds = ds.rename_vars({'x': 'longitude', 'y': 'latitude'})\n",
    "        \n",
    "    elif 'lon' in ds.dims and 'lat' in ds.dims:\n",
    "        ds = ds.rename_dims({'lon': 'longitude', 'lat': 'latitude'})\n",
    "        ds = ds.rename_vars({'lon': 'longitude', 'lat': 'latitude'})\n",
    "    return ds"
   ]
  },
  {
   "cell_type": "code",
   "execution_count": null,
   "id": "d96cd87d-4b44-49ec-adbb-cd87b231aed7",
   "metadata": {
    "tags": []
   },
   "outputs": [],
   "source": [
    "cluster = SLURMCluster(\n",
    "    name='dask-worker',\n",
    "    cores=16,\n",
    "    processes=16,\n",
    "    queue='fat',\n",
    "    memory='120GiB',\n",
    "    local_directory='$TMPDIR',\n",
    "    walltime='4:00:00'\n",
    ")\n",
    "cluster.scale(jobs=4)\n",
    "client = Client(cluster)\n",
    "print(client,flush=True)\n",
    "print(client.dashboard_link,flush=True)"
   ]
  },
  {
   "cell_type": "code",
   "execution_count": 9,
   "id": "d7cb5e5d-f068-4bcf-9e03-8dfdbc5efaed",
   "metadata": {
    "tags": []
   },
   "outputs": [],
   "source": [
    "era5land = xr.open_mfdataset(data_paths['era5land'], preprocess=era5_preprocess, chunks={'longitude': 250, 'latitude': 250})\n",
    "# era5land = era5land.chunk({'time': 750})\n",
    "era5land = era5land.sortby(['longitude', 'latitude'])\n",
    "era5land = era5land.chunk(\n",
    "    time=750, \n",
    "    longitude=250, \n",
    "    latitude=250\n",
    ")\n",
    "# # svae to zarr\n",
    "out_path = f\"{parent_in_path}/{year}global/era5land/{'era5land'}_{year}.zarr\"\n",
    "era5land.to_zarr(out_path, mode='w')"
   ]
  },
  {
   "cell_type": "code",
   "execution_count": null,
   "id": "39e6e848-940c-40bb-bcf2-c591c4a9bb55",
   "metadata": {},
   "outputs": [],
   "source": []
  },
  {
   "cell_type": "code",
   "execution_count": null,
   "id": "ab268ecf-2723-4568-b882-94337c7155b5",
   "metadata": {},
   "outputs": [],
   "source": [
    "client.shutdown()"
   ]
  }
 ],
 "metadata": {
  "kernelspec": {
   "display_name": "Python 3 (ipykernel)",
   "language": "python",
   "name": "python3"
  },
  "language_info": {
   "codemirror_mode": {
    "name": "ipython",
    "version": 3
   },
   "file_extension": ".py",
   "mimetype": "text/x-python",
   "name": "python",
   "nbconvert_exporter": "python",
   "pygments_lexer": "ipython3",
   "version": "3.9.16"
  }
 },
 "nbformat": 4,
 "nbformat_minor": 5
}
