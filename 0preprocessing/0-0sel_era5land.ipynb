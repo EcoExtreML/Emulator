{
 "cells": [
  {
   "cell_type": "markdown",
   "id": "136a780b-bf72-473c-b45c-0c776cb28d02",
   "metadata": {},
   "source": [
    "## 0)import libraries "
   ]
  },
  {
   "cell_type": "code",
   "execution_count": 1,
   "id": "9a3997ce-701b-49b2-ad82-b6532a8e6697",
   "metadata": {
    "tags": []
   },
   "outputs": [],
   "source": [
    "\"\"\"\n",
    "Thesis_PhD_Qianqian Predicted_fluxes_glboal_stripes\n",
    "date: 24-Feb-2023\n",
    "author: Qianqian\n",
    "Contact: q.han@utwente.nl\n",
    "-------------------------------------\n",
    "Description: \n",
    "\"\"\"\n",
    "# libraries\n",
    "import os\n",
    "import joblib\n",
    "from osgeo import gdal\n",
    "import pandas as pd\n",
    "import numpy as np\n",
    "import matplotlib.pyplot as plt\n",
    "from pathlib import Path\n",
    "from rasterio.warp import reproject, Resampling\n",
    "import xarray as xr\n",
    "import pickle\n",
    "from PyStemmusScope import variable_conversion as vc\n",
    "from rasterio.warp import reproject, Resampling\n",
    "from sklearn.preprocessing import OneHotEncoder\n",
    "import time\n",
    "import re\n",
    "import glob\n",
    "import rioxarray\n",
    "import dask.array\n",
    "from dask.distributed import Client, progress"
   ]
  },
  {
   "cell_type": "code",
   "execution_count": 2,
   "id": "be19e4fd-a6ff-4aba-9b1a-c45ad75b1c01",
   "metadata": {
    "tags": []
   },
   "outputs": [],
   "source": [
    "workingPath = \"/gpfs/work2/0/ttse0619/qianqian/global_data_Qianqian/\""
   ]
  },
  {
   "cell_type": "code",
   "execution_count": 3,
   "id": "3a377bef-f527-4fe9-8b4b-af83b232db09",
   "metadata": {
    "tags": []
   },
   "outputs": [],
   "source": [
    "# function for getting directory of input data\n",
    "def get_directories_with_number_and_ending(directory_path, ending):\n",
    "    directories = []\n",
    "    if ending:\n",
    "        pattern = re.compile(r'^\\d+.*{}$'.format(re.escape(ending)))  # Match directory names with number at the beginning and specific ending\n",
    "    else:\n",
    "        pattern = re.compile(r'^\\d+$')  # Match directory names with only numbers\n",
    "\n",
    "    for entry in os.scandir(directory_path):\n",
    "        if entry.is_dir():\n",
    "            directory_name = entry.name\n",
    "            if pattern.match(directory_name):\n",
    "                directories.append(directory_name)\n",
    "\n",
    "    return directories"
   ]
  },
  {
   "cell_type": "markdown",
   "id": "a0998390-ba37-4d64-86ef-679464812aaf",
   "metadata": {},
   "source": [
    "## 3) read data"
   ]
  },
  {
   "cell_type": "code",
   "execution_count": 4,
   "id": "de063473-5356-44f5-81f9-81f265f161f4",
   "metadata": {
    "tags": []
   },
   "outputs": [
    {
     "name": "stdout",
     "output_type": "stream",
     "text": [
      "2015global\n"
     ]
    }
   ],
   "source": [
    "### define the path of input data, set the reference file for spatial resample\n",
    "inputData = workingPath+\"1input_data/\"\n",
    "# get all the filefolders named as year\n",
    "year_list = get_directories_with_number_and_ending(workingPath+\"1input_data/\", \"global\")\n",
    "# the input data from year[0] to year[..], based on the process id in sbatch script\n",
    "year = year_list[4-1]\n",
    "print(year)"
   ]
  },
  {
   "cell_type": "code",
   "execution_count": 5,
   "id": "fcf07c1b-4a49-4b02-b1b9-eb3a030d655d",
   "metadata": {
    "tags": []
   },
   "outputs": [
    {
     "data": {
      "text/plain": [
       "array([-31.28903052,  34.93055094,  68.93136141,  81.85192337])"
      ]
     },
     "execution_count": 5,
     "metadata": {},
     "output_type": "execute_result"
    }
   ],
   "source": [
    "import geopandas as gpd\n",
    "from shapely.geometry import box\n",
    "\n",
    "shapefile_path = \"/gpfs/work2/0/ttse0619/qianqian/global_data_Qianqian/Emulator/input_data/EuropeBoundary.shp\"\n",
    "gdf = gpd.read_file(shapefile_path)\n",
    "bbox = gdf.total_bounds\n",
    "bbox"
   ]
  },
  {
   "cell_type": "code",
   "execution_count": 6,
   "id": "6385abfe-cd84-477a-8758-9cf796bf38c4",
   "metadata": {
    "tags": []
   },
   "outputs": [],
   "source": [
    "### 0) read era5land data\n",
    "# select Europe data of ERA5Land and save it as netcdf\n",
    "all1 = xr.open_mfdataset(inputData+year+\"/era5land/era5-land*.nc\", chunks='auto')\n",
    "# all1 = xr.open_mfdataset(inputData+year+\"/era5land/era5-land*.nc\")\n",
    "lon_name = 'longitude'\n",
    "all1['longitude_adjusted'] = xr.where(\n",
    "    all1[lon_name] > 180,\n",
    "    all1[lon_name] - 360,\n",
    "    all1[lon_name])\n",
    "all1 = (\n",
    "    all1\n",
    "    .swap_dims({lon_name: 'longitude_adjusted'})\n",
    "    .sel(**{'longitude_adjusted': sorted(all1.longitude_adjusted)})\n",
    "    .drop(lon_name))\n",
    "all1 = all1.rename({'longitude_adjusted': lon_name})\n",
    "all1 = all1.sel(\n",
    "    latitude=slice(bbox[3], bbox[1]),  \n",
    "    longitude=slice(bbox[0], bbox[2])  \n",
    ")"
   ]
  },
  {
   "cell_type": "code",
   "execution_count": null,
   "id": "884b6bca-dc5b-4db1-a466-b1f85225a6a6",
   "metadata": {
    "tags": []
   },
   "outputs": [],
   "source": [
    "all1.to_netcdf('/gpfs/work2/0/ttse0619/qianqian/global_data_Qianqian/1input_data/2015global/era5land/era5land2015_10km3.nc',format='NETCDF4')"
   ]
  },
  {
   "cell_type": "code",
   "execution_count": null,
   "id": "7b0bee8c-b74a-46d1-9e54-c0e77ee6fdd0",
   "metadata": {},
   "outputs": [],
   "source": []
  }
 ],
 "metadata": {
  "kernelspec": {
   "display_name": "firstEnv",
   "language": "python",
   "name": "firstenv"
  },
  "language_info": {
   "codemirror_mode": {
    "name": "ipython",
    "version": 3
   },
   "file_extension": ".py",
   "mimetype": "text/x-python",
   "name": "python",
   "nbconvert_exporter": "python",
   "pygments_lexer": "ipython3",
   "version": "3.9.16"
  }
 },
 "nbformat": 4,
 "nbformat_minor": 5
}
