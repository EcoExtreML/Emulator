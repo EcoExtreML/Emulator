{
 "cells": [
  {
   "cell_type": "code",
   "execution_count": 1,
   "id": "6b60eadf-afdc-4a09-94b7-e59d6f262c3a",
   "metadata": {
    "tags": []
   },
   "outputs": [],
   "source": [
    "import netCDF4\n",
    "import xarray as xr"
   ]
  },
  {
   "cell_type": "markdown",
   "id": "7342e8d9-7678-446a-b2c3-5d12197a3695",
   "metadata": {},
   "source": [
    "# IGBP data: from NetCDF to Zarr\n",
    "\n",
    "The IGBP/landcover dataset is provided as chunked NetCDF4/HDF5 data."
   ]
  },
  {
   "cell_type": "markdown",
   "id": "7044c879-f9bc-44e0-b31e-ec963124aa5e",
   "metadata": {},
   "source": [
    "## Input variables"
   ]
  },
  {
   "cell_type": "code",
   "execution_count": 2,
   "id": "4845d549-3833-46d0-aacf-44b3a3ebfb7b",
   "metadata": {
    "tags": []
   },
   "outputs": [],
   "source": [
    "year = 2015"
   ]
  },
  {
   "cell_type": "code",
   "execution_count": 3,
   "id": "6fc91e7e-8d95-42ec-b58f-34480894c071",
   "metadata": {
    "tags": []
   },
   "outputs": [],
   "source": [
    "ROOT_DIR = '/gpfs/work2/0/ttse0619'\n",
    "IGBP_PATH = (\n",
    "    f'{ROOT_DIR}/qianqian/global_data_Qianqian/'\n",
    "    f'1input_data/{year}global/igbp/landcover10km_global.nc'\n",
    ")\n",
    "OUT_PATH = (\n",
    "    f'{ROOT_DIR}/francesco/Projects/EcoExtreML/Data/'\n",
    "    f'1input_data/{year}global/igbp/landcover.zarr'\n",
    ")"
   ]
  },
  {
   "cell_type": "code",
   "execution_count": 4,
   "id": "5a901bbb-287d-41be-80ac-534cd9ad1018",
   "metadata": {
    "tags": []
   },
   "outputs": [],
   "source": [
    "ERA5_PATH = (\n",
    "    f'{ROOT_DIR}/francesco/Projects/EcoExtreML/Data/'\n",
    "    f'1input_data/{year}global/era5land/era5land.zarr'\n",
    ")"
   ]
  },
  {
   "cell_type": "markdown",
   "id": "3b650aef-1425-4f10-ad6b-417d5d2af8ea",
   "metadata": {},
   "source": [
    "## Converting the dataset"
   ]
  },
  {
   "cell_type": "markdown",
   "id": "839c3365-42cf-4284-a6da-30c8e290a19b",
   "metadata": {},
   "source": [
    "Find out chunking strategy of the dataset:"
   ]
  },
  {
   "cell_type": "code",
   "execution_count": 5,
   "id": "688565d5-20d4-4b4a-9689-a995244a3355",
   "metadata": {
    "tags": []
   },
   "outputs": [],
   "source": [
    "def get_chunking(nc_path):\n",
    "    with netCDF4.Dataset(nc_path) as nc:\n",
    "        chunks = {\n",
    "            name: dict(zip(var.dimensions, var.chunking()))\n",
    "            for name, var in nc.variables.items()\n",
    "        }\n",
    "    return chunks"
   ]
  },
  {
   "cell_type": "code",
   "execution_count": 6,
   "id": "94afda4e-265f-4657-96a7-b75d4139ab2c",
   "metadata": {},
   "outputs": [
    {
     "data": {
      "text/plain": [
       "{'x': {'x': 'c'},\n",
       " 'y': {'y': 'c'},\n",
       " 'time': {'time': 'c'},\n",
       " 'spatial_ref': {},\n",
       " 'lccs_class': {'time': 1, 'y': 901, 'x': 1800}}"
      ]
     },
     "execution_count": 6,
     "metadata": {},
     "output_type": "execute_result"
    }
   ],
   "source": [
    "chunks = get_chunking(IGBP_PATH)\n",
    "chunks"
   ]
  },
  {
   "cell_type": "markdown",
   "id": "617b345d-2fec-404a-b5cf-410c7b780846",
   "metadata": {},
   "source": [
    "We now open the landcover NetCDF files using the same chunking scheme as in the NetCDF file:"
   ]
  },
  {
   "cell_type": "code",
   "execution_count": 7,
   "id": "d9b92384-19c5-4d49-82cf-4208238b3abc",
   "metadata": {
    "tags": []
   },
   "outputs": [],
   "source": [
    "landcover = xr.open_dataset(IGBP_PATH, chunks=chunks['lccs_class'])\n",
    "landcover = landcover.squeeze('time')  # drop time dimension"
   ]
  },
  {
   "cell_type": "code",
   "execution_count": 8,
   "id": "e0ba4d24-67c3-4b69-8094-2b69d61899b2",
   "metadata": {
    "tags": []
   },
   "outputs": [],
   "source": [
    "# fix naming of coordinates\n",
    "landcover = landcover.rename(\n",
    "    x='longitude',\n",
    "    y='latitude',\n",
    ")\n",
    "\n",
    "# (-180;180) -> (0;360)\n",
    "landcover = landcover.assign_coords(\n",
    "    longitude=(landcover.longitude + 360) % 360,\n",
    "    latitude=landcover.latitude\n",
    ")\n",
    "\n",
    "# roll array to reorder coordinates \n",
    "nroll = (landcover.longitude.values > 180 ).sum()\n",
    "landcover = landcover.roll(longitude=-nroll, roll_coords=True)"
   ]
  },
  {
   "cell_type": "code",
   "execution_count": 9,
   "id": "6fd9ad89-3882-4188-b895-7bfeabe0b134",
   "metadata": {
    "tags": []
   },
   "outputs": [
    {
     "data": {
      "text/plain": [
       "<xarray.backends.zarr.ZarrStore at 0x151991a9ddd0>"
      ]
     },
     "execution_count": 9,
     "metadata": {},
     "output_type": "execute_result"
    }
   ],
   "source": [
    "landcover = landcover.chunk(\n",
    "    longitude=250, \n",
    "    latitude=250\n",
    ")\n",
    "landcover.to_zarr(OUT_PATH, mode='w')"
   ]
  }
 ],
 "metadata": {
  "kernelspec": {
   "display_name": "Python 3 (ipykernel)",
   "language": "python",
   "name": "python3"
  },
  "language_info": {
   "codemirror_mode": {
    "name": "ipython",
    "version": 3
   },
   "file_extension": ".py",
   "mimetype": "text/x-python",
   "name": "python",
   "nbconvert_exporter": "python",
   "pygments_lexer": "ipython3",
   "version": "3.9.16"
  }
 },
 "nbformat": 4,
 "nbformat_minor": 5
}
