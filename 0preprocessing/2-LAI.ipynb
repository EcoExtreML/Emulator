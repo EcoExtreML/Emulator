{
 "cells": [
  {
   "cell_type": "code",
   "execution_count": 1,
   "id": "6b60eadf-afdc-4a09-94b7-e59d6f262c3a",
   "metadata": {
    "tags": []
   },
   "outputs": [],
   "source": [
    "# import dask.config as dc\n",
    "import dask.array as da\n",
    "import numpy as np\n",
    "import rioxarray\n",
    "import xarray as xr\n",
    "import glob\n",
    "\n",
    "from dask.distributed import Client, LocalCluster\n",
    "from dask_jobqueue import SLURMCluster"
   ]
  },
  {
   "cell_type": "markdown",
   "id": "7342e8d9-7678-446a-b2c3-5d12197a3695",
   "metadata": {},
   "source": [
    "# LAI data: from NetCDF to Zarr\n",
    "\n",
    "The Leaf Area Index (LAI) dataset is provided as chunked NetCDF4/HDF5 data. We reproject the spatial extend to match the ERA5 land dataset using rioxarray, which, unfortunately does not support Dask."
   ]
  },
  {
   "cell_type": "markdown",
   "id": "7044c879-f9bc-44e0-b31e-ec963124aa5e",
   "metadata": {},
   "source": [
    "## Input variables"
   ]
  },
  {
   "cell_type": "code",
   "execution_count": 2,
   "id": "4845d549-3833-46d0-aacf-44b3a3ebfb7b",
   "metadata": {
    "tags": []
   },
   "outputs": [],
   "source": [
    "year = 2015"
   ]
  },
  {
   "cell_type": "code",
   "execution_count": 3,
   "id": "6fc91e7e-8d95-42ec-b58f-34480894c071",
   "metadata": {
    "tags": []
   },
   "outputs": [],
   "source": [
    "ROOT_DIR = '/gpfs/work2/0/ttse0619'\n",
    "LAI_DIR = (\n",
    "    f'{ROOT_DIR}/qianqian/global_data_Qianqian/'\n",
    "    f'1input_data/{year}global/lai/'\n",
    ")\n",
    "OUT_DIR = (\n",
    "    f'{ROOT_DIR}/francesco/Projects/EcoExtreML/Data/'\n",
    "    f'1input_data/{year}global/lai'\n",
    ")"
   ]
  },
  {
   "cell_type": "code",
   "execution_count": 4,
   "id": "5a901bbb-287d-41be-80ac-534cd9ad1018",
   "metadata": {
    "tags": []
   },
   "outputs": [],
   "source": [
    "ERA5_PATH = (\n",
    "    f'{ROOT_DIR}/francesco/Projects/EcoExtreML/Data/'\n",
    "    f'1input_data/{year}global/era5land/era5land.zarr'\n",
    ")"
   ]
  },
  {
   "cell_type": "markdown",
   "id": "a8bac410-eed7-4e9f-b94f-a5d411acacde",
   "metadata": {},
   "source": [
    "## Setup Dask cluster\n",
    "\n",
    "NOTE: when working with NetCDF files (and the netcdf4 library) it is much better to work with many processes and few threads per process: netcdf4 can only read from one thread per process."
   ]
  },
  {
   "cell_type": "code",
   "execution_count": 5,
   "id": "610110ac-7e62-41da-9b65-0923d981f23f",
   "metadata": {
    "tags": []
   },
   "outputs": [],
   "source": [
    "# cluster = LocalCluster(n_workers=4, threads_per_worker=1)"
   ]
  },
  {
   "cell_type": "code",
   "execution_count": 6,
   "id": "b4321d11-1930-4e9b-bc5e-1a51a868b323",
   "metadata": {
    "tags": []
   },
   "outputs": [],
   "source": [
    "cluster = SLURMCluster(\n",
    "    name='dask-worker',\n",
    "    cores=16,\n",
    "    processes=16,\n",
    "    queue='fat',\n",
    "    memory='120GiB',\n",
    "    local_directory='$TMPDIR',\n",
    "    walltime='5:00:00'\n",
    ")"
   ]
  },
  {
   "cell_type": "code",
   "execution_count": 7,
   "id": "647bf6f3-37e3-425e-957a-ec7b65c22a87",
   "metadata": {
    "tags": []
   },
   "outputs": [],
   "source": [
    "cluster.scale(jobs=4)"
   ]
  },
  {
   "cell_type": "code",
   "execution_count": 8,
   "id": "a87408c8-9000-466b-a4cc-0943cc0a3ca6",
   "metadata": {
    "tags": []
   },
   "outputs": [
    {
     "data": {
      "text/html": [
       "<div>\n",
       "    <div style=\"width: 24px; height: 24px; background-color: #e1e1e1; border: 3px solid #9D9D9D; border-radius: 5px; position: absolute;\"> </div>\n",
       "    <div style=\"margin-left: 48px;\">\n",
       "        <h3 style=\"margin-bottom: 0px;\">Client</h3>\n",
       "        <p style=\"color: #9D9D9D; margin-bottom: 0px;\">Client-57b67c30-7a4e-11ee-92d6-b8cef6790fd8</p>\n",
       "        <table style=\"width: 100%; text-align: left;\">\n",
       "\n",
       "        <tr>\n",
       "        \n",
       "            <td style=\"text-align: left;\"><strong>Connection method:</strong> Cluster object</td>\n",
       "            <td style=\"text-align: left;\"><strong>Cluster type:</strong> dask_jobqueue.SLURMCluster</td>\n",
       "        \n",
       "        </tr>\n",
       "\n",
       "        \n",
       "            <tr>\n",
       "                <td style=\"text-align: left;\">\n",
       "                    <strong>Dashboard: </strong> <a href=\"/proxy/8787/status\" target=\"_blank\">/proxy/8787/status</a>\n",
       "                </td>\n",
       "                <td style=\"text-align: left;\"></td>\n",
       "            </tr>\n",
       "        \n",
       "\n",
       "        </table>\n",
       "\n",
       "        \n",
       "            <button style=\"margin-bottom: 12px;\" data-commandlinker-command=\"dask:populate-and-launch-layout\" data-commandlinker-args='{\"url\": \"/proxy/8787/status\" }'>\n",
       "                Launch dashboard in JupyterLab\n",
       "            </button>\n",
       "        \n",
       "\n",
       "        \n",
       "            <details>\n",
       "            <summary style=\"margin-bottom: 20px;\"><h3 style=\"display: inline;\">Cluster Info</h3></summary>\n",
       "            <div class=\"jp-RenderedHTMLCommon jp-RenderedHTML jp-mod-trusted jp-OutputArea-output\">\n",
       "    <div style=\"width: 24px; height: 24px; background-color: #e1e1e1; border: 3px solid #9D9D9D; border-radius: 5px; position: absolute;\">\n",
       "    </div>\n",
       "    <div style=\"margin-left: 48px;\">\n",
       "        <h3 style=\"margin-bottom: 0px; margin-top: 0px;\">SLURMCluster</h3>\n",
       "        <p style=\"color: #9D9D9D; margin-bottom: 0px;\">dask-worker</p>\n",
       "        <table style=\"width: 100%; text-align: left;\">\n",
       "            <tr>\n",
       "                <td style=\"text-align: left;\">\n",
       "                    <strong>Dashboard:</strong> <a href=\"/proxy/8787/status\" target=\"_blank\">/proxy/8787/status</a>\n",
       "                </td>\n",
       "                <td style=\"text-align: left;\">\n",
       "                    <strong>Workers:</strong> 0\n",
       "                </td>\n",
       "            </tr>\n",
       "            <tr>\n",
       "                <td style=\"text-align: left;\">\n",
       "                    <strong>Total threads:</strong> 0\n",
       "                </td>\n",
       "                <td style=\"text-align: left;\">\n",
       "                    <strong>Total memory:</strong> 0 B\n",
       "                </td>\n",
       "            </tr>\n",
       "            \n",
       "        </table>\n",
       "\n",
       "        <details>\n",
       "            <summary style=\"margin-bottom: 20px;\">\n",
       "                <h3 style=\"display: inline;\">Scheduler Info</h3>\n",
       "            </summary>\n",
       "\n",
       "            <div style=\"\">\n",
       "    <div>\n",
       "        <div style=\"width: 24px; height: 24px; background-color: #FFF7E5; border: 3px solid #FF6132; border-radius: 5px; position: absolute;\"> </div>\n",
       "        <div style=\"margin-left: 48px;\">\n",
       "            <h3 style=\"margin-bottom: 0px;\">Scheduler</h3>\n",
       "            <p style=\"color: #9D9D9D; margin-bottom: 0px;\">Scheduler-c94fad76-81f4-471e-800e-b495c958b981</p>\n",
       "            <table style=\"width: 100%; text-align: left;\">\n",
       "                <tr>\n",
       "                    <td style=\"text-align: left;\">\n",
       "                        <strong>Comm:</strong> tcp://145.136.57.179:43287\n",
       "                    </td>\n",
       "                    <td style=\"text-align: left;\">\n",
       "                        <strong>Workers:</strong> 0\n",
       "                    </td>\n",
       "                </tr>\n",
       "                <tr>\n",
       "                    <td style=\"text-align: left;\">\n",
       "                        <strong>Dashboard:</strong> <a href=\"/proxy/8787/status\" target=\"_blank\">/proxy/8787/status</a>\n",
       "                    </td>\n",
       "                    <td style=\"text-align: left;\">\n",
       "                        <strong>Total threads:</strong> 0\n",
       "                    </td>\n",
       "                </tr>\n",
       "                <tr>\n",
       "                    <td style=\"text-align: left;\">\n",
       "                        <strong>Started:</strong> Just now\n",
       "                    </td>\n",
       "                    <td style=\"text-align: left;\">\n",
       "                        <strong>Total memory:</strong> 0 B\n",
       "                    </td>\n",
       "                </tr>\n",
       "            </table>\n",
       "        </div>\n",
       "    </div>\n",
       "\n",
       "    <details style=\"margin-left: 48px;\">\n",
       "        <summary style=\"margin-bottom: 20px;\">\n",
       "            <h3 style=\"display: inline;\">Workers</h3>\n",
       "        </summary>\n",
       "\n",
       "        \n",
       "\n",
       "    </details>\n",
       "</div>\n",
       "\n",
       "        </details>\n",
       "    </div>\n",
       "</div>\n",
       "            </details>\n",
       "        \n",
       "\n",
       "    </div>\n",
       "</div>"
      ],
      "text/plain": [
       "<Client: 'tcp://145.136.57.179:43287' processes=0 threads=0, memory=0 B>"
      ]
     },
     "execution_count": 8,
     "metadata": {},
     "output_type": "execute_result"
    }
   ],
   "source": [
    "client = Client(cluster)\n",
    "client"
   ]
  },
  {
   "cell_type": "markdown",
   "id": "3b650aef-1425-4f10-ad6b-417d5d2af8ea",
   "metadata": {},
   "source": [
    "## Converting the dataset"
   ]
  },
  {
   "cell_type": "markdown",
   "id": "de49b536-ec31-4912-9baa-555c0bd28740",
   "metadata": {},
   "source": [
    "We start by loading the ERA5-land Zarr dataset, which we will use as the target for reprojection: "
   ]
  },
  {
   "cell_type": "code",
   "execution_count": 9,
   "id": "d5d16602-56ed-4bcf-bac3-94e32e9089fa",
   "metadata": {
    "tags": []
   },
   "outputs": [],
   "source": [
    "ds = xr.open_zarr(ERA5_PATH)"
   ]
  },
  {
   "cell_type": "code",
   "execution_count": 10,
   "id": "e45d1b8f-0e21-4b28-bb33-cbb808722fa2",
   "metadata": {
    "tags": []
   },
   "outputs": [],
   "source": [
    "ds = ds.rio.write_crs('WGS84')\n",
    "target = ds['sp'].isel(time=0, drop=True)"
   ]
  },
  {
   "cell_type": "markdown",
   "id": "617b345d-2fec-404a-b5cf-410c7b780846",
   "metadata": {},
   "source": [
    "We now open the LAI NetCDF files. NOTE: we do not set chunks in the spatial dimension because we need to load all values anyway to perform the reprojection. "
   ]
  },
  {
   "cell_type": "code",
   "execution_count": 23,
   "id": "47cf5326-03a5-4d52-b0e5-914344b9728b",
   "metadata": {
    "tags": []
   },
   "outputs": [],
   "source": [
    "lai_paths = sorted(\n",
    "    glob.glob(f'{LAI_DIR}/c_gls_LAI_*_GLOBE_PROBAV_V1.5.1.nc')\n",
    ")"
   ]
  },
  {
   "cell_type": "code",
   "execution_count": 24,
   "id": "da7c462c-ece5-421f-9d55-593b4f691d68",
   "metadata": {
    "tags": []
   },
   "outputs": [],
   "source": [
    "lai = xr.open_mfdataset(lai_paths, chunks={})\n",
    "lai = lai['LAI']  # keep only one variable\n",
    "lai.rio.write_nodata(np.nan, inplace=True)"
   ]
  },
  {
   "cell_type": "markdown",
   "id": "6d91a0b0-b577-4e08-9810-dfcc11bcae9b",
   "metadata": {},
   "source": [
    "We fix the longitude ordering and make sure the CRS is in place:"
   ]
  },
  {
   "cell_type": "code",
   "execution_count": 25,
   "id": "e0ba4d24-67c3-4b69-8094-2b69d61899b2",
   "metadata": {
    "tags": []
   },
   "outputs": [],
   "source": [
    "lai = lai.rio.write_crs('WGS84')\n",
    "lai = lai.rename(\n",
    "    lon='longitude',\n",
    "    lat='latitude',\n",
    ")\n",
    "lai = lai.assign_coords(\n",
    "    longitude=(lai.longitude + 360) % 360,\n",
    "    latitude=lai.latitude\n",
    ")\n",
    "# roll array to reorder coordinates \n",
    "nroll = (lai.longitude.values >= 180 ).sum()\n",
    "lai = lai.roll(longitude=-nroll, roll_coords=True)"
   ]
  },
  {
   "cell_type": "markdown",
   "id": "7d1bd04e-0206-407e-bc18-8c4c2b0bfa91",
   "metadata": {},
   "source": [
    "We define the template for reprojection and run it!"
   ]
  },
  {
   "cell_type": "code",
   "execution_count": 26,
   "id": "d7b81c02-8976-4fe6-afd9-fd5d59c1c2ba",
   "metadata": {
    "tags": []
   },
   "outputs": [],
   "source": [
    "template = xr.DataArray(\n",
    "    data=da.zeros(\n",
    "        (len(lai.time), len(target.latitude), len(target.longitude)),\n",
    "        chunks=(1, -1, -1),\n",
    "    ),\n",
    "    dims=('time', 'latitude', 'longitude'),\n",
    "    coords={\n",
    "        'time': lai.time, \n",
    "        'latitude': target.latitude, \n",
    "        'longitude': target.longitude,\n",
    "    },\n",
    ")"
   ]
  },
  {
   "cell_type": "code",
   "execution_count": 27,
   "id": "7ea06064-0873-444a-a83b-90c45af4d6fd",
   "metadata": {
    "tags": []
   },
   "outputs": [],
   "source": [
    "def reproject(source):\n",
    "    # import here, otherwise not seen by workers\n",
    "    import rioxarray\n",
    "    reprojected = source.rio.reproject_match(\n",
    "        target,\n",
    "        nodata=np.nan,\n",
    "        resampling=Resampling.average\n",
    "    )\n",
    "    reprojected = reprojected.drop_vars('crs')\n",
    "    return reprojected.rename(x='longitude', y='latitude')\n",
    "\n",
    "lai_reprojected = xr.map_blocks(\n",
    "    reproject,\n",
    "    lai,\n",
    "    template=template,\n",
    ")"
   ]
  },
  {
   "cell_type": "markdown",
   "id": "b9c7172a-76e5-43a6-8250-44a59bdc5032",
   "metadata": {},
   "source": [
    "We rechunk and save it as Zarr:"
   ]
  },
  {
   "cell_type": "code",
   "execution_count": 28,
   "id": "5901d802-ba25-4c62-8843-902c14695343",
   "metadata": {
    "tags": []
   },
   "outputs": [],
   "source": [
    "lai_reprojected = lai_reprojected.chunk(\n",
    "    time=-1, \n",
    "    longitude=250, \n",
    "    latitude=250\n",
    ")\n",
    "lai_reprojected = lai_reprojected.to_dataset(name='LAI')"
   ]
  },
  {
   "cell_type": "code",
   "execution_count": 29,
   "id": "67b2ec75-45f0-49d2-9da7-f190b371d5cc",
   "metadata": {
    "tags": []
   },
   "outputs": [
    {
     "name": "stdout",
     "output_type": "stream",
     "text": [
      "CPU times: user 5.2 s, sys: 263 ms, total: 5.47 s\n",
      "Wall time: 39.5 s\n"
     ]
    },
    {
     "data": {
      "text/plain": [
       "<xarray.backends.zarr.ZarrStore at 0x14a917625ba0>"
      ]
     },
     "execution_count": 29,
     "metadata": {},
     "output_type": "execute_result"
    }
   ],
   "source": [
    "%%time\n",
    "zarr_path = f'{OUT_DIR}/lai.zarr'\n",
    "lai_reprojected.to_zarr(zarr_path, mode='w')"
   ]
  },
  {
   "cell_type": "markdown",
   "id": "58fd2f4f-1da2-451e-b8e5-d8d03e6405c0",
   "metadata": {},
   "source": [
    "When done with the conversion we switch off the cluster to release resources:"
   ]
  },
  {
   "cell_type": "code",
   "execution_count": 30,
   "id": "da4b7c88-d80f-4370-ba60-7c07d97904b8",
   "metadata": {
    "tags": []
   },
   "outputs": [],
   "source": [
    "client.shutdown()"
   ]
  },
  {
   "cell_type": "code",
   "execution_count": 31,
   "id": "339fe0cd-b23e-4c3a-b66a-f786cf7dbe3b",
   "metadata": {
    "tags": []
   },
   "outputs": [
    {
     "name": "stdout",
     "output_type": "stream",
     "text": [
      "149M\t/gpfs/work2/0/ttse0619/francesco/Projects/EcoExtreML/Data/1input_data/2015global/lai/lai.zarr/LAI\n",
      "2.0K\t/gpfs/work2/0/ttse0619/francesco/Projects/EcoExtreML/Data/1input_data/2015global/lai/lai.zarr/longitude\n",
      "2.0K\t/gpfs/work2/0/ttse0619/francesco/Projects/EcoExtreML/Data/1input_data/2015global/lai/lai.zarr/latitude\n",
      "2.0K\t/gpfs/work2/0/ttse0619/francesco/Projects/EcoExtreML/Data/1input_data/2015global/lai/lai.zarr/time\n",
      "149M\t/gpfs/work2/0/ttse0619/francesco/Projects/EcoExtreML/Data/1input_data/2015global/lai/lai.zarr\n"
     ]
    }
   ],
   "source": [
    "!du -h $zarr_path"
   ]
  }
 ],
 "metadata": {
  "kernelspec": {
   "display_name": "Python 3 (ipykernel)",
   "language": "python",
   "name": "python3"
  },
  "language_info": {
   "codemirror_mode": {
    "name": "ipython",
    "version": 3
   },
   "file_extension": ".py",
   "mimetype": "text/x-python",
   "name": "python",
   "nbconvert_exporter": "python",
   "pygments_lexer": "ipython3",
   "version": "3.9.16"
  }
 },
 "nbformat": 4,
 "nbformat_minor": 5
}
