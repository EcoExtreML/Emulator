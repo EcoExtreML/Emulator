{
 "cells": [
  {
   "cell_type": "markdown",
   "id": "136a780b-bf72-473c-b45c-0c776cb28d02",
   "metadata": {},
   "source": [
    "## 0)import libraries "
   ]
  },
  {
   "cell_type": "code",
   "execution_count": 1,
   "id": "b853c432-ffcc-4bce-949c-3f92a72f5482",
   "metadata": {
    "tags": []
   },
   "outputs": [],
   "source": [
    "import os\n",
    "import pickle\n",
    "\n",
    "import dask.array as da\n",
    "import numpy as np\n",
    "import pandas as pd\n",
    "import xarray as xr\n",
    "\n",
    "from PyStemmusScope import variable_conversion as vc\n",
    "from sklearn.preprocessing import OneHotEncoder\n",
    "from dask.distributed import Client, LocalCluster\n",
    "from dask_jobqueue import SLURMCluster\n",
    "\n",
    "import geopandas as gpd\n",
    "from shapely.geometry import box\n",
    "from shapely.geometry import mapping\n",
    "from shapely.affinity import translate"
   ]
  },
  {
   "cell_type": "markdown",
   "id": "9fe0c4cc-7ff2-4869-83ae-58161c2c67b0",
   "metadata": {},
   "source": [
    "## 1)settings for Dask"
   ]
  },
  {
   "cell_type": "markdown",
   "id": "91caea31-74ce-478e-952c-400021f77d0c",
   "metadata": {},
   "source": [
    "Setup a Dask cluster on 6 * 16 = 96 cores (6 * 4 = 24 workers with 4 threads each) and 6 * 120 GB = 720 GB memory in total ('fat' nodes on Snellius):"
   ]
  },
  {
   "cell_type": "code",
   "execution_count": 2,
   "id": "563a4b40-b792-47f0-b90f-9716903b2cbf",
   "metadata": {
    "tags": []
   },
   "outputs": [
    {
     "name": "stderr",
     "output_type": "stream",
     "text": [
      "/home/qiahan/.conda/envs/mamba/envs/emulator/lib/python3.9/site-packages/distributed/node.py:182: UserWarning: Port 8787 is already in use.\n",
      "Perhaps you already have a cluster running?\n",
      "Hosting the HTTP server on port 45693 instead\n",
      "  warnings.warn(\n"
     ]
    }
   ],
   "source": [
    "cluster = SLURMCluster(\n",
    "    name='dask-worker',\n",
    "    cores=16,\n",
    "    processes=4,\n",
    "    queue='fat',\n",
    "    memory='120GiB',\n",
    "    local_directory='$TMPDIR',\n",
    "    walltime='1:00:00'\n",
    ")\n",
    "cluster.scale(jobs=6)"
   ]
  },
  {
   "cell_type": "code",
   "execution_count": 3,
   "id": "2cca79b2-49b7-44ff-beb6-65d9d7f14161",
   "metadata": {
    "tags": []
   },
   "outputs": [
    {
     "data": {
      "text/html": [
       "<div>\n",
       "    <div style=\"width: 24px; height: 24px; background-color: #e1e1e1; border: 3px solid #9D9D9D; border-radius: 5px; position: absolute;\"> </div>\n",
       "    <div style=\"margin-left: 48px;\">\n",
       "        <h3 style=\"margin-bottom: 0px;\">Client</h3>\n",
       "        <p style=\"color: #9D9D9D; margin-bottom: 0px;\">Client-206d978f-086d-11ef-b10a-b8cef6790e70</p>\n",
       "        <table style=\"width: 100%; text-align: left;\">\n",
       "\n",
       "        <tr>\n",
       "        \n",
       "            <td style=\"text-align: left;\"><strong>Connection method:</strong> Cluster object</td>\n",
       "            <td style=\"text-align: left;\"><strong>Cluster type:</strong> dask_jobqueue.SLURMCluster</td>\n",
       "        \n",
       "        </tr>\n",
       "\n",
       "        \n",
       "            <tr>\n",
       "                <td style=\"text-align: left;\">\n",
       "                    <strong>Dashboard: </strong> <a href=\"/proxy/45693/status\" target=\"_blank\">/proxy/45693/status</a>\n",
       "                </td>\n",
       "                <td style=\"text-align: left;\"></td>\n",
       "            </tr>\n",
       "        \n",
       "\n",
       "        </table>\n",
       "\n",
       "        \n",
       "            <button style=\"margin-bottom: 12px;\" data-commandlinker-command=\"dask:populate-and-launch-layout\" data-commandlinker-args='{\"url\": \"/proxy/45693/status\" }'>\n",
       "                Launch dashboard in JupyterLab\n",
       "            </button>\n",
       "        \n",
       "\n",
       "        \n",
       "            <details>\n",
       "            <summary style=\"margin-bottom: 20px;\"><h3 style=\"display: inline;\">Cluster Info</h3></summary>\n",
       "            <div class=\"jp-RenderedHTMLCommon jp-RenderedHTML jp-mod-trusted jp-OutputArea-output\">\n",
       "    <div style=\"width: 24px; height: 24px; background-color: #e1e1e1; border: 3px solid #9D9D9D; border-radius: 5px; position: absolute;\">\n",
       "    </div>\n",
       "    <div style=\"margin-left: 48px;\">\n",
       "        <h3 style=\"margin-bottom: 0px; margin-top: 0px;\">SLURMCluster</h3>\n",
       "        <p style=\"color: #9D9D9D; margin-bottom: 0px;\">dask-worker</p>\n",
       "        <table style=\"width: 100%; text-align: left;\">\n",
       "            <tr>\n",
       "                <td style=\"text-align: left;\">\n",
       "                    <strong>Dashboard:</strong> <a href=\"/proxy/45693/status\" target=\"_blank\">/proxy/45693/status</a>\n",
       "                </td>\n",
       "                <td style=\"text-align: left;\">\n",
       "                    <strong>Workers:</strong> 0\n",
       "                </td>\n",
       "            </tr>\n",
       "            <tr>\n",
       "                <td style=\"text-align: left;\">\n",
       "                    <strong>Total threads:</strong> 0\n",
       "                </td>\n",
       "                <td style=\"text-align: left;\">\n",
       "                    <strong>Total memory:</strong> 0 B\n",
       "                </td>\n",
       "            </tr>\n",
       "            \n",
       "        </table>\n",
       "\n",
       "        <details>\n",
       "            <summary style=\"margin-bottom: 20px;\">\n",
       "                <h3 style=\"display: inline;\">Scheduler Info</h3>\n",
       "            </summary>\n",
       "\n",
       "            <div style=\"\">\n",
       "    <div>\n",
       "        <div style=\"width: 24px; height: 24px; background-color: #FFF7E5; border: 3px solid #FF6132; border-radius: 5px; position: absolute;\"> </div>\n",
       "        <div style=\"margin-left: 48px;\">\n",
       "            <h3 style=\"margin-bottom: 0px;\">Scheduler</h3>\n",
       "            <p style=\"color: #9D9D9D; margin-bottom: 0px;\">Scheduler-43930a6f-73c2-4e0f-be18-0cc37b58dbf5</p>\n",
       "            <table style=\"width: 100%; text-align: left;\">\n",
       "                <tr>\n",
       "                    <td style=\"text-align: left;\">\n",
       "                        <strong>Comm:</strong> tcp://145.136.63.38:38245\n",
       "                    </td>\n",
       "                    <td style=\"text-align: left;\">\n",
       "                        <strong>Workers:</strong> 0\n",
       "                    </td>\n",
       "                </tr>\n",
       "                <tr>\n",
       "                    <td style=\"text-align: left;\">\n",
       "                        <strong>Dashboard:</strong> <a href=\"/proxy/45693/status\" target=\"_blank\">/proxy/45693/status</a>\n",
       "                    </td>\n",
       "                    <td style=\"text-align: left;\">\n",
       "                        <strong>Total threads:</strong> 0\n",
       "                    </td>\n",
       "                </tr>\n",
       "                <tr>\n",
       "                    <td style=\"text-align: left;\">\n",
       "                        <strong>Started:</strong> Just now\n",
       "                    </td>\n",
       "                    <td style=\"text-align: left;\">\n",
       "                        <strong>Total memory:</strong> 0 B\n",
       "                    </td>\n",
       "                </tr>\n",
       "            </table>\n",
       "        </div>\n",
       "    </div>\n",
       "\n",
       "    <details style=\"margin-left: 48px;\">\n",
       "        <summary style=\"margin-bottom: 20px;\">\n",
       "            <h3 style=\"display: inline;\">Workers</h3>\n",
       "        </summary>\n",
       "\n",
       "        \n",
       "\n",
       "    </details>\n",
       "</div>\n",
       "\n",
       "        </details>\n",
       "    </div>\n",
       "</div>\n",
       "            </details>\n",
       "        \n",
       "\n",
       "    </div>\n",
       "</div>"
      ],
      "text/plain": [
       "<Client: 'tcp://145.136.63.38:38245' processes=0 threads=0, memory=0 B>"
      ]
     },
     "execution_count": 3,
     "metadata": {},
     "output_type": "execute_result"
    }
   ],
   "source": [
    "client = Client(cluster)\n",
    "client"
   ]
  },
  {
   "cell_type": "markdown",
   "id": "eb63f25e-1237-4ea9-9024-46e2d4cfacba",
   "metadata": {},
   "source": [
    "## 2)define working path, load trained model, define functions"
   ]
  },
  {
   "cell_type": "code",
   "execution_count": 4,
   "id": "e91a66ee-3639-4b12-a6e7-9b5237bb8704",
   "metadata": {
    "tags": []
   },
   "outputs": [],
   "source": [
    "year = 2014"
   ]
  },
  {
   "cell_type": "code",
   "execution_count": 5,
   "id": "1dbc97db-02d1-414a-861c-1172f586397e",
   "metadata": {
    "tags": []
   },
   "outputs": [],
   "source": [
    "ROOT_DIR = '/gpfs/work2/0/ttse0619'\n",
    "DATA_DIR = f'{ROOT_DIR}/qianqian/global_data_Qianqian/1input_data/{year}EmulatorShowcaseSarah'\n",
    "ERA5_PATH = f'{DATA_DIR}/era5land/era5land.zarr'\n",
    "LAI_PATH = f'{DATA_DIR}/lai_v2/lai_v2.zarr'\n",
    "SSM_PATH = f'{DATA_DIR}/ssm/ssm.zarr'\n",
    "CO2_PATH = f'{DATA_DIR}/co2/co2.zarr'\n",
    "LANDCOVER_PATH = f'{DATA_DIR}/igbp/landcover_snellius.zarr'\n",
    "IGBP_CLASS_PATH = f'{DATA_DIR}/IGBP11unique.csv'\n",
    "IGBP_TABLE_PATH = f'{DATA_DIR}/lccs_to_igbp_table.csv' \n",
    "hc_PATH = f'{DATA_DIR}/canopy_height/hc.zarr'\n",
    "VCMAX_PATH = f'{DATA_DIR}/vcmax/vcmax_fillnan.zarr'\n",
    "MODEL_PATH = f'{ROOT_DIR}/qianqian/global_data_Qianqian/3RF_train/hourly_multi7_depth20_min1219.pkl'\n",
    "\n",
    "LEH_PATH = f'{DATA_DIR}/Europe0_fluxes_RFSS_{year}_v1.1.zarr'"
   ]
  },
  {
   "cell_type": "code",
   "execution_count": 6,
   "id": "649543dd-9d92-400f-856e-6a851b887e04",
   "metadata": {
    "tags": []
   },
   "outputs": [],
   "source": [
    "# function for loading the trained model\n",
    "def load_model(path):\n",
    "    # load trained RF model, better use not parallel model with Dask\n",
    "    with open(path, 'rb') as f:\n",
    "        rfLEHmulti = pickle.load(f)\n",
    "    return rfLEHmulti"
   ]
  },
  {
   "cell_type": "markdown",
   "id": "a0998390-ba37-4d64-86ef-679464812aaf",
   "metadata": {},
   "source": [
    "## 3) read data"
   ]
  },
  {
   "cell_type": "markdown",
   "id": "6e99f54f-3ff8-4cba-b1ab-09de3bfc839d",
   "metadata": {},
   "source": [
    "read Europe boundary"
   ]
  },
  {
   "cell_type": "code",
   "execution_count": 7,
   "id": "15c2a984-97f4-45de-80c2-0af6b9a52040",
   "metadata": {
    "tags": []
   },
   "outputs": [],
   "source": [
    "shapefile_path = \"/gpfs/work2/0/ttse0619/qianqian/global_data_Qianqian/Emulator/input_data/EuropeBoundary.shp\"\n",
    "gdf = gpd.read_file(shapefile_path)\n",
    "bbox = gdf.total_bounds"
   ]
  },
  {
   "cell_type": "code",
   "execution_count": 8,
   "id": "a8c4f8e8-71f0-4eb4-9311-8108e246d750",
   "metadata": {
    "tags": []
   },
   "outputs": [],
   "source": [
    "## 0) read era5land data\n",
    "era5 = xr.open_zarr(ERA5_PATH)\n",
    "# round coordinates to facilitate matching with other datasets\n",
    "era5 = era5.assign_coords(\n",
    "    longitude=era5.longitude.round(4),\n",
    "    latitude=era5.latitude.round(4)\n",
    ")"
   ]
  },
  {
   "cell_type": "code",
   "execution_count": 9,
   "id": "c163d8f4-5ca1-4162-8ae8-6ca63f7ff223",
   "metadata": {
    "tags": []
   },
   "outputs": [],
   "source": [
    "# calculate the Rin and Rli difference for every hour\n",
    "ssrd = era5['ssrd'] / 3600\n",
    "Rin = ssrd.diff(\"time\")\n",
    "Rin[0::24] = ssrd[1::24] # Rin at T01 does not need to do difference, because it start accumulate from T00\n",
    "\n",
    "strd = era5['strd'] / 3600\n",
    "Rli = strd.diff(\"time\")\n",
    "Rli[0::24] = strd[1::24] # same as Rin"
   ]
  },
  {
   "cell_type": "code",
   "execution_count": 10,
   "id": "c8bcfc15-3ca4-4e7f-8d31-9f17e73acd98",
   "metadata": {
    "tags": []
   },
   "outputs": [],
   "source": [
    "Precip_msr = era5['tp'].diff(\"time\") \n",
    "Precip_msr[0::24] = era5['tp'][1::24] # assign the original values in t01, same as Rin and Rli"
   ]
  },
  {
   "cell_type": "code",
   "execution_count": 11,
   "id": "41ca3b11-6ee4-4eef-8458-f9846640de5a",
   "metadata": {
    "tags": []
   },
   "outputs": [],
   "source": [
    "p = era5[\"sp\"]/100  # Pa -> hPa\n",
    "Ta = era5[\"t2m\"] - 273.15  # K -> degC\n",
    "ea = vc.calculate_es(era5[\"d2m\"] - 273.15)*10 # *10 is for kPa -> hPa\n",
    "u = (era5[\"u10\"] ** 2 + era5[\"v10\"] ** 2) ** 0.5\n",
    "Precip_msr = Precip_msr*1000 # mm"
   ]
  },
  {
   "cell_type": "code",
   "execution_count": 12,
   "id": "301128ac-c81e-4257-8ac5-ffb04f70cfe5",
   "metadata": {
    "tags": []
   },
   "outputs": [],
   "source": [
    "### 1) read LAI data\n",
    "LAI = xr.open_zarr(LAI_PATH)\n",
    "LAI = LAI.assign_coords(\n",
    "    longitude=LAI.longitude.round(4),\n",
    "    latitude=LAI.latitude.round(4)\n",
    ")"
   ]
  },
  {
   "cell_type": "code",
   "execution_count": 13,
   "id": "dbf74743-7c93-40bb-995c-e79a87e8b3ce",
   "metadata": {
    "tags": []
   },
   "outputs": [],
   "source": [
    "LAI = LAI['LAI']"
   ]
  },
  {
   "cell_type": "code",
   "execution_count": 14,
   "id": "d6b2748e-44be-4d91-97da-d1ead00f9e1c",
   "metadata": {
    "tags": []
   },
   "outputs": [],
   "source": [
    "# INTERPOLATION CREATES A SINGLE CHUNK IN TIME!\n",
    "# so we do linear from 10 days to daily, then do nearest-neighbour resample from daily to hourly later\n",
    "LAI = LAI.resample(time='1D').interpolate('linear')"
   ]
  },
  {
   "cell_type": "markdown",
   "id": "7a4ddd2c-c967-43ea-842a-95dd879ad83c",
   "metadata": {},
   "source": [
    "The following Dask option allows to avoid creating a single time chunk when using nearest-neighbour matching: "
   ]
  },
  {
   "cell_type": "code",
   "execution_count": 15,
   "id": "862da099-de5c-4898-add5-5676e86e4703",
   "metadata": {
    "tags": []
   },
   "outputs": [],
   "source": [
    "import dask.config\n",
    "\n",
    "with dask.config.set({\"array.slicing.split_large_chunks\": True}):\n",
    "    LAI = LAI.resample(time='1H').nearest()"
   ]
  },
  {
   "cell_type": "code",
   "execution_count": 16,
   "id": "4f655079-459b-4785-baae-99f893ffd24d",
   "metadata": {
    "tags": []
   },
   "outputs": [],
   "source": [
    "# during preprocessing part, we incluse LAI from last year and next year to keep data continuous\n",
    "# so after temporal interpolation, we need to filter data in current year (when we run the whole year)\n",
    "LAI = LAI.sel(time=str(year)) "
   ]
  },
  {
   "cell_type": "code",
   "execution_count": 17,
   "id": "9a2c2c9e-10ce-4725-8891-afba6dc808e4",
   "metadata": {
    "tags": []
   },
   "outputs": [],
   "source": [
    "### 2) read SSM data\n",
    "SSM = xr.open_zarr(SSM_PATH)\n",
    "SSM = SSM.assign_coords(\n",
    "    longitude=SSM.longitude.round(4),\n",
    "    latitude=SSM.latitude.round(4)\n",
    ")"
   ]
  },
  {
   "cell_type": "code",
   "execution_count": 18,
   "id": "ee681d6f-ed3e-4e0a-b54c-3de404142278",
   "metadata": {
    "tags": []
   },
   "outputs": [],
   "source": [
    "SSM = SSM['SSM']"
   ]
  },
  {
   "cell_type": "code",
   "execution_count": 19,
   "id": "ab1a6a34-f818-4a7b-baf0-1eed88aec22d",
   "metadata": {
    "tags": []
   },
   "outputs": [],
   "source": [
    "# # INTERPOLATION CREATES A SINGLE CHUNK IN TIME! but we have to do it for SSM as it is an important input variable\n",
    "SSM = SSM.resample(time='1H').interpolate('linear')/1000  # 1000 is the scale factor"
   ]
  },
  {
   "cell_type": "code",
   "execution_count": 20,
   "id": "02bfd6c9-e9db-4438-b203-6e35ba6b79c1",
   "metadata": {
    "tags": []
   },
   "outputs": [],
   "source": [
    "### 3) read CO2 data\n",
    "CO2 = xr.open_zarr(CO2_PATH)\n",
    "CO2 = CO2.assign_coords(\n",
    "    longitude=CO2.longitude.round(4),\n",
    "    latitude=CO2.latitude.round(4)\n",
    ")\n",
    "CO2 = CO2['co2']"
   ]
  },
  {
   "cell_type": "code",
   "execution_count": 21,
   "id": "e7c39e9b-eb05-4012-aaee-c5aba2a0bf65",
   "metadata": {
    "tags": []
   },
   "outputs": [],
   "source": [
    "# for CO2, we can just do nearest-neighbour resample from 3-hourly to hourly\n",
    "with dask.config.set({\"array.slicing.split_large_chunks\": True}):\n",
    "    CO2 = CO2.resample(time='1H').nearest()"
   ]
  },
  {
   "cell_type": "markdown",
   "id": "fda3fb7b-881a-4f11-98c3-cad43b492e4d",
   "metadata": {},
   "source": [
    "**Done dynamic datasets up to here!** Moving to static datasets\n",
    "\n",
    "----"
   ]
  },
  {
   "cell_type": "code",
   "execution_count": 22,
   "id": "7cebbd65-18f6-4146-97f6-6a983a520f83",
   "metadata": {
    "tags": []
   },
   "outputs": [],
   "source": [
    "## 4) read canopy height data\n",
    "hc = xr.open_zarr(hc_PATH)\n",
    "hc = hc.assign_coords(\n",
    "    longitude=hc.longitude.round(4),\n",
    "    latitude=hc.latitude.round(4)\n",
    ")"
   ]
  },
  {
   "cell_type": "code",
   "execution_count": 23,
   "id": "0c6427ea-39b2-4dcd-a664-15b847bccc64",
   "metadata": {
    "tags": []
   },
   "outputs": [],
   "source": [
    "hc = hc['hc']"
   ]
  },
  {
   "cell_type": "code",
   "execution_count": 24,
   "id": "cfa10f51-6b7f-4553-92a4-3050ca8dad92",
   "metadata": {
    "tags": []
   },
   "outputs": [],
   "source": [
    "## 5) read Vcmax data\n",
    "vcmax = xr.open_zarr(VCMAX_PATH)\n",
    "vcmax = vcmax.assign_coords(\n",
    "    longitude=vcmax.longitude.round(4),\n",
    "    latitude=vcmax.latitude.round(4)\n",
    ")"
   ]
  },
  {
   "cell_type": "code",
   "execution_count": 25,
   "id": "451ed03c-c377-4f82-a31b-bb6a50eae8c7",
   "metadata": {
    "tags": []
   },
   "outputs": [],
   "source": [
    "vcmax = vcmax['vcmax']"
   ]
  },
  {
   "cell_type": "code",
   "execution_count": 26,
   "id": "67c45d8e-d888-4adf-81e8-7a9a8a9866db",
   "metadata": {
    "tags": []
   },
   "outputs": [],
   "source": [
    "## 6) read landcover data\n",
    "landcover = xr.open_zarr(LANDCOVER_PATH)\n",
    "landcover = landcover.assign_coords(\n",
    "    longitude=landcover.longitude.round(4),\n",
    "    latitude=landcover.latitude.round(4)\n",
    ")"
   ]
  },
  {
   "cell_type": "code",
   "execution_count": 27,
   "id": "a25042fb-3d3e-44d1-98f2-a07101c85d99",
   "metadata": {
    "tags": []
   },
   "outputs": [],
   "source": [
    "landcover = landcover['lccs_class']"
   ]
  },
  {
   "cell_type": "code",
   "execution_count": 28,
   "id": "e7125f83-5224-4bc9-ac27-63f451d12ba2",
   "metadata": {
    "tags": []
   },
   "outputs": [],
   "source": [
    "# read IGBP unique values\n",
    "training_testing_append = pd.read_csv(IGBP_CLASS_PATH)['0'].unique()\n",
    "# read the table for converting landcover to IGBP\n",
    "IGBP_table = pd.read_csv(IGBP_TABLE_PATH)"
   ]
  },
  {
   "cell_type": "code",
   "execution_count": 29,
   "id": "5dac66ba-c18e-48e5-a2d3-b5e754e2a4ee",
   "metadata": {
    "tags": []
   },
   "outputs": [],
   "source": [
    "# we need to convert landcover to IGBP\n",
    "def landcover_to_igbp(landcover, IGBP_table, training_testing_append):\n",
    "    get_IGBP = np.vectorize(IGBP_table.set_index(\"lccs_class\").T.to_dict('records')[0].get)\n",
    "    IGBP = get_IGBP(landcover.values) \n",
    "    IGBP_all = pd.DataFrame(\n",
    "        columns=[f'IGBP_veg_long{i}' for i in range(1, 12)]\n",
    "    )\n",
    "    \n",
    "    # define one hot encoding for IGBP\n",
    "    encoder = OneHotEncoder(\n",
    "        categories=[training_testing_append],\n",
    "        sparse=False,\n",
    "        handle_unknown=\"ignore\"\n",
    "    )\n",
    "    \n",
    "    # transform data\n",
    "    aa = encoder.fit_transform(IGBP.reshape(IGBP.shape[0]*IGBP.shape[1], 1))\n",
    "    \n",
    "    # assign 23-D IGBP into 23 columns\n",
    "    for i in range(1, 12):\n",
    "        IGBP_all[f'IGBP_veg_long{i}'] = aa[:,i-1]\n",
    "    return IGBP_all"
   ]
  },
  {
   "cell_type": "markdown",
   "id": "fa3b01d8-1554-4ae5-86c9-872df1dd29bd",
   "metadata": {},
   "source": [
    "## 4) chunk all the input variables"
   ]
  },
  {
   "cell_type": "code",
   "execution_count": 30,
   "id": "1a6f40e5-16a9-4619-9fa7-47761f241c7d",
   "metadata": {
    "tags": []
   },
   "outputs": [],
   "source": [
    "ds = xr.Dataset()\n",
    "\n",
    "ds = ds.assign(\n",
    "    Rin=Rin,\n",
    "    Rli=Rli,\n",
    "    p=p,\n",
    "    Ta=Ta,\n",
    "    ea=ea,\n",
    "    u=u,\n",
    "    Precip_msr=Precip_msr,\n",
    "    LAI=LAI,\n",
    "    CO2=CO2,\n",
    "    SSM=SSM,\n",
    ")\n",
    "\n",
    "ds = ds.to_array()\n",
    "\n",
    "ds = ds.chunk(time=125, variable=-1)"
   ]
  },
  {
   "cell_type": "markdown",
   "id": "86bf1162-22a9-44b5-b63f-c44b5bd752d6",
   "metadata": {},
   "source": [
    "## 5) predict fluxes with map_blocks"
   ]
  },
  {
   "cell_type": "code",
   "execution_count": 31,
   "id": "aee08121-c8b2-47cf-bec1-16482bb7ed7b",
   "metadata": {
    "tags": []
   },
   "outputs": [],
   "source": [
    "INPUT_VARIABLES = [\n",
    "    'Rin', 'Rli', 'p', 'Ta', 'ea', 'u', 'CO2','LAI','Vcmo','hc', 'Precip_msr',  \n",
    "    'SSM',  *[f'IGBP_veg_long{i}' for i in range(1, 12)]\n",
    "]\n",
    "OUTPUT_VARIABLES = ['LEtot','Htot','Rntot','Gtot', 'Actot','SIF685', 'SIF740']"
   ]
  },
  {
   "cell_type": "code",
   "execution_count": 32,
   "id": "ce15b015-2b1c-4029-8e9c-76d2bc0c2b6c",
   "metadata": {
    "tags": []
   },
   "outputs": [],
   "source": [
    "chunks = [ds.chunksizes[v] for v in ['time', 'latitude', 'longitude']]\n",
    "chunks.append((len(OUTPUT_VARIABLES),))\n",
    "\n",
    "template_LEH = xr.DataArray(\n",
    "    name = 'LEH',\n",
    "    data=da.zeros(\n",
    "        (len(ds.time), len(ds.latitude), len(ds.longitude), len(OUTPUT_VARIABLES)), \n",
    "        chunks=chunks,\n",
    "    ),\n",
    "    dims=(\"time\", \"latitude\", \"longitude\", \"output_variable\"),\n",
    "    coords={\n",
    "        \"output_variable\": OUTPUT_VARIABLES, \n",
    "        \"time\": ds.time, \n",
    "        \"latitude\": ds.latitude,\n",
    "        \"longitude\": ds.longitude\n",
    "    }\n",
    ")"
   ]
  },
  {
   "cell_type": "code",
   "execution_count": 33,
   "id": "45317176-f436-4f3d-a66b-455db9596e65",
   "metadata": {
    "tags": []
   },
   "outputs": [],
   "source": [
    "def expand_time_dimension(data, n_time):\n",
    "    \"\"\" \n",
    "    Expand the space-dependent data over the time dimension.\n",
    "    \n",
    "    Parameters\n",
    "    ----------\n",
    "    data : np.ndarray\n",
    "        (ny, nx) matrix\n",
    "    n_time : int\n",
    "        number of elements in the time dimension\n",
    "    \n",
    "    Returns\n",
    "    -------\n",
    "    np.ndarray\n",
    "        (1, ntime*ny*nx) matrix\n",
    "    \"\"\"\n",
    "    expanded = np.tile(data.reshape(1, -1), (n_time, 1))\n",
    "    return expanded.reshape(1, -1)\n",
    "    \n",
    "\n",
    "def predictFlux(ds, hc, Vcmo, landcover, IGBP_table, training_testing_append, path_model):\n",
    "\n",
    "    n_time = len(ds.time)\n",
    "    \n",
    "    hc_ = expand_time_dimension(hc.data, n_time)\n",
    "    Vcmo_ = expand_time_dimension(Vcmo.data, n_time)\n",
    "    \n",
    "    IGBP_all = landcover_to_igbp(landcover, IGBP_table, training_testing_append)\n",
    "    IGBP_ = [\n",
    "        expand_time_dimension(IGBP_all[f'IGBP_veg_long{i}'].to_numpy(), n_time)\n",
    "        for i in range(1, 12)\n",
    "    ]\n",
    "    \n",
    "    Rin_ = ds.sel(variable='Rin').data.reshape(1, -1)\n",
    "    Rli_ = ds.sel(variable='Rli').data.reshape(1, -1)\n",
    "    p_ = ds.sel(variable='p').data.reshape(1, -1)\n",
    "    Ta_ = ds.sel(variable='Ta').data.reshape(1, -1)\n",
    "    ea_ = ds.sel(variable='ea').data.reshape(1, -1)\n",
    "    u_ = ds.sel(variable='u').data.reshape(1, -1)\n",
    "    Precip_msr_ = ds.sel(variable='Precip_msr').data.reshape(1, -1)\n",
    "    LAI_ = ds.sel(variable='LAI').data.reshape(1, -1)\n",
    "    CO2_ = ds.sel(variable='CO2').data.reshape(1, -1)\n",
    "    SSM_ = ds.sel(variable='SSM').data.reshape(1, -1)\n",
    "\n",
    "\n",
    "    features_arr = np.concatenate((\n",
    "        Rin_, Rli_, p_, Ta_, ea_, u_,  CO2_,LAI_,Vcmo_,hc_,Precip_msr_,   SSM_,  *IGBP_\n",
    "    ))\n",
    "    features_arr = features_arr.transpose()\n",
    "    df_features = pd.DataFrame(\n",
    "        data=features_arr,\n",
    "        columns=INPUT_VARIABLES,\n",
    "    )\n",
    "    invalid_index = df_features.isnull().any(axis=1)\n",
    "    \n",
    "    # Convert the nan value as 0 for the calculation\n",
    "    df_features[invalid_index] = 0\n",
    "    \n",
    "    model = load_model(path_model)\n",
    "    LEH = model.predict(df_features)\n",
    "    LEH[invalid_index] = np.nan # convert the original nan values to nan back\n",
    "    \n",
    "    return xr.DataArray(\n",
    "        name='LEH',\n",
    "        data=LEH.reshape(len(ds.time), len(ds.latitude), len(ds.longitude), len(OUTPUT_VARIABLES)),\n",
    "        dims=(\"time\", \"latitude\", \"longitude\", \"output_variable\"),\n",
    "        coords={\n",
    "            \"output_variable\": OUTPUT_VARIABLES, \n",
    "            \"time\": ds.time, \n",
    "            \"latitude\": ds.latitude,\n",
    "            \"longitude\":ds.longitude\n",
    "        }\n",
    "    )"
   ]
  },
  {
   "cell_type": "code",
   "execution_count": 45,
   "id": "a12e1fc9-92a0-4eaa-adb2-48640c38a40b",
   "metadata": {
    "tags": []
   },
   "outputs": [],
   "source": [
    "# result\n",
    "LEH = xr.map_blocks(\n",
    "    predictFlux,\n",
    "    ds,\n",
    "    args=[hc, vcmax, landcover],\n",
    "    kwargs={\n",
    "        \"IGBP_table\": IGBP_table, \n",
    "        \"training_testing_append\": training_testing_append, \n",
    "        \"path_model\": MODEL_PATH,\n",
    "    },\n",
    "    template=template_LEH,\n",
    ")"
   ]
  },
  {
   "cell_type": "markdown",
   "id": "24d38429-5ff4-44fa-b243-d9146fa00f86",
   "metadata": {
    "tags": []
   },
   "source": [
    "## clip Europe area"
   ]
  },
  {
   "cell_type": "code",
   "execution_count": 35,
   "id": "bbb42108-28f7-417d-a20d-38a736d73a7f",
   "metadata": {
    "tags": []
   },
   "outputs": [],
   "source": [
    "# area between 0 and 68 in Europe\n",
    "clip_box0 = box(0, -90, bbox[3], 90)\n",
    "gdf0 = gdf.clip(clip_box0)"
   ]
  },
  {
   "cell_type": "code",
   "execution_count": 36,
   "id": "b34b15b3-43b1-4610-9832-0ffb1f163d28",
   "metadata": {
    "tags": []
   },
   "outputs": [
    {
     "data": {
      "text/plain": [
       "<Axes: >"
      ]
     },
     "execution_count": 36,
     "metadata": {},
     "output_type": "execute_result"
    },
    {
     "data": {
      "image/png": "[encoded data removed]",
      "text/plain": [
       "<Figure size 640x480 with 1 Axes>"
      ]
     },
     "metadata": {},
     "output_type": "display_data"
    }
   ],
   "source": [
    "gdf0.plot()"
   ]
  },
  {
   "cell_type": "code",
   "execution_count": 37,
   "id": "3444d4d4-71a7-4ef2-ad47-00507029c389",
   "metadata": {
    "tags": []
   },
   "outputs": [],
   "source": [
    "# convert [-180, 180] to [0, 360] for the Boundary\n",
    "gdf['geometry'] = gdf['geometry'].map(lambda polygon: translate(polygon, xoff=360) if polygon.bounds[0] < 0 else polygon)\n",
    "# area between 330 and 360\n",
    "clip_box360 = box(360+bbox[0], -90, 360, 90)\n",
    "gdf360 = gdf.clip(clip_box360)"
   ]
  },
  {
   "cell_type": "code",
   "execution_count": 47,
   "id": "72f59c5e-f346-4575-bd51-7adcaa6bfbf9",
   "metadata": {
    "tags": []
   },
   "outputs": [],
   "source": [
    "# clip result to Europe area [0,68]\n",
    "LEH = LEH.rio.write_crs(\"EPSG:4326\", inplace=True).rio.clip(gdf0.geometry.apply(mapping), gdf0.crs,drop=True)"
   ]
  },
  {
   "cell_type": "markdown",
   "id": "6e869007-e31d-424e-93c5-b0d873e998a9",
   "metadata": {},
   "source": [
    "## export"
   ]
  },
  {
   "cell_type": "code",
   "execution_count": 52,
   "id": "c510e3b2-2e66-4b3f-af11-afa8098eff18",
   "metadata": {
    "tags": []
   },
   "outputs": [],
   "source": [
    "LEH = LEH.chunk({\"latitude\":200, \"longitude\":200}) # chunk again, because the first number of chunk can not be the small one"
   ]
  },
  {
   "cell_type": "code",
   "execution_count": 53,
   "id": "0d6f4046-f850-4aa8-9283-435db44c80d9",
   "metadata": {
    "tags": []
   },
   "outputs": [],
   "source": [
    "LEH_ds = LEH.to_dataset(dim=\"output_variable\") "
   ]
  },
  {
   "cell_type": "code",
   "execution_count": 54,
   "id": "f4233d7b-6e74-486e-8007-cc941c55f0fb",
   "metadata": {
    "tags": []
   },
   "outputs": [
    {
     "data": {
      "text/plain": [
       "'/gpfs/work2/0/ttse0619/qianqian/global_data_Qianqian/1input_data/2014EmulatorShowcaseSarah/Europe0_fluxes_RFSS_2014_v1.1.zarr'"
      ]
     },
     "execution_count": 54,
     "metadata": {},
     "output_type": "execute_result"
    }
   ],
   "source": [
    "LEH_PATH"
   ]
  },
  {
   "cell_type": "code",
   "execution_count": 55,
   "id": "68d08903-5a99-428b-abaf-2f9e379556b8",
   "metadata": {
    "tags": []
   },
   "outputs": [
    {
     "name": "stdout",
     "output_type": "stream",
     "text": [
      "CPU times: user 9.83 s, sys: 518 ms, total: 10.4 s\n",
      "Wall time: 54.5 s\n"
     ]
    },
    {
     "data": {
      "text/plain": [
       "<xarray.backends.zarr.ZarrStore at 0x1469da569120>"
      ]
     },
     "execution_count": 55,
     "metadata": {},
     "output_type": "execute_result"
    }
   ],
   "source": [
    "%%time\n",
    "LEH_ds.to_zarr(LEH_PATH, mode='w')"
   ]
  },
  {
   "cell_type": "markdown",
   "id": "c6c27b67-5a9e-4b7a-ab3c-1b529c243b1a",
   "metadata": {},
   "source": [
    "Release resources of the Dask cluster:"
   ]
  },
  {
   "cell_type": "code",
   "execution_count": 56,
   "id": "85cf8755-5208-4695-91fe-bf689caf50c4",
   "metadata": {
    "tags": []
   },
   "outputs": [],
   "source": [
    "client.shutdown()"
   ]
  },
  {
   "cell_type": "markdown",
   "id": "251c68ef-d2b1-435a-83a3-b64a8871bea6",
   "metadata": {},
   "source": [
    "Verify the output is written:"
   ]
  },
  {
   "cell_type": "code",
   "execution_count": 98,
   "id": "a0e9807b-b0b8-478e-b61b-dc87e29b46e4",
   "metadata": {
    "tags": []
   },
   "outputs": [
    {
     "name": "stdout",
     "output_type": "stream",
     "text": [
      "226M\t/gpfs/work2/0/ttse0619/qianqian/global_data_Qianqian/1input_data/2014EmulatorShowcaseSarah/Europe0_fluxes_RFSS_2014_v1.1.zarr/Htot\n",
      "2.0K\t/gpfs/work2/0/ttse0619/qianqian/global_data_Qianqian/1input_data/2014EmulatorShowcaseSarah/Europe0_fluxes_RFSS_2014_v1.1.zarr/spatial_ref\n",
      "2.0K\t/gpfs/work2/0/ttse0619/qianqian/global_data_Qianqian/1input_data/2014EmulatorShowcaseSarah/Europe0_fluxes_RFSS_2014_v1.1.zarr/longitude\n",
      "2.0K\t/gpfs/work2/0/ttse0619/qianqian/global_data_Qianqian/1input_data/2014EmulatorShowcaseSarah/Europe0_fluxes_RFSS_2014_v1.1.zarr/latitude\n",
      "226M\t/gpfs/work2/0/ttse0619/qianqian/global_data_Qianqian/1input_data/2014EmulatorShowcaseSarah/Europe0_fluxes_RFSS_2014_v1.1.zarr/Gtot\n",
      "99M\t/gpfs/work2/0/ttse0619/qianqian/global_data_Qianqian/1input_data/2014EmulatorShowcaseSarah/Europe0_fluxes_RFSS_2014_v1.1.zarr/SIF685\n",
      "2.0K\t/gpfs/work2/0/ttse0619/qianqian/global_data_Qianqian/1input_data/2014EmulatorShowcaseSarah/Europe0_fluxes_RFSS_2014_v1.1.zarr/time\n",
      "101M\t/gpfs/work2/0/ttse0619/qianqian/global_data_Qianqian/1input_data/2014EmulatorShowcaseSarah/Europe0_fluxes_RFSS_2014_v1.1.zarr/Actot\n",
      "219M\t/gpfs/work2/0/ttse0619/qianqian/global_data_Qianqian/1input_data/2014EmulatorShowcaseSarah/Europe0_fluxes_RFSS_2014_v1.1.zarr/LEtot\n",
      "220M\t/gpfs/work2/0/ttse0619/qianqian/global_data_Qianqian/1input_data/2014EmulatorShowcaseSarah/Europe0_fluxes_RFSS_2014_v1.1.zarr/Rntot\n",
      "100M\t/gpfs/work2/0/ttse0619/qianqian/global_data_Qianqian/1input_data/2014EmulatorShowcaseSarah/Europe0_fluxes_RFSS_2014_v1.1.zarr/SIF740\n",
      "1.2G\t/gpfs/work2/0/ttse0619/qianqian/global_data_Qianqian/1input_data/2014EmulatorShowcaseSarah/Europe0_fluxes_RFSS_2014_v1.1.zarr\n"
     ]
    }
   ],
   "source": [
    "! du -h $LEH_PATH"
   ]
  },
  {
   "cell_type": "markdown",
   "id": "09f1731e-78c2-42cc-961e-cb778af5960c",
   "metadata": {
    "tags": []
   },
   "source": [
    "## read the exported ouput and plot it"
   ]
  },
  {
   "cell_type": "code",
   "execution_count": 89,
   "id": "893865ab-41ce-4952-96af-16cfb5c3665b",
   "metadata": {
    "tags": []
   },
   "outputs": [],
   "source": [
    "LEH2014 = xr.open_zarr(LEH_PATH)"
   ]
  },
  {
   "cell_type": "code",
   "execution_count": 90,
   "id": "5e5a6047-8f72-4de5-9329-e5edaa0a4814",
   "metadata": {
    "tags": []
   },
   "outputs": [
    {
     "data": {
      "text/html": [
       "<div><svg style=\"position: absolute; width: 0; height: 0; overflow: hidden\">\n",
       "<defs>\n",
       "<symbol id=\"icon-database\" viewBox=\"0 0 32 32\">\n",
       "<path d=\"M16 0c-8.837 0-16 2.239-16 5v4c0 2.761 7.163 5 16 5s16-2.239 16-5v-4c0-2.761-7.163-5-16-5z\"></path>\n",
       "<path d=\"M16 17c-8.837 0-16-2.239-16-5v6c0 2.761 7.163 5 16 5s16-2.239 16-5v-6c0 2.761-7.163 5-16 5z\"></path>\n",
       "<path d=\"M16 26c-8.837 0-16-2.239-16-5v6c0 2.761 7.163 5 16 5s16-2.239 16-5v-6c0 2.761-7.163 5-16 5z\"></path>\n",
       "</symbol>\n",
       "<symbol id=\"icon-file-text2\" viewBox=\"0 0 32 32\">\n",
       "<path d=\"M28.681 7.159c-0.694-0.947-1.662-2.053-2.724-3.116s-2.169-2.030-3.116-2.724c-1.612-1.182-2.393-1.319-2.841-1.319h-15.5c-1.378 0-2.5 1.121-2.5 2.5v27c0 1.378 1.122 2.5 2.5 2.5h23c1.378 0 2.5-1.122 2.5-2.5v-19.5c0-0.448-0.137-1.23-1.319-2.841zM24.543 5.457c0.959 0.959 1.712 1.825 2.268 2.543h-4.811v-4.811c0.718 0.556 1.584 1.309 2.543 2.268zM28 29.5c0 0.271-0.229 0.5-0.5 0.5h-23c-0.271 0-0.5-0.229-0.5-0.5v-27c0-0.271 0.229-0.5 0.5-0.5 0 0 15.499-0 15.5 0v7c0 0.552 0.448 1 1 1h7v19.5z\"></path>\n",
       "<path d=\"M23 26h-14c-0.552 0-1-0.448-1-1s0.448-1 1-1h14c0.552 0 1 0.448 1 1s-0.448 1-1 1z\"></path>\n",
       "<path d=\"M23 22h-14c-0.552 0-1-0.448-1-1s0.448-1 1-1h14c0.552 0 1 0.448 1 1s-0.448 1-1 1z\"></path>\n",
       "<path d=\"M23 18h-14c-0.552 0-1-0.448-1-1s0.448-1 1-1h14c0.552 0 1 0.448 1 1s-0.448 1-1 1z\"></path>\n",
       "</symbol>\n",
       "</defs>\n",
       "</svg>\n",
       "<style>/* CSS stylesheet for displaying xarray objects in jupyterlab.\n",
       " *\n",
       " */\n",
       "\n",
       ":root {\n",
       "  --xr-font-color0: var(--jp-content-font-color0, rgba(0, 0, 0, 1));\n",
       "  --xr-font-color2: var(--jp-content-font-color2, rgba(0, 0, 0, 0.54));\n",
       "  --xr-font-color3: var(--jp-content-font-color3, rgba(0, 0, 0, 0.38));\n",
       "  --xr-border-color: var(--jp-border-color2, #e0e0e0);\n",
       "  --xr-disabled-color: var(--jp-layout-color3, #bdbdbd);\n",
       "  --xr-background-color: var(--jp-layout-color0, white);\n",
       "  --xr-background-color-row-even: var(--jp-layout-color1, white);\n",
       "  --xr-background-color-row-odd: var(--jp-layout-color2, #eeeeee);\n",
       "}\n",
       "\n",
       "html[theme=dark],\n",
       "body[data-theme=dark],\n",
       "body.vscode-dark {\n",
       "  --xr-font-color0: rgba(255, 255, 255, 1);\n",
       "  --xr-font-color2: rgba(255, 255, 255, 0.54);\n",
       "  --xr-font-color3: rgba(255, 255, 255, 0.38);\n",
       "  --xr-border-color: #1F1F1F;\n",
       "  --xr-disabled-color: #515151;\n",
       "  --xr-background-color: #111111;\n",
       "  --xr-background-color-row-even: #111111;\n",
       "  --xr-background-color-row-odd: #313131;\n",
       "}\n",
       "\n",
       ".xr-wrap {\n",
       "  display: block !important;\n",
       "  min-width: 300px;\n",
       "  max-width: 700px;\n",
       "}\n",
       "\n",
       ".xr-text-repr-fallback {\n",
       "  /* fallback to plain text repr when CSS is not injected (untrusted notebook) */\n",
       "  display: none;\n",
       "}\n",
       "\n",
       ".xr-header {\n",
       "  padding-top: 6px;\n",
       "  padding-bottom: 6px;\n",
       "  margin-bottom: 4px;\n",
       "  border-bottom: solid 1px var(--xr-border-color);\n",
       "}\n",
       "\n",
       ".xr-header > div,\n",
       ".xr-header > ul {\n",
       "  display: inline;\n",
       "  margin-top: 0;\n",
       "  margin-bottom: 0;\n",
       "}\n",
       "\n",
       ".xr-obj-type,\n",
       ".xr-array-name {\n",
       "  margin-left: 2px;\n",
       "  margin-right: 10px;\n",
       "}\n",
       "\n",
       ".xr-obj-type {\n",
       "  color: var(--xr-font-color2);\n",
       "}\n",
       "\n",
       ".xr-sections {\n",
       "  padding-left: 0 !important;\n",
       "  display: grid;\n",
       "  grid-template-columns: 150px auto auto 1fr 20px 20px;\n",
       "}\n",
       "\n",
       ".xr-section-item {\n",
       "  display: contents;\n",
       "}\n",
       "\n",
       ".xr-section-item input {\n",
       "  display: none;\n",
       "}\n",
       "\n",
       ".xr-section-item input + label {\n",
       "  color: var(--xr-disabled-color);\n",
       "}\n",
       "\n",
       ".xr-section-item input:enabled + label {\n",
       "  cursor: pointer;\n",
       "  color: var(--xr-font-color2);\n",
       "}\n",
       "\n",
       ".xr-section-item input:enabled + label:hover {\n",
       "  color: var(--xr-font-color0);\n",
       "}\n",
       "\n",
       ".xr-section-summary {\n",
       "  grid-column: 1;\n",
       "  color: var(--xr-font-color2);\n",
       "  font-weight: 500;\n",
       "}\n",
       "\n",
       ".xr-section-summary > span {\n",
       "  display: inline-block;\n",
       "  padding-left: 0.5em;\n",
       "}\n",
       "\n",
       ".xr-section-summary-in:disabled + label {\n",
       "  color: var(--xr-font-color2);\n",
       "}\n",
       "\n",
       ".xr-section-summary-in + label:before {\n",
       "  display: inline-block;\n",
       "  content: '►';\n",
       "  font-size: 11px;\n",
       "  width: 15px;\n",
       "  text-align: center;\n",
       "}\n",
       "\n",
       ".xr-section-summary-in:disabled + label:before {\n",
       "  color: var(--xr-disabled-color);\n",
       "}\n",
       "\n",
       ".xr-section-summary-in:checked + label:before {\n",
       "  content: '▼';\n",
       "}\n",
       "\n",
       ".xr-section-summary-in:checked + label > span {\n",
       "  display: none;\n",
       "}\n",
       "\n",
       ".xr-section-summary,\n",
       ".xr-section-inline-details {\n",
       "  padding-top: 4px;\n",
       "  padding-bottom: 4px;\n",
       "}\n",
       "\n",
       ".xr-section-inline-details {\n",
       "  grid-column: 2 / -1;\n",
       "}\n",
       "\n",
       ".xr-section-details {\n",
       "  display: none;\n",
       "  grid-column: 1 / -1;\n",
       "  margin-bottom: 5px;\n",
       "}\n",
       "\n",
       ".xr-section-summary-in:checked ~ .xr-section-details {\n",
       "  display: contents;\n",
       "}\n",
       "\n",
       ".xr-array-wrap {\n",
       "  grid-column: 1 / -1;\n",
       "  display: grid;\n",
       "  grid-template-columns: 20px auto;\n",
       "}\n",
       "\n",
       ".xr-array-wrap > label {\n",
       "  grid-column: 1;\n",
       "  vertical-align: top;\n",
       "}\n",
       "\n",
       ".xr-preview {\n",
       "  color: var(--xr-font-color3);\n",
       "}\n",
       "\n",
       ".xr-array-preview,\n",
       ".xr-array-data {\n",
       "  padding: 0 5px !important;\n",
       "  grid-column: 2;\n",
       "}\n",
       "\n",
       ".xr-array-data,\n",
       ".xr-array-in:checked ~ .xr-array-preview {\n",
       "  display: none;\n",
       "}\n",
       "\n",
       ".xr-array-in:checked ~ .xr-array-data,\n",
       ".xr-array-preview {\n",
       "  display: inline-block;\n",
       "}\n",
       "\n",
       ".xr-dim-list {\n",
       "  display: inline-block !important;\n",
       "  list-style: none;\n",
       "  padding: 0 !important;\n",
       "  margin: 0;\n",
       "}\n",
       "\n",
       ".xr-dim-list li {\n",
       "  display: inline-block;\n",
       "  padding: 0;\n",
       "  margin: 0;\n",
       "}\n",
       "\n",
       ".xr-dim-list:before {\n",
       "  content: '(';\n",
       "}\n",
       "\n",
       ".xr-dim-list:after {\n",
       "  content: ')';\n",
       "}\n",
       "\n",
       ".xr-dim-list li:not(:last-child):after {\n",
       "  content: ',';\n",
       "  padding-right: 5px;\n",
       "}\n",
       "\n",
       ".xr-has-index {\n",
       "  font-weight: bold;\n",
       "}\n",
       "\n",
       ".xr-var-list,\n",
       ".xr-var-item {\n",
       "  display: contents;\n",
       "}\n",
       "\n",
       ".xr-var-item > div,\n",
       ".xr-var-item label,\n",
       ".xr-var-item > .xr-var-name span {\n",
       "  background-color: var(--xr-background-color-row-even);\n",
       "  margin-bottom: 0;\n",
       "}\n",
       "\n",
       ".xr-var-item > .xr-var-name:hover span {\n",
       "  padding-right: 5px;\n",
       "}\n",
       "\n",
       ".xr-var-list > li:nth-child(odd) > div,\n",
       ".xr-var-list > li:nth-child(odd) > label,\n",
       ".xr-var-list > li:nth-child(odd) > .xr-var-name span {\n",
       "  background-color: var(--xr-background-color-row-odd);\n",
       "}\n",
       "\n",
       ".xr-var-name {\n",
       "  grid-column: 1;\n",
       "}\n",
       "\n",
       ".xr-var-dims {\n",
       "  grid-column: 2;\n",
       "}\n",
       "\n",
       ".xr-var-dtype {\n",
       "  grid-column: 3;\n",
       "  text-align: right;\n",
       "  color: var(--xr-font-color2);\n",
       "}\n",
       "\n",
       ".xr-var-preview {\n",
       "  grid-column: 4;\n",
       "}\n",
       "\n",
       ".xr-var-name,\n",
       ".xr-var-dims,\n",
       ".xr-var-dtype,\n",
       ".xr-preview,\n",
       ".xr-attrs dt {\n",
       "  white-space: nowrap;\n",
       "  overflow: hidden;\n",
       "  text-overflow: ellipsis;\n",
       "  padding-right: 10px;\n",
       "}\n",
       "\n",
       ".xr-var-name:hover,\n",
       ".xr-var-dims:hover,\n",
       ".xr-var-dtype:hover,\n",
       ".xr-attrs dt:hover {\n",
       "  overflow: visible;\n",
       "  width: auto;\n",
       "  z-index: 1;\n",
       "}\n",
       "\n",
       ".xr-var-attrs,\n",
       ".xr-var-data {\n",
       "  display: none;\n",
       "  background-color: var(--xr-background-color) !important;\n",
       "  padding-bottom: 5px !important;\n",
       "}\n",
       "\n",
       ".xr-var-attrs-in:checked ~ .xr-var-attrs,\n",
       ".xr-var-data-in:checked ~ .xr-var-data {\n",
       "  display: block;\n",
       "}\n",
       "\n",
       ".xr-var-data > table {\n",
       "  float: right;\n",
       "}\n",
       "\n",
       ".xr-var-name span,\n",
       ".xr-var-data,\n",
       ".xr-attrs {\n",
       "  padding-left: 25px !important;\n",
       "}\n",
       "\n",
       ".xr-attrs,\n",
       ".xr-var-attrs,\n",
       ".xr-var-data {\n",
       "  grid-column: 1 / -1;\n",
       "}\n",
       "\n",
       "dl.xr-attrs {\n",
       "  padding: 0;\n",
       "  margin: 0;\n",
       "  display: grid;\n",
       "  grid-template-columns: 125px auto;\n",
       "}\n",
       "\n",
       ".xr-attrs dt,\n",
       ".xr-attrs dd {\n",
       "  padding: 0;\n",
       "  margin: 0;\n",
       "  float: left;\n",
       "  padding-right: 10px;\n",
       "  width: auto;\n",
       "}\n",
       "\n",
       ".xr-attrs dt {\n",
       "  font-weight: normal;\n",
       "  grid-column: 1;\n",
       "}\n",
       "\n",
       ".xr-attrs dt:hover span {\n",
       "  display: inline-block;\n",
       "  background: var(--xr-background-color);\n",
       "  padding-right: 10px;\n",
       "}\n",
       "\n",
       ".xr-attrs dd {\n",
       "  grid-column: 2;\n",
       "  white-space: pre-wrap;\n",
       "  word-break: break-all;\n",
       "}\n",
       "\n",
       ".xr-icon-database,\n",
       ".xr-icon-file-text2 {\n",
       "  display: inline-block;\n",
       "  vertical-align: middle;\n",
       "  width: 1em;\n",
       "  height: 1.5em !important;\n",
       "  stroke-width: 0;\n",
       "  stroke: currentColor;\n",
       "  fill: currentColor;\n",
       "}\n",
       "</style><pre class='xr-text-repr-fallback'>&lt;xarray.Dataset&gt;\n",
       "Dimensions:      (time: 264, latitude: 469, longitude: 688)\n",
       "Coordinates:\n",
       "  * latitude     (latitude) float64 81.8 81.7 81.6 81.5 ... 35.3 35.2 35.1 35.0\n",
       "  * longitude    (longitude) float64 0.1 0.2 0.3 0.4 0.5 ... 68.5 68.6 68.7 68.8\n",
       "  * time         (time) datetime64[ns] 2014-01-31 ... 2014-02-10T23:00:00\n",
       "Data variables:\n",
       "    Actot        (time, latitude, longitude) float64 dask.array&lt;chunksize=(125, 200, 200), meta=np.ndarray&gt;\n",
       "    Gtot         (time, latitude, longitude) float64 dask.array&lt;chunksize=(125, 200, 200), meta=np.ndarray&gt;\n",
       "    Htot         (time, latitude, longitude) float64 dask.array&lt;chunksize=(125, 200, 200), meta=np.ndarray&gt;\n",
       "    LEtot        (time, latitude, longitude) float64 dask.array&lt;chunksize=(125, 200, 200), meta=np.ndarray&gt;\n",
       "    Rntot        (time, latitude, longitude) float64 dask.array&lt;chunksize=(125, 200, 200), meta=np.ndarray&gt;\n",
       "    SIF685       (time, latitude, longitude) float64 dask.array&lt;chunksize=(125, 200, 200), meta=np.ndarray&gt;\n",
       "    SIF740       (time, latitude, longitude) float64 dask.array&lt;chunksize=(125, 200, 200), meta=np.ndarray&gt;\n",
       "    spatial_ref  int64 ...</pre><div class='xr-wrap' style='display:none'><div class='xr-header'><div class='xr-obj-type'>xarray.Dataset</div></div><ul class='xr-sections'><li class='xr-section-item'><input id='section-6de2f4e1-0fba-47b7-9681-50002a0d9582' class='xr-section-summary-in' type='checkbox' disabled ><label for='section-6de2f4e1-0fba-47b7-9681-50002a0d9582' class='xr-section-summary'  title='Expand/collapse section'>Dimensions:</label><div class='xr-section-inline-details'><ul class='xr-dim-list'><li><span class='xr-has-index'>time</span>: 264</li><li><span class='xr-has-index'>latitude</span>: 469</li><li><span class='xr-has-index'>longitude</span>: 688</li></ul></div><div class='xr-section-details'></div></li><li class='xr-section-item'><input id='section-659e9164-4d0f-4de8-a5a1-a2cec9bcf0ff' class='xr-section-summary-in' type='checkbox'  checked><label for='section-659e9164-4d0f-4de8-a5a1-a2cec9bcf0ff' class='xr-section-summary' >Coordinates: <span>(3)</span></label><div class='xr-section-inline-details'></div><div class='xr-section-details'><ul class='xr-var-list'><li class='xr-var-item'><div class='xr-var-name'><span class='xr-has-index'>latitude</span></div><div class='xr-var-dims'>(latitude)</div><div class='xr-var-dtype'>float64</div><div class='xr-var-preview xr-preview'>81.8 81.7 81.6 ... 35.2 35.1 35.0</div><input id='attrs-d0031ead-5a74-4405-b975-20b567b4226c' class='xr-var-attrs-in' type='checkbox' ><label for='attrs-d0031ead-5a74-4405-b975-20b567b4226c' title='Show/Hide attributes'><svg class='icon xr-icon-file-text2'><use xlink:href='#icon-file-text2'></use></svg></label><input id='data-e19d991e-7e2f-4ba7-8d89-97f7f6908b66' class='xr-var-data-in' type='checkbox'><label for='data-e19d991e-7e2f-4ba7-8d89-97f7f6908b66' title='Show/Hide data repr'><svg class='icon xr-icon-database'><use xlink:href='#icon-database'></use></svg></label><div class='xr-var-attrs'><dl class='xr-attrs'><dt><span>axis :</span></dt><dd>Y</dd><dt><span>long_name :</span></dt><dd>latitude</dd><dt><span>standard_name :</span></dt><dd>latitude</dd><dt><span>units :</span></dt><dd>degrees_north</dd></dl></div><div class='xr-var-data'><pre>array([81.800003, 81.699997, 81.599998, ..., 35.200001, 35.099998, 35.      ])</pre></div></li><li class='xr-var-item'><div class='xr-var-name'><span class='xr-has-index'>longitude</span></div><div class='xr-var-dims'>(longitude)</div><div class='xr-var-dtype'>float64</div><div class='xr-var-preview xr-preview'>0.1 0.2 0.3 0.4 ... 68.6 68.7 68.8</div><input id='attrs-14c7b273-67b9-4f3e-83e7-466af6f9f4a0' class='xr-var-attrs-in' type='checkbox' ><label for='attrs-14c7b273-67b9-4f3e-83e7-466af6f9f4a0' title='Show/Hide attributes'><svg class='icon xr-icon-file-text2'><use xlink:href='#icon-file-text2'></use></svg></label><input id='data-7c595c43-a166-4384-8716-c4c0dff08440' class='xr-var-data-in' type='checkbox'><label for='data-7c595c43-a166-4384-8716-c4c0dff08440' title='Show/Hide data repr'><svg class='icon xr-icon-database'><use xlink:href='#icon-database'></use></svg></label><div class='xr-var-attrs'><dl class='xr-attrs'><dt><span>axis :</span></dt><dd>X</dd><dt><span>long_name :</span></dt><dd>longitude</dd><dt><span>standard_name :</span></dt><dd>longitude</dd><dt><span>units :</span></dt><dd>degrees_east</dd></dl></div><div class='xr-var-data'><pre>array([ 0.1     ,  0.2     ,  0.3     , ..., 68.599998, 68.699997, 68.800003])</pre></div></li><li class='xr-var-item'><div class='xr-var-name'><span class='xr-has-index'>time</span></div><div class='xr-var-dims'>(time)</div><div class='xr-var-dtype'>datetime64[ns]</div><div class='xr-var-preview xr-preview'>2014-01-31 ... 2014-02-10T23:00:00</div><input id='attrs-69341363-c8c3-457a-937d-1df264ecc6b7' class='xr-var-attrs-in' type='checkbox' ><label for='attrs-69341363-c8c3-457a-937d-1df264ecc6b7' title='Show/Hide attributes'><svg class='icon xr-icon-file-text2'><use xlink:href='#icon-file-text2'></use></svg></label><input id='data-24e62579-e980-4708-a14b-0177aadf07ee' class='xr-var-data-in' type='checkbox'><label for='data-24e62579-e980-4708-a14b-0177aadf07ee' title='Show/Hide data repr'><svg class='icon xr-icon-database'><use xlink:href='#icon-database'></use></svg></label><div class='xr-var-attrs'><dl class='xr-attrs'><dt><span>long_name :</span></dt><dd>time</dd></dl></div><div class='xr-var-data'><pre>array([&#x27;2014-01-31T00:00:00.000000000&#x27;, &#x27;2014-01-31T01:00:00.000000000&#x27;,\n",
       "       &#x27;2014-01-31T02:00:00.000000000&#x27;, ..., &#x27;2014-02-10T21:00:00.000000000&#x27;,\n",
       "       &#x27;2014-02-10T22:00:00.000000000&#x27;, &#x27;2014-02-10T23:00:00.000000000&#x27;],\n",
       "      dtype=&#x27;datetime64[ns]&#x27;)</pre></div></li></ul></div></li><li class='xr-section-item'><input id='section-2faf4276-f950-41ac-a53f-21a4d2aac562' class='xr-section-summary-in' type='checkbox'  checked><label for='section-2faf4276-f950-41ac-a53f-21a4d2aac562' class='xr-section-summary' >Data variables: <span>(8)</span></label><div class='xr-section-inline-details'></div><div class='xr-section-details'><ul class='xr-var-list'><li class='xr-var-item'><div class='xr-var-name'><span>Actot</span></div><div class='xr-var-dims'>(time, latitude, longitude)</div><div class='xr-var-dtype'>float64</div><div class='xr-var-preview xr-preview'>dask.array&lt;chunksize=(125, 200, 200), meta=np.ndarray&gt;</div><input id='attrs-b5bb1a97-e517-4244-9fb9-24dec6881e5c' class='xr-var-attrs-in' type='checkbox' ><label for='attrs-b5bb1a97-e517-4244-9fb9-24dec6881e5c' title='Show/Hide attributes'><svg class='icon xr-icon-file-text2'><use xlink:href='#icon-file-text2'></use></svg></label><input id='data-57987bfd-cdb1-4a7b-95dd-df9ef38f7b01' class='xr-var-data-in' type='checkbox'><label for='data-57987bfd-cdb1-4a7b-95dd-df9ef38f7b01' title='Show/Hide data repr'><svg class='icon xr-icon-database'><use xlink:href='#icon-database'></use></svg></label><div class='xr-var-attrs'><dl class='xr-attrs'><dt><span>grid_mapping :</span></dt><dd>spatial_ref</dd></dl></div><div class='xr-var-data'><table>\n",
       "    <tr>\n",
       "        <td>\n",
       "            <table style=\"border-collapse: collapse;\">\n",
       "                <thead>\n",
       "                    <tr>\n",
       "                        <td> </td>\n",
       "                        <th> Array </th>\n",
       "                        <th> Chunk </th>\n",
       "                    </tr>\n",
       "                </thead>\n",
       "                <tbody>\n",
       "                    \n",
       "                    <tr>\n",
       "                        <th> Bytes </th>\n",
       "                        <td> 649.91 MiB </td>\n",
       "                        <td> 38.15 MiB </td>\n",
       "                    </tr>\n",
       "                    \n",
       "                    <tr>\n",
       "                        <th> Shape </th>\n",
       "                        <td> (264, 469, 688) </td>\n",
       "                        <td> (125, 200, 200) </td>\n",
       "                    </tr>\n",
       "                    <tr>\n",
       "                        <th> Dask graph </th>\n",
       "                        <td colspan=\"2\"> 36 chunks in 2 graph layers </td>\n",
       "                    </tr>\n",
       "                    <tr>\n",
       "                        <th> Data type </th>\n",
       "                        <td colspan=\"2\"> float64 numpy.ndarray </td>\n",
       "                    </tr>\n",
       "                </tbody>\n",
       "            </table>\n",
       "        </td>\n",
       "        <td>\n",
       "        <svg width=\"207\" height=\"158\" style=\"stroke:rgb(0,0,0);stroke-width:1\" >\n",
       "\n",
       "  <!-- Horizontal lines -->\n",
       "  <line x1=\"10\" y1=\"0\" x2=\"37\" y2=\"27\" style=\"stroke-width:2\" />\n",
       "  <line x1=\"10\" y1=\"34\" x2=\"37\" y2=\"61\" />\n",
       "  <line x1=\"10\" y1=\"69\" x2=\"37\" y2=\"96\" />\n",
       "  <line x1=\"10\" y1=\"81\" x2=\"37\" y2=\"108\" style=\"stroke-width:2\" />\n",
       "\n",
       "  <!-- Vertical lines -->\n",
       "  <line x1=\"10\" y1=\"0\" x2=\"10\" y2=\"81\" style=\"stroke-width:2\" />\n",
       "  <line x1=\"22\" y1=\"12\" x2=\"22\" y2=\"94\" />\n",
       "  <line x1=\"35\" y1=\"25\" x2=\"35\" y2=\"107\" />\n",
       "  <line x1=\"37\" y1=\"27\" x2=\"37\" y2=\"108\" style=\"stroke-width:2\" />\n",
       "\n",
       "  <!-- Colored Rectangle -->\n",
       "  <polygon points=\"10.0,0.0 37.086183310533514,27.086183310533517 37.086183310533514,108.88850889192885 10.0,81.80232558139534\" style=\"fill:#ECB172A0;stroke-width:0\"/>\n",
       "\n",
       "  <!-- Horizontal lines -->\n",
       "  <line x1=\"10\" y1=\"0\" x2=\"130\" y2=\"0\" style=\"stroke-width:2\" />\n",
       "  <line x1=\"22\" y1=\"12\" x2=\"142\" y2=\"12\" />\n",
       "  <line x1=\"35\" y1=\"25\" x2=\"155\" y2=\"25\" />\n",
       "  <line x1=\"37\" y1=\"27\" x2=\"157\" y2=\"27\" style=\"stroke-width:2\" />\n",
       "\n",
       "  <!-- Vertical lines -->\n",
       "  <line x1=\"10\" y1=\"0\" x2=\"37\" y2=\"27\" style=\"stroke-width:2\" />\n",
       "  <line x1=\"44\" y1=\"0\" x2=\"71\" y2=\"27\" />\n",
       "  <line x1=\"79\" y1=\"0\" x2=\"106\" y2=\"27\" />\n",
       "  <line x1=\"114\" y1=\"0\" x2=\"141\" y2=\"27\" />\n",
       "  <line x1=\"130\" y1=\"0\" x2=\"157\" y2=\"27\" style=\"stroke-width:2\" />\n",
       "\n",
       "  <!-- Colored Rectangle -->\n",
       "  <polygon points=\"10.0,0.0 130.0,0.0 157.08618331053353,27.086183310533517 37.086183310533514,27.086183310533517\" style=\"fill:#ECB172A0;stroke-width:0\"/>\n",
       "\n",
       "  <!-- Horizontal lines -->\n",
       "  <line x1=\"37\" y1=\"27\" x2=\"157\" y2=\"27\" style=\"stroke-width:2\" />\n",
       "  <line x1=\"37\" y1=\"61\" x2=\"157\" y2=\"61\" />\n",
       "  <line x1=\"37\" y1=\"96\" x2=\"157\" y2=\"96\" />\n",
       "  <line x1=\"37\" y1=\"108\" x2=\"157\" y2=\"108\" style=\"stroke-width:2\" />\n",
       "\n",
       "  <!-- Vertical lines -->\n",
       "  <line x1=\"37\" y1=\"27\" x2=\"37\" y2=\"108\" style=\"stroke-width:2\" />\n",
       "  <line x1=\"71\" y1=\"27\" x2=\"71\" y2=\"108\" />\n",
       "  <line x1=\"106\" y1=\"27\" x2=\"106\" y2=\"108\" />\n",
       "  <line x1=\"141\" y1=\"27\" x2=\"141\" y2=\"108\" />\n",
       "  <line x1=\"157\" y1=\"27\" x2=\"157\" y2=\"108\" style=\"stroke-width:2\" />\n",
       "\n",
       "  <!-- Colored Rectangle -->\n",
       "  <polygon points=\"37.086183310533514,27.086183310533517 157.0861833105335,27.086183310533517 157.0861833105335,108.88850889192885 37.086183310533514,108.88850889192885\" style=\"fill:#ECB172A0;stroke-width:0\"/>\n",
       "\n",
       "  <!-- Text -->\n",
       "  <text x=\"97.086183\" y=\"128.888509\" font-size=\"1.0rem\" font-weight=\"100\" text-anchor=\"middle\" >688</text>\n",
       "  <text x=\"177.086183\" y=\"67.987346\" font-size=\"1.0rem\" font-weight=\"100\" text-anchor=\"middle\" transform=\"rotate(-90,177.086183,67.987346)\">469</text>\n",
       "  <text x=\"13.543092\" y=\"115.345417\" font-size=\"1.0rem\" font-weight=\"100\" text-anchor=\"middle\" transform=\"rotate(45,13.543092,115.345417)\">264</text>\n",
       "</svg>\n",
       "        </td>\n",
       "    </tr>\n",
       "</table></div></li><li class='xr-var-item'><div class='xr-var-name'><span>Gtot</span></div><div class='xr-var-dims'>(time, latitude, longitude)</div><div class='xr-var-dtype'>float64</div><div class='xr-var-preview xr-preview'>dask.array&lt;chunksize=(125, 200, 200), meta=np.ndarray&gt;</div><input id='attrs-5e43ccc8-42ed-41dd-b303-2ccfe9cddaf7' class='xr-var-attrs-in' type='checkbox' ><label for='attrs-5e43ccc8-42ed-41dd-b303-2ccfe9cddaf7' title='Show/Hide attributes'><svg class='icon xr-icon-file-text2'><use xlink:href='#icon-file-text2'></use></svg></label><input id='data-b67f4126-85f5-4c11-8964-980c5b1d94e4' class='xr-var-data-in' type='checkbox'><label for='data-b67f4126-85f5-4c11-8964-980c5b1d94e4' title='Show/Hide data repr'><svg class='icon xr-icon-database'><use xlink:href='#icon-database'></use></svg></label><div class='xr-var-attrs'><dl class='xr-attrs'><dt><span>grid_mapping :</span></dt><dd>spatial_ref</dd></dl></div><div class='xr-var-data'><table>\n",
       "    <tr>\n",
       "        <td>\n",
       "            <table style=\"border-collapse: collapse;\">\n",
       "                <thead>\n",
       "                    <tr>\n",
       "                        <td> </td>\n",
       "                        <th> Array </th>\n",
       "                        <th> Chunk </th>\n",
       "                    </tr>\n",
       "                </thead>\n",
       "                <tbody>\n",
       "                    \n",
       "                    <tr>\n",
       "                        <th> Bytes </th>\n",
       "                        <td> 649.91 MiB </td>\n",
       "                        <td> 38.15 MiB </td>\n",
       "                    </tr>\n",
       "                    \n",
       "                    <tr>\n",
       "                        <th> Shape </th>\n",
       "                        <td> (264, 469, 688) </td>\n",
       "                        <td> (125, 200, 200) </td>\n",
       "                    </tr>\n",
       "                    <tr>\n",
       "                        <th> Dask graph </th>\n",
       "                        <td colspan=\"2\"> 36 chunks in 2 graph layers </td>\n",
       "                    </tr>\n",
       "                    <tr>\n",
       "                        <th> Data type </th>\n",
       "                        <td colspan=\"2\"> float64 numpy.ndarray </td>\n",
       "                    </tr>\n",
       "                </tbody>\n",
       "            </table>\n",
       "        </td>\n",
       "        <td>\n",
       "        <svg width=\"207\" height=\"158\" style=\"stroke:rgb(0,0,0);stroke-width:1\" >\n",
       "\n",
       "  <!-- Horizontal lines -->\n",
       "  <line x1=\"10\" y1=\"0\" x2=\"37\" y2=\"27\" style=\"stroke-width:2\" />\n",
       "  <line x1=\"10\" y1=\"34\" x2=\"37\" y2=\"61\" />\n",
       "  <line x1=\"10\" y1=\"69\" x2=\"37\" y2=\"96\" />\n",
       "  <line x1=\"10\" y1=\"81\" x2=\"37\" y2=\"108\" style=\"stroke-width:2\" />\n",
       "\n",
       "  <!-- Vertical lines -->\n",
       "  <line x1=\"10\" y1=\"0\" x2=\"10\" y2=\"81\" style=\"stroke-width:2\" />\n",
       "  <line x1=\"22\" y1=\"12\" x2=\"22\" y2=\"94\" />\n",
       "  <line x1=\"35\" y1=\"25\" x2=\"35\" y2=\"107\" />\n",
       "  <line x1=\"37\" y1=\"27\" x2=\"37\" y2=\"108\" style=\"stroke-width:2\" />\n",
       "\n",
       "  <!-- Colored Rectangle -->\n",
       "  <polygon points=\"10.0,0.0 37.086183310533514,27.086183310533517 37.086183310533514,108.88850889192885 10.0,81.80232558139534\" style=\"fill:#ECB172A0;stroke-width:0\"/>\n",
       "\n",
       "  <!-- Horizontal lines -->\n",
       "  <line x1=\"10\" y1=\"0\" x2=\"130\" y2=\"0\" style=\"stroke-width:2\" />\n",
       "  <line x1=\"22\" y1=\"12\" x2=\"142\" y2=\"12\" />\n",
       "  <line x1=\"35\" y1=\"25\" x2=\"155\" y2=\"25\" />\n",
       "  <line x1=\"37\" y1=\"27\" x2=\"157\" y2=\"27\" style=\"stroke-width:2\" />\n",
       "\n",
       "  <!-- Vertical lines -->\n",
       "  <line x1=\"10\" y1=\"0\" x2=\"37\" y2=\"27\" style=\"stroke-width:2\" />\n",
       "  <line x1=\"44\" y1=\"0\" x2=\"71\" y2=\"27\" />\n",
       "  <line x1=\"79\" y1=\"0\" x2=\"106\" y2=\"27\" />\n",
       "  <line x1=\"114\" y1=\"0\" x2=\"141\" y2=\"27\" />\n",
       "  <line x1=\"130\" y1=\"0\" x2=\"157\" y2=\"27\" style=\"stroke-width:2\" />\n",
       "\n",
       "  <!-- Colored Rectangle -->\n",
       "  <polygon points=\"10.0,0.0 130.0,0.0 157.08618331053353,27.086183310533517 37.086183310533514,27.086183310533517\" style=\"fill:#ECB172A0;stroke-width:0\"/>\n",
       "\n",
       "  <!-- Horizontal lines -->\n",
       "  <line x1=\"37\" y1=\"27\" x2=\"157\" y2=\"27\" style=\"stroke-width:2\" />\n",
       "  <line x1=\"37\" y1=\"61\" x2=\"157\" y2=\"61\" />\n",
       "  <line x1=\"37\" y1=\"96\" x2=\"157\" y2=\"96\" />\n",
       "  <line x1=\"37\" y1=\"108\" x2=\"157\" y2=\"108\" style=\"stroke-width:2\" />\n",
       "\n",
       "  <!-- Vertical lines -->\n",
       "  <line x1=\"37\" y1=\"27\" x2=\"37\" y2=\"108\" style=\"stroke-width:2\" />\n",
       "  <line x1=\"71\" y1=\"27\" x2=\"71\" y2=\"108\" />\n",
       "  <line x1=\"106\" y1=\"27\" x2=\"106\" y2=\"108\" />\n",
       "  <line x1=\"141\" y1=\"27\" x2=\"141\" y2=\"108\" />\n",
       "  <line x1=\"157\" y1=\"27\" x2=\"157\" y2=\"108\" style=\"stroke-width:2\" />\n",
       "\n",
       "  <!-- Colored Rectangle -->\n",
       "  <polygon points=\"37.086183310533514,27.086183310533517 157.0861833105335,27.086183310533517 157.0861833105335,108.88850889192885 37.086183310533514,108.88850889192885\" style=\"fill:#ECB172A0;stroke-width:0\"/>\n",
       "\n",
       "  <!-- Text -->\n",
       "  <text x=\"97.086183\" y=\"128.888509\" font-size=\"1.0rem\" font-weight=\"100\" text-anchor=\"middle\" >688</text>\n",
       "  <text x=\"177.086183\" y=\"67.987346\" font-size=\"1.0rem\" font-weight=\"100\" text-anchor=\"middle\" transform=\"rotate(-90,177.086183,67.987346)\">469</text>\n",
       "  <text x=\"13.543092\" y=\"115.345417\" font-size=\"1.0rem\" font-weight=\"100\" text-anchor=\"middle\" transform=\"rotate(45,13.543092,115.345417)\">264</text>\n",
       "</svg>\n",
       "        </td>\n",
       "    </tr>\n",
       "</table></div></li><li class='xr-var-item'><div class='xr-var-name'><span>Htot</span></div><div class='xr-var-dims'>(time, latitude, longitude)</div><div class='xr-var-dtype'>float64</div><div class='xr-var-preview xr-preview'>dask.array&lt;chunksize=(125, 200, 200), meta=np.ndarray&gt;</div><input id='attrs-5d2904dc-8287-4628-921c-ba8f6da832ab' class='xr-var-attrs-in' type='checkbox' ><label for='attrs-5d2904dc-8287-4628-921c-ba8f6da832ab' title='Show/Hide attributes'><svg class='icon xr-icon-file-text2'><use xlink:href='#icon-file-text2'></use></svg></label><input id='data-1ddd1431-1044-4b30-acf6-b295a91c4913' class='xr-var-data-in' type='checkbox'><label for='data-1ddd1431-1044-4b30-acf6-b295a91c4913' title='Show/Hide data repr'><svg class='icon xr-icon-database'><use xlink:href='#icon-database'></use></svg></label><div class='xr-var-attrs'><dl class='xr-attrs'><dt><span>grid_mapping :</span></dt><dd>spatial_ref</dd></dl></div><div class='xr-var-data'><table>\n",
       "    <tr>\n",
       "        <td>\n",
       "            <table style=\"border-collapse: collapse;\">\n",
       "                <thead>\n",
       "                    <tr>\n",
       "                        <td> </td>\n",
       "                        <th> Array </th>\n",
       "                        <th> Chunk </th>\n",
       "                    </tr>\n",
       "                </thead>\n",
       "                <tbody>\n",
       "                    \n",
       "                    <tr>\n",
       "                        <th> Bytes </th>\n",
       "                        <td> 649.91 MiB </td>\n",
       "                        <td> 38.15 MiB </td>\n",
       "                    </tr>\n",
       "                    \n",
       "                    <tr>\n",
       "                        <th> Shape </th>\n",
       "                        <td> (264, 469, 688) </td>\n",
       "                        <td> (125, 200, 200) </td>\n",
       "                    </tr>\n",
       "                    <tr>\n",
       "                        <th> Dask graph </th>\n",
       "                        <td colspan=\"2\"> 36 chunks in 2 graph layers </td>\n",
       "                    </tr>\n",
       "                    <tr>\n",
       "                        <th> Data type </th>\n",
       "                        <td colspan=\"2\"> float64 numpy.ndarray </td>\n",
       "                    </tr>\n",
       "                </tbody>\n",
       "            </table>\n",
       "        </td>\n",
       "        <td>\n",
       "        <svg width=\"207\" height=\"158\" style=\"stroke:rgb(0,0,0);stroke-width:1\" >\n",
       "\n",
       "  <!-- Horizontal lines -->\n",
       "  <line x1=\"10\" y1=\"0\" x2=\"37\" y2=\"27\" style=\"stroke-width:2\" />\n",
       "  <line x1=\"10\" y1=\"34\" x2=\"37\" y2=\"61\" />\n",
       "  <line x1=\"10\" y1=\"69\" x2=\"37\" y2=\"96\" />\n",
       "  <line x1=\"10\" y1=\"81\" x2=\"37\" y2=\"108\" style=\"stroke-width:2\" />\n",
       "\n",
       "  <!-- Vertical lines -->\n",
       "  <line x1=\"10\" y1=\"0\" x2=\"10\" y2=\"81\" style=\"stroke-width:2\" />\n",
       "  <line x1=\"22\" y1=\"12\" x2=\"22\" y2=\"94\" />\n",
       "  <line x1=\"35\" y1=\"25\" x2=\"35\" y2=\"107\" />\n",
       "  <line x1=\"37\" y1=\"27\" x2=\"37\" y2=\"108\" style=\"stroke-width:2\" />\n",
       "\n",
       "  <!-- Colored Rectangle -->\n",
       "  <polygon points=\"10.0,0.0 37.086183310533514,27.086183310533517 37.086183310533514,108.88850889192885 10.0,81.80232558139534\" style=\"fill:#ECB172A0;stroke-width:0\"/>\n",
       "\n",
       "  <!-- Horizontal lines -->\n",
       "  <line x1=\"10\" y1=\"0\" x2=\"130\" y2=\"0\" style=\"stroke-width:2\" />\n",
       "  <line x1=\"22\" y1=\"12\" x2=\"142\" y2=\"12\" />\n",
       "  <line x1=\"35\" y1=\"25\" x2=\"155\" y2=\"25\" />\n",
       "  <line x1=\"37\" y1=\"27\" x2=\"157\" y2=\"27\" style=\"stroke-width:2\" />\n",
       "\n",
       "  <!-- Vertical lines -->\n",
       "  <line x1=\"10\" y1=\"0\" x2=\"37\" y2=\"27\" style=\"stroke-width:2\" />\n",
       "  <line x1=\"44\" y1=\"0\" x2=\"71\" y2=\"27\" />\n",
       "  <line x1=\"79\" y1=\"0\" x2=\"106\" y2=\"27\" />\n",
       "  <line x1=\"114\" y1=\"0\" x2=\"141\" y2=\"27\" />\n",
       "  <line x1=\"130\" y1=\"0\" x2=\"157\" y2=\"27\" style=\"stroke-width:2\" />\n",
       "\n",
       "  <!-- Colored Rectangle -->\n",
       "  <polygon points=\"10.0,0.0 130.0,0.0 157.08618331053353,27.086183310533517 37.086183310533514,27.086183310533517\" style=\"fill:#ECB172A0;stroke-width:0\"/>\n",
       "\n",
       "  <!-- Horizontal lines -->\n",
       "  <line x1=\"37\" y1=\"27\" x2=\"157\" y2=\"27\" style=\"stroke-width:2\" />\n",
       "  <line x1=\"37\" y1=\"61\" x2=\"157\" y2=\"61\" />\n",
       "  <line x1=\"37\" y1=\"96\" x2=\"157\" y2=\"96\" />\n",
       "  <line x1=\"37\" y1=\"108\" x2=\"157\" y2=\"108\" style=\"stroke-width:2\" />\n",
       "\n",
       "  <!-- Vertical lines -->\n",
       "  <line x1=\"37\" y1=\"27\" x2=\"37\" y2=\"108\" style=\"stroke-width:2\" />\n",
       "  <line x1=\"71\" y1=\"27\" x2=\"71\" y2=\"108\" />\n",
       "  <line x1=\"106\" y1=\"27\" x2=\"106\" y2=\"108\" />\n",
       "  <line x1=\"141\" y1=\"27\" x2=\"141\" y2=\"108\" />\n",
       "  <line x1=\"157\" y1=\"27\" x2=\"157\" y2=\"108\" style=\"stroke-width:2\" />\n",
       "\n",
       "  <!-- Colored Rectangle -->\n",
       "  <polygon points=\"37.086183310533514,27.086183310533517 157.0861833105335,27.086183310533517 157.0861833105335,108.88850889192885 37.086183310533514,108.88850889192885\" style=\"fill:#ECB172A0;stroke-width:0\"/>\n",
       "\n",
       "  <!-- Text -->\n",
       "  <text x=\"97.086183\" y=\"128.888509\" font-size=\"1.0rem\" font-weight=\"100\" text-anchor=\"middle\" >688</text>\n",
       "  <text x=\"177.086183\" y=\"67.987346\" font-size=\"1.0rem\" font-weight=\"100\" text-anchor=\"middle\" transform=\"rotate(-90,177.086183,67.987346)\">469</text>\n",
       "  <text x=\"13.543092\" y=\"115.345417\" font-size=\"1.0rem\" font-weight=\"100\" text-anchor=\"middle\" transform=\"rotate(45,13.543092,115.345417)\">264</text>\n",
       "</svg>\n",
       "        </td>\n",
       "    </tr>\n",
       "</table></div></li><li class='xr-var-item'><div class='xr-var-name'><span>LEtot</span></div><div class='xr-var-dims'>(time, latitude, longitude)</div><div class='xr-var-dtype'>float64</div><div class='xr-var-preview xr-preview'>dask.array&lt;chunksize=(125, 200, 200), meta=np.ndarray&gt;</div><input id='attrs-46ddfefa-d413-40c1-8651-53f0f02d55eb' class='xr-var-attrs-in' type='checkbox' ><label for='attrs-46ddfefa-d413-40c1-8651-53f0f02d55eb' title='Show/Hide attributes'><svg class='icon xr-icon-file-text2'><use xlink:href='#icon-file-text2'></use></svg></label><input id='data-06806e0e-6391-4d68-87a2-fed73f96e9dc' class='xr-var-data-in' type='checkbox'><label for='data-06806e0e-6391-4d68-87a2-fed73f96e9dc' title='Show/Hide data repr'><svg class='icon xr-icon-database'><use xlink:href='#icon-database'></use></svg></label><div class='xr-var-attrs'><dl class='xr-attrs'><dt><span>grid_mapping :</span></dt><dd>spatial_ref</dd></dl></div><div class='xr-var-data'><table>\n",
       "    <tr>\n",
       "        <td>\n",
       "            <table style=\"border-collapse: collapse;\">\n",
       "                <thead>\n",
       "                    <tr>\n",
       "                        <td> </td>\n",
       "                        <th> Array </th>\n",
       "                        <th> Chunk </th>\n",
       "                    </tr>\n",
       "                </thead>\n",
       "                <tbody>\n",
       "                    \n",
       "                    <tr>\n",
       "                        <th> Bytes </th>\n",
       "                        <td> 649.91 MiB </td>\n",
       "                        <td> 38.15 MiB </td>\n",
       "                    </tr>\n",
       "                    \n",
       "                    <tr>\n",
       "                        <th> Shape </th>\n",
       "                        <td> (264, 469, 688) </td>\n",
       "                        <td> (125, 200, 200) </td>\n",
       "                    </tr>\n",
       "                    <tr>\n",
       "                        <th> Dask graph </th>\n",
       "                        <td colspan=\"2\"> 36 chunks in 2 graph layers </td>\n",
       "                    </tr>\n",
       "                    <tr>\n",
       "                        <th> Data type </th>\n",
       "                        <td colspan=\"2\"> float64 numpy.ndarray </td>\n",
       "                    </tr>\n",
       "                </tbody>\n",
       "            </table>\n",
       "        </td>\n",
       "        <td>\n",
       "        <svg width=\"207\" height=\"158\" style=\"stroke:rgb(0,0,0);stroke-width:1\" >\n",
       "\n",
       "  <!-- Horizontal lines -->\n",
       "  <line x1=\"10\" y1=\"0\" x2=\"37\" y2=\"27\" style=\"stroke-width:2\" />\n",
       "  <line x1=\"10\" y1=\"34\" x2=\"37\" y2=\"61\" />\n",
       "  <line x1=\"10\" y1=\"69\" x2=\"37\" y2=\"96\" />\n",
       "  <line x1=\"10\" y1=\"81\" x2=\"37\" y2=\"108\" style=\"stroke-width:2\" />\n",
       "\n",
       "  <!-- Vertical lines -->\n",
       "  <line x1=\"10\" y1=\"0\" x2=\"10\" y2=\"81\" style=\"stroke-width:2\" />\n",
       "  <line x1=\"22\" y1=\"12\" x2=\"22\" y2=\"94\" />\n",
       "  <line x1=\"35\" y1=\"25\" x2=\"35\" y2=\"107\" />\n",
       "  <line x1=\"37\" y1=\"27\" x2=\"37\" y2=\"108\" style=\"stroke-width:2\" />\n",
       "\n",
       "  <!-- Colored Rectangle -->\n",
       "  <polygon points=\"10.0,0.0 37.086183310533514,27.086183310533517 37.086183310533514,108.88850889192885 10.0,81.80232558139534\" style=\"fill:#ECB172A0;stroke-width:0\"/>\n",
       "\n",
       "  <!-- Horizontal lines -->\n",
       "  <line x1=\"10\" y1=\"0\" x2=\"130\" y2=\"0\" style=\"stroke-width:2\" />\n",
       "  <line x1=\"22\" y1=\"12\" x2=\"142\" y2=\"12\" />\n",
       "  <line x1=\"35\" y1=\"25\" x2=\"155\" y2=\"25\" />\n",
       "  <line x1=\"37\" y1=\"27\" x2=\"157\" y2=\"27\" style=\"stroke-width:2\" />\n",
       "\n",
       "  <!-- Vertical lines -->\n",
       "  <line x1=\"10\" y1=\"0\" x2=\"37\" y2=\"27\" style=\"stroke-width:2\" />\n",
       "  <line x1=\"44\" y1=\"0\" x2=\"71\" y2=\"27\" />\n",
       "  <line x1=\"79\" y1=\"0\" x2=\"106\" y2=\"27\" />\n",
       "  <line x1=\"114\" y1=\"0\" x2=\"141\" y2=\"27\" />\n",
       "  <line x1=\"130\" y1=\"0\" x2=\"157\" y2=\"27\" style=\"stroke-width:2\" />\n",
       "\n",
       "  <!-- Colored Rectangle -->\n",
       "  <polygon points=\"10.0,0.0 130.0,0.0 157.08618331053353,27.086183310533517 37.086183310533514,27.086183310533517\" style=\"fill:#ECB172A0;stroke-width:0\"/>\n",
       "\n",
       "  <!-- Horizontal lines -->\n",
       "  <line x1=\"37\" y1=\"27\" x2=\"157\" y2=\"27\" style=\"stroke-width:2\" />\n",
       "  <line x1=\"37\" y1=\"61\" x2=\"157\" y2=\"61\" />\n",
       "  <line x1=\"37\" y1=\"96\" x2=\"157\" y2=\"96\" />\n",
       "  <line x1=\"37\" y1=\"108\" x2=\"157\" y2=\"108\" style=\"stroke-width:2\" />\n",
       "\n",
       "  <!-- Vertical lines -->\n",
       "  <line x1=\"37\" y1=\"27\" x2=\"37\" y2=\"108\" style=\"stroke-width:2\" />\n",
       "  <line x1=\"71\" y1=\"27\" x2=\"71\" y2=\"108\" />\n",
       "  <line x1=\"106\" y1=\"27\" x2=\"106\" y2=\"108\" />\n",
       "  <line x1=\"141\" y1=\"27\" x2=\"141\" y2=\"108\" />\n",
       "  <line x1=\"157\" y1=\"27\" x2=\"157\" y2=\"108\" style=\"stroke-width:2\" />\n",
       "\n",
       "  <!-- Colored Rectangle -->\n",
       "  <polygon points=\"37.086183310533514,27.086183310533517 157.0861833105335,27.086183310533517 157.0861833105335,108.88850889192885 37.086183310533514,108.88850889192885\" style=\"fill:#ECB172A0;stroke-width:0\"/>\n",
       "\n",
       "  <!-- Text -->\n",
       "  <text x=\"97.086183\" y=\"128.888509\" font-size=\"1.0rem\" font-weight=\"100\" text-anchor=\"middle\" >688</text>\n",
       "  <text x=\"177.086183\" y=\"67.987346\" font-size=\"1.0rem\" font-weight=\"100\" text-anchor=\"middle\" transform=\"rotate(-90,177.086183,67.987346)\">469</text>\n",
       "  <text x=\"13.543092\" y=\"115.345417\" font-size=\"1.0rem\" font-weight=\"100\" text-anchor=\"middle\" transform=\"rotate(45,13.543092,115.345417)\">264</text>\n",
       "</svg>\n",
       "        </td>\n",
       "    </tr>\n",
       "</table></div></li><li class='xr-var-item'><div class='xr-var-name'><span>Rntot</span></div><div class='xr-var-dims'>(time, latitude, longitude)</div><div class='xr-var-dtype'>float64</div><div class='xr-var-preview xr-preview'>dask.array&lt;chunksize=(125, 200, 200), meta=np.ndarray&gt;</div><input id='attrs-8132a97d-c40c-4420-86e0-e7ccc742d04d' class='xr-var-attrs-in' type='checkbox' ><label for='attrs-8132a97d-c40c-4420-86e0-e7ccc742d04d' title='Show/Hide attributes'><svg class='icon xr-icon-file-text2'><use xlink:href='#icon-file-text2'></use></svg></label><input id='data-392d8a21-769f-4ea8-9a52-3baf244849a4' class='xr-var-data-in' type='checkbox'><label for='data-392d8a21-769f-4ea8-9a52-3baf244849a4' title='Show/Hide data repr'><svg class='icon xr-icon-database'><use xlink:href='#icon-database'></use></svg></label><div class='xr-var-attrs'><dl class='xr-attrs'><dt><span>grid_mapping :</span></dt><dd>spatial_ref</dd></dl></div><div class='xr-var-data'><table>\n",
       "    <tr>\n",
       "        <td>\n",
       "            <table style=\"border-collapse: collapse;\">\n",
       "                <thead>\n",
       "                    <tr>\n",
       "                        <td> </td>\n",
       "                        <th> Array </th>\n",
       "                        <th> Chunk </th>\n",
       "                    </tr>\n",
       "                </thead>\n",
       "                <tbody>\n",
       "                    \n",
       "                    <tr>\n",
       "                        <th> Bytes </th>\n",
       "                        <td> 649.91 MiB </td>\n",
       "                        <td> 38.15 MiB </td>\n",
       "                    </tr>\n",
       "                    \n",
       "                    <tr>\n",
       "                        <th> Shape </th>\n",
       "                        <td> (264, 469, 688) </td>\n",
       "                        <td> (125, 200, 200) </td>\n",
       "                    </tr>\n",
       "                    <tr>\n",
       "                        <th> Dask graph </th>\n",
       "                        <td colspan=\"2\"> 36 chunks in 2 graph layers </td>\n",
       "                    </tr>\n",
       "                    <tr>\n",
       "                        <th> Data type </th>\n",
       "                        <td colspan=\"2\"> float64 numpy.ndarray </td>\n",
       "                    </tr>\n",
       "                </tbody>\n",
       "            </table>\n",
       "        </td>\n",
       "        <td>\n",
       "        <svg width=\"207\" height=\"158\" style=\"stroke:rgb(0,0,0);stroke-width:1\" >\n",
       "\n",
       "  <!-- Horizontal lines -->\n",
       "  <line x1=\"10\" y1=\"0\" x2=\"37\" y2=\"27\" style=\"stroke-width:2\" />\n",
       "  <line x1=\"10\" y1=\"34\" x2=\"37\" y2=\"61\" />\n",
       "  <line x1=\"10\" y1=\"69\" x2=\"37\" y2=\"96\" />\n",
       "  <line x1=\"10\" y1=\"81\" x2=\"37\" y2=\"108\" style=\"stroke-width:2\" />\n",
       "\n",
       "  <!-- Vertical lines -->\n",
       "  <line x1=\"10\" y1=\"0\" x2=\"10\" y2=\"81\" style=\"stroke-width:2\" />\n",
       "  <line x1=\"22\" y1=\"12\" x2=\"22\" y2=\"94\" />\n",
       "  <line x1=\"35\" y1=\"25\" x2=\"35\" y2=\"107\" />\n",
       "  <line x1=\"37\" y1=\"27\" x2=\"37\" y2=\"108\" style=\"stroke-width:2\" />\n",
       "\n",
       "  <!-- Colored Rectangle -->\n",
       "  <polygon points=\"10.0,0.0 37.086183310533514,27.086183310533517 37.086183310533514,108.88850889192885 10.0,81.80232558139534\" style=\"fill:#ECB172A0;stroke-width:0\"/>\n",
       "\n",
       "  <!-- Horizontal lines -->\n",
       "  <line x1=\"10\" y1=\"0\" x2=\"130\" y2=\"0\" style=\"stroke-width:2\" />\n",
       "  <line x1=\"22\" y1=\"12\" x2=\"142\" y2=\"12\" />\n",
       "  <line x1=\"35\" y1=\"25\" x2=\"155\" y2=\"25\" />\n",
       "  <line x1=\"37\" y1=\"27\" x2=\"157\" y2=\"27\" style=\"stroke-width:2\" />\n",
       "\n",
       "  <!-- Vertical lines -->\n",
       "  <line x1=\"10\" y1=\"0\" x2=\"37\" y2=\"27\" style=\"stroke-width:2\" />\n",
       "  <line x1=\"44\" y1=\"0\" x2=\"71\" y2=\"27\" />\n",
       "  <line x1=\"79\" y1=\"0\" x2=\"106\" y2=\"27\" />\n",
       "  <line x1=\"114\" y1=\"0\" x2=\"141\" y2=\"27\" />\n",
       "  <line x1=\"130\" y1=\"0\" x2=\"157\" y2=\"27\" style=\"stroke-width:2\" />\n",
       "\n",
       "  <!-- Colored Rectangle -->\n",
       "  <polygon points=\"10.0,0.0 130.0,0.0 157.08618331053353,27.086183310533517 37.086183310533514,27.086183310533517\" style=\"fill:#ECB172A0;stroke-width:0\"/>\n",
       "\n",
       "  <!-- Horizontal lines -->\n",
       "  <line x1=\"37\" y1=\"27\" x2=\"157\" y2=\"27\" style=\"stroke-width:2\" />\n",
       "  <line x1=\"37\" y1=\"61\" x2=\"157\" y2=\"61\" />\n",
       "  <line x1=\"37\" y1=\"96\" x2=\"157\" y2=\"96\" />\n",
       "  <line x1=\"37\" y1=\"108\" x2=\"157\" y2=\"108\" style=\"stroke-width:2\" />\n",
       "\n",
       "  <!-- Vertical lines -->\n",
       "  <line x1=\"37\" y1=\"27\" x2=\"37\" y2=\"108\" style=\"stroke-width:2\" />\n",
       "  <line x1=\"71\" y1=\"27\" x2=\"71\" y2=\"108\" />\n",
       "  <line x1=\"106\" y1=\"27\" x2=\"106\" y2=\"108\" />\n",
       "  <line x1=\"141\" y1=\"27\" x2=\"141\" y2=\"108\" />\n",
       "  <line x1=\"157\" y1=\"27\" x2=\"157\" y2=\"108\" style=\"stroke-width:2\" />\n",
       "\n",
       "  <!-- Colored Rectangle -->\n",
       "  <polygon points=\"37.086183310533514,27.086183310533517 157.0861833105335,27.086183310533517 157.0861833105335,108.88850889192885 37.086183310533514,108.88850889192885\" style=\"fill:#ECB172A0;stroke-width:0\"/>\n",
       "\n",
       "  <!-- Text -->\n",
       "  <text x=\"97.086183\" y=\"128.888509\" font-size=\"1.0rem\" font-weight=\"100\" text-anchor=\"middle\" >688</text>\n",
       "  <text x=\"177.086183\" y=\"67.987346\" font-size=\"1.0rem\" font-weight=\"100\" text-anchor=\"middle\" transform=\"rotate(-90,177.086183,67.987346)\">469</text>\n",
       "  <text x=\"13.543092\" y=\"115.345417\" font-size=\"1.0rem\" font-weight=\"100\" text-anchor=\"middle\" transform=\"rotate(45,13.543092,115.345417)\">264</text>\n",
       "</svg>\n",
       "        </td>\n",
       "    </tr>\n",
       "</table></div></li><li class='xr-var-item'><div class='xr-var-name'><span>SIF685</span></div><div class='xr-var-dims'>(time, latitude, longitude)</div><div class='xr-var-dtype'>float64</div><div class='xr-var-preview xr-preview'>dask.array&lt;chunksize=(125, 200, 200), meta=np.ndarray&gt;</div><input id='attrs-edba74dd-f4b0-4c60-9a57-160bbaefba90' class='xr-var-attrs-in' type='checkbox' ><label for='attrs-edba74dd-f4b0-4c60-9a57-160bbaefba90' title='Show/Hide attributes'><svg class='icon xr-icon-file-text2'><use xlink:href='#icon-file-text2'></use></svg></label><input id='data-16d0ef15-02ab-4680-90c2-118c0d21bc81' class='xr-var-data-in' type='checkbox'><label for='data-16d0ef15-02ab-4680-90c2-118c0d21bc81' title='Show/Hide data repr'><svg class='icon xr-icon-database'><use xlink:href='#icon-database'></use></svg></label><div class='xr-var-attrs'><dl class='xr-attrs'><dt><span>grid_mapping :</span></dt><dd>spatial_ref</dd></dl></div><div class='xr-var-data'><table>\n",
       "    <tr>\n",
       "        <td>\n",
       "            <table style=\"border-collapse: collapse;\">\n",
       "                <thead>\n",
       "                    <tr>\n",
       "                        <td> </td>\n",
       "                        <th> Array </th>\n",
       "                        <th> Chunk </th>\n",
       "                    </tr>\n",
       "                </thead>\n",
       "                <tbody>\n",
       "                    \n",
       "                    <tr>\n",
       "                        <th> Bytes </th>\n",
       "                        <td> 649.91 MiB </td>\n",
       "                        <td> 38.15 MiB </td>\n",
       "                    </tr>\n",
       "                    \n",
       "                    <tr>\n",
       "                        <th> Shape </th>\n",
       "                        <td> (264, 469, 688) </td>\n",
       "                        <td> (125, 200, 200) </td>\n",
       "                    </tr>\n",
       "                    <tr>\n",
       "                        <th> Dask graph </th>\n",
       "                        <td colspan=\"2\"> 36 chunks in 2 graph layers </td>\n",
       "                    </tr>\n",
       "                    <tr>\n",
       "                        <th> Data type </th>\n",
       "                        <td colspan=\"2\"> float64 numpy.ndarray </td>\n",
       "                    </tr>\n",
       "                </tbody>\n",
       "            </table>\n",
       "        </td>\n",
       "        <td>\n",
       "        <svg width=\"207\" height=\"158\" style=\"stroke:rgb(0,0,0);stroke-width:1\" >\n",
       "\n",
       "  <!-- Horizontal lines -->\n",
       "  <line x1=\"10\" y1=\"0\" x2=\"37\" y2=\"27\" style=\"stroke-width:2\" />\n",
       "  <line x1=\"10\" y1=\"34\" x2=\"37\" y2=\"61\" />\n",
       "  <line x1=\"10\" y1=\"69\" x2=\"37\" y2=\"96\" />\n",
       "  <line x1=\"10\" y1=\"81\" x2=\"37\" y2=\"108\" style=\"stroke-width:2\" />\n",
       "\n",
       "  <!-- Vertical lines -->\n",
       "  <line x1=\"10\" y1=\"0\" x2=\"10\" y2=\"81\" style=\"stroke-width:2\" />\n",
       "  <line x1=\"22\" y1=\"12\" x2=\"22\" y2=\"94\" />\n",
       "  <line x1=\"35\" y1=\"25\" x2=\"35\" y2=\"107\" />\n",
       "  <line x1=\"37\" y1=\"27\" x2=\"37\" y2=\"108\" style=\"stroke-width:2\" />\n",
       "\n",
       "  <!-- Colored Rectangle -->\n",
       "  <polygon points=\"10.0,0.0 37.086183310533514,27.086183310533517 37.086183310533514,108.88850889192885 10.0,81.80232558139534\" style=\"fill:#ECB172A0;stroke-width:0\"/>\n",
       "\n",
       "  <!-- Horizontal lines -->\n",
       "  <line x1=\"10\" y1=\"0\" x2=\"130\" y2=\"0\" style=\"stroke-width:2\" />\n",
       "  <line x1=\"22\" y1=\"12\" x2=\"142\" y2=\"12\" />\n",
       "  <line x1=\"35\" y1=\"25\" x2=\"155\" y2=\"25\" />\n",
       "  <line x1=\"37\" y1=\"27\" x2=\"157\" y2=\"27\" style=\"stroke-width:2\" />\n",
       "\n",
       "  <!-- Vertical lines -->\n",
       "  <line x1=\"10\" y1=\"0\" x2=\"37\" y2=\"27\" style=\"stroke-width:2\" />\n",
       "  <line x1=\"44\" y1=\"0\" x2=\"71\" y2=\"27\" />\n",
       "  <line x1=\"79\" y1=\"0\" x2=\"106\" y2=\"27\" />\n",
       "  <line x1=\"114\" y1=\"0\" x2=\"141\" y2=\"27\" />\n",
       "  <line x1=\"130\" y1=\"0\" x2=\"157\" y2=\"27\" style=\"stroke-width:2\" />\n",
       "\n",
       "  <!-- Colored Rectangle -->\n",
       "  <polygon points=\"10.0,0.0 130.0,0.0 157.08618331053353,27.086183310533517 37.086183310533514,27.086183310533517\" style=\"fill:#ECB172A0;stroke-width:0\"/>\n",
       "\n",
       "  <!-- Horizontal lines -->\n",
       "  <line x1=\"37\" y1=\"27\" x2=\"157\" y2=\"27\" style=\"stroke-width:2\" />\n",
       "  <line x1=\"37\" y1=\"61\" x2=\"157\" y2=\"61\" />\n",
       "  <line x1=\"37\" y1=\"96\" x2=\"157\" y2=\"96\" />\n",
       "  <line x1=\"37\" y1=\"108\" x2=\"157\" y2=\"108\" style=\"stroke-width:2\" />\n",
       "\n",
       "  <!-- Vertical lines -->\n",
       "  <line x1=\"37\" y1=\"27\" x2=\"37\" y2=\"108\" style=\"stroke-width:2\" />\n",
       "  <line x1=\"71\" y1=\"27\" x2=\"71\" y2=\"108\" />\n",
       "  <line x1=\"106\" y1=\"27\" x2=\"106\" y2=\"108\" />\n",
       "  <line x1=\"141\" y1=\"27\" x2=\"141\" y2=\"108\" />\n",
       "  <line x1=\"157\" y1=\"27\" x2=\"157\" y2=\"108\" style=\"stroke-width:2\" />\n",
       "\n",
       "  <!-- Colored Rectangle -->\n",
       "  <polygon points=\"37.086183310533514,27.086183310533517 157.0861833105335,27.086183310533517 157.0861833105335,108.88850889192885 37.086183310533514,108.88850889192885\" style=\"fill:#ECB172A0;stroke-width:0\"/>\n",
       "\n",
       "  <!-- Text -->\n",
       "  <text x=\"97.086183\" y=\"128.888509\" font-size=\"1.0rem\" font-weight=\"100\" text-anchor=\"middle\" >688</text>\n",
       "  <text x=\"177.086183\" y=\"67.987346\" font-size=\"1.0rem\" font-weight=\"100\" text-anchor=\"middle\" transform=\"rotate(-90,177.086183,67.987346)\">469</text>\n",
       "  <text x=\"13.543092\" y=\"115.345417\" font-size=\"1.0rem\" font-weight=\"100\" text-anchor=\"middle\" transform=\"rotate(45,13.543092,115.345417)\">264</text>\n",
       "</svg>\n",
       "        </td>\n",
       "    </tr>\n",
       "</table></div></li><li class='xr-var-item'><div class='xr-var-name'><span>SIF740</span></div><div class='xr-var-dims'>(time, latitude, longitude)</div><div class='xr-var-dtype'>float64</div><div class='xr-var-preview xr-preview'>dask.array&lt;chunksize=(125, 200, 200), meta=np.ndarray&gt;</div><input id='attrs-158d0b1c-0a3e-4688-b112-84f847c6894e' class='xr-var-attrs-in' type='checkbox' ><label for='attrs-158d0b1c-0a3e-4688-b112-84f847c6894e' title='Show/Hide attributes'><svg class='icon xr-icon-file-text2'><use xlink:href='#icon-file-text2'></use></svg></label><input id='data-fc3fe50c-9e53-47ea-8527-7b605df6fcf3' class='xr-var-data-in' type='checkbox'><label for='data-fc3fe50c-9e53-47ea-8527-7b605df6fcf3' title='Show/Hide data repr'><svg class='icon xr-icon-database'><use xlink:href='#icon-database'></use></svg></label><div class='xr-var-attrs'><dl class='xr-attrs'><dt><span>grid_mapping :</span></dt><dd>spatial_ref</dd></dl></div><div class='xr-var-data'><table>\n",
       "    <tr>\n",
       "        <td>\n",
       "            <table style=\"border-collapse: collapse;\">\n",
       "                <thead>\n",
       "                    <tr>\n",
       "                        <td> </td>\n",
       "                        <th> Array </th>\n",
       "                        <th> Chunk </th>\n",
       "                    </tr>\n",
       "                </thead>\n",
       "                <tbody>\n",
       "                    \n",
       "                    <tr>\n",
       "                        <th> Bytes </th>\n",
       "                        <td> 649.91 MiB </td>\n",
       "                        <td> 38.15 MiB </td>\n",
       "                    </tr>\n",
       "                    \n",
       "                    <tr>\n",
       "                        <th> Shape </th>\n",
       "                        <td> (264, 469, 688) </td>\n",
       "                        <td> (125, 200, 200) </td>\n",
       "                    </tr>\n",
       "                    <tr>\n",
       "                        <th> Dask graph </th>\n",
       "                        <td colspan=\"2\"> 36 chunks in 2 graph layers </td>\n",
       "                    </tr>\n",
       "                    <tr>\n",
       "                        <th> Data type </th>\n",
       "                        <td colspan=\"2\"> float64 numpy.ndarray </td>\n",
       "                    </tr>\n",
       "                </tbody>\n",
       "            </table>\n",
       "        </td>\n",
       "        <td>\n",
       "        <svg width=\"207\" height=\"158\" style=\"stroke:rgb(0,0,0);stroke-width:1\" >\n",
       "\n",
       "  <!-- Horizontal lines -->\n",
       "  <line x1=\"10\" y1=\"0\" x2=\"37\" y2=\"27\" style=\"stroke-width:2\" />\n",
       "  <line x1=\"10\" y1=\"34\" x2=\"37\" y2=\"61\" />\n",
       "  <line x1=\"10\" y1=\"69\" x2=\"37\" y2=\"96\" />\n",
       "  <line x1=\"10\" y1=\"81\" x2=\"37\" y2=\"108\" style=\"stroke-width:2\" />\n",
       "\n",
       "  <!-- Vertical lines -->\n",
       "  <line x1=\"10\" y1=\"0\" x2=\"10\" y2=\"81\" style=\"stroke-width:2\" />\n",
       "  <line x1=\"22\" y1=\"12\" x2=\"22\" y2=\"94\" />\n",
       "  <line x1=\"35\" y1=\"25\" x2=\"35\" y2=\"107\" />\n",
       "  <line x1=\"37\" y1=\"27\" x2=\"37\" y2=\"108\" style=\"stroke-width:2\" />\n",
       "\n",
       "  <!-- Colored Rectangle -->\n",
       "  <polygon points=\"10.0,0.0 37.086183310533514,27.086183310533517 37.086183310533514,108.88850889192885 10.0,81.80232558139534\" style=\"fill:#ECB172A0;stroke-width:0\"/>\n",
       "\n",
       "  <!-- Horizontal lines -->\n",
       "  <line x1=\"10\" y1=\"0\" x2=\"130\" y2=\"0\" style=\"stroke-width:2\" />\n",
       "  <line x1=\"22\" y1=\"12\" x2=\"142\" y2=\"12\" />\n",
       "  <line x1=\"35\" y1=\"25\" x2=\"155\" y2=\"25\" />\n",
       "  <line x1=\"37\" y1=\"27\" x2=\"157\" y2=\"27\" style=\"stroke-width:2\" />\n",
       "\n",
       "  <!-- Vertical lines -->\n",
       "  <line x1=\"10\" y1=\"0\" x2=\"37\" y2=\"27\" style=\"stroke-width:2\" />\n",
       "  <line x1=\"44\" y1=\"0\" x2=\"71\" y2=\"27\" />\n",
       "  <line x1=\"79\" y1=\"0\" x2=\"106\" y2=\"27\" />\n",
       "  <line x1=\"114\" y1=\"0\" x2=\"141\" y2=\"27\" />\n",
       "  <line x1=\"130\" y1=\"0\" x2=\"157\" y2=\"27\" style=\"stroke-width:2\" />\n",
       "\n",
       "  <!-- Colored Rectangle -->\n",
       "  <polygon points=\"10.0,0.0 130.0,0.0 157.08618331053353,27.086183310533517 37.086183310533514,27.086183310533517\" style=\"fill:#ECB172A0;stroke-width:0\"/>\n",
       "\n",
       "  <!-- Horizontal lines -->\n",
       "  <line x1=\"37\" y1=\"27\" x2=\"157\" y2=\"27\" style=\"stroke-width:2\" />\n",
       "  <line x1=\"37\" y1=\"61\" x2=\"157\" y2=\"61\" />\n",
       "  <line x1=\"37\" y1=\"96\" x2=\"157\" y2=\"96\" />\n",
       "  <line x1=\"37\" y1=\"108\" x2=\"157\" y2=\"108\" style=\"stroke-width:2\" />\n",
       "\n",
       "  <!-- Vertical lines -->\n",
       "  <line x1=\"37\" y1=\"27\" x2=\"37\" y2=\"108\" style=\"stroke-width:2\" />\n",
       "  <line x1=\"71\" y1=\"27\" x2=\"71\" y2=\"108\" />\n",
       "  <line x1=\"106\" y1=\"27\" x2=\"106\" y2=\"108\" />\n",
       "  <line x1=\"141\" y1=\"27\" x2=\"141\" y2=\"108\" />\n",
       "  <line x1=\"157\" y1=\"27\" x2=\"157\" y2=\"108\" style=\"stroke-width:2\" />\n",
       "\n",
       "  <!-- Colored Rectangle -->\n",
       "  <polygon points=\"37.086183310533514,27.086183310533517 157.0861833105335,27.086183310533517 157.0861833105335,108.88850889192885 37.086183310533514,108.88850889192885\" style=\"fill:#ECB172A0;stroke-width:0\"/>\n",
       "\n",
       "  <!-- Text -->\n",
       "  <text x=\"97.086183\" y=\"128.888509\" font-size=\"1.0rem\" font-weight=\"100\" text-anchor=\"middle\" >688</text>\n",
       "  <text x=\"177.086183\" y=\"67.987346\" font-size=\"1.0rem\" font-weight=\"100\" text-anchor=\"middle\" transform=\"rotate(-90,177.086183,67.987346)\">469</text>\n",
       "  <text x=\"13.543092\" y=\"115.345417\" font-size=\"1.0rem\" font-weight=\"100\" text-anchor=\"middle\" transform=\"rotate(45,13.543092,115.345417)\">264</text>\n",
       "</svg>\n",
       "        </td>\n",
       "    </tr>\n",
       "</table></div></li><li class='xr-var-item'><div class='xr-var-name'><span>spatial_ref</span></div><div class='xr-var-dims'>()</div><div class='xr-var-dtype'>int64</div><div class='xr-var-preview xr-preview'>...</div><input id='attrs-9cca2511-2151-486c-a9df-e8aca60d4719' class='xr-var-attrs-in' type='checkbox' ><label for='attrs-9cca2511-2151-486c-a9df-e8aca60d4719' title='Show/Hide attributes'><svg class='icon xr-icon-file-text2'><use xlink:href='#icon-file-text2'></use></svg></label><input id='data-a6627fa7-01fd-4b14-a1e1-8832b0cf419a' class='xr-var-data-in' type='checkbox'><label for='data-a6627fa7-01fd-4b14-a1e1-8832b0cf419a' title='Show/Hide data repr'><svg class='icon xr-icon-database'><use xlink:href='#icon-database'></use></svg></label><div class='xr-var-attrs'><dl class='xr-attrs'><dt><span>GeoTransform :</span></dt><dd>0.04999999927012507 0.1000000044399821 0.0 81.85000305501823 0.0 -0.10000000652085003</dd><dt><span>crs_wkt :</span></dt><dd>GEOGCS[&quot;WGS 84&quot;,DATUM[&quot;WGS_1984&quot;,SPHEROID[&quot;WGS 84&quot;,6378137,298.257223563,AUTHORITY[&quot;EPSG&quot;,&quot;7030&quot;]],AUTHORITY[&quot;EPSG&quot;,&quot;6326&quot;]],PRIMEM[&quot;Greenwich&quot;,0,AUTHORITY[&quot;EPSG&quot;,&quot;8901&quot;]],UNIT[&quot;degree&quot;,0.0174532925199433,AUTHORITY[&quot;EPSG&quot;,&quot;9122&quot;]],AXIS[&quot;Latitude&quot;,NORTH],AXIS[&quot;Longitude&quot;,EAST],AUTHORITY[&quot;EPSG&quot;,&quot;4326&quot;]]</dd><dt><span>geographic_crs_name :</span></dt><dd>WGS 84</dd><dt><span>grid_mapping_name :</span></dt><dd>latitude_longitude</dd><dt><span>horizontal_datum_name :</span></dt><dd>World Geodetic System 1984</dd><dt><span>inverse_flattening :</span></dt><dd>298.257223563</dd><dt><span>longitude_of_prime_meridian :</span></dt><dd>0.0</dd><dt><span>prime_meridian_name :</span></dt><dd>Greenwich</dd><dt><span>reference_ellipsoid_name :</span></dt><dd>WGS 84</dd><dt><span>semi_major_axis :</span></dt><dd>6378137.0</dd><dt><span>semi_minor_axis :</span></dt><dd>6356752.314245179</dd><dt><span>spatial_ref :</span></dt><dd>GEOGCS[&quot;WGS 84&quot;,DATUM[&quot;WGS_1984&quot;,SPHEROID[&quot;WGS 84&quot;,6378137,298.257223563,AUTHORITY[&quot;EPSG&quot;,&quot;7030&quot;]],AUTHORITY[&quot;EPSG&quot;,&quot;6326&quot;]],PRIMEM[&quot;Greenwich&quot;,0,AUTHORITY[&quot;EPSG&quot;,&quot;8901&quot;]],UNIT[&quot;degree&quot;,0.0174532925199433,AUTHORITY[&quot;EPSG&quot;,&quot;9122&quot;]],AXIS[&quot;Latitude&quot;,NORTH],AXIS[&quot;Longitude&quot;,EAST],AUTHORITY[&quot;EPSG&quot;,&quot;4326&quot;]]</dd></dl></div><div class='xr-var-data'><pre>array(0)</pre></div></li></ul></div></li><li class='xr-section-item'><input id='section-716ecbbd-aa0e-434f-855a-00887e6344fd' class='xr-section-summary-in' type='checkbox' disabled ><label for='section-716ecbbd-aa0e-434f-855a-00887e6344fd' class='xr-section-summary'  title='Expand/collapse section'>Attributes: <span>(0)</span></label><div class='xr-section-inline-details'></div><div class='xr-section-details'><dl class='xr-attrs'></dl></div></li></ul></div></div>"
      ],
      "text/plain": [
       "<xarray.Dataset>\n",
       "Dimensions:      (time: 264, latitude: 469, longitude: 688)\n",
       "Coordinates:\n",
       "  * latitude     (latitude) float64 81.8 81.7 81.6 81.5 ... 35.3 35.2 35.1 35.0\n",
       "  * longitude    (longitude) float64 0.1 0.2 0.3 0.4 0.5 ... 68.5 68.6 68.7 68.8\n",
       "  * time         (time) datetime64[ns] 2014-01-31 ... 2014-02-10T23:00:00\n",
       "Data variables:\n",
       "    Actot        (time, latitude, longitude) float64 dask.array<chunksize=(125, 200, 200), meta=np.ndarray>\n",
       "    Gtot         (time, latitude, longitude) float64 dask.array<chunksize=(125, 200, 200), meta=np.ndarray>\n",
       "    Htot         (time, latitude, longitude) float64 dask.array<chunksize=(125, 200, 200), meta=np.ndarray>\n",
       "    LEtot        (time, latitude, longitude) float64 dask.array<chunksize=(125, 200, 200), meta=np.ndarray>\n",
       "    Rntot        (time, latitude, longitude) float64 dask.array<chunksize=(125, 200, 200), meta=np.ndarray>\n",
       "    SIF685       (time, latitude, longitude) float64 dask.array<chunksize=(125, 200, 200), meta=np.ndarray>\n",
       "    SIF740       (time, latitude, longitude) float64 dask.array<chunksize=(125, 200, 200), meta=np.ndarray>\n",
       "    spatial_ref  int64 ..."
      ]
     },
     "execution_count": 90,
     "metadata": {},
     "output_type": "execute_result"
    }
   ],
   "source": [
    "LEH2014"
   ]
  },
  {
   "cell_type": "code",
   "execution_count": 97,
   "id": "3c1eddcf-6aee-4711-bbbc-6ef68f12b3d3",
   "metadata": {
    "tags": []
   },
   "outputs": [
    {
     "data": {
      "text/plain": [
       "<matplotlib.collections.QuadMesh at 0x1469b33a34f0>"
      ]
     },
     "execution_count": 97,
     "metadata": {},
     "output_type": "execute_result"
    },
    {
     "data": {
      "image/png": "[encoded data removed]",
      "text/plain": [
       "<Figure size 640x480 with 2 Axes>"
      ]
     },
     "metadata": {},
     "output_type": "display_data"
    }
   ],
   "source": [
    "# first show spatial distribution\n",
    "LEH2014.Rntot[2,:].plot() ## index from 1 to -24 has data"
   ]
  },
  {
   "cell_type": "code",
   "execution_count": 81,
   "id": "772a39a2-bde4-424b-b333-527d9b1f6719",
   "metadata": {
    "tags": []
   },
   "outputs": [
    {
     "data": {
      "text/plain": [
       "[<matplotlib.lines.Line2D at 0x1469b3d59fd0>]"
      ]
     },
     "execution_count": 81,
     "metadata": {},
     "output_type": "execute_result"
    },
    {
     "data": {
      "image/png": "[encoded data removed]",
      "text/plain": [
       "<Figure size 640x480 with 1 Axes>"
      ]
     },
     "metadata": {},
     "output_type": "display_data"
    }
   ],
   "source": [
    "# then randomly select one pixel to show time series change\n",
    "LEH2014.Rntot.sel(latitude=(50),longitude=(40)).plot() # unit is W/m2"
   ]
  }
 ],
 "metadata": {
  "kernelspec": {
   "display_name": "Python 3 (ipykernel)",
   "language": "python",
   "name": "python3"
  },
  "language_info": {
   "codemirror_mode": {
    "name": "ipython",
    "version": 3
   },
   "file_extension": ".py",
   "mimetype": "text/x-python",
   "name": "python",
   "nbconvert_exporter": "python",
   "pygments_lexer": "ipython3",
   "version": "3.9.16"
  }
 },
 "nbformat": 4,
 "nbformat_minor": 5
}
