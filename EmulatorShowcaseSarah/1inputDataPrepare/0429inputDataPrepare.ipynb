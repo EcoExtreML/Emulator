{
 "cells": [
  {
   "cell_type": "markdown",
   "id": "5e5d9099-d7e1-41d0-b0a1-8ec2ec25a7ef",
   "metadata": {},
   "source": [
    "clip the preprocessed input data into Europe 0-68 degree and 10 days"
   ]
  },
  {
   "cell_type": "code",
   "execution_count": 166,
   "id": "b853c432-ffcc-4bce-949c-3f92a72f5482",
   "metadata": {
    "tags": []
   },
   "outputs": [],
   "source": [
    "import xarray as xr"
   ]
  },
  {
   "cell_type": "code",
   "execution_count": 167,
   "id": "e91a66ee-3639-4b12-a6e7-9b5237bb8704",
   "metadata": {
    "tags": []
   },
   "outputs": [],
   "source": [
    "year = 2014"
   ]
  },
  {
   "cell_type": "code",
   "execution_count": 168,
   "id": "1dbc97db-02d1-414a-861c-1172f586397e",
   "metadata": {
    "tags": []
   },
   "outputs": [],
   "source": [
    "ROOT_DIR = '/gpfs/work2/0/ttse0619'\n",
    "DATA_DIR = f'{ROOT_DIR}/qianqian/global_data_Qianqian/1input_data/{year}global'\n",
    "ERA5_PATH = f'{DATA_DIR}/era5land/era5land.zarr'\n",
    "LAI_PATH = f'{DATA_DIR}/lai_v2/lai_v2.zarr'\n",
    "SSM_PATH = f'{DATA_DIR}/ssm/ssm_global.zarr'\n",
    "CO2_PATH = f'{DATA_DIR}/co2/co2.zarr'\n",
    "LANDCOVER_PATH = f'{DATA_DIR}/igbp/landcover_snellius.zarr'\n",
    "IGBP_CLASS_PATH = f'{ROOT_DIR}/qianqian/global_data_Qianqian/1input_data/IGBP11unique.csv'\n",
    "IGBP_TABLE_PATH = f'{ROOT_DIR}/qianqian/global_data_Qianqian/1input_data/{year}global/igbp/lccs_to_igbp_table.csv' \n",
    "hc_PATH = f'{DATA_DIR}/canopy_height/hc_global.zarr'\n",
    "VCMAX_PATH = f'{DATA_DIR}/vcmax/vcmax_fillnan.zarr'"
   ]
  },
  {
   "cell_type": "code",
   "execution_count": 169,
   "id": "8d7a70a2-3817-4b02-be1f-3ba8f4491339",
   "metadata": {
    "tags": []
   },
   "outputs": [],
   "source": [
    "OUT_DIR = (\n",
    "    f'{ROOT_DIR}/qianqian/global_data_Qianqian/'\n",
    "    f'1input_data/{year}EmulatorShowcaseSarah/'\n",
    ")"
   ]
  },
  {
   "cell_type": "markdown",
   "id": "a0998390-ba37-4d64-86ef-679464812aaf",
   "metadata": {},
   "source": [
    "## 3) read data"
   ]
  },
  {
   "cell_type": "code",
   "execution_count": 170,
   "id": "a8c4f8e8-71f0-4eb4-9311-8108e246d750",
   "metadata": {
    "tags": []
   },
   "outputs": [],
   "source": [
    "## 0) read era5land data\n",
    "era5 = xr.open_zarr(ERA5_PATH)"
   ]
  },
  {
   "cell_type": "code",
   "execution_count": 172,
   "id": "1bb58e87-3de8-4434-b018-25a0489fb050",
   "metadata": {
    "tags": []
   },
   "outputs": [],
   "source": [
    "era5 = era5.sel(\n",
    "    latitude=slice(81.85192337, 34.93055094), \n",
    "    longitude=slice(0, 68.93136141), \n",
    ").sel(time=slice(\"2014-1-31\",\"2014-02-10\"))"
   ]
  },
  {
   "cell_type": "code",
   "execution_count": 173,
   "id": "9b28d1ce-05f3-4668-af90-b0263afb00b9",
   "metadata": {
    "tags": []
   },
   "outputs": [],
   "source": [
    "era5 = era5.chunk(\n",
    "    time=-1, \n",
    "    longitude=250, \n",
    "    latitude=250\n",
    ")"
   ]
  },
  {
   "cell_type": "code",
   "execution_count": 174,
   "id": "c310f9dd-ece3-43b8-8bf0-3391a297fd65",
   "metadata": {
    "tags": []
   },
   "outputs": [
    {
     "data": {
      "text/plain": [
       "((263,), (250, 219), (250, 250, 190))"
      ]
     },
     "execution_count": 174,
     "metadata": {},
     "output_type": "execute_result"
    }
   ],
   "source": [
    "era5.sp.chunks"
   ]
  },
  {
   "cell_type": "code",
   "execution_count": null,
   "id": "87aa1317-e551-4f9e-823c-ea2bcac078d7",
   "metadata": {
    "tags": []
   },
   "outputs": [],
   "source": [
    "%%time\n",
    "zarr_path = f'{OUT_DIR}/era5land/era5land.zarr'\n",
    "era5.to_zarr(zarr_path, mode='w')"
   ]
  },
  {
   "cell_type": "code",
   "execution_count": 132,
   "id": "660820d6-d957-4ded-957b-7514ca808480",
   "metadata": {
    "tags": []
   },
   "outputs": [],
   "source": [
    "era5global = era5.sel(time=slice(\"2014-02-01T01:00:00.000000000\",\"2014-02-01T02:00:00.000000000\")).chunk(\n",
    "    time=-1\n",
    ")"
   ]
  },
  {
   "cell_type": "code",
   "execution_count": null,
   "id": "1628ffc5-6cdc-4572-a275-193bd46b3fa6",
   "metadata": {
    "tags": []
   },
   "outputs": [],
   "source": [
    "%%time\n",
    "zarr_path = f'{OUT_DIR}/era5land/era5land_global.zarr'\n",
    "era5global.to_zarr(zarr_path, mode='w')"
   ]
  },
  {
   "cell_type": "code",
   "execution_count": 33,
   "id": "301128ac-c81e-4257-8ac5-ffb04f70cfe5",
   "metadata": {
    "tags": []
   },
   "outputs": [],
   "source": [
    "### 1) read LAI data\n",
    "LAI = xr.open_zarr(LAI_PATH)"
   ]
  },
  {
   "cell_type": "code",
   "execution_count": 36,
   "id": "b5b55b5c-3157-4dfb-b0ba-2b3fdfa498cd",
   "metadata": {
    "tags": []
   },
   "outputs": [],
   "source": [
    "LAI = LAI.sel(\n",
    "    latitude=slice(81.85192337, 34.93055094), \n",
    "    longitude=slice(0, 68.93136141),  \n",
    ").sel(time=slice(\"2014-01-31\",\"2014-02-10\"))"
   ]
  },
  {
   "cell_type": "code",
   "execution_count": 40,
   "id": "7c7e21d2-ea83-4978-901b-0342cb515736",
   "metadata": {
    "tags": []
   },
   "outputs": [],
   "source": [
    "LAI = LAI.chunk(\n",
    "    time=-1, \n",
    "    longitude=250, \n",
    "    latitude=250\n",
    ")"
   ]
  },
  {
   "cell_type": "code",
   "execution_count": 43,
   "id": "bc7904d2-81cd-4386-a37e-f7a023add58f",
   "metadata": {
    "tags": []
   },
   "outputs": [
    {
     "name": "stdout",
     "output_type": "stream",
     "text": [
      "CPU times: user 164 ms, sys: 21.8 ms, total: 186 ms\n",
      "Wall time: 253 ms\n"
     ]
    },
    {
     "data": {
      "text/plain": [
       "<xarray.backends.zarr.ZarrStore at 0x154fcef9e7b0>"
      ]
     },
     "execution_count": 43,
     "metadata": {},
     "output_type": "execute_result"
    }
   ],
   "source": [
    "%%time\n",
    "zarr_path = f'{OUT_DIR}/lai_v2/lai_v2.zarr'\n",
    "LAI.to_zarr(zarr_path, mode='w')"
   ]
  },
  {
   "cell_type": "code",
   "execution_count": 48,
   "id": "9a2c2c9e-10ce-4725-8891-afba6dc808e4",
   "metadata": {
    "tags": []
   },
   "outputs": [],
   "source": [
    "### 2) read SSM data\n",
    "SSM = xr.open_zarr(SSM_PATH)"
   ]
  },
  {
   "cell_type": "code",
   "execution_count": 49,
   "id": "092e3367-f445-4877-9229-3a6fd6943a25",
   "metadata": {
    "tags": []
   },
   "outputs": [],
   "source": [
    "SSM = SSM.sel(\n",
    "    latitude=slice(81.85192337, 34.93055094), \n",
    "    longitude=slice(0, 68.93136141),  \n",
    ").sel(time=slice(\"2014-01-31\",\"2014-02-10\"))"
   ]
  },
  {
   "cell_type": "code",
   "execution_count": 52,
   "id": "4598ad38-55a5-4957-98f7-aa70173bb913",
   "metadata": {
    "tags": []
   },
   "outputs": [],
   "source": [
    "SSM = SSM.chunk(\n",
    "    time=-1, \n",
    "    longitude=250, \n",
    "    latitude=250\n",
    ")"
   ]
  },
  {
   "cell_type": "code",
   "execution_count": 53,
   "id": "6e76cba6-2c93-43c6-b0da-3010161add32",
   "metadata": {
    "tags": []
   },
   "outputs": [
    {
     "data": {
      "text/plain": [
       "((11,), (250, 219), (250, 250, 190))"
      ]
     },
     "execution_count": 53,
     "metadata": {},
     "output_type": "execute_result"
    }
   ],
   "source": [
    "SSM.SSM.chunks"
   ]
  },
  {
   "cell_type": "code",
   "execution_count": 54,
   "id": "5596f5b9-8091-40f0-b816-1a6ef4dcfa8e",
   "metadata": {
    "tags": []
   },
   "outputs": [
    {
     "name": "stdout",
     "output_type": "stream",
     "text": [
      "CPU times: user 411 ms, sys: 408 ms, total: 819 ms\n",
      "Wall time: 378 ms\n"
     ]
    },
    {
     "data": {
      "text/plain": [
       "<xarray.backends.zarr.ZarrStore at 0x154fcf009040>"
      ]
     },
     "execution_count": 54,
     "metadata": {},
     "output_type": "execute_result"
    }
   ],
   "source": [
    "%%time\n",
    "zarr_path = f'{OUT_DIR}/ssm/ssm.zarr'\n",
    "SSM.to_zarr(zarr_path, mode='w')"
   ]
  },
  {
   "cell_type": "code",
   "execution_count": 61,
   "id": "02bfd6c9-e9db-4438-b203-6e35ba6b79c1",
   "metadata": {
    "tags": []
   },
   "outputs": [],
   "source": [
    "### 3) read CO2 data\n",
    "CO2 = xr.open_zarr(CO2_PATH)\n",
    "CO2 = CO2.sel(\n",
    "    latitude=slice(81.85192337, 34.93055094),  \n",
    "    longitude=slice(0, 68.93136141), \n",
    ").sel(time=slice(\"2014-01-31\",\"2014-02-10\"))"
   ]
  },
  {
   "cell_type": "code",
   "execution_count": 65,
   "id": "cd07dbf5-bfa7-45a8-abcc-e1c16580120b",
   "metadata": {
    "tags": []
   },
   "outputs": [],
   "source": [
    "CO2 = CO2.chunk(\n",
    "    time=-1, \n",
    "    longitude=250, \n",
    "    latitude=250\n",
    ")"
   ]
  },
  {
   "cell_type": "code",
   "execution_count": 66,
   "id": "19d66c11-b565-4ac8-928a-414629ebdb3f",
   "metadata": {
    "tags": []
   },
   "outputs": [
    {
     "name": "stdout",
     "output_type": "stream",
     "text": [
      "CPU times: user 3.48 s, sys: 3.1 s, total: 6.58 s\n",
      "Wall time: 1.17 s\n"
     ]
    },
    {
     "data": {
      "text/plain": [
       "<xarray.backends.zarr.ZarrStore at 0x154fcc7a0a50>"
      ]
     },
     "execution_count": 66,
     "metadata": {},
     "output_type": "execute_result"
    }
   ],
   "source": [
    "%%time\n",
    "zarr_path = f'{OUT_DIR}/co2/co2.zarr'\n",
    "CO2.to_zarr(zarr_path, mode='w')"
   ]
  },
  {
   "cell_type": "markdown",
   "id": "fda3fb7b-881a-4f11-98c3-cad43b492e4d",
   "metadata": {},
   "source": [
    "**Done datasets up to here!** Moving on with landcover\n",
    "\n",
    "----"
   ]
  },
  {
   "cell_type": "code",
   "execution_count": 67,
   "id": "7cebbd65-18f6-4146-97f6-6a983a520f83",
   "metadata": {
    "tags": []
   },
   "outputs": [],
   "source": [
    "## 4) read IGBP data\n",
    "hc = xr.open_zarr(hc_PATH)"
   ]
  },
  {
   "cell_type": "code",
   "execution_count": 68,
   "id": "3319fbe7-7c2e-4295-ade7-9fff88c8079c",
   "metadata": {
    "tags": []
   },
   "outputs": [],
   "source": [
    "hc = hc.sel(\n",
    "    latitude=slice(81.85192337, 34.93055094),  \n",
    "    longitude=slice(0, 68.93136141),  \n",
    ")"
   ]
  },
  {
   "cell_type": "code",
   "execution_count": 71,
   "id": "5ffa2ab5-3bff-4f54-b180-da1dfe936003",
   "metadata": {
    "tags": []
   },
   "outputs": [],
   "source": [
    "hc = hc.chunk( \n",
    "    longitude=250, \n",
    "    latitude=250\n",
    ")"
   ]
  },
  {
   "cell_type": "code",
   "execution_count": 91,
   "id": "d632b33c-2824-4334-a24a-1534b436f6e8",
   "metadata": {
    "tags": []
   },
   "outputs": [
    {
     "name": "stderr",
     "output_type": "stream",
     "text": [
      "/home/qiahan/.local/lib/python3.9/site-packages/IPython/core/displayhook.py:281: UserWarning: Output cache limit (currently 20 entries) hit.\n",
      "Flushing oldest 4 entries.\n",
      "  warn('Output cache limit (currently {sz} entries) hit.\\n'\n"
     ]
    },
    {
     "data": {
      "text/html": [
       "<div><svg style=\"position: absolute; width: 0; height: 0; overflow: hidden\">\n",
       "<defs>\n",
       "<symbol id=\"icon-database\" viewBox=\"0 0 32 32\">\n",
       "<path d=\"M16 0c-8.837 0-16 2.239-16 5v4c0 2.761 7.163 5 16 5s16-2.239 16-5v-4c0-2.761-7.163-5-16-5z\"></path>\n",
       "<path d=\"M16 17c-8.837 0-16-2.239-16-5v6c0 2.761 7.163 5 16 5s16-2.239 16-5v-6c0 2.761-7.163 5-16 5z\"></path>\n",
       "<path d=\"M16 26c-8.837 0-16-2.239-16-5v6c0 2.761 7.163 5 16 5s16-2.239 16-5v-6c0 2.761-7.163 5-16 5z\"></path>\n",
       "</symbol>\n",
       "<symbol id=\"icon-file-text2\" viewBox=\"0 0 32 32\">\n",
       "<path d=\"M28.681 7.159c-0.694-0.947-1.662-2.053-2.724-3.116s-2.169-2.030-3.116-2.724c-1.612-1.182-2.393-1.319-2.841-1.319h-15.5c-1.378 0-2.5 1.121-2.5 2.5v27c0 1.378 1.122 2.5 2.5 2.5h23c1.378 0 2.5-1.122 2.5-2.5v-19.5c0-0.448-0.137-1.23-1.319-2.841zM24.543 5.457c0.959 0.959 1.712 1.825 2.268 2.543h-4.811v-4.811c0.718 0.556 1.584 1.309 2.543 2.268zM28 29.5c0 0.271-0.229 0.5-0.5 0.5h-23c-0.271 0-0.5-0.229-0.5-0.5v-27c0-0.271 0.229-0.5 0.5-0.5 0 0 15.499-0 15.5 0v7c0 0.552 0.448 1 1 1h7v19.5z\"></path>\n",
       "<path d=\"M23 26h-14c-0.552 0-1-0.448-1-1s0.448-1 1-1h14c0.552 0 1 0.448 1 1s-0.448 1-1 1z\"></path>\n",
       "<path d=\"M23 22h-14c-0.552 0-1-0.448-1-1s0.448-1 1-1h14c0.552 0 1 0.448 1 1s-0.448 1-1 1z\"></path>\n",
       "<path d=\"M23 18h-14c-0.552 0-1-0.448-1-1s0.448-1 1-1h14c0.552 0 1 0.448 1 1s-0.448 1-1 1z\"></path>\n",
       "</symbol>\n",
       "</defs>\n",
       "</svg>\n",
       "<style>/* CSS stylesheet for displaying xarray objects in jupyterlab.\n",
       " *\n",
       " */\n",
       "\n",
       ":root {\n",
       "  --xr-font-color0: var(--jp-content-font-color0, rgba(0, 0, 0, 1));\n",
       "  --xr-font-color2: var(--jp-content-font-color2, rgba(0, 0, 0, 0.54));\n",
       "  --xr-font-color3: var(--jp-content-font-color3, rgba(0, 0, 0, 0.38));\n",
       "  --xr-border-color: var(--jp-border-color2, #e0e0e0);\n",
       "  --xr-disabled-color: var(--jp-layout-color3, #bdbdbd);\n",
       "  --xr-background-color: var(--jp-layout-color0, white);\n",
       "  --xr-background-color-row-even: var(--jp-layout-color1, white);\n",
       "  --xr-background-color-row-odd: var(--jp-layout-color2, #eeeeee);\n",
       "}\n",
       "\n",
       "html[theme=dark],\n",
       "body[data-theme=dark],\n",
       "body.vscode-dark {\n",
       "  --xr-font-color0: rgba(255, 255, 255, 1);\n",
       "  --xr-font-color2: rgba(255, 255, 255, 0.54);\n",
       "  --xr-font-color3: rgba(255, 255, 255, 0.38);\n",
       "  --xr-border-color: #1F1F1F;\n",
       "  --xr-disabled-color: #515151;\n",
       "  --xr-background-color: #111111;\n",
       "  --xr-background-color-row-even: #111111;\n",
       "  --xr-background-color-row-odd: #313131;\n",
       "}\n",
       "\n",
       ".xr-wrap {\n",
       "  display: block !important;\n",
       "  min-width: 300px;\n",
       "  max-width: 700px;\n",
       "}\n",
       "\n",
       ".xr-text-repr-fallback {\n",
       "  /* fallback to plain text repr when CSS is not injected (untrusted notebook) */\n",
       "  display: none;\n",
       "}\n",
       "\n",
       ".xr-header {\n",
       "  padding-top: 6px;\n",
       "  padding-bottom: 6px;\n",
       "  margin-bottom: 4px;\n",
       "  border-bottom: solid 1px var(--xr-border-color);\n",
       "}\n",
       "\n",
       ".xr-header > div,\n",
       ".xr-header > ul {\n",
       "  display: inline;\n",
       "  margin-top: 0;\n",
       "  margin-bottom: 0;\n",
       "}\n",
       "\n",
       ".xr-obj-type,\n",
       ".xr-array-name {\n",
       "  margin-left: 2px;\n",
       "  margin-right: 10px;\n",
       "}\n",
       "\n",
       ".xr-obj-type {\n",
       "  color: var(--xr-font-color2);\n",
       "}\n",
       "\n",
       ".xr-sections {\n",
       "  padding-left: 0 !important;\n",
       "  display: grid;\n",
       "  grid-template-columns: 150px auto auto 1fr 20px 20px;\n",
       "}\n",
       "\n",
       ".xr-section-item {\n",
       "  display: contents;\n",
       "}\n",
       "\n",
       ".xr-section-item input {\n",
       "  display: none;\n",
       "}\n",
       "\n",
       ".xr-section-item input + label {\n",
       "  color: var(--xr-disabled-color);\n",
       "}\n",
       "\n",
       ".xr-section-item input:enabled + label {\n",
       "  cursor: pointer;\n",
       "  color: var(--xr-font-color2);\n",
       "}\n",
       "\n",
       ".xr-section-item input:enabled + label:hover {\n",
       "  color: var(--xr-font-color0);\n",
       "}\n",
       "\n",
       ".xr-section-summary {\n",
       "  grid-column: 1;\n",
       "  color: var(--xr-font-color2);\n",
       "  font-weight: 500;\n",
       "}\n",
       "\n",
       ".xr-section-summary > span {\n",
       "  display: inline-block;\n",
       "  padding-left: 0.5em;\n",
       "}\n",
       "\n",
       ".xr-section-summary-in:disabled + label {\n",
       "  color: var(--xr-font-color2);\n",
       "}\n",
       "\n",
       ".xr-section-summary-in + label:before {\n",
       "  display: inline-block;\n",
       "  content: '►';\n",
       "  font-size: 11px;\n",
       "  width: 15px;\n",
       "  text-align: center;\n",
       "}\n",
       "\n",
       ".xr-section-summary-in:disabled + label:before {\n",
       "  color: var(--xr-disabled-color);\n",
       "}\n",
       "\n",
       ".xr-section-summary-in:checked + label:before {\n",
       "  content: '▼';\n",
       "}\n",
       "\n",
       ".xr-section-summary-in:checked + label > span {\n",
       "  display: none;\n",
       "}\n",
       "\n",
       ".xr-section-summary,\n",
       ".xr-section-inline-details {\n",
       "  padding-top: 4px;\n",
       "  padding-bottom: 4px;\n",
       "}\n",
       "\n",
       ".xr-section-inline-details {\n",
       "  grid-column: 2 / -1;\n",
       "}\n",
       "\n",
       ".xr-section-details {\n",
       "  display: none;\n",
       "  grid-column: 1 / -1;\n",
       "  margin-bottom: 5px;\n",
       "}\n",
       "\n",
       ".xr-section-summary-in:checked ~ .xr-section-details {\n",
       "  display: contents;\n",
       "}\n",
       "\n",
       ".xr-array-wrap {\n",
       "  grid-column: 1 / -1;\n",
       "  display: grid;\n",
       "  grid-template-columns: 20px auto;\n",
       "}\n",
       "\n",
       ".xr-array-wrap > label {\n",
       "  grid-column: 1;\n",
       "  vertical-align: top;\n",
       "}\n",
       "\n",
       ".xr-preview {\n",
       "  color: var(--xr-font-color3);\n",
       "}\n",
       "\n",
       ".xr-array-preview,\n",
       ".xr-array-data {\n",
       "  padding: 0 5px !important;\n",
       "  grid-column: 2;\n",
       "}\n",
       "\n",
       ".xr-array-data,\n",
       ".xr-array-in:checked ~ .xr-array-preview {\n",
       "  display: none;\n",
       "}\n",
       "\n",
       ".xr-array-in:checked ~ .xr-array-data,\n",
       ".xr-array-preview {\n",
       "  display: inline-block;\n",
       "}\n",
       "\n",
       ".xr-dim-list {\n",
       "  display: inline-block !important;\n",
       "  list-style: none;\n",
       "  padding: 0 !important;\n",
       "  margin: 0;\n",
       "}\n",
       "\n",
       ".xr-dim-list li {\n",
       "  display: inline-block;\n",
       "  padding: 0;\n",
       "  margin: 0;\n",
       "}\n",
       "\n",
       ".xr-dim-list:before {\n",
       "  content: '(';\n",
       "}\n",
       "\n",
       ".xr-dim-list:after {\n",
       "  content: ')';\n",
       "}\n",
       "\n",
       ".xr-dim-list li:not(:last-child):after {\n",
       "  content: ',';\n",
       "  padding-right: 5px;\n",
       "}\n",
       "\n",
       ".xr-has-index {\n",
       "  font-weight: bold;\n",
       "}\n",
       "\n",
       ".xr-var-list,\n",
       ".xr-var-item {\n",
       "  display: contents;\n",
       "}\n",
       "\n",
       ".xr-var-item > div,\n",
       ".xr-var-item label,\n",
       ".xr-var-item > .xr-var-name span {\n",
       "  background-color: var(--xr-background-color-row-even);\n",
       "  margin-bottom: 0;\n",
       "}\n",
       "\n",
       ".xr-var-item > .xr-var-name:hover span {\n",
       "  padding-right: 5px;\n",
       "}\n",
       "\n",
       ".xr-var-list > li:nth-child(odd) > div,\n",
       ".xr-var-list > li:nth-child(odd) > label,\n",
       ".xr-var-list > li:nth-child(odd) > .xr-var-name span {\n",
       "  background-color: var(--xr-background-color-row-odd);\n",
       "}\n",
       "\n",
       ".xr-var-name {\n",
       "  grid-column: 1;\n",
       "}\n",
       "\n",
       ".xr-var-dims {\n",
       "  grid-column: 2;\n",
       "}\n",
       "\n",
       ".xr-var-dtype {\n",
       "  grid-column: 3;\n",
       "  text-align: right;\n",
       "  color: var(--xr-font-color2);\n",
       "}\n",
       "\n",
       ".xr-var-preview {\n",
       "  grid-column: 4;\n",
       "}\n",
       "\n",
       ".xr-var-name,\n",
       ".xr-var-dims,\n",
       ".xr-var-dtype,\n",
       ".xr-preview,\n",
       ".xr-attrs dt {\n",
       "  white-space: nowrap;\n",
       "  overflow: hidden;\n",
       "  text-overflow: ellipsis;\n",
       "  padding-right: 10px;\n",
       "}\n",
       "\n",
       ".xr-var-name:hover,\n",
       ".xr-var-dims:hover,\n",
       ".xr-var-dtype:hover,\n",
       ".xr-attrs dt:hover {\n",
       "  overflow: visible;\n",
       "  width: auto;\n",
       "  z-index: 1;\n",
       "}\n",
       "\n",
       ".xr-var-attrs,\n",
       ".xr-var-data {\n",
       "  display: none;\n",
       "  background-color: var(--xr-background-color) !important;\n",
       "  padding-bottom: 5px !important;\n",
       "}\n",
       "\n",
       ".xr-var-attrs-in:checked ~ .xr-var-attrs,\n",
       ".xr-var-data-in:checked ~ .xr-var-data {\n",
       "  display: block;\n",
       "}\n",
       "\n",
       ".xr-var-data > table {\n",
       "  float: right;\n",
       "}\n",
       "\n",
       ".xr-var-name span,\n",
       ".xr-var-data,\n",
       ".xr-attrs {\n",
       "  padding-left: 25px !important;\n",
       "}\n",
       "\n",
       ".xr-attrs,\n",
       ".xr-var-attrs,\n",
       ".xr-var-data {\n",
       "  grid-column: 1 / -1;\n",
       "}\n",
       "\n",
       "dl.xr-attrs {\n",
       "  padding: 0;\n",
       "  margin: 0;\n",
       "  display: grid;\n",
       "  grid-template-columns: 125px auto;\n",
       "}\n",
       "\n",
       ".xr-attrs dt,\n",
       ".xr-attrs dd {\n",
       "  padding: 0;\n",
       "  margin: 0;\n",
       "  float: left;\n",
       "  padding-right: 10px;\n",
       "  width: auto;\n",
       "}\n",
       "\n",
       ".xr-attrs dt {\n",
       "  font-weight: normal;\n",
       "  grid-column: 1;\n",
       "}\n",
       "\n",
       ".xr-attrs dt:hover span {\n",
       "  display: inline-block;\n",
       "  background: var(--xr-background-color);\n",
       "  padding-right: 10px;\n",
       "}\n",
       "\n",
       ".xr-attrs dd {\n",
       "  grid-column: 2;\n",
       "  white-space: pre-wrap;\n",
       "  word-break: break-all;\n",
       "}\n",
       "\n",
       ".xr-icon-database,\n",
       ".xr-icon-file-text2 {\n",
       "  display: inline-block;\n",
       "  vertical-align: middle;\n",
       "  width: 1em;\n",
       "  height: 1.5em !important;\n",
       "  stroke-width: 0;\n",
       "  stroke: currentColor;\n",
       "  fill: currentColor;\n",
       "}\n",
       "</style><pre class='xr-text-repr-fallback'>&lt;xarray.Dataset&gt;\n",
       "Dimensions:      (latitude: 469, longitude: 690)\n",
       "Coordinates:\n",
       "    band         int64 ...\n",
       "  * latitude     (latitude) float32 81.8 81.7 81.6 81.5 ... 35.3 35.2 35.1 35.0\n",
       "  * longitude    (longitude) float32 0.0 0.1 0.2 0.3 0.4 ... 68.6 68.7 68.8 68.9\n",
       "Data variables:\n",
       "    hc           (latitude, longitude) float32 dask.array&lt;chunksize=(250, 250), meta=np.ndarray&gt;\n",
       "    spatial_ref  int64 ...</pre><div class='xr-wrap' style='display:none'><div class='xr-header'><div class='xr-obj-type'>xarray.Dataset</div></div><ul class='xr-sections'><li class='xr-section-item'><input id='section-73e64ea0-ac96-41b9-b81d-2580111a3b23' class='xr-section-summary-in' type='checkbox' disabled ><label for='section-73e64ea0-ac96-41b9-b81d-2580111a3b23' class='xr-section-summary'  title='Expand/collapse section'>Dimensions:</label><div class='xr-section-inline-details'><ul class='xr-dim-list'><li><span class='xr-has-index'>latitude</span>: 469</li><li><span class='xr-has-index'>longitude</span>: 690</li></ul></div><div class='xr-section-details'></div></li><li class='xr-section-item'><input id='section-16d9d90d-3025-4ac1-b97c-e8c504f420e7' class='xr-section-summary-in' type='checkbox'  checked><label for='section-16d9d90d-3025-4ac1-b97c-e8c504f420e7' class='xr-section-summary' >Coordinates: <span>(3)</span></label><div class='xr-section-inline-details'></div><div class='xr-section-details'><ul class='xr-var-list'><li class='xr-var-item'><div class='xr-var-name'><span>band</span></div><div class='xr-var-dims'>()</div><div class='xr-var-dtype'>int64</div><div class='xr-var-preview xr-preview'>...</div><input id='attrs-7722a0d6-8eb2-41a7-8241-3f82a966843f' class='xr-var-attrs-in' type='checkbox' disabled><label for='attrs-7722a0d6-8eb2-41a7-8241-3f82a966843f' title='Show/Hide attributes'><svg class='icon xr-icon-file-text2'><use xlink:href='#icon-file-text2'></use></svg></label><input id='data-f0adc52e-3ed5-4709-a64e-ec7dbaab740a' class='xr-var-data-in' type='checkbox'><label for='data-f0adc52e-3ed5-4709-a64e-ec7dbaab740a' title='Show/Hide data repr'><svg class='icon xr-icon-database'><use xlink:href='#icon-database'></use></svg></label><div class='xr-var-attrs'><dl class='xr-attrs'></dl></div><div class='xr-var-data'><pre>array(1)</pre></div></li><li class='xr-var-item'><div class='xr-var-name'><span class='xr-has-index'>latitude</span></div><div class='xr-var-dims'>(latitude)</div><div class='xr-var-dtype'>float32</div><div class='xr-var-preview xr-preview'>81.8 81.7 81.6 ... 35.2 35.1 35.0</div><input id='attrs-019ddf9f-4c3e-4fcb-9677-d3d12194fdd8' class='xr-var-attrs-in' type='checkbox' ><label for='attrs-019ddf9f-4c3e-4fcb-9677-d3d12194fdd8' title='Show/Hide attributes'><svg class='icon xr-icon-file-text2'><use xlink:href='#icon-file-text2'></use></svg></label><input id='data-16f38400-af63-4cd1-8259-170f1d89fcf5' class='xr-var-data-in' type='checkbox'><label for='data-16f38400-af63-4cd1-8259-170f1d89fcf5' title='Show/Hide data repr'><svg class='icon xr-icon-database'><use xlink:href='#icon-database'></use></svg></label><div class='xr-var-attrs'><dl class='xr-attrs'><dt><span>axis :</span></dt><dd>Y</dd><dt><span>long_name :</span></dt><dd>latitude</dd><dt><span>standard_name :</span></dt><dd>latitude</dd><dt><span>units :</span></dt><dd>degrees_north</dd></dl></div><div class='xr-var-data'><pre>array([81.8, 81.7, 81.6, ..., 35.2, 35.1, 35. ], dtype=float32)</pre></div></li><li class='xr-var-item'><div class='xr-var-name'><span class='xr-has-index'>longitude</span></div><div class='xr-var-dims'>(longitude)</div><div class='xr-var-dtype'>float32</div><div class='xr-var-preview xr-preview'>0.0 0.1 0.2 0.3 ... 68.7 68.8 68.9</div><input id='attrs-c5658553-7f86-4cc8-9e8b-9917ed165894' class='xr-var-attrs-in' type='checkbox' disabled><label for='attrs-c5658553-7f86-4cc8-9e8b-9917ed165894' title='Show/Hide attributes'><svg class='icon xr-icon-file-text2'><use xlink:href='#icon-file-text2'></use></svg></label><input id='data-31847a69-f979-43c3-8b9d-72914ff2244a' class='xr-var-data-in' type='checkbox'><label for='data-31847a69-f979-43c3-8b9d-72914ff2244a' title='Show/Hide data repr'><svg class='icon xr-icon-database'><use xlink:href='#icon-database'></use></svg></label><div class='xr-var-attrs'><dl class='xr-attrs'></dl></div><div class='xr-var-data'><pre>array([ 0.      ,  0.100006,  0.200012, ..., 68.70001 , 68.79999 , 68.899994],\n",
       "      dtype=float32)</pre></div></li></ul></div></li><li class='xr-section-item'><input id='section-1cd7c83a-42a9-4053-bef6-60d127a63f22' class='xr-section-summary-in' type='checkbox'  checked><label for='section-1cd7c83a-42a9-4053-bef6-60d127a63f22' class='xr-section-summary' >Data variables: <span>(2)</span></label><div class='xr-section-inline-details'></div><div class='xr-section-details'><ul class='xr-var-list'><li class='xr-var-item'><div class='xr-var-name'><span>hc</span></div><div class='xr-var-dims'>(latitude, longitude)</div><div class='xr-var-dtype'>float32</div><div class='xr-var-preview xr-preview'>dask.array&lt;chunksize=(250, 250), meta=np.ndarray&gt;</div><input id='attrs-95896897-9176-47e8-a571-a8749a4ff4bf' class='xr-var-attrs-in' type='checkbox' ><label for='attrs-95896897-9176-47e8-a571-a8749a4ff4bf' title='Show/Hide attributes'><svg class='icon xr-icon-file-text2'><use xlink:href='#icon-file-text2'></use></svg></label><input id='data-29b7df58-e637-4357-b795-94e5f4eb9717' class='xr-var-data-in' type='checkbox'><label for='data-29b7df58-e637-4357-b795-94e5f4eb9717' title='Show/Hide data repr'><svg class='icon xr-icon-database'><use xlink:href='#icon-database'></use></svg></label><div class='xr-var-attrs'><dl class='xr-attrs'><dt><span>AREA_OR_POINT :</span></dt><dd>Area</dd><dt><span>grid_mapping :</span></dt><dd>spatial_ref</dd><dt><span>long_name :</span></dt><dd>b1</dd></dl></div><div class='xr-var-data'><table>\n",
       "    <tr>\n",
       "        <td>\n",
       "            <table style=\"border-collapse: collapse;\">\n",
       "                <thead>\n",
       "                    <tr>\n",
       "                        <td> </td>\n",
       "                        <th> Array </th>\n",
       "                        <th> Chunk </th>\n",
       "                    </tr>\n",
       "                </thead>\n",
       "                <tbody>\n",
       "                    \n",
       "                    <tr>\n",
       "                        <th> Bytes </th>\n",
       "                        <td> 1.23 MiB </td>\n",
       "                        <td> 244.14 kiB </td>\n",
       "                    </tr>\n",
       "                    \n",
       "                    <tr>\n",
       "                        <th> Shape </th>\n",
       "                        <td> (469, 690) </td>\n",
       "                        <td> (250, 250) </td>\n",
       "                    </tr>\n",
       "                    <tr>\n",
       "                        <th> Dask graph </th>\n",
       "                        <td colspan=\"2\"> 6 chunks in 4 graph layers </td>\n",
       "                    </tr>\n",
       "                    <tr>\n",
       "                        <th> Data type </th>\n",
       "                        <td colspan=\"2\"> float32 numpy.ndarray </td>\n",
       "                    </tr>\n",
       "                </tbody>\n",
       "            </table>\n",
       "        </td>\n",
       "        <td>\n",
       "        <svg width=\"170\" height=\"131\" style=\"stroke:rgb(0,0,0);stroke-width:1\" >\n",
       "\n",
       "  <!-- Horizontal lines -->\n",
       "  <line x1=\"0\" y1=\"0\" x2=\"120\" y2=\"0\" style=\"stroke-width:2\" />\n",
       "  <line x1=\"0\" y1=\"43\" x2=\"120\" y2=\"43\" />\n",
       "  <line x1=\"0\" y1=\"81\" x2=\"120\" y2=\"81\" style=\"stroke-width:2\" />\n",
       "\n",
       "  <!-- Vertical lines -->\n",
       "  <line x1=\"0\" y1=\"0\" x2=\"0\" y2=\"81\" style=\"stroke-width:2\" />\n",
       "  <line x1=\"43\" y1=\"0\" x2=\"43\" y2=\"81\" />\n",
       "  <line x1=\"86\" y1=\"0\" x2=\"86\" y2=\"81\" />\n",
       "  <line x1=\"120\" y1=\"0\" x2=\"120\" y2=\"81\" style=\"stroke-width:2\" />\n",
       "\n",
       "  <!-- Colored Rectangle -->\n",
       "  <polygon points=\"0.0,0.0 120.0,0.0 120.0,81.56521739130434 0.0,81.56521739130434\" style=\"fill:#ECB172A0;stroke-width:0\"/>\n",
       "\n",
       "  <!-- Text -->\n",
       "  <text x=\"60.000000\" y=\"101.565217\" font-size=\"1.0rem\" font-weight=\"100\" text-anchor=\"middle\" >690</text>\n",
       "  <text x=\"140.000000\" y=\"40.782609\" font-size=\"1.0rem\" font-weight=\"100\" text-anchor=\"middle\" transform=\"rotate(-90,140.000000,40.782609)\">469</text>\n",
       "</svg>\n",
       "        </td>\n",
       "    </tr>\n",
       "</table></div></li><li class='xr-var-item'><div class='xr-var-name'><span>spatial_ref</span></div><div class='xr-var-dims'>()</div><div class='xr-var-dtype'>int64</div><div class='xr-var-preview xr-preview'>...</div><input id='attrs-5b98e4e7-9967-4230-9db8-e054178fe4f8' class='xr-var-attrs-in' type='checkbox' ><label for='attrs-5b98e4e7-9967-4230-9db8-e054178fe4f8' title='Show/Hide attributes'><svg class='icon xr-icon-file-text2'><use xlink:href='#icon-file-text2'></use></svg></label><input id='data-62a24f9a-6d32-4cd0-9b30-2c527a1bbd3f' class='xr-var-data-in' type='checkbox'><label for='data-62a24f9a-6d32-4cd0-9b30-2c527a1bbd3f' title='Show/Hide data repr'><svg class='icon xr-icon-database'><use xlink:href='#icon-database'></use></svg></label><div class='xr-var-attrs'><dl class='xr-attrs'><dt><span>GeoTransform :</span></dt><dd>-180.04999999915205 0.09999999830410791 0.0 90.05 0.0 -0.1</dd><dt><span>crs_wkt :</span></dt><dd>GEOGCS[&quot;WGS 84&quot;,DATUM[&quot;WGS_1984&quot;,SPHEROID[&quot;WGS 84&quot;,6378137,298.257223563,AUTHORITY[&quot;EPSG&quot;,&quot;7030&quot;]],AUTHORITY[&quot;EPSG&quot;,&quot;6326&quot;]],PRIMEM[&quot;Greenwich&quot;,0,AUTHORITY[&quot;EPSG&quot;,&quot;8901&quot;]],UNIT[&quot;degree&quot;,0.0174532925199433,AUTHORITY[&quot;EPSG&quot;,&quot;9122&quot;]],AXIS[&quot;Latitude&quot;,NORTH],AXIS[&quot;Longitude&quot;,EAST],AUTHORITY[&quot;EPSG&quot;,&quot;4326&quot;]]</dd><dt><span>geographic_crs_name :</span></dt><dd>WGS 84</dd><dt><span>grid_mapping_name :</span></dt><dd>latitude_longitude</dd><dt><span>horizontal_datum_name :</span></dt><dd>World Geodetic System 1984</dd><dt><span>inverse_flattening :</span></dt><dd>298.257223563</dd><dt><span>longitude_of_prime_meridian :</span></dt><dd>0.0</dd><dt><span>prime_meridian_name :</span></dt><dd>Greenwich</dd><dt><span>reference_ellipsoid_name :</span></dt><dd>WGS 84</dd><dt><span>semi_major_axis :</span></dt><dd>6378137.0</dd><dt><span>semi_minor_axis :</span></dt><dd>6356752.314245179</dd><dt><span>spatial_ref :</span></dt><dd>GEOGCS[&quot;WGS 84&quot;,DATUM[&quot;WGS_1984&quot;,SPHEROID[&quot;WGS 84&quot;,6378137,298.257223563,AUTHORITY[&quot;EPSG&quot;,&quot;7030&quot;]],AUTHORITY[&quot;EPSG&quot;,&quot;6326&quot;]],PRIMEM[&quot;Greenwich&quot;,0,AUTHORITY[&quot;EPSG&quot;,&quot;8901&quot;]],UNIT[&quot;degree&quot;,0.0174532925199433,AUTHORITY[&quot;EPSG&quot;,&quot;9122&quot;]],AXIS[&quot;Latitude&quot;,NORTH],AXIS[&quot;Longitude&quot;,EAST],AUTHORITY[&quot;EPSG&quot;,&quot;4326&quot;]]</dd></dl></div><div class='xr-var-data'><pre>array(0)</pre></div></li></ul></div></li><li class='xr-section-item'><input id='section-d1d6cd72-12e5-4db4-ad90-a5ae9a9c530d' class='xr-section-summary-in' type='checkbox' disabled ><label for='section-d1d6cd72-12e5-4db4-ad90-a5ae9a9c530d' class='xr-section-summary'  title='Expand/collapse section'>Attributes: <span>(0)</span></label><div class='xr-section-inline-details'></div><div class='xr-section-details'><dl class='xr-attrs'></dl></div></li></ul></div></div>"
      ],
      "text/plain": [
       "<xarray.Dataset>\n",
       "Dimensions:      (latitude: 469, longitude: 690)\n",
       "Coordinates:\n",
       "    band         int64 ...\n",
       "  * latitude     (latitude) float32 81.8 81.7 81.6 81.5 ... 35.3 35.2 35.1 35.0\n",
       "  * longitude    (longitude) float32 0.0 0.1 0.2 0.3 0.4 ... 68.6 68.7 68.8 68.9\n",
       "Data variables:\n",
       "    hc           (latitude, longitude) float32 dask.array<chunksize=(250, 250), meta=np.ndarray>\n",
       "    spatial_ref  int64 ..."
      ]
     },
     "execution_count": 91,
     "metadata": {},
     "output_type": "execute_result"
    }
   ],
   "source": [
    "hc"
   ]
  },
  {
   "cell_type": "code",
   "execution_count": 72,
   "id": "0e335536-5488-46f6-8d23-bd087d7bf38e",
   "metadata": {
    "tags": []
   },
   "outputs": [
    {
     "name": "stdout",
     "output_type": "stream",
     "text": [
      "CPU times: user 25 ms, sys: 11.5 ms, total: 36.5 ms\n",
      "Wall time: 216 ms\n"
     ]
    },
    {
     "name": "stderr",
     "output_type": "stream",
     "text": [
      "/home/qiahan/.local/lib/python3.9/site-packages/IPython/core/displayhook.py:281: UserWarning: Output cache limit (currently 20 entries) hit.\n",
      "Flushing oldest 4 entries.\n",
      "  warn('Output cache limit (currently {sz} entries) hit.\\n'\n"
     ]
    },
    {
     "data": {
      "text/plain": [
       "<xarray.backends.zarr.ZarrStore at 0x154fcef92580>"
      ]
     },
     "execution_count": 72,
     "metadata": {},
     "output_type": "execute_result"
    }
   ],
   "source": [
    "%%time\n",
    "zarr_path = f'{OUT_DIR}/canopy_height/hc.zarr'\n",
    "hc.to_zarr(zarr_path, mode='w')"
   ]
  },
  {
   "cell_type": "code",
   "execution_count": 73,
   "id": "cfa10f51-6b7f-4553-92a4-3050ca8dad92",
   "metadata": {
    "tags": []
   },
   "outputs": [],
   "source": [
    "## 5) read Vcmax data\n",
    "vcmax = xr.open_zarr(VCMAX_PATH)"
   ]
  },
  {
   "cell_type": "code",
   "execution_count": 92,
   "id": "0577f37b-1728-472c-ace7-24fa07406308",
   "metadata": {
    "tags": []
   },
   "outputs": [
    {
     "data": {
      "text/html": [
       "<div><svg style=\"position: absolute; width: 0; height: 0; overflow: hidden\">\n",
       "<defs>\n",
       "<symbol id=\"icon-database\" viewBox=\"0 0 32 32\">\n",
       "<path d=\"M16 0c-8.837 0-16 2.239-16 5v4c0 2.761 7.163 5 16 5s16-2.239 16-5v-4c0-2.761-7.163-5-16-5z\"></path>\n",
       "<path d=\"M16 17c-8.837 0-16-2.239-16-5v6c0 2.761 7.163 5 16 5s16-2.239 16-5v-6c0 2.761-7.163 5-16 5z\"></path>\n",
       "<path d=\"M16 26c-8.837 0-16-2.239-16-5v6c0 2.761 7.163 5 16 5s16-2.239 16-5v-6c0 2.761-7.163 5-16 5z\"></path>\n",
       "</symbol>\n",
       "<symbol id=\"icon-file-text2\" viewBox=\"0 0 32 32\">\n",
       "<path d=\"M28.681 7.159c-0.694-0.947-1.662-2.053-2.724-3.116s-2.169-2.030-3.116-2.724c-1.612-1.182-2.393-1.319-2.841-1.319h-15.5c-1.378 0-2.5 1.121-2.5 2.5v27c0 1.378 1.122 2.5 2.5 2.5h23c1.378 0 2.5-1.122 2.5-2.5v-19.5c0-0.448-0.137-1.23-1.319-2.841zM24.543 5.457c0.959 0.959 1.712 1.825 2.268 2.543h-4.811v-4.811c0.718 0.556 1.584 1.309 2.543 2.268zM28 29.5c0 0.271-0.229 0.5-0.5 0.5h-23c-0.271 0-0.5-0.229-0.5-0.5v-27c0-0.271 0.229-0.5 0.5-0.5 0 0 15.499-0 15.5 0v7c0 0.552 0.448 1 1 1h7v19.5z\"></path>\n",
       "<path d=\"M23 26h-14c-0.552 0-1-0.448-1-1s0.448-1 1-1h14c0.552 0 1 0.448 1 1s-0.448 1-1 1z\"></path>\n",
       "<path d=\"M23 22h-14c-0.552 0-1-0.448-1-1s0.448-1 1-1h14c0.552 0 1 0.448 1 1s-0.448 1-1 1z\"></path>\n",
       "<path d=\"M23 18h-14c-0.552 0-1-0.448-1-1s0.448-1 1-1h14c0.552 0 1 0.448 1 1s-0.448 1-1 1z\"></path>\n",
       "</symbol>\n",
       "</defs>\n",
       "</svg>\n",
       "<style>/* CSS stylesheet for displaying xarray objects in jupyterlab.\n",
       " *\n",
       " */\n",
       "\n",
       ":root {\n",
       "  --xr-font-color0: var(--jp-content-font-color0, rgba(0, 0, 0, 1));\n",
       "  --xr-font-color2: var(--jp-content-font-color2, rgba(0, 0, 0, 0.54));\n",
       "  --xr-font-color3: var(--jp-content-font-color3, rgba(0, 0, 0, 0.38));\n",
       "  --xr-border-color: var(--jp-border-color2, #e0e0e0);\n",
       "  --xr-disabled-color: var(--jp-layout-color3, #bdbdbd);\n",
       "  --xr-background-color: var(--jp-layout-color0, white);\n",
       "  --xr-background-color-row-even: var(--jp-layout-color1, white);\n",
       "  --xr-background-color-row-odd: var(--jp-layout-color2, #eeeeee);\n",
       "}\n",
       "\n",
       "html[theme=dark],\n",
       "body[data-theme=dark],\n",
       "body.vscode-dark {\n",
       "  --xr-font-color0: rgba(255, 255, 255, 1);\n",
       "  --xr-font-color2: rgba(255, 255, 255, 0.54);\n",
       "  --xr-font-color3: rgba(255, 255, 255, 0.38);\n",
       "  --xr-border-color: #1F1F1F;\n",
       "  --xr-disabled-color: #515151;\n",
       "  --xr-background-color: #111111;\n",
       "  --xr-background-color-row-even: #111111;\n",
       "  --xr-background-color-row-odd: #313131;\n",
       "}\n",
       "\n",
       ".xr-wrap {\n",
       "  display: block !important;\n",
       "  min-width: 300px;\n",
       "  max-width: 700px;\n",
       "}\n",
       "\n",
       ".xr-text-repr-fallback {\n",
       "  /* fallback to plain text repr when CSS is not injected (untrusted notebook) */\n",
       "  display: none;\n",
       "}\n",
       "\n",
       ".xr-header {\n",
       "  padding-top: 6px;\n",
       "  padding-bottom: 6px;\n",
       "  margin-bottom: 4px;\n",
       "  border-bottom: solid 1px var(--xr-border-color);\n",
       "}\n",
       "\n",
       ".xr-header > div,\n",
       ".xr-header > ul {\n",
       "  display: inline;\n",
       "  margin-top: 0;\n",
       "  margin-bottom: 0;\n",
       "}\n",
       "\n",
       ".xr-obj-type,\n",
       ".xr-array-name {\n",
       "  margin-left: 2px;\n",
       "  margin-right: 10px;\n",
       "}\n",
       "\n",
       ".xr-obj-type {\n",
       "  color: var(--xr-font-color2);\n",
       "}\n",
       "\n",
       ".xr-sections {\n",
       "  padding-left: 0 !important;\n",
       "  display: grid;\n",
       "  grid-template-columns: 150px auto auto 1fr 20px 20px;\n",
       "}\n",
       "\n",
       ".xr-section-item {\n",
       "  display: contents;\n",
       "}\n",
       "\n",
       ".xr-section-item input {\n",
       "  display: none;\n",
       "}\n",
       "\n",
       ".xr-section-item input + label {\n",
       "  color: var(--xr-disabled-color);\n",
       "}\n",
       "\n",
       ".xr-section-item input:enabled + label {\n",
       "  cursor: pointer;\n",
       "  color: var(--xr-font-color2);\n",
       "}\n",
       "\n",
       ".xr-section-item input:enabled + label:hover {\n",
       "  color: var(--xr-font-color0);\n",
       "}\n",
       "\n",
       ".xr-section-summary {\n",
       "  grid-column: 1;\n",
       "  color: var(--xr-font-color2);\n",
       "  font-weight: 500;\n",
       "}\n",
       "\n",
       ".xr-section-summary > span {\n",
       "  display: inline-block;\n",
       "  padding-left: 0.5em;\n",
       "}\n",
       "\n",
       ".xr-section-summary-in:disabled + label {\n",
       "  color: var(--xr-font-color2);\n",
       "}\n",
       "\n",
       ".xr-section-summary-in + label:before {\n",
       "  display: inline-block;\n",
       "  content: '►';\n",
       "  font-size: 11px;\n",
       "  width: 15px;\n",
       "  text-align: center;\n",
       "}\n",
       "\n",
       ".xr-section-summary-in:disabled + label:before {\n",
       "  color: var(--xr-disabled-color);\n",
       "}\n",
       "\n",
       ".xr-section-summary-in:checked + label:before {\n",
       "  content: '▼';\n",
       "}\n",
       "\n",
       ".xr-section-summary-in:checked + label > span {\n",
       "  display: none;\n",
       "}\n",
       "\n",
       ".xr-section-summary,\n",
       ".xr-section-inline-details {\n",
       "  padding-top: 4px;\n",
       "  padding-bottom: 4px;\n",
       "}\n",
       "\n",
       ".xr-section-inline-details {\n",
       "  grid-column: 2 / -1;\n",
       "}\n",
       "\n",
       ".xr-section-details {\n",
       "  display: none;\n",
       "  grid-column: 1 / -1;\n",
       "  margin-bottom: 5px;\n",
       "}\n",
       "\n",
       ".xr-section-summary-in:checked ~ .xr-section-details {\n",
       "  display: contents;\n",
       "}\n",
       "\n",
       ".xr-array-wrap {\n",
       "  grid-column: 1 / -1;\n",
       "  display: grid;\n",
       "  grid-template-columns: 20px auto;\n",
       "}\n",
       "\n",
       ".xr-array-wrap > label {\n",
       "  grid-column: 1;\n",
       "  vertical-align: top;\n",
       "}\n",
       "\n",
       ".xr-preview {\n",
       "  color: var(--xr-font-color3);\n",
       "}\n",
       "\n",
       ".xr-array-preview,\n",
       ".xr-array-data {\n",
       "  padding: 0 5px !important;\n",
       "  grid-column: 2;\n",
       "}\n",
       "\n",
       ".xr-array-data,\n",
       ".xr-array-in:checked ~ .xr-array-preview {\n",
       "  display: none;\n",
       "}\n",
       "\n",
       ".xr-array-in:checked ~ .xr-array-data,\n",
       ".xr-array-preview {\n",
       "  display: inline-block;\n",
       "}\n",
       "\n",
       ".xr-dim-list {\n",
       "  display: inline-block !important;\n",
       "  list-style: none;\n",
       "  padding: 0 !important;\n",
       "  margin: 0;\n",
       "}\n",
       "\n",
       ".xr-dim-list li {\n",
       "  display: inline-block;\n",
       "  padding: 0;\n",
       "  margin: 0;\n",
       "}\n",
       "\n",
       ".xr-dim-list:before {\n",
       "  content: '(';\n",
       "}\n",
       "\n",
       ".xr-dim-list:after {\n",
       "  content: ')';\n",
       "}\n",
       "\n",
       ".xr-dim-list li:not(:last-child):after {\n",
       "  content: ',';\n",
       "  padding-right: 5px;\n",
       "}\n",
       "\n",
       ".xr-has-index {\n",
       "  font-weight: bold;\n",
       "}\n",
       "\n",
       ".xr-var-list,\n",
       ".xr-var-item {\n",
       "  display: contents;\n",
       "}\n",
       "\n",
       ".xr-var-item > div,\n",
       ".xr-var-item label,\n",
       ".xr-var-item > .xr-var-name span {\n",
       "  background-color: var(--xr-background-color-row-even);\n",
       "  margin-bottom: 0;\n",
       "}\n",
       "\n",
       ".xr-var-item > .xr-var-name:hover span {\n",
       "  padding-right: 5px;\n",
       "}\n",
       "\n",
       ".xr-var-list > li:nth-child(odd) > div,\n",
       ".xr-var-list > li:nth-child(odd) > label,\n",
       ".xr-var-list > li:nth-child(odd) > .xr-var-name span {\n",
       "  background-color: var(--xr-background-color-row-odd);\n",
       "}\n",
       "\n",
       ".xr-var-name {\n",
       "  grid-column: 1;\n",
       "}\n",
       "\n",
       ".xr-var-dims {\n",
       "  grid-column: 2;\n",
       "}\n",
       "\n",
       ".xr-var-dtype {\n",
       "  grid-column: 3;\n",
       "  text-align: right;\n",
       "  color: var(--xr-font-color2);\n",
       "}\n",
       "\n",
       ".xr-var-preview {\n",
       "  grid-column: 4;\n",
       "}\n",
       "\n",
       ".xr-var-name,\n",
       ".xr-var-dims,\n",
       ".xr-var-dtype,\n",
       ".xr-preview,\n",
       ".xr-attrs dt {\n",
       "  white-space: nowrap;\n",
       "  overflow: hidden;\n",
       "  text-overflow: ellipsis;\n",
       "  padding-right: 10px;\n",
       "}\n",
       "\n",
       ".xr-var-name:hover,\n",
       ".xr-var-dims:hover,\n",
       ".xr-var-dtype:hover,\n",
       ".xr-attrs dt:hover {\n",
       "  overflow: visible;\n",
       "  width: auto;\n",
       "  z-index: 1;\n",
       "}\n",
       "\n",
       ".xr-var-attrs,\n",
       ".xr-var-data {\n",
       "  display: none;\n",
       "  background-color: var(--xr-background-color) !important;\n",
       "  padding-bottom: 5px !important;\n",
       "}\n",
       "\n",
       ".xr-var-attrs-in:checked ~ .xr-var-attrs,\n",
       ".xr-var-data-in:checked ~ .xr-var-data {\n",
       "  display: block;\n",
       "}\n",
       "\n",
       ".xr-var-data > table {\n",
       "  float: right;\n",
       "}\n",
       "\n",
       ".xr-var-name span,\n",
       ".xr-var-data,\n",
       ".xr-attrs {\n",
       "  padding-left: 25px !important;\n",
       "}\n",
       "\n",
       ".xr-attrs,\n",
       ".xr-var-attrs,\n",
       ".xr-var-data {\n",
       "  grid-column: 1 / -1;\n",
       "}\n",
       "\n",
       "dl.xr-attrs {\n",
       "  padding: 0;\n",
       "  margin: 0;\n",
       "  display: grid;\n",
       "  grid-template-columns: 125px auto;\n",
       "}\n",
       "\n",
       ".xr-attrs dt,\n",
       ".xr-attrs dd {\n",
       "  padding: 0;\n",
       "  margin: 0;\n",
       "  float: left;\n",
       "  padding-right: 10px;\n",
       "  width: auto;\n",
       "}\n",
       "\n",
       ".xr-attrs dt {\n",
       "  font-weight: normal;\n",
       "  grid-column: 1;\n",
       "}\n",
       "\n",
       ".xr-attrs dt:hover span {\n",
       "  display: inline-block;\n",
       "  background: var(--xr-background-color);\n",
       "  padding-right: 10px;\n",
       "}\n",
       "\n",
       ".xr-attrs dd {\n",
       "  grid-column: 2;\n",
       "  white-space: pre-wrap;\n",
       "  word-break: break-all;\n",
       "}\n",
       "\n",
       ".xr-icon-database,\n",
       ".xr-icon-file-text2 {\n",
       "  display: inline-block;\n",
       "  vertical-align: middle;\n",
       "  width: 1em;\n",
       "  height: 1.5em !important;\n",
       "  stroke-width: 0;\n",
       "  stroke: currentColor;\n",
       "  fill: currentColor;\n",
       "}\n",
       "</style><pre class='xr-text-repr-fallback'>&lt;xarray.Dataset&gt;\n",
       "Dimensions:      (band: 1, latitude: 469, longitude: 690)\n",
       "Coordinates:\n",
       "  * band         (band) int64 1\n",
       "  * latitude     (latitude) float32 81.8 81.7 81.6 81.5 ... 35.3 35.2 35.1 35.0\n",
       "  * longitude    (longitude) float32 0.0 0.1 0.2 0.3 0.4 ... 68.6 68.7 68.8 68.9\n",
       "    spatial_ref  int64 ...\n",
       "Data variables:\n",
       "    vcmax        (latitude, longitude, band) float32 dask.array&lt;chunksize=(250, 250, 1), meta=np.ndarray&gt;</pre><div class='xr-wrap' style='display:none'><div class='xr-header'><div class='xr-obj-type'>xarray.Dataset</div></div><ul class='xr-sections'><li class='xr-section-item'><input id='section-f6cf7592-ea07-4b8d-b9ca-2e6f7415e2dd' class='xr-section-summary-in' type='checkbox' disabled ><label for='section-f6cf7592-ea07-4b8d-b9ca-2e6f7415e2dd' class='xr-section-summary'  title='Expand/collapse section'>Dimensions:</label><div class='xr-section-inline-details'><ul class='xr-dim-list'><li><span class='xr-has-index'>band</span>: 1</li><li><span class='xr-has-index'>latitude</span>: 469</li><li><span class='xr-has-index'>longitude</span>: 690</li></ul></div><div class='xr-section-details'></div></li><li class='xr-section-item'><input id='section-3c29a82b-6034-4efb-9c8e-55d850372b72' class='xr-section-summary-in' type='checkbox'  checked><label for='section-3c29a82b-6034-4efb-9c8e-55d850372b72' class='xr-section-summary' >Coordinates: <span>(4)</span></label><div class='xr-section-inline-details'></div><div class='xr-section-details'><ul class='xr-var-list'><li class='xr-var-item'><div class='xr-var-name'><span class='xr-has-index'>band</span></div><div class='xr-var-dims'>(band)</div><div class='xr-var-dtype'>int64</div><div class='xr-var-preview xr-preview'>1</div><input id='attrs-823478a5-c966-4bea-9e5a-8e1fc52df3d7' class='xr-var-attrs-in' type='checkbox' disabled><label for='attrs-823478a5-c966-4bea-9e5a-8e1fc52df3d7' title='Show/Hide attributes'><svg class='icon xr-icon-file-text2'><use xlink:href='#icon-file-text2'></use></svg></label><input id='data-733cac17-023b-4575-924b-310abdefe0bd' class='xr-var-data-in' type='checkbox'><label for='data-733cac17-023b-4575-924b-310abdefe0bd' title='Show/Hide data repr'><svg class='icon xr-icon-database'><use xlink:href='#icon-database'></use></svg></label><div class='xr-var-attrs'><dl class='xr-attrs'></dl></div><div class='xr-var-data'><pre>array([1])</pre></div></li><li class='xr-var-item'><div class='xr-var-name'><span class='xr-has-index'>latitude</span></div><div class='xr-var-dims'>(latitude)</div><div class='xr-var-dtype'>float32</div><div class='xr-var-preview xr-preview'>81.8 81.7 81.6 ... 35.2 35.1 35.0</div><input id='attrs-c96985dc-bbaf-45a3-9c5f-ce6fea53c275' class='xr-var-attrs-in' type='checkbox' disabled><label for='attrs-c96985dc-bbaf-45a3-9c5f-ce6fea53c275' title='Show/Hide attributes'><svg class='icon xr-icon-file-text2'><use xlink:href='#icon-file-text2'></use></svg></label><input id='data-a9db823d-93e4-42c9-8a80-6f0f96741ec5' class='xr-var-data-in' type='checkbox'><label for='data-a9db823d-93e4-42c9-8a80-6f0f96741ec5' title='Show/Hide data repr'><svg class='icon xr-icon-database'><use xlink:href='#icon-database'></use></svg></label><div class='xr-var-attrs'><dl class='xr-attrs'></dl></div><div class='xr-var-data'><pre>array([81.8, 81.7, 81.6, ..., 35.2, 35.1, 35. ], dtype=float32)</pre></div></li><li class='xr-var-item'><div class='xr-var-name'><span class='xr-has-index'>longitude</span></div><div class='xr-var-dims'>(longitude)</div><div class='xr-var-dtype'>float32</div><div class='xr-var-preview xr-preview'>0.0 0.1 0.2 0.3 ... 68.7 68.8 68.9</div><input id='attrs-5416a24e-5dbe-4a92-8335-c0347df7448b' class='xr-var-attrs-in' type='checkbox' disabled><label for='attrs-5416a24e-5dbe-4a92-8335-c0347df7448b' title='Show/Hide attributes'><svg class='icon xr-icon-file-text2'><use xlink:href='#icon-file-text2'></use></svg></label><input id='data-f0d20ae0-c5d1-4d19-87c6-c1c54f739f4a' class='xr-var-data-in' type='checkbox'><label for='data-f0d20ae0-c5d1-4d19-87c6-c1c54f739f4a' title='Show/Hide data repr'><svg class='icon xr-icon-database'><use xlink:href='#icon-database'></use></svg></label><div class='xr-var-attrs'><dl class='xr-attrs'></dl></div><div class='xr-var-data'><pre>array([ 0. ,  0.1,  0.2, ..., 68.7, 68.8, 68.9], dtype=float32)</pre></div></li><li class='xr-var-item'><div class='xr-var-name'><span>spatial_ref</span></div><div class='xr-var-dims'>()</div><div class='xr-var-dtype'>int64</div><div class='xr-var-preview xr-preview'>...</div><input id='attrs-3e47dba2-6a86-49ed-bce2-b1b6140c65af' class='xr-var-attrs-in' type='checkbox' disabled><label for='attrs-3e47dba2-6a86-49ed-bce2-b1b6140c65af' title='Show/Hide attributes'><svg class='icon xr-icon-file-text2'><use xlink:href='#icon-file-text2'></use></svg></label><input id='data-3312007c-f59c-4c05-9fcf-8c6d3009f660' class='xr-var-data-in' type='checkbox'><label for='data-3312007c-f59c-4c05-9fcf-8c6d3009f660' title='Show/Hide data repr'><svg class='icon xr-icon-database'><use xlink:href='#icon-database'></use></svg></label><div class='xr-var-attrs'><dl class='xr-attrs'></dl></div><div class='xr-var-data'><pre>array(0)</pre></div></li></ul></div></li><li class='xr-section-item'><input id='section-5e50f83f-b738-47af-9d00-0e4a23e7354f' class='xr-section-summary-in' type='checkbox'  checked><label for='section-5e50f83f-b738-47af-9d00-0e4a23e7354f' class='xr-section-summary' >Data variables: <span>(1)</span></label><div class='xr-section-inline-details'></div><div class='xr-section-details'><ul class='xr-var-list'><li class='xr-var-item'><div class='xr-var-name'><span>vcmax</span></div><div class='xr-var-dims'>(latitude, longitude, band)</div><div class='xr-var-dtype'>float32</div><div class='xr-var-preview xr-preview'>dask.array&lt;chunksize=(250, 250, 1), meta=np.ndarray&gt;</div><input id='attrs-daab2ba4-bc0c-46f7-9c19-464e44794e79' class='xr-var-attrs-in' type='checkbox' disabled><label for='attrs-daab2ba4-bc0c-46f7-9c19-464e44794e79' title='Show/Hide attributes'><svg class='icon xr-icon-file-text2'><use xlink:href='#icon-file-text2'></use></svg></label><input id='data-0aaaf8eb-ae77-4c6f-acdc-c09a60cf72b1' class='xr-var-data-in' type='checkbox'><label for='data-0aaaf8eb-ae77-4c6f-acdc-c09a60cf72b1' title='Show/Hide data repr'><svg class='icon xr-icon-database'><use xlink:href='#icon-database'></use></svg></label><div class='xr-var-attrs'><dl class='xr-attrs'></dl></div><div class='xr-var-data'><table>\n",
       "    <tr>\n",
       "        <td>\n",
       "            <table style=\"border-collapse: collapse;\">\n",
       "                <thead>\n",
       "                    <tr>\n",
       "                        <td> </td>\n",
       "                        <th> Array </th>\n",
       "                        <th> Chunk </th>\n",
       "                    </tr>\n",
       "                </thead>\n",
       "                <tbody>\n",
       "                    \n",
       "                    <tr>\n",
       "                        <th> Bytes </th>\n",
       "                        <td> 1.23 MiB </td>\n",
       "                        <td> 244.14 kiB </td>\n",
       "                    </tr>\n",
       "                    \n",
       "                    <tr>\n",
       "                        <th> Shape </th>\n",
       "                        <td> (469, 690, 1) </td>\n",
       "                        <td> (250, 250, 1) </td>\n",
       "                    </tr>\n",
       "                    <tr>\n",
       "                        <th> Dask graph </th>\n",
       "                        <td colspan=\"2\"> 6 chunks in 4 graph layers </td>\n",
       "                    </tr>\n",
       "                    <tr>\n",
       "                        <th> Data type </th>\n",
       "                        <td colspan=\"2\"> float32 numpy.ndarray </td>\n",
       "                    </tr>\n",
       "                </tbody>\n",
       "            </table>\n",
       "        </td>\n",
       "        <td>\n",
       "        <svg width=\"133\" height=\"217\" style=\"stroke:rgb(0,0,0);stroke-width:1\" >\n",
       "\n",
       "  <!-- Horizontal lines -->\n",
       "  <line x1=\"10\" y1=\"0\" x2=\"57\" y2=\"47\" style=\"stroke-width:2\" />\n",
       "  <line x1=\"10\" y1=\"43\" x2=\"57\" y2=\"91\" />\n",
       "  <line x1=\"10\" y1=\"86\" x2=\"57\" y2=\"134\" />\n",
       "  <line x1=\"10\" y1=\"120\" x2=\"57\" y2=\"167\" style=\"stroke-width:2\" />\n",
       "\n",
       "  <!-- Vertical lines -->\n",
       "  <line x1=\"10\" y1=\"0\" x2=\"10\" y2=\"120\" style=\"stroke-width:2\" />\n",
       "  <line x1=\"35\" y1=\"25\" x2=\"35\" y2=\"145\" />\n",
       "  <line x1=\"57\" y1=\"47\" x2=\"57\" y2=\"167\" style=\"stroke-width:2\" />\n",
       "\n",
       "  <!-- Colored Rectangle -->\n",
       "  <polygon points=\"10.0,0.0 57.97953964194373,47.97953964194373 57.97953964194373,167.97953964194375 10.0,120.0\" style=\"fill:#ECB172A0;stroke-width:0\"/>\n",
       "\n",
       "  <!-- Horizontal lines -->\n",
       "  <line x1=\"10\" y1=\"0\" x2=\"35\" y2=\"0\" style=\"stroke-width:2\" />\n",
       "  <line x1=\"35\" y1=\"25\" x2=\"60\" y2=\"25\" />\n",
       "  <line x1=\"57\" y1=\"47\" x2=\"83\" y2=\"47\" style=\"stroke-width:2\" />\n",
       "\n",
       "  <!-- Vertical lines -->\n",
       "  <line x1=\"10\" y1=\"0\" x2=\"57\" y2=\"47\" style=\"stroke-width:2\" />\n",
       "  <line x1=\"35\" y1=\"0\" x2=\"83\" y2=\"47\" style=\"stroke-width:2\" />\n",
       "\n",
       "  <!-- Colored Rectangle -->\n",
       "  <polygon points=\"10.0,0.0 35.41261651458248,0.0 83.39215615652621,47.97953964194373 57.97953964194373,47.97953964194373\" style=\"fill:#ECB172A0;stroke-width:0\"/>\n",
       "\n",
       "  <!-- Horizontal lines -->\n",
       "  <line x1=\"57\" y1=\"47\" x2=\"83\" y2=\"47\" style=\"stroke-width:2\" />\n",
       "  <line x1=\"57\" y1=\"91\" x2=\"83\" y2=\"91\" />\n",
       "  <line x1=\"57\" y1=\"134\" x2=\"83\" y2=\"134\" />\n",
       "  <line x1=\"57\" y1=\"167\" x2=\"83\" y2=\"167\" style=\"stroke-width:2\" />\n",
       "\n",
       "  <!-- Vertical lines -->\n",
       "  <line x1=\"57\" y1=\"47\" x2=\"57\" y2=\"167\" style=\"stroke-width:2\" />\n",
       "  <line x1=\"83\" y1=\"47\" x2=\"83\" y2=\"167\" style=\"stroke-width:2\" />\n",
       "\n",
       "  <!-- Colored Rectangle -->\n",
       "  <polygon points=\"57.97953964194373,47.97953964194373 83.39215615652621,47.97953964194373 83.39215615652621,167.97953964194375 57.97953964194373,167.97953964194375\" style=\"fill:#ECB172A0;stroke-width:0\"/>\n",
       "\n",
       "  <!-- Text -->\n",
       "  <text x=\"70.685848\" y=\"187.979540\" font-size=\"1.0rem\" font-weight=\"100\" text-anchor=\"middle\" >1</text>\n",
       "  <text x=\"103.392156\" y=\"107.979540\" font-size=\"1.0rem\" font-weight=\"100\" text-anchor=\"middle\" transform=\"rotate(-90,103.392156,107.979540)\">690</text>\n",
       "  <text x=\"23.989770\" y=\"163.989770\" font-size=\"1.0rem\" font-weight=\"100\" text-anchor=\"middle\" transform=\"rotate(45,23.989770,163.989770)\">469</text>\n",
       "</svg>\n",
       "        </td>\n",
       "    </tr>\n",
       "</table></div></li></ul></div></li><li class='xr-section-item'><input id='section-a6ca2dbf-7c7f-452f-bda1-7ab1060d6598' class='xr-section-summary-in' type='checkbox' disabled ><label for='section-a6ca2dbf-7c7f-452f-bda1-7ab1060d6598' class='xr-section-summary'  title='Expand/collapse section'>Attributes: <span>(0)</span></label><div class='xr-section-inline-details'></div><div class='xr-section-details'><dl class='xr-attrs'></dl></div></li></ul></div></div>"
      ],
      "text/plain": [
       "<xarray.Dataset>\n",
       "Dimensions:      (band: 1, latitude: 469, longitude: 690)\n",
       "Coordinates:\n",
       "  * band         (band) int64 1\n",
       "  * latitude     (latitude) float32 81.8 81.7 81.6 81.5 ... 35.3 35.2 35.1 35.0\n",
       "  * longitude    (longitude) float32 0.0 0.1 0.2 0.3 0.4 ... 68.6 68.7 68.8 68.9\n",
       "    spatial_ref  int64 ...\n",
       "Data variables:\n",
       "    vcmax        (latitude, longitude, band) float32 dask.array<chunksize=(250, 250, 1), meta=np.ndarray>"
      ]
     },
     "execution_count": 92,
     "metadata": {},
     "output_type": "execute_result"
    }
   ],
   "source": [
    "vcmax"
   ]
  },
  {
   "cell_type": "code",
   "execution_count": 74,
   "id": "5ba8b338-fc4e-4b48-adda-3164b08c2897",
   "metadata": {
    "tags": []
   },
   "outputs": [],
   "source": [
    "vcmax = vcmax.sel(\n",
    "    latitude=slice(81.85192337, 34.93055094),  \n",
    "    longitude=slice(0, 68.93136141),  \n",
    ")"
   ]
  },
  {
   "cell_type": "code",
   "execution_count": 80,
   "id": "8f6c6175-6396-4d87-a49d-9327e46c449d",
   "metadata": {
    "tags": []
   },
   "outputs": [],
   "source": [
    "vcmax = vcmax.chunk( \n",
    "    longitude=250, \n",
    "    latitude=250\n",
    ")"
   ]
  },
  {
   "cell_type": "code",
   "execution_count": 84,
   "id": "8a5b8320-7bf0-4dce-a3ac-79f582df3250",
   "metadata": {
    "tags": []
   },
   "outputs": [
    {
     "name": "stdout",
     "output_type": "stream",
     "text": [
      "CPU times: user 19.1 ms, sys: 11.3 ms, total: 30.4 ms\n",
      "Wall time: 98.2 ms\n"
     ]
    },
    {
     "data": {
      "text/plain": [
       "<xarray.backends.zarr.ZarrStore at 0x154fa7a66120>"
      ]
     },
     "execution_count": 84,
     "metadata": {},
     "output_type": "execute_result"
    }
   ],
   "source": [
    "%%time\n",
    "zarr_path = f'{OUT_DIR}/vcmax/vcmax_fillnan.zarr'\n",
    "vcmax.to_zarr(zarr_path, mode='w')"
   ]
  },
  {
   "cell_type": "markdown",
   "id": "148d8459-b34d-41ec-86aa-d39000cff633",
   "metadata": {},
   "source": [
    "---"
   ]
  },
  {
   "cell_type": "code",
   "execution_count": 85,
   "id": "67c45d8e-d888-4adf-81e8-7a9a8a9866db",
   "metadata": {
    "tags": []
   },
   "outputs": [],
   "source": [
    "## 6) read IGBP data\n",
    "landcover = xr.open_zarr(LANDCOVER_PATH)"
   ]
  },
  {
   "cell_type": "code",
   "execution_count": 86,
   "id": "126508ac-825e-4dc8-a446-ddbafbc8e7bb",
   "metadata": {
    "tags": []
   },
   "outputs": [],
   "source": [
    "landcover = landcover.sel(\n",
    "    latitude=slice(81.85192337, 34.93055094), \n",
    "    longitude=slice(0, 68.93136141),  \n",
    ")"
   ]
  },
  {
   "cell_type": "code",
   "execution_count": 88,
   "id": "61c8ae76-5e1e-4e08-a8f7-1af8265fb939",
   "metadata": {
    "tags": []
   },
   "outputs": [],
   "source": [
    "landcover = landcover.chunk( \n",
    "    longitude=250, \n",
    "    latitude=250\n",
    ")"
   ]
  },
  {
   "cell_type": "code",
   "execution_count": 89,
   "id": "9c117913-24b4-4ecf-80de-15e666386a01",
   "metadata": {
    "tags": []
   },
   "outputs": [
    {
     "data": {
      "text/plain": [
       "Frozen({'latitude': (250, 219), 'longitude': (250, 250, 190)})"
      ]
     },
     "execution_count": 89,
     "metadata": {},
     "output_type": "execute_result"
    }
   ],
   "source": [
    "landcover.chunks"
   ]
  },
  {
   "cell_type": "code",
   "execution_count": 93,
   "id": "e3bc5278-4285-4a37-b306-a489dc97478d",
   "metadata": {
    "tags": []
   },
   "outputs": [
    {
     "name": "stdout",
     "output_type": "stream",
     "text": [
      "CPU times: user 30.3 ms, sys: 9.14 ms, total: 39.5 ms\n",
      "Wall time: 302 ms\n"
     ]
    },
    {
     "data": {
      "text/plain": [
       "<xarray.backends.zarr.ZarrStore at 0x154fa73cb580>"
      ]
     },
     "execution_count": 93,
     "metadata": {},
     "output_type": "execute_result"
    }
   ],
   "source": [
    "%%time\n",
    "zarr_path = f'{OUT_DIR}/igbp/landcover_snellius.zarr'\n",
    "landcover.to_zarr(zarr_path, mode='w')"
   ]
  },
  {
   "cell_type": "code",
   "execution_count": null,
   "id": "fc54bca8-4241-4e94-9d9d-d6ff3135836e",
   "metadata": {},
   "outputs": [],
   "source": []
  }
 ],
 "metadata": {
  "kernelspec": {
   "display_name": "Python 3 (ipykernel)",
   "language": "python",
   "name": "python3"
  },
  "language_info": {
   "codemirror_mode": {
    "name": "ipython",
    "version": 3
   },
   "file_extension": ".py",
   "mimetype": "text/x-python",
   "name": "python",
   "nbconvert_exporter": "python",
   "pygments_lexer": "ipython3",
   "version": "3.9.16"
  }
 },
 "nbformat": 4,
 "nbformat_minor": 5
}
