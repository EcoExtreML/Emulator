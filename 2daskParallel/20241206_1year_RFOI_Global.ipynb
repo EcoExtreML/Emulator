{
 "cells": [
  {
   "cell_type": "markdown",
   "id": "136a780b-bf72-473c-b45c-0c776cb28d02",
   "metadata": {},
   "source": [
    "## 0)import libraries "
   ]
  },
  {
   "cell_type": "code",
   "execution_count": 74,
   "id": "b853c432-ffcc-4bce-949c-3f92a72f5482",
   "metadata": {
    "tags": []
   },
   "outputs": [],
   "source": [
    "import os\n",
    "import pickle\n",
    "\n",
    "import dask.array as da\n",
    "import numpy as np\n",
    "import pandas as pd\n",
    "import xarray as xr\n",
    "\n",
    "from PyStemmusScope import variable_conversion as vc\n",
    "from sklearn.preprocessing import OneHotEncoder\n",
    "from dask.distributed import Client, LocalCluster\n",
    "from dask_jobqueue import SLURMCluster\n",
    "import calendar"
   ]
  },
  {
   "cell_type": "markdown",
   "id": "9fe0c4cc-7ff2-4869-83ae-58161c2c67b0",
   "metadata": {},
   "source": [
    "## 1)settings for Dask"
   ]
  },
  {
   "cell_type": "markdown",
   "id": "91caea31-74ce-478e-952c-400021f77d0c",
   "metadata": {},
   "source": [
    "Setup a Dask cluster on 6 * 16 = 96 cores (6 * 4 = 24 workers with 4 threads each) and 6 * 120 GB = 720 GB memory in total ('fat' nodes on Snellius):"
   ]
  },
  {
   "cell_type": "code",
   "execution_count": null,
   "id": "563a4b40-b792-47f0-b90f-9716903b2cbf",
   "metadata": {
    "tags": []
   },
   "outputs": [],
   "source": [
    "NWORKERS = 8\n",
    "cluster = SLURMCluster(\n",
    "    name='dask-worker',\n",
    "    cores=16,\n",
    "    processes=4,\n",
    "    queue='fat',\n",
    "    memory='120GiB',\n",
    "    local_directory='$TMPDIR',\n",
    "    walltime='1:00:00'\n",
    ")\n",
    "cluster.scale(jobs=NWORKERS)"
   ]
  },
  {
   "cell_type": "code",
   "execution_count": 3,
   "id": "2cca79b2-49b7-44ff-beb6-65d9d7f14161",
   "metadata": {
    "tags": []
   },
   "outputs": [
    {
     "data": {
      "text/html": [
       "<div>\n",
       "    <div style=\"width: 24px; height: 24px; background-color: #e1e1e1; border: 3px solid #9D9D9D; border-radius: 5px; position: absolute;\"> </div>\n",
       "    <div style=\"margin-left: 48px;\">\n",
       "        <h3 style=\"margin-bottom: 0px;\">Client</h3>\n",
       "        <p style=\"color: #9D9D9D; margin-bottom: 0px;\">Client-f9bcb37e-b16f-11ef-b9d2-b8cef6790dd8</p>\n",
       "        <table style=\"width: 100%; text-align: left;\">\n",
       "\n",
       "        <tr>\n",
       "        \n",
       "            <td style=\"text-align: left;\"><strong>Connection method:</strong> Cluster object</td>\n",
       "            <td style=\"text-align: left;\"><strong>Cluster type:</strong> dask_jobqueue.SLURMCluster</td>\n",
       "        \n",
       "        </tr>\n",
       "\n",
       "        \n",
       "            <tr>\n",
       "                <td style=\"text-align: left;\">\n",
       "                    <strong>Dashboard: </strong> <a href=\"/proxy/33455/status\" target=\"_blank\">/proxy/33455/status</a>\n",
       "                </td>\n",
       "                <td style=\"text-align: left;\"></td>\n",
       "            </tr>\n",
       "        \n",
       "\n",
       "        </table>\n",
       "\n",
       "        \n",
       "            <button style=\"margin-bottom: 12px;\" data-commandlinker-command=\"dask:populate-and-launch-layout\" data-commandlinker-args='{\"url\": \"/proxy/33455/status\" }'>\n",
       "                Launch dashboard in JupyterLab\n",
       "            </button>\n",
       "        \n",
       "\n",
       "        \n",
       "            <details>\n",
       "            <summary style=\"margin-bottom: 20px;\"><h3 style=\"display: inline;\">Cluster Info</h3></summary>\n",
       "            <div class=\"jp-RenderedHTMLCommon jp-RenderedHTML jp-mod-trusted jp-OutputArea-output\">\n",
       "    <div style=\"width: 24px; height: 24px; background-color: #e1e1e1; border: 3px solid #9D9D9D; border-radius: 5px; position: absolute;\">\n",
       "    </div>\n",
       "    <div style=\"margin-left: 48px;\">\n",
       "        <h3 style=\"margin-bottom: 0px; margin-top: 0px;\">SLURMCluster</h3>\n",
       "        <p style=\"color: #9D9D9D; margin-bottom: 0px;\">dask-worker</p>\n",
       "        <table style=\"width: 100%; text-align: left;\">\n",
       "            <tr>\n",
       "                <td style=\"text-align: left;\">\n",
       "                    <strong>Dashboard:</strong> <a href=\"/proxy/33455/status\" target=\"_blank\">/proxy/33455/status</a>\n",
       "                </td>\n",
       "                <td style=\"text-align: left;\">\n",
       "                    <strong>Workers:</strong> 0\n",
       "                </td>\n",
       "            </tr>\n",
       "            <tr>\n",
       "                <td style=\"text-align: left;\">\n",
       "                    <strong>Total threads:</strong> 0\n",
       "                </td>\n",
       "                <td style=\"text-align: left;\">\n",
       "                    <strong>Total memory:</strong> 0 B\n",
       "                </td>\n",
       "            </tr>\n",
       "            \n",
       "        </table>\n",
       "\n",
       "        <details>\n",
       "            <summary style=\"margin-bottom: 20px;\">\n",
       "                <h3 style=\"display: inline;\">Scheduler Info</h3>\n",
       "            </summary>\n",
       "\n",
       "            <div style=\"\">\n",
       "    <div>\n",
       "        <div style=\"width: 24px; height: 24px; background-color: #FFF7E5; border: 3px solid #FF6132; border-radius: 5px; position: absolute;\"> </div>\n",
       "        <div style=\"margin-left: 48px;\">\n",
       "            <h3 style=\"margin-bottom: 0px;\">Scheduler</h3>\n",
       "            <p style=\"color: #9D9D9D; margin-bottom: 0px;\">Scheduler-39e1173e-7ace-4f77-9447-76af7fb5620b</p>\n",
       "            <table style=\"width: 100%; text-align: left;\">\n",
       "                <tr>\n",
       "                    <td style=\"text-align: left;\">\n",
       "                        <strong>Comm:</strong> tcp://145.136.63.16:42107\n",
       "                    </td>\n",
       "                    <td style=\"text-align: left;\">\n",
       "                        <strong>Workers:</strong> 0\n",
       "                    </td>\n",
       "                </tr>\n",
       "                <tr>\n",
       "                    <td style=\"text-align: left;\">\n",
       "                        <strong>Dashboard:</strong> <a href=\"/proxy/33455/status\" target=\"_blank\">/proxy/33455/status</a>\n",
       "                    </td>\n",
       "                    <td style=\"text-align: left;\">\n",
       "                        <strong>Total threads:</strong> 0\n",
       "                    </td>\n",
       "                </tr>\n",
       "                <tr>\n",
       "                    <td style=\"text-align: left;\">\n",
       "                        <strong>Started:</strong> Just now\n",
       "                    </td>\n",
       "                    <td style=\"text-align: left;\">\n",
       "                        <strong>Total memory:</strong> 0 B\n",
       "                    </td>\n",
       "                </tr>\n",
       "            </table>\n",
       "        </div>\n",
       "    </div>\n",
       "\n",
       "    <details style=\"margin-left: 48px;\">\n",
       "        <summary style=\"margin-bottom: 20px;\">\n",
       "            <h3 style=\"display: inline;\">Workers</h3>\n",
       "        </summary>\n",
       "\n",
       "        \n",
       "\n",
       "    </details>\n",
       "</div>\n",
       "\n",
       "        </details>\n",
       "    </div>\n",
       "</div>\n",
       "            </details>\n",
       "        \n",
       "\n",
       "    </div>\n",
       "</div>"
      ],
      "text/plain": [
       "<Client: 'tcp://145.136.63.16:42107' processes=0 threads=0, memory=0 B>"
      ]
     },
     "execution_count": 3,
     "metadata": {},
     "output_type": "execute_result"
    }
   ],
   "source": [
    "client = Client(cluster)\n",
    "client.wait_for_workers(NWORKERS)"
   ]
  },
  {
   "cell_type": "markdown",
   "id": "eb63f25e-1237-4ea9-9024-46e2d4cfacba",
   "metadata": {},
   "source": [
    "## 2)define working path, load trained model, define functions"
   ]
  },
  {
   "cell_type": "code",
   "execution_count": null,
   "id": "d6802835-3ac3-4818-9aaa-d707b21772d6",
   "metadata": {},
   "outputs": [],
   "source": [
    "import argparse\n",
    "\n",
    "# 设置命令行参数\n",
    "parser = argparse.ArgumentParser()\n",
    "parser.add_argument('--year', type=int, required=True, help='Year for the data')\n",
    "parser.add_argument('--month', type=int, required=True, help='Month for the data')\n",
    "\n",
    "args = parser.parse_args()\n",
    "\n",
    "year = args.year\n",
    "month = args.month\n",
    "\n",
    "# 使用 year 和 month 执行你的逻辑\n",
    "print(f\"Processing data for {year}-{month:02d}\")\n"
   ]
  },
  {
   "cell_type": "code",
   "execution_count": 75,
   "id": "e91a66ee-3639-4b12-a6e7-9b5237bb8704",
   "metadata": {
    "tags": []
   },
   "outputs": [],
   "source": [
    "year = 2014\n",
    "month = 2\n",
    "import calendar\n",
    "def get_time_range(year, month):\n",
    "    # 获取该月的最后一天\n",
    "    end_day = calendar.monthrange(year, month)[1]\n",
    "    \n",
    "    # 构造起始时间\n",
    "    start_time = f\"{year}-{month:02d}-01\"\n",
    "    \n",
    "    # 判断是否是12月\n",
    "    if month == 12:\n",
    "        end_time = f\"{year}-{month:02d}-{end_day}\"  # 12月，直接用该月最后一天\n",
    "    else:\n",
    "        # 如果不是12月，设置为该月最后一天的下一天的00点\n",
    "        next_month = month + 1\n",
    "        next_year = year if next_month <= 12 else year + 1  # 跨年处理\n",
    "        end_time = f\"{next_year}-{next_month:02d}-01T00:00:00\"\n",
    "\n",
    "    return start_time, end_time\n",
    "\n",
    "start_time, end_time = get_time_range(year, month)"
   ]
  },
  {
   "cell_type": "code",
   "execution_count": 76,
   "id": "eda7b747-38b4-4f53-b3a4-940873766249",
   "metadata": {},
   "outputs": [],
   "source": [
    "ROOT_DIR = '/gpfs/work2/0/ttse0619'\n",
    "DATA_DIR = f'{ROOT_DIR}/qianqian/global_data_Qianqian/1input_data'\n",
    "ERA5_PATH = f'{DATA_DIR}/{year}global/era5land/era5land_{year}.zarr'\n",
    "LAI_PATH = f'{DATA_DIR}/{year}global/lai_v2/lai_v2_{year}.zarr'\n",
    "SSM_PATH = f'{DATA_DIR}/{year}global/ssm/ssm_global_{year}.zarr'\n",
    "CO2_PATH = f'{DATA_DIR}/{year}global/co2/co2_{year}.zarr'\n",
    "LANDCOVER_PATH = f'{DATA_DIR}/landcover/landcover.zarr'\n",
    "IGBP_CLASS_PATH = f'{DATA_DIR}/landcover/IGBP11unique.csv'\n",
    "IGBP_TABLE_PATH = f'{DATA_DIR}/landcover//lccs_to_igbp_table.csv' \n",
    "hc_PATH = f'{DATA_DIR}/canopy_height/hc_global.zarr'\n",
    "VCMAX_PATH = f'{DATA_DIR}/Vcmax/vcmax_fillnan.zarr'\n",
    "MODEL_PATH = f'{ROOT_DIR}/qianqian/global_data_Qianqian/3RF_train/hourlyFluxes_OI2024-11-05.pkl'\n",
    "\n",
    "LEH_PATH = f'{ROOT_DIR}/qianqian/global_data_Qianqian/5output_data/global_fluxes_RFOI_{year}-{month:02d}_v1.3.zarr'"
   ]
  },
  {
   "cell_type": "code",
   "execution_count": 77,
   "id": "649543dd-9d92-400f-856e-6a851b887e04",
   "metadata": {
    "tags": []
   },
   "outputs": [],
   "source": [
    "# function for loading the trained model\n",
    "def load_model(path):\n",
    "    # load trained RF model, better use not parallel model with Dask\n",
    "    with open(path, 'rb') as f:\n",
    "        rfLEHmulti = pickle.load(f)\n",
    "    return rfLEHmulti"
   ]
  },
  {
   "cell_type": "markdown",
   "id": "a0998390-ba37-4d64-86ef-679464812aaf",
   "metadata": {},
   "source": [
    "## 3) read data"
   ]
  },
  {
   "cell_type": "code",
   "execution_count": 78,
   "id": "a8c4f8e8-71f0-4eb4-9311-8108e246d750",
   "metadata": {
    "tags": []
   },
   "outputs": [],
   "source": [
    "## 0) read era5land data\n",
    "era5 = xr.open_zarr(ERA5_PATH)\n",
    "# round coordinates to facilitate matching with other datasets\n",
    "era5 = era5.assign_coords(\n",
    "    longitude=era5.longitude.round(4),\n",
    "    latitude=era5.latitude.round(4)\n",
    ").sel(time=slice(start_time,end_time))\n"
   ]
  },
  {
   "cell_type": "code",
   "execution_count": 79,
   "id": "c163d8f4-5ca1-4162-8ae8-6ca63f7ff223",
   "metadata": {
    "tags": []
   },
   "outputs": [],
   "source": [
    "# calculate the Rin and Rli difference for every hour\n",
    "ssrd = era5['ssrd'] / 3600\n",
    "Rin = ssrd.diff(\"time\")\n",
    "Rin[0::24] = ssrd[1::24]\n",
    "\n",
    "strd = era5['strd'] / 3600\n",
    "Rli = strd.diff(\"time\")\n",
    "Rli[0::24] = strd[1::24]"
   ]
  },
  {
   "cell_type": "code",
   "execution_count": 80,
   "id": "c8bcfc15-3ca4-4e7f-8d31-9f17e73acd98",
   "metadata": {
    "tags": []
   },
   "outputs": [],
   "source": [
    "Precip_msr = era5['tp'].diff(\"time\")  #xr.concat([all1['ssrd'].isel(time=0),all1['ssrd']], dim=\"time\")\n",
    "Precip_msr[0::24] = era5['tp'][1::24] # assign the original values in t01"
   ]
  },
  {
   "cell_type": "code",
   "execution_count": 81,
   "id": "41ca3b11-6ee4-4eef-8458-f9846640de5a",
   "metadata": {
    "tags": []
   },
   "outputs": [],
   "source": [
    "p = era5[\"sp\"][1:]/100  # Pa -> hPa\n",
    "Ta = era5[\"t2m\"][1:] - 273.15  # K -> degC\n",
    "ea = vc.calculate_es(era5[\"d2m\"][1:] - 273.15)*10 #kPa -> hPa\n",
    "u = (era5[\"u10\"][1:] ** 2 + era5[\"v10\"][1:] ** 2) ** 0.5\n",
    "Precip_msr = Precip_msr*1000 # mm"
   ]
  },
  {
   "cell_type": "code",
   "execution_count": 91,
   "id": "301128ac-c81e-4257-8ac5-ffb04f70cfe5",
   "metadata": {
    "tags": []
   },
   "outputs": [],
   "source": [
    "### 1) read LAI data\n",
    "LAI = xr.open_zarr(LAI_PATH)#.sel(time=str(year))\n",
    "LAI = LAI.assign_coords(\n",
    "    longitude=LAI.longitude.round(4),\n",
    "    latitude=LAI.latitude.round(4)\n",
    ")['LAI']\n",
    "# 获取离 start_time 最近的时间\n",
    "start_time_nearest = LAI.sel(time=start_time, method='nearest').time\n",
    "end_time_nearest = LAI.sel(time=end_time, method='nearest')\n",
    "\n",
    "# 获取 end_time 后的下一个时间点\n",
    "# 在 LAI.time 中选择第一个大于 end_time_nearest.time 的时间点\n",
    "end_time_next = LAI.time[LAI.time > end_time_nearest.time].min()\n",
    "\n",
    "# 使用计算得到的前一期和后一期时间来选择数据\n",
    "LAI = LAI.sel(time=slice(start_time_nearest, end_time_next))"
   ]
  },
  {
   "cell_type": "code",
   "execution_count": 92,
   "id": "16d907a1-9951-488b-9910-1d199787eea2",
   "metadata": {
    "tags": []
   },
   "outputs": [],
   "source": [
    "LAI['longitude'] = LAI['longitude'].astype('float32')"
   ]
  },
  {
   "cell_type": "code",
   "execution_count": 93,
   "id": "d6b2748e-44be-4d91-97da-d1ead00f9e1c",
   "metadata": {
    "tags": []
   },
   "outputs": [],
   "source": [
    "# # # INTERPOLATION CREATES A SINGLE CHUNK IN TIME!\n",
    "LAI = LAI.resample(time='1D').interpolate('linear')"
   ]
  },
  {
   "cell_type": "code",
   "execution_count": 94,
   "id": "862da099-de5c-4898-add5-5676e86e4703",
   "metadata": {
    "tags": []
   },
   "outputs": [],
   "source": [
    "import dask.config\n",
    "with dask.config.set({\"array.slicing.split_large_chunks\": True}):\n",
    "    LAI = LAI.resample(time='1H').nearest()"
   ]
  },
  {
   "cell_type": "code",
   "execution_count": 95,
   "id": "4f655079-459b-4785-baae-99f893ffd24d",
   "metadata": {
    "tags": []
   },
   "outputs": [],
   "source": [
    "LAI = LAI.sel(time=slice(Rin.time[0], Rin.time[-1]))"
   ]
  },
  {
   "cell_type": "code",
   "execution_count": 96,
   "id": "9a2c2c9e-10ce-4725-8891-afba6dc808e4",
   "metadata": {
    "tags": []
   },
   "outputs": [],
   "source": [
    "### 2) read SSM data\n",
    "SSM = xr.open_zarr(SSM_PATH)\n",
    "SSM = SSM.assign_coords(\n",
    "    longitude=SSM.longitude.round(4),\n",
    "    latitude=SSM.latitude.round(4)\n",
    ").sel(time=slice(start_time, pd.to_datetime(end_time) + pd.Timedelta(days=1)))\n",
    "SSM = SSM['SSM']"
   ]
  },
  {
   "cell_type": "code",
   "execution_count": 97,
   "id": "ab1a6a34-f818-4a7b-baf0-1eed88aec22d",
   "metadata": {
    "tags": []
   },
   "outputs": [],
   "source": [
    "# # INTERPOLATION CREATES A SINGLE CHUNK IN TIME!\n",
    "SSM = SSM.resample(time='1H').interpolate('linear')/1000 "
   ]
  },
  {
   "cell_type": "code",
   "execution_count": 98,
   "id": "94887469-3c64-4d56-871d-1af2b61cbb40",
   "metadata": {
    "tags": []
   },
   "outputs": [],
   "source": [
    "SSM = SSM.reindex(time=Rin.time, method='ffill')"
   ]
  },
  {
   "cell_type": "code",
   "execution_count": 99,
   "id": "02bfd6c9-e9db-4438-b203-6e35ba6b79c1",
   "metadata": {
    "tags": []
   },
   "outputs": [],
   "source": [
    "### 3) read CO2 data\n",
    "CO2 = xr.open_zarr(CO2_PATH)\n",
    "CO2 = CO2.assign_coords(\n",
    "    longitude=CO2.longitude.round(4),\n",
    "    latitude=CO2.latitude.round(4)\n",
    ").sel(time=slice(start_time, pd.to_datetime(end_time) + pd.Timedelta(days=1)))\n",
    "CO2 = CO2['co2']"
   ]
  },
  {
   "cell_type": "code",
   "execution_count": 100,
   "id": "e7c39e9b-eb05-4012-aaee-c5aba2a0bf65",
   "metadata": {
    "tags": []
   },
   "outputs": [],
   "source": [
    "with dask.config.set({\"array.slicing.split_large_chunks\": True}):\n",
    "    CO2 = CO2.resample(time='1H').nearest()"
   ]
  },
  {
   "cell_type": "code",
   "execution_count": 101,
   "id": "ae5a9c5c-e119-4d29-9e79-145f4620f7cc",
   "metadata": {
    "tags": []
   },
   "outputs": [],
   "source": [
    "CO2 = CO2.reindex(time=Rin.time, method='bfill')"
   ]
  },
  {
   "cell_type": "markdown",
   "id": "fda3fb7b-881a-4f11-98c3-cad43b492e4d",
   "metadata": {},
   "source": [
    "**Done datasets up to here!** Moving on with landcover\n",
    "\n",
    "----"
   ]
  },
  {
   "cell_type": "code",
   "execution_count": 102,
   "id": "7cebbd65-18f6-4146-97f6-6a983a520f83",
   "metadata": {
    "tags": []
   },
   "outputs": [],
   "source": [
    "## 4) read IGBP data\n",
    "hc = xr.open_zarr(hc_PATH)\n",
    "hc = hc.assign_coords(\n",
    "    longitude=hc.longitude.round(4),\n",
    "    latitude=hc.latitude.round(4)\n",
    ")['hc']"
   ]
  },
  {
   "cell_type": "code",
   "execution_count": 103,
   "id": "cfa10f51-6b7f-4553-92a4-3050ca8dad92",
   "metadata": {
    "tags": []
   },
   "outputs": [],
   "source": [
    "## 5) read Vcmax data\n",
    "vcmax = xr.open_zarr(VCMAX_PATH)\n",
    "vcmax = vcmax.assign_coords(\n",
    "    longitude=vcmax.longitude.round(4),\n",
    "    latitude=vcmax.latitude.round(4)\n",
    ")['vcmax']"
   ]
  },
  {
   "cell_type": "markdown",
   "id": "148d8459-b34d-41ec-86aa-d39000cff633",
   "metadata": {},
   "source": [
    "---"
   ]
  },
  {
   "cell_type": "code",
   "execution_count": 104,
   "id": "67c45d8e-d888-4adf-81e8-7a9a8a9866db",
   "metadata": {
    "tags": []
   },
   "outputs": [],
   "source": [
    "## 6) read IGBP data\n",
    "landcover = xr.open_zarr(LANDCOVER_PATH)\n",
    "landcover = landcover.assign_coords(\n",
    "    longitude=landcover.longitude.round(4),\n",
    "    latitude=landcover.latitude.round(4)\n",
    ")['lccs_class']"
   ]
  },
  {
   "cell_type": "code",
   "execution_count": 105,
   "id": "e7125f83-5224-4bc9-ac27-63f451d12ba2",
   "metadata": {
    "tags": []
   },
   "outputs": [],
   "source": [
    "# read IGBP unique values\n",
    "training_testing_append = pd.read_csv(IGBP_CLASS_PATH)['0'].unique()\n",
    "# read the table for converting landcover to IGBP\n",
    "IGBP_table = pd.read_csv(IGBP_TABLE_PATH)"
   ]
  },
  {
   "cell_type": "code",
   "execution_count": 106,
   "id": "5dac66ba-c18e-48e5-a2d3-b5e754e2a4ee",
   "metadata": {
    "tags": []
   },
   "outputs": [],
   "source": [
    "def landcover_to_igbp(landcover, IGBP_table, training_testing_append):\n",
    "    get_IGBP = np.vectorize(IGBP_table.set_index(\"lccs_class\").T.to_dict('records')[0].get)\n",
    "    IGBP = get_IGBP(landcover.values) \n",
    "    IGBP_all = pd.DataFrame(\n",
    "        columns=[f'IGBP_veg_long{i}' for i in range(1, 12)]\n",
    "    )\n",
    "    \n",
    "    # define one hot encoding for IGBP\n",
    "    encoder = OneHotEncoder(\n",
    "        categories=[training_testing_append],\n",
    "        sparse=False,\n",
    "        handle_unknown=\"ignore\"\n",
    "    )\n",
    "    \n",
    "    # transform data\n",
    "    aa = encoder.fit_transform(IGBP.reshape(IGBP.shape[0]*IGBP.shape[1], 1))\n",
    "    \n",
    "    # assign 23-D IGBP into 23 columns\n",
    "    for i in range(1, 12):\n",
    "        IGBP_all[f'IGBP_veg_long{i}'] = aa[:,i-1]\n",
    "    return IGBP_all"
   ]
  },
  {
   "cell_type": "markdown",
   "id": "fa3b01d8-1554-4ae5-86c9-872df1dd29bd",
   "metadata": {},
   "source": [
    "## 4) chunk all the input variables"
   ]
  },
  {
   "cell_type": "code",
   "execution_count": 133,
   "id": "b38abc40-ba6c-4c09-b290-142643a84813",
   "metadata": {
    "tags": []
   },
   "outputs": [],
   "source": [
    "ds = xr.Dataset()\n",
    "\n",
    "ds = ds.assign(\n",
    "    Rin=Rin,\n",
    "    Rli=Rli,\n",
    "    p=p,\n",
    "    Ta=Ta,\n",
    "    ea=ea,\n",
    "    u=u,\n",
    "    Precip=Precip_msr,\n",
    "    LAI=LAI,\n",
    "    CO2=CO2,\n",
    "    SSM=SSM,\n",
    ")\n",
    "\n",
    "ds = ds.to_array()\n",
    "\n",
    "ds = ds.chunk(time=125, variable=-1)"
   ]
  },
  {
   "cell_type": "markdown",
   "id": "86bf1162-22a9-44b5-b63f-c44b5bd752d6",
   "metadata": {},
   "source": [
    "## 5) predict fluxes with map_blocks"
   ]
  },
  {
   "cell_type": "code",
   "execution_count": 136,
   "id": "aee08121-c8b2-47cf-bec1-16482bb7ed7b",
   "metadata": {
    "tags": []
   },
   "outputs": [],
   "source": [
    "INPUT_VARIABLES = [\n",
    "    'Rin', 'Rli', 'p', 'Ta', 'ea', 'u', 'CO2','LAI','Vcmo','hc', 'Precip',  \n",
    "    'SSM',  *[f'IGBP_veg_long{i}' for i in range(1, 12)]\n",
    "]\n",
    "OUTPUT_VARIABLES = ['Rn_OI','LE_OI','H_OI','updated_Gtot','Actot', 'SIF685', 'SIF740']\n",
    "# OUTPUT_VARIABLES = ['Rn_OI_daily_std_SG', 'LE_OI_daily_std_SG', 'H_OI_daily_std_SG','updated_Gtot_daily_std_SG','Actot_daily_std_SG', 'SIF685_daily_std_SG','SIF740_daily_std_SG']\n",
    "# OUTPUT_VARIABLES = ['Rn_OI_sameTime_std_SG', 'LE_OI_sameTime_std_SG','H_OI_sameTime_std_SG', 'updated_Gtot_sameTime_std_SG','Actot_sameTime_std_SG',\n",
    "       # 'SIF685_sameTime_std_SG', 'SIF740_sameTime_std_SG']"
   ]
  },
  {
   "cell_type": "code",
   "execution_count": 137,
   "id": "ce15b015-2b1c-4029-8e9c-76d2bc0c2b6c",
   "metadata": {
    "tags": []
   },
   "outputs": [],
   "source": [
    "chunks = [ds.chunksizes[v] for v in ['time', 'latitude', 'longitude']]\n",
    "chunks.append((len(OUTPUT_VARIABLES),))\n",
    "\n",
    "template_LEH = xr.DataArray(\n",
    "    name = 'LEH',\n",
    "    data=da.zeros(\n",
    "        (len(ds.time), len(ds.latitude), len(ds.longitude), len(OUTPUT_VARIABLES)), \n",
    "        chunks=chunks,\n",
    "    ),\n",
    "    dims=(\"time\", \"latitude\", \"longitude\", \"output_variable\"),\n",
    "    coords={\n",
    "        \"output_variable\": OUTPUT_VARIABLES, \n",
    "        \"time\": ds.time, \n",
    "        \"latitude\": ds.latitude,\n",
    "        \"longitude\": ds.longitude\n",
    "    }\n",
    ")"
   ]
  },
  {
   "cell_type": "code",
   "execution_count": 138,
   "id": "45317176-f436-4f3d-a66b-455db9596e65",
   "metadata": {
    "tags": []
   },
   "outputs": [],
   "source": [
    "def expand_time_dimension(data, n_time):\n",
    "    \"\"\" \n",
    "    Expand the space-dependent data over the time dimension.\n",
    "    \n",
    "    Parameters\n",
    "    ----------\n",
    "    data : np.ndarray\n",
    "        (ny, nx) matrix\n",
    "    n_time : int\n",
    "        number of elements in the time dimension\n",
    "    \n",
    "    Returns\n",
    "    -------\n",
    "    np.ndarray\n",
    "        (1, ntime*ny*nx) matrix\n",
    "    \"\"\"\n",
    "    expanded = np.tile(data.reshape(1, -1), (n_time, 1))\n",
    "    return expanded.reshape(1, -1)\n",
    "    \n",
    "\n",
    "def predictFlux(ds, hc, Vcmo, landcover, IGBP_table, training_testing_append, path_model):\n",
    "    n_time = len(ds.time)\n",
    "    \n",
    "    hc_ = expand_time_dimension(hc.data, n_time)\n",
    "    Vcmo_ = expand_time_dimension(Vcmo.data, n_time)\n",
    "    \n",
    "    IGBP_all = landcover_to_igbp(landcover, IGBP_table, training_testing_append)\n",
    "    IGBP_ = [\n",
    "        expand_time_dimension(IGBP_all[f'IGBP_veg_long{i}'].to_numpy(), n_time)\n",
    "        for i in range(1, 12)\n",
    "    ]\n",
    "    \n",
    "    Rin_ = ds.sel(variable='Rin').data.reshape(1, -1)\n",
    "    Rli_ = ds.sel(variable='Rli').data.reshape(1, -1)\n",
    "    p_ = ds.sel(variable='p').data.reshape(1, -1)\n",
    "    Ta_ = ds.sel(variable='Ta').data.reshape(1, -1)\n",
    "    ea_ = ds.sel(variable='ea').data.reshape(1, -1)\n",
    "    u_ = ds.sel(variable='u').data.reshape(1, -1)\n",
    "    Precip_msr_ = ds.sel(variable='Precip').data.reshape(1, -1)\n",
    "    LAI_ = ds.sel(variable='LAI').data.reshape(1, -1)\n",
    "    CO2_ = ds.sel(variable='CO2').data.reshape(1, -1)\n",
    "    SSM_ = ds.sel(variable='SSM').data.reshape(1, -1)\n",
    "\n",
    "    features_arr = np.concatenate((\n",
    "        Rin_, Rli_, p_, Ta_, ea_, u_,  CO2_,LAI_,Vcmo_,hc_,Precip_msr_,   SSM_,  *IGBP_\n",
    "    ))\n",
    "    features_arr = features_arr.transpose()\n",
    "    df_features = pd.DataFrame(\n",
    "        data=features_arr,\n",
    "        columns=INPUT_VARIABLES,\n",
    "    )\n",
    "    invalid_index = df_features.isnull().any(axis=1)\n",
    "    \n",
    "    # Convert the nan value as 0 for the calculation\n",
    "    df_features[invalid_index] = 0\n",
    "    \n",
    "    model = load_model(path_model)\n",
    "    LEH = model.predict(df_features)\n",
    "    LEH[invalid_index] = np.nan\n",
    "    \n",
    "    return xr.DataArray(\n",
    "        name='LEH',\n",
    "        data=LEH.reshape(len(ds.time), len(ds.latitude), len(ds.longitude), len(OUTPUT_VARIABLES)),\n",
    "        dims=(\"time\", \"latitude\", \"longitude\", \"output_variable\"),\n",
    "        coords={\n",
    "            \"output_variable\": OUTPUT_VARIABLES, \n",
    "            \"time\": ds.time, \n",
    "            \"latitude\": ds.latitude,\n",
    "            \"longitude\":ds.longitude\n",
    "        }\n",
    "    )"
   ]
  },
  {
   "cell_type": "code",
   "execution_count": null,
   "id": "b9fc3d33-7df4-4522-a657-6ed4cca79f3f",
   "metadata": {
    "tags": []
   },
   "outputs": [],
   "source": [
    "hc = hc.squeeze('band')\n",
    "vcmax = vcmax.squeeze('band')\n",
    "landcover = landcover.squeeze('time')"
   ]
  },
  {
   "cell_type": "code",
   "execution_count": 143,
   "id": "a12e1fc9-92a0-4eaa-adb2-48640c38a40b",
   "metadata": {
    "tags": []
   },
   "outputs": [],
   "source": [
    "LEH = xr.map_blocks(\n",
    "    predictFlux,\n",
    "    ds,\n",
    "    args= [hc, vcmax, landcover],\n",
    "    kwargs={\n",
    "        \"IGBP_table\": IGBP_table, \n",
    "        \"training_testing_append\": training_testing_append, \n",
    "        \"path_model\": MODEL_PATH,\n",
    "    },\n",
    "    template=template_LEH,\n",
    ")"
   ]
  },
  {
   "cell_type": "markdown",
   "id": "6e869007-e31d-424e-93c5-b0d873e998a9",
   "metadata": {},
   "source": [
    "## export"
   ]
  },
  {
   "cell_type": "code",
   "execution_count": 144,
   "id": "c510e3b2-2e66-4b3f-af11-afa8098eff18",
   "metadata": {
    "tags": []
   },
   "outputs": [],
   "source": [
    "LEH = LEH.chunk({\"latitude\":200, \"longitude\":200})"
   ]
  },
  {
   "cell_type": "code",
   "execution_count": 145,
   "id": "0d6f4046-f850-4aa8-9283-435db44c80d9",
   "metadata": {
    "tags": []
   },
   "outputs": [],
   "source": [
    "LEH_ds = LEH.to_dataset(dim=\"output_variable\") "
   ]
  },
  {
   "cell_type": "code",
   "execution_count": 146,
   "id": "7d80fb7a-e235-4767-916e-52b771ee93b5",
   "metadata": {
    "tags": []
   },
   "outputs": [
    {
     "data": {
      "text/plain": [
       "'/gpfs/work2/0/ttse0619/qianqian/global_data_Qianqian/5output_data/global_fluxes_RFOI_2014-02_v1.3.zarr'"
      ]
     },
     "execution_count": 146,
     "metadata": {},
     "output_type": "execute_result"
    }
   ],
   "source": [
    "LEH_PATH"
   ]
  },
  {
   "cell_type": "code",
   "execution_count": null,
   "id": "68d08903-5a99-428b-abaf-2f9e379556b8",
   "metadata": {
    "tags": []
   },
   "outputs": [],
   "source": [
    "LEH_ds.to_zarr(LEH_PATH, mode='w')"
   ]
  },
  {
   "cell_type": "code",
   "execution_count": 36,
   "id": "85cf8755-5208-4695-91fe-bf689caf50c4",
   "metadata": {
    "tags": []
   },
   "outputs": [],
   "source": [
    "client.shutdown()"
   ]
  }
 ],
 "metadata": {
  "kernelspec": {
   "display_name": "Python 3 (ipykernel)",
   "language": "python",
   "name": "python3"
  },
  "language_info": {
   "codemirror_mode": {
    "name": "ipython",
    "version": 3
   },
   "file_extension": ".py",
   "mimetype": "text/x-python",
   "name": "python",
   "nbconvert_exporter": "python",
   "pygments_lexer": "ipython3",
   "version": "3.9.16"
  }
 },
 "nbformat": 4,
 "nbformat_minor": 5
}
