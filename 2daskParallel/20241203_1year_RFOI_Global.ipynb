{
 "cells": [
  {
   "cell_type": "markdown",
   "id": "136a780b-bf72-473c-b45c-0c776cb28d02",
   "metadata": {},
   "source": [
    "## 0)import libraries "
   ]
  },
  {
   "cell_type": "code",
   "execution_count": 44,
   "id": "b853c432-ffcc-4bce-949c-3f92a72f5482",
   "metadata": {
    "tags": []
   },
   "outputs": [],
   "source": [
    "import os\n",
    "import pickle\n",
    "\n",
    "import dask.array as da\n",
    "import numpy as np\n",
    "import pandas as pd\n",
    "import xarray as xr\n",
    "\n",
    "from PyStemmusScope import variable_conversion as vc\n",
    "from sklearn.preprocessing import OneHotEncoder\n",
    "from dask.distributed import Client, LocalCluster\n",
    "from dask_jobqueue import SLURMCluster\n",
    "import calendar"
   ]
  },
  {
   "cell_type": "markdown",
   "id": "9fe0c4cc-7ff2-4869-83ae-58161c2c67b0",
   "metadata": {},
   "source": [
    "## 1)settings for Dask"
   ]
  },
  {
   "cell_type": "markdown",
   "id": "91caea31-74ce-478e-952c-400021f77d0c",
   "metadata": {},
   "source": [
    "Setup a Dask cluster on 6 * 16 = 96 cores (6 * 4 = 24 workers with 4 threads each) and 6 * 120 GB = 720 GB memory in total ('fat' nodes on Snellius):"
   ]
  },
  {
   "cell_type": "code",
   "execution_count": null,
   "id": "563a4b40-b792-47f0-b90f-9716903b2cbf",
   "metadata": {
    "tags": []
   },
   "outputs": [],
   "source": [
    "NWORKERS = 8\n",
    "cluster = SLURMCluster(\n",
    "    name='dask-worker',\n",
    "    cores=16,\n",
    "    processes=4,\n",
    "    queue='fat',\n",
    "    memory='120GiB',\n",
    "    local_directory='$TMPDIR',\n",
    "    walltime='1:00:00'\n",
    ")\n",
    "cluster.scale(jobs=NWORKERS)"
   ]
  },
  {
   "cell_type": "code",
   "execution_count": 3,
   "id": "2cca79b2-49b7-44ff-beb6-65d9d7f14161",
   "metadata": {
    "tags": []
   },
   "outputs": [
    {
     "data": {
      "text/html": [
       "<div>\n",
       "    <div style=\"width: 24px; height: 24px; background-color: #e1e1e1; border: 3px solid #9D9D9D; border-radius: 5px; position: absolute;\"> </div>\n",
       "    <div style=\"margin-left: 48px;\">\n",
       "        <h3 style=\"margin-bottom: 0px;\">Client</h3>\n",
       "        <p style=\"color: #9D9D9D; margin-bottom: 0px;\">Client-f9bcb37e-b16f-11ef-b9d2-b8cef6790dd8</p>\n",
       "        <table style=\"width: 100%; text-align: left;\">\n",
       "\n",
       "        <tr>\n",
       "        \n",
       "            <td style=\"text-align: left;\"><strong>Connection method:</strong> Cluster object</td>\n",
       "            <td style=\"text-align: left;\"><strong>Cluster type:</strong> dask_jobqueue.SLURMCluster</td>\n",
       "        \n",
       "        </tr>\n",
       "\n",
       "        \n",
       "            <tr>\n",
       "                <td style=\"text-align: left;\">\n",
       "                    <strong>Dashboard: </strong> <a href=\"/proxy/33455/status\" target=\"_blank\">/proxy/33455/status</a>\n",
       "                </td>\n",
       "                <td style=\"text-align: left;\"></td>\n",
       "            </tr>\n",
       "        \n",
       "\n",
       "        </table>\n",
       "\n",
       "        \n",
       "            <button style=\"margin-bottom: 12px;\" data-commandlinker-command=\"dask:populate-and-launch-layout\" data-commandlinker-args='{\"url\": \"/proxy/33455/status\" }'>\n",
       "                Launch dashboard in JupyterLab\n",
       "            </button>\n",
       "        \n",
       "\n",
       "        \n",
       "            <details>\n",
       "            <summary style=\"margin-bottom: 20px;\"><h3 style=\"display: inline;\">Cluster Info</h3></summary>\n",
       "            <div class=\"jp-RenderedHTMLCommon jp-RenderedHTML jp-mod-trusted jp-OutputArea-output\">\n",
       "    <div style=\"width: 24px; height: 24px; background-color: #e1e1e1; border: 3px solid #9D9D9D; border-radius: 5px; position: absolute;\">\n",
       "    </div>\n",
       "    <div style=\"margin-left: 48px;\">\n",
       "        <h3 style=\"margin-bottom: 0px; margin-top: 0px;\">SLURMCluster</h3>\n",
       "        <p style=\"color: #9D9D9D; margin-bottom: 0px;\">dask-worker</p>\n",
       "        <table style=\"width: 100%; text-align: left;\">\n",
       "            <tr>\n",
       "                <td style=\"text-align: left;\">\n",
       "                    <strong>Dashboard:</strong> <a href=\"/proxy/33455/status\" target=\"_blank\">/proxy/33455/status</a>\n",
       "                </td>\n",
       "                <td style=\"text-align: left;\">\n",
       "                    <strong>Workers:</strong> 0\n",
       "                </td>\n",
       "            </tr>\n",
       "            <tr>\n",
       "                <td style=\"text-align: left;\">\n",
       "                    <strong>Total threads:</strong> 0\n",
       "                </td>\n",
       "                <td style=\"text-align: left;\">\n",
       "                    <strong>Total memory:</strong> 0 B\n",
       "                </td>\n",
       "            </tr>\n",
       "            \n",
       "        </table>\n",
       "\n",
       "        <details>\n",
       "            <summary style=\"margin-bottom: 20px;\">\n",
       "                <h3 style=\"display: inline;\">Scheduler Info</h3>\n",
       "            </summary>\n",
       "\n",
       "            <div style=\"\">\n",
       "    <div>\n",
       "        <div style=\"width: 24px; height: 24px; background-color: #FFF7E5; border: 3px solid #FF6132; border-radius: 5px; position: absolute;\"> </div>\n",
       "        <div style=\"margin-left: 48px;\">\n",
       "            <h3 style=\"margin-bottom: 0px;\">Scheduler</h3>\n",
       "            <p style=\"color: #9D9D9D; margin-bottom: 0px;\">Scheduler-39e1173e-7ace-4f77-9447-76af7fb5620b</p>\n",
       "            <table style=\"width: 100%; text-align: left;\">\n",
       "                <tr>\n",
       "                    <td style=\"text-align: left;\">\n",
       "                        <strong>Comm:</strong> tcp://145.136.63.16:42107\n",
       "                    </td>\n",
       "                    <td style=\"text-align: left;\">\n",
       "                        <strong>Workers:</strong> 0\n",
       "                    </td>\n",
       "                </tr>\n",
       "                <tr>\n",
       "                    <td style=\"text-align: left;\">\n",
       "                        <strong>Dashboard:</strong> <a href=\"/proxy/33455/status\" target=\"_blank\">/proxy/33455/status</a>\n",
       "                    </td>\n",
       "                    <td style=\"text-align: left;\">\n",
       "                        <strong>Total threads:</strong> 0\n",
       "                    </td>\n",
       "                </tr>\n",
       "                <tr>\n",
       "                    <td style=\"text-align: left;\">\n",
       "                        <strong>Started:</strong> Just now\n",
       "                    </td>\n",
       "                    <td style=\"text-align: left;\">\n",
       "                        <strong>Total memory:</strong> 0 B\n",
       "                    </td>\n",
       "                </tr>\n",
       "            </table>\n",
       "        </div>\n",
       "    </div>\n",
       "\n",
       "    <details style=\"margin-left: 48px;\">\n",
       "        <summary style=\"margin-bottom: 20px;\">\n",
       "            <h3 style=\"display: inline;\">Workers</h3>\n",
       "        </summary>\n",
       "\n",
       "        \n",
       "\n",
       "    </details>\n",
       "</div>\n",
       "\n",
       "        </details>\n",
       "    </div>\n",
       "</div>\n",
       "            </details>\n",
       "        \n",
       "\n",
       "    </div>\n",
       "</div>"
      ],
      "text/plain": [
       "<Client: 'tcp://145.136.63.16:42107' processes=0 threads=0, memory=0 B>"
      ]
     },
     "execution_count": 3,
     "metadata": {},
     "output_type": "execute_result"
    }
   ],
   "source": [
    "client = Client(cluster)\n",
    "client.wait_for_workers(NWORKERS)"
   ]
  },
  {
   "cell_type": "markdown",
   "id": "eb63f25e-1237-4ea9-9024-46e2d4cfacba",
   "metadata": {},
   "source": [
    "## 2)define working path, load trained model, define functions"
   ]
  },
  {
   "cell_type": "code",
   "execution_count": null,
   "id": "d6802835-3ac3-4818-9aaa-d707b21772d6",
   "metadata": {},
   "outputs": [],
   "source": [
    "import argparse\n",
    "\n",
    "# 设置命令行参数\n",
    "parser = argparse.ArgumentParser()\n",
    "parser.add_argument('--year', type=int, required=True, help='Year for the data')\n",
    "parser.add_argument('--month', type=int, required=True, help='Month for the data')\n",
    "\n",
    "args = parser.parse_args()\n",
    "\n",
    "year = args.year\n",
    "month = args.month\n",
    "\n",
    "# 使用 year 和 month 执行你的逻辑\n",
    "print(f\"Processing data for {year}-{month:02d}\")\n"
   ]
  },
  {
   "cell_type": "code",
   "execution_count": 244,
   "id": "e91a66ee-3639-4b12-a6e7-9b5237bb8704",
   "metadata": {
    "tags": []
   },
   "outputs": [],
   "source": [
    "# 动态获取该月的最后一天\n",
    "end_day = calendar.monthrange(year, month)[1]  # 获取该月最后一天（28, 29, 30, 或 31）\n",
    "# 确保生成有效日期\n",
    "start_time = f\"{year}-{month:02d}-01\"\n",
    "end_time = f\"{year}-{month:02d}-{end_day}\"\n",
    "\n",
    "ROOT_DIR = '/gpfs/work2/0/ttse0619'\n",
    "DATA_DIR = f'{ROOT_DIR}/qianqian/global_data_Qianqian/1input_data'\n",
    "ERA5_PATH = f'{DATA_DIR}/{year}global/era5land/era5land_{year}.zarr'\n",
    "LAI_PATH = f'{DATA_DIR}/{year}global/lai_v2/lai_v2_{year}.zarr'\n",
    "SSM_PATH = f'{DATA_DIR}/{year}global/ssm/ssm_global_{year}.zarr'\n",
    "CO2_PATH = f'{DATA_DIR}/{year}global/co2/co2_{year}.zarr'\n",
    "LANDCOVER_PATH = f'{DATA_DIR}/landcover/landcover.zarr'\n",
    "IGBP_CLASS_PATH = f'{DATA_DIR}/landcover/IGBP11unique.csv'\n",
    "IGBP_TABLE_PATH = f'{DATA_DIR}/landcover//lccs_to_igbp_table.csv' \n",
    "hc_PATH = f'{DATA_DIR}/canopy_height/hc_global.zarr'\n",
    "VCMAX_PATH = f'{DATA_DIR}/Vcmax/vcmax_fillnan.zarr'\n",
    "MODEL_PATH = f'{ROOT_DIR}/qianqian/global_data_Qianqian/3RF_train/hourlyFluxes_OI2024-11-05.pkl'\n",
    "\n",
    "LEH_PATH = f'{ROOT_DIR}/qianqian/global_data_Qianqian/5output_data/global_fluxes_RFOI_{year}-{month:02d}_v1.3.zarr'"
   ]
  },
  {
   "cell_type": "code",
   "execution_count": 245,
   "id": "649543dd-9d92-400f-856e-6a851b887e04",
   "metadata": {
    "tags": []
   },
   "outputs": [],
   "source": [
    "# function for loading the trained model\n",
    "def load_model(path):\n",
    "    # load trained RF model, better use not parallel model with Dask\n",
    "    with open(path, 'rb') as f:\n",
    "        rfLEHmulti = pickle.load(f)\n",
    "    return rfLEHmulti"
   ]
  },
  {
   "cell_type": "markdown",
   "id": "a0998390-ba37-4d64-86ef-679464812aaf",
   "metadata": {},
   "source": [
    "## 3) read data"
   ]
  },
  {
   "cell_type": "code",
   "execution_count": 246,
   "id": "a8c4f8e8-71f0-4eb4-9311-8108e246d750",
   "metadata": {
    "tags": []
   },
   "outputs": [],
   "source": [
    "## 0) read era5land data\n",
    "era5 = xr.open_zarr(ERA5_PATH)\n",
    "# round coordinates to facilitate matching with other datasets\n",
    "era5 = era5.assign_coords(\n",
    "    longitude=era5.longitude.round(4),\n",
    "    latitude=era5.latitude.round(4)\n",
    ").sel(time=slice(pd.to_datetime(start_time) - pd.Timedelta(hours=1), end_time))"
   ]
  },
  {
   "cell_type": "code",
   "execution_count": 247,
   "id": "c163d8f4-5ca1-4162-8ae8-6ca63f7ff223",
   "metadata": {
    "tags": []
   },
   "outputs": [],
   "source": [
    "# calculate the Rin and Rli difference for every hour\n",
    "ssrd = era5['ssrd'] / 3600\n",
    "Rin = ssrd.diff(\"time\")\n",
    "Rin[0::24] = ssrd[1::24]\n",
    "\n",
    "strd = era5['strd'] / 3600\n",
    "Rli = strd.diff(\"time\")\n",
    "Rli[0::24] = strd[1::24]"
   ]
  },
  {
   "cell_type": "code",
   "execution_count": 248,
   "id": "c8bcfc15-3ca4-4e7f-8d31-9f17e73acd98",
   "metadata": {
    "tags": []
   },
   "outputs": [],
   "source": [
    "Precip_msr = era5['tp'].diff(\"time\")  #xr.concat([all1['ssrd'].isel(time=0),all1['ssrd']], dim=\"time\")\n",
    "Precip_msr[0::24] = era5['tp'][1::24] # assign the original values in t01"
   ]
  },
  {
   "cell_type": "code",
   "execution_count": 217,
   "id": "41ca3b11-6ee4-4eef-8458-f9846640de5a",
   "metadata": {
    "tags": []
   },
   "outputs": [],
   "source": [
    "p = era5[\"sp\"][1:]/100  # Pa -> hPa\n",
    "Ta = era5[\"t2m\"][1:] - 273.15  # K -> degC\n",
    "ea = vc.calculate_es(era5[\"d2m\"][1:] - 273.15)*10 #kPa -> hPa\n",
    "u = (era5[\"u10\"][1:] ** 2 + era5[\"v10\"][1:] ** 2) ** 0.5\n",
    "Precip_msr = Precip_msr*1000 # mm"
   ]
  },
  {
   "cell_type": "code",
   "execution_count": 230,
   "id": "301128ac-c81e-4257-8ac5-ffb04f70cfe5",
   "metadata": {
    "tags": []
   },
   "outputs": [],
   "source": [
    "### 1) read LAI data\n",
    "LAI = xr.open_zarr(LAI_PATH)#.sel(time=str(year))\n",
    "LAI = LAI.assign_coords(\n",
    "    longitude=LAI.longitude.round(4),\n",
    "    latitude=LAI.latitude.round(4)\n",
    ")['LAI']\n",
    "# 获取离 start_time 最近的时间\n",
    "start_time_nearest = LAI.sel(time=start_time, method='nearest').time\n",
    "end_time_nearest = LAI.sel(time=end_time, method='nearest')\n",
    "\n",
    "# 获取 end_time 后的下一个时间点\n",
    "# 在 LAI.time 中选择第一个大于 end_time_nearest.time 的时间点\n",
    "end_time_next = LAI.time[LAI.time > end_time_nearest.time].min()\n",
    "\n",
    "# 使用计算得到的前一期和后一期时间来选择数据\n",
    "LAI = LAI.sel(time=slice(start_time_nearest, end_time_next))"
   ]
  },
  {
   "cell_type": "code",
   "execution_count": 231,
   "id": "16d907a1-9951-488b-9910-1d199787eea2",
   "metadata": {
    "tags": []
   },
   "outputs": [],
   "source": [
    "LAI['longitude'] = LAI['longitude'].astype('float32')"
   ]
  },
  {
   "cell_type": "code",
   "execution_count": 232,
   "id": "d6b2748e-44be-4d91-97da-d1ead00f9e1c",
   "metadata": {
    "tags": []
   },
   "outputs": [],
   "source": [
    "# # # INTERPOLATION CREATES A SINGLE CHUNK IN TIME!\n",
    "LAI = LAI.resample(time='1D').interpolate('linear')"
   ]
  },
  {
   "cell_type": "code",
   "execution_count": 233,
   "id": "862da099-de5c-4898-add5-5676e86e4703",
   "metadata": {
    "tags": []
   },
   "outputs": [],
   "source": [
    "import dask.config\n",
    "with dask.config.set({\"array.slicing.split_large_chunks\": True}):\n",
    "    LAI = LAI.resample(time='1H').nearest()"
   ]
  },
  {
   "cell_type": "code",
   "execution_count": 236,
   "id": "4f655079-459b-4785-baae-99f893ffd24d",
   "metadata": {
    "tags": []
   },
   "outputs": [],
   "source": [
    "LAI = LAI.sel(time=slice(Rin.time[0], Rin.time[-1]))"
   ]
  },
  {
   "cell_type": "code",
   "execution_count": 194,
   "id": "9a2c2c9e-10ce-4725-8891-afba6dc808e4",
   "metadata": {
    "tags": []
   },
   "outputs": [],
   "source": [
    "### 2) read SSM data\n",
    "SSM = xr.open_zarr(SSM_PATH)\n",
    "SSM = SSM.assign_coords(\n",
    "    longitude=SSM.longitude.round(4),\n",
    "    latitude=SSM.latitude.round(4)\n",
    ").sel(time=slice(start_time, pd.to_datetime(end_time) + pd.Timedelta(days=1)))\n",
    "SSM = SSM['SSM']"
   ]
  },
  {
   "cell_type": "code",
   "execution_count": 195,
   "id": "ab1a6a34-f818-4a7b-baf0-1eed88aec22d",
   "metadata": {
    "tags": []
   },
   "outputs": [],
   "source": [
    "# # INTERPOLATION CREATES A SINGLE CHUNK IN TIME!\n",
    "SSM = SSM.resample(time='1H').interpolate('linear')/1000 "
   ]
  },
  {
   "cell_type": "code",
   "execution_count": 196,
   "id": "94887469-3c64-4d56-871d-1af2b61cbb40",
   "metadata": {
    "tags": []
   },
   "outputs": [],
   "source": [
    "SSM = SSM.reindex(time=Rin.time, method='ffill')"
   ]
  },
  {
   "cell_type": "code",
   "execution_count": 197,
   "id": "02bfd6c9-e9db-4438-b203-6e35ba6b79c1",
   "metadata": {
    "tags": []
   },
   "outputs": [],
   "source": [
    "### 3) read CO2 data\n",
    "CO2 = xr.open_zarr(CO2_PATH)\n",
    "CO2 = CO2.assign_coords(\n",
    "    longitude=CO2.longitude.round(4),\n",
    "    latitude=CO2.latitude.round(4)\n",
    ").sel(time=slice(start_time, pd.to_datetime(end_time) + pd.Timedelta(days=1)))\n",
    "CO2 = CO2['co2']"
   ]
  },
  {
   "cell_type": "code",
   "execution_count": 198,
   "id": "e7c39e9b-eb05-4012-aaee-c5aba2a0bf65",
   "metadata": {
    "tags": []
   },
   "outputs": [],
   "source": [
    "with dask.config.set({\"array.slicing.split_large_chunks\": True}):\n",
    "    CO2 = CO2.resample(time='1H').nearest()"
   ]
  },
  {
   "cell_type": "code",
   "execution_count": 199,
   "id": "ae5a9c5c-e119-4d29-9e79-145f4620f7cc",
   "metadata": {
    "tags": []
   },
   "outputs": [],
   "source": [
    "CO2 = CO2.reindex(time=Rin.time, method='bfill')"
   ]
  },
  {
   "cell_type": "markdown",
   "id": "fda3fb7b-881a-4f11-98c3-cad43b492e4d",
   "metadata": {},
   "source": [
    "**Done datasets up to here!** Moving on with landcover\n",
    "\n",
    "----"
   ]
  },
  {
   "cell_type": "code",
   "execution_count": 200,
   "id": "7cebbd65-18f6-4146-97f6-6a983a520f83",
   "metadata": {
    "tags": []
   },
   "outputs": [],
   "source": [
    "## 4) read IGBP data\n",
    "hc = xr.open_zarr(hc_PATH)\n",
    "hc = hc.assign_coords(\n",
    "    longitude=hc.longitude.round(4),\n",
    "    latitude=hc.latitude.round(4)\n",
    ")['hc']"
   ]
  },
  {
   "cell_type": "code",
   "execution_count": 201,
   "id": "cfa10f51-6b7f-4553-92a4-3050ca8dad92",
   "metadata": {
    "tags": []
   },
   "outputs": [],
   "source": [
    "## 5) read Vcmax data\n",
    "vcmax = xr.open_zarr(VCMAX_PATH)\n",
    "vcmax = vcmax.assign_coords(\n",
    "    longitude=vcmax.longitude.round(4),\n",
    "    latitude=vcmax.latitude.round(4)\n",
    ")['vcmax']"
   ]
  },
  {
   "cell_type": "markdown",
   "id": "148d8459-b34d-41ec-86aa-d39000cff633",
   "metadata": {},
   "source": [
    "---"
   ]
  },
  {
   "cell_type": "code",
   "execution_count": 202,
   "id": "67c45d8e-d888-4adf-81e8-7a9a8a9866db",
   "metadata": {
    "tags": []
   },
   "outputs": [],
   "source": [
    "## 6) read IGBP data\n",
    "landcover = xr.open_zarr(LANDCOVER_PATH)\n",
    "landcover = landcover.assign_coords(\n",
    "    longitude=landcover.longitude.round(4),\n",
    "    latitude=landcover.latitude.round(4)\n",
    ")['lccs_class']"
   ]
  },
  {
   "cell_type": "code",
   "execution_count": 203,
   "id": "e7125f83-5224-4bc9-ac27-63f451d12ba2",
   "metadata": {
    "tags": []
   },
   "outputs": [],
   "source": [
    "# read IGBP unique values\n",
    "training_testing_append = pd.read_csv(IGBP_CLASS_PATH)['0'].unique()\n",
    "# read the table for converting landcover to IGBP\n",
    "IGBP_table = pd.read_csv(IGBP_TABLE_PATH)"
   ]
  },
  {
   "cell_type": "code",
   "execution_count": 204,
   "id": "5dac66ba-c18e-48e5-a2d3-b5e754e2a4ee",
   "metadata": {
    "tags": []
   },
   "outputs": [],
   "source": [
    "def landcover_to_igbp(landcover, IGBP_table, training_testing_append):\n",
    "    get_IGBP = np.vectorize(IGBP_table.set_index(\"lccs_class\").T.to_dict('records')[0].get)\n",
    "    IGBP = get_IGBP(landcover.values) \n",
    "    IGBP_all = pd.DataFrame(\n",
    "        columns=[f'IGBP_veg_long{i}' for i in range(1, 12)]\n",
    "    )\n",
    "    \n",
    "    # define one hot encoding for IGBP\n",
    "    encoder = OneHotEncoder(\n",
    "        categories=[training_testing_append],\n",
    "        sparse=False,\n",
    "        handle_unknown=\"ignore\"\n",
    "    )\n",
    "    \n",
    "    # transform data\n",
    "    aa = encoder.fit_transform(IGBP.reshape(IGBP.shape[0]*IGBP.shape[1], 1))\n",
    "    \n",
    "    # assign 23-D IGBP into 23 columns\n",
    "    for i in range(1, 12):\n",
    "        IGBP_all[f'IGBP_veg_long{i}'] = aa[:,i-1]\n",
    "    return IGBP_all"
   ]
  },
  {
   "cell_type": "markdown",
   "id": "fa3b01d8-1554-4ae5-86c9-872df1dd29bd",
   "metadata": {},
   "source": [
    "## 4) chunk all the input variables"
   ]
  },
  {
   "cell_type": "code",
   "execution_count": 205,
   "id": "b38abc40-ba6c-4c09-b290-142643a84813",
   "metadata": {
    "tags": []
   },
   "outputs": [
    {
     "name": "stderr",
     "output_type": "stream",
     "text": [
      "/home/qiahan/.conda/envs/mamba/envs/emulator/lib/python3.9/site-packages/dask/array/core.py:4832: PerformanceWarning: Increasing number of chunks by factor of 15\n",
      "  result = blockwise(\n"
     ]
    }
   ],
   "source": [
    "ds = xr.Dataset()\n",
    "\n",
    "ds = ds.assign(\n",
    "    Rin=Rin,\n",
    "    Rli=Rli,\n",
    "    p=p,\n",
    "    Ta=Ta,\n",
    "    ea=ea,\n",
    "    u=u,\n",
    "    Precip=Precip_msr,\n",
    "    LAI=LAI,\n",
    "    CO2=CO2,\n",
    "    SSM=SSM,\n",
    ")\n",
    "\n",
    "ds = ds.to_array()\n",
    "\n",
    "ds = ds.chunk(time=125, variable=-1)"
   ]
  },
  {
   "cell_type": "code",
   "execution_count": 206,
   "id": "5b51e011-072f-4cda-ab8b-ac646529dfc3",
   "metadata": {
    "tags": []
   },
   "outputs": [
    {
     "data": {
      "text/html": [
       "<div><svg style=\"position: absolute; width: 0; height: 0; overflow: hidden\">\n",
       "<defs>\n",
       "<symbol id=\"icon-database\" viewBox=\"0 0 32 32\">\n",
       "<path d=\"M16 0c-8.837 0-16 2.239-16 5v4c0 2.761 7.163 5 16 5s16-2.239 16-5v-4c0-2.761-7.163-5-16-5z\"></path>\n",
       "<path d=\"M16 17c-8.837 0-16-2.239-16-5v6c0 2.761 7.163 5 16 5s16-2.239 16-5v-6c0 2.761-7.163 5-16 5z\"></path>\n",
       "<path d=\"M16 26c-8.837 0-16-2.239-16-5v6c0 2.761 7.163 5 16 5s16-2.239 16-5v-6c0 2.761-7.163 5-16 5z\"></path>\n",
       "</symbol>\n",
       "<symbol id=\"icon-file-text2\" viewBox=\"0 0 32 32\">\n",
       "<path d=\"M28.681 7.159c-0.694-0.947-1.662-2.053-2.724-3.116s-2.169-2.030-3.116-2.724c-1.612-1.182-2.393-1.319-2.841-1.319h-15.5c-1.378 0-2.5 1.121-2.5 2.5v27c0 1.378 1.122 2.5 2.5 2.5h23c1.378 0 2.5-1.122 2.5-2.5v-19.5c0-0.448-0.137-1.23-1.319-2.841zM24.543 5.457c0.959 0.959 1.712 1.825 2.268 2.543h-4.811v-4.811c0.718 0.556 1.584 1.309 2.543 2.268zM28 29.5c0 0.271-0.229 0.5-0.5 0.5h-23c-0.271 0-0.5-0.229-0.5-0.5v-27c0-0.271 0.229-0.5 0.5-0.5 0 0 15.499-0 15.5 0v7c0 0.552 0.448 1 1 1h7v19.5z\"></path>\n",
       "<path d=\"M23 26h-14c-0.552 0-1-0.448-1-1s0.448-1 1-1h14c0.552 0 1 0.448 1 1s-0.448 1-1 1z\"></path>\n",
       "<path d=\"M23 22h-14c-0.552 0-1-0.448-1-1s0.448-1 1-1h14c0.552 0 1 0.448 1 1s-0.448 1-1 1z\"></path>\n",
       "<path d=\"M23 18h-14c-0.552 0-1-0.448-1-1s0.448-1 1-1h14c0.552 0 1 0.448 1 1s-0.448 1-1 1z\"></path>\n",
       "</symbol>\n",
       "</defs>\n",
       "</svg>\n",
       "<style>/* CSS stylesheet for displaying xarray objects in jupyterlab.\n",
       " *\n",
       " */\n",
       "\n",
       ":root {\n",
       "  --xr-font-color0: var(--jp-content-font-color0, rgba(0, 0, 0, 1));\n",
       "  --xr-font-color2: var(--jp-content-font-color2, rgba(0, 0, 0, 0.54));\n",
       "  --xr-font-color3: var(--jp-content-font-color3, rgba(0, 0, 0, 0.38));\n",
       "  --xr-border-color: var(--jp-border-color2, #e0e0e0);\n",
       "  --xr-disabled-color: var(--jp-layout-color3, #bdbdbd);\n",
       "  --xr-background-color: var(--jp-layout-color0, white);\n",
       "  --xr-background-color-row-even: var(--jp-layout-color1, white);\n",
       "  --xr-background-color-row-odd: var(--jp-layout-color2, #eeeeee);\n",
       "}\n",
       "\n",
       "html[theme=dark],\n",
       "body[data-theme=dark],\n",
       "body.vscode-dark {\n",
       "  --xr-font-color0: rgba(255, 255, 255, 1);\n",
       "  --xr-font-color2: rgba(255, 255, 255, 0.54);\n",
       "  --xr-font-color3: rgba(255, 255, 255, 0.38);\n",
       "  --xr-border-color: #1F1F1F;\n",
       "  --xr-disabled-color: #515151;\n",
       "  --xr-background-color: #111111;\n",
       "  --xr-background-color-row-even: #111111;\n",
       "  --xr-background-color-row-odd: #313131;\n",
       "}\n",
       "\n",
       ".xr-wrap {\n",
       "  display: block !important;\n",
       "  min-width: 300px;\n",
       "  max-width: 700px;\n",
       "}\n",
       "\n",
       ".xr-text-repr-fallback {\n",
       "  /* fallback to plain text repr when CSS is not injected (untrusted notebook) */\n",
       "  display: none;\n",
       "}\n",
       "\n",
       ".xr-header {\n",
       "  padding-top: 6px;\n",
       "  padding-bottom: 6px;\n",
       "  margin-bottom: 4px;\n",
       "  border-bottom: solid 1px var(--xr-border-color);\n",
       "}\n",
       "\n",
       ".xr-header > div,\n",
       ".xr-header > ul {\n",
       "  display: inline;\n",
       "  margin-top: 0;\n",
       "  margin-bottom: 0;\n",
       "}\n",
       "\n",
       ".xr-obj-type,\n",
       ".xr-array-name {\n",
       "  margin-left: 2px;\n",
       "  margin-right: 10px;\n",
       "}\n",
       "\n",
       ".xr-obj-type {\n",
       "  color: var(--xr-font-color2);\n",
       "}\n",
       "\n",
       ".xr-sections {\n",
       "  padding-left: 0 !important;\n",
       "  display: grid;\n",
       "  grid-template-columns: 150px auto auto 1fr 20px 20px;\n",
       "}\n",
       "\n",
       ".xr-section-item {\n",
       "  display: contents;\n",
       "}\n",
       "\n",
       ".xr-section-item input {\n",
       "  display: none;\n",
       "}\n",
       "\n",
       ".xr-section-item input + label {\n",
       "  color: var(--xr-disabled-color);\n",
       "}\n",
       "\n",
       ".xr-section-item input:enabled + label {\n",
       "  cursor: pointer;\n",
       "  color: var(--xr-font-color2);\n",
       "}\n",
       "\n",
       ".xr-section-item input:enabled + label:hover {\n",
       "  color: var(--xr-font-color0);\n",
       "}\n",
       "\n",
       ".xr-section-summary {\n",
       "  grid-column: 1;\n",
       "  color: var(--xr-font-color2);\n",
       "  font-weight: 500;\n",
       "}\n",
       "\n",
       ".xr-section-summary > span {\n",
       "  display: inline-block;\n",
       "  padding-left: 0.5em;\n",
       "}\n",
       "\n",
       ".xr-section-summary-in:disabled + label {\n",
       "  color: var(--xr-font-color2);\n",
       "}\n",
       "\n",
       ".xr-section-summary-in + label:before {\n",
       "  display: inline-block;\n",
       "  content: '►';\n",
       "  font-size: 11px;\n",
       "  width: 15px;\n",
       "  text-align: center;\n",
       "}\n",
       "\n",
       ".xr-section-summary-in:disabled + label:before {\n",
       "  color: var(--xr-disabled-color);\n",
       "}\n",
       "\n",
       ".xr-section-summary-in:checked + label:before {\n",
       "  content: '▼';\n",
       "}\n",
       "\n",
       ".xr-section-summary-in:checked + label > span {\n",
       "  display: none;\n",
       "}\n",
       "\n",
       ".xr-section-summary,\n",
       ".xr-section-inline-details {\n",
       "  padding-top: 4px;\n",
       "  padding-bottom: 4px;\n",
       "}\n",
       "\n",
       ".xr-section-inline-details {\n",
       "  grid-column: 2 / -1;\n",
       "}\n",
       "\n",
       ".xr-section-details {\n",
       "  display: none;\n",
       "  grid-column: 1 / -1;\n",
       "  margin-bottom: 5px;\n",
       "}\n",
       "\n",
       ".xr-section-summary-in:checked ~ .xr-section-details {\n",
       "  display: contents;\n",
       "}\n",
       "\n",
       ".xr-array-wrap {\n",
       "  grid-column: 1 / -1;\n",
       "  display: grid;\n",
       "  grid-template-columns: 20px auto;\n",
       "}\n",
       "\n",
       ".xr-array-wrap > label {\n",
       "  grid-column: 1;\n",
       "  vertical-align: top;\n",
       "}\n",
       "\n",
       ".xr-preview {\n",
       "  color: var(--xr-font-color3);\n",
       "}\n",
       "\n",
       ".xr-array-preview,\n",
       ".xr-array-data {\n",
       "  padding: 0 5px !important;\n",
       "  grid-column: 2;\n",
       "}\n",
       "\n",
       ".xr-array-data,\n",
       ".xr-array-in:checked ~ .xr-array-preview {\n",
       "  display: none;\n",
       "}\n",
       "\n",
       ".xr-array-in:checked ~ .xr-array-data,\n",
       ".xr-array-preview {\n",
       "  display: inline-block;\n",
       "}\n",
       "\n",
       ".xr-dim-list {\n",
       "  display: inline-block !important;\n",
       "  list-style: none;\n",
       "  padding: 0 !important;\n",
       "  margin: 0;\n",
       "}\n",
       "\n",
       ".xr-dim-list li {\n",
       "  display: inline-block;\n",
       "  padding: 0;\n",
       "  margin: 0;\n",
       "}\n",
       "\n",
       ".xr-dim-list:before {\n",
       "  content: '(';\n",
       "}\n",
       "\n",
       ".xr-dim-list:after {\n",
       "  content: ')';\n",
       "}\n",
       "\n",
       ".xr-dim-list li:not(:last-child):after {\n",
       "  content: ',';\n",
       "  padding-right: 5px;\n",
       "}\n",
       "\n",
       ".xr-has-index {\n",
       "  font-weight: bold;\n",
       "}\n",
       "\n",
       ".xr-var-list,\n",
       ".xr-var-item {\n",
       "  display: contents;\n",
       "}\n",
       "\n",
       ".xr-var-item > div,\n",
       ".xr-var-item label,\n",
       ".xr-var-item > .xr-var-name span {\n",
       "  background-color: var(--xr-background-color-row-even);\n",
       "  margin-bottom: 0;\n",
       "}\n",
       "\n",
       ".xr-var-item > .xr-var-name:hover span {\n",
       "  padding-right: 5px;\n",
       "}\n",
       "\n",
       ".xr-var-list > li:nth-child(odd) > div,\n",
       ".xr-var-list > li:nth-child(odd) > label,\n",
       ".xr-var-list > li:nth-child(odd) > .xr-var-name span {\n",
       "  background-color: var(--xr-background-color-row-odd);\n",
       "}\n",
       "\n",
       ".xr-var-name {\n",
       "  grid-column: 1;\n",
       "}\n",
       "\n",
       ".xr-var-dims {\n",
       "  grid-column: 2;\n",
       "}\n",
       "\n",
       ".xr-var-dtype {\n",
       "  grid-column: 3;\n",
       "  text-align: right;\n",
       "  color: var(--xr-font-color2);\n",
       "}\n",
       "\n",
       ".xr-var-preview {\n",
       "  grid-column: 4;\n",
       "}\n",
       "\n",
       ".xr-var-name,\n",
       ".xr-var-dims,\n",
       ".xr-var-dtype,\n",
       ".xr-preview,\n",
       ".xr-attrs dt {\n",
       "  white-space: nowrap;\n",
       "  overflow: hidden;\n",
       "  text-overflow: ellipsis;\n",
       "  padding-right: 10px;\n",
       "}\n",
       "\n",
       ".xr-var-name:hover,\n",
       ".xr-var-dims:hover,\n",
       ".xr-var-dtype:hover,\n",
       ".xr-attrs dt:hover {\n",
       "  overflow: visible;\n",
       "  width: auto;\n",
       "  z-index: 1;\n",
       "}\n",
       "\n",
       ".xr-var-attrs,\n",
       ".xr-var-data {\n",
       "  display: none;\n",
       "  background-color: var(--xr-background-color) !important;\n",
       "  padding-bottom: 5px !important;\n",
       "}\n",
       "\n",
       ".xr-var-attrs-in:checked ~ .xr-var-attrs,\n",
       ".xr-var-data-in:checked ~ .xr-var-data {\n",
       "  display: block;\n",
       "}\n",
       "\n",
       ".xr-var-data > table {\n",
       "  float: right;\n",
       "}\n",
       "\n",
       ".xr-var-name span,\n",
       ".xr-var-data,\n",
       ".xr-attrs {\n",
       "  padding-left: 25px !important;\n",
       "}\n",
       "\n",
       ".xr-attrs,\n",
       ".xr-var-attrs,\n",
       ".xr-var-data {\n",
       "  grid-column: 1 / -1;\n",
       "}\n",
       "\n",
       "dl.xr-attrs {\n",
       "  padding: 0;\n",
       "  margin: 0;\n",
       "  display: grid;\n",
       "  grid-template-columns: 125px auto;\n",
       "}\n",
       "\n",
       ".xr-attrs dt,\n",
       ".xr-attrs dd {\n",
       "  padding: 0;\n",
       "  margin: 0;\n",
       "  float: left;\n",
       "  padding-right: 10px;\n",
       "  width: auto;\n",
       "}\n",
       "\n",
       ".xr-attrs dt {\n",
       "  font-weight: normal;\n",
       "  grid-column: 1;\n",
       "}\n",
       "\n",
       ".xr-attrs dt:hover span {\n",
       "  display: inline-block;\n",
       "  background: var(--xr-background-color);\n",
       "  padding-right: 10px;\n",
       "}\n",
       "\n",
       ".xr-attrs dd {\n",
       "  grid-column: 2;\n",
       "  white-space: pre-wrap;\n",
       "  word-break: break-all;\n",
       "}\n",
       "\n",
       ".xr-icon-database,\n",
       ".xr-icon-file-text2 {\n",
       "  display: inline-block;\n",
       "  vertical-align: middle;\n",
       "  width: 1em;\n",
       "  height: 1.5em !important;\n",
       "  stroke-width: 0;\n",
       "  stroke: currentColor;\n",
       "  fill: currentColor;\n",
       "}\n",
       "</style><pre class='xr-text-repr-fallback'>&lt;xarray.DataArray (variable: 10, time: 744, latitude: 1801, longitude: 3600)&gt;\n",
       "dask.array&lt;rechunk-merge, shape=(10, 744, 1801, 3600), dtype=float64, chunksize=(10, 125, 250, 250), chunktype=numpy.ndarray&gt;\n",
       "Coordinates:\n",
       "  * latitude   (latitude) float32 -90.0 -89.9 -89.8 -89.7 ... 89.8 89.9 90.0\n",
       "  * longitude  (longitude) float32 -180.0 -179.9 -179.8 ... 179.7 179.8 179.9\n",
       "  * time       (time) datetime64[ns] 2014-01-01 ... 2014-01-31T23:00:00\n",
       "  * variable   (variable) object &#x27;Rin&#x27; &#x27;Rli&#x27; &#x27;p&#x27; &#x27;Ta&#x27; ... &#x27;LAI&#x27; &#x27;CO2&#x27; &#x27;SSM&#x27;</pre><div class='xr-wrap' style='display:none'><div class='xr-header'><div class='xr-obj-type'>xarray.DataArray</div><div class='xr-array-name'></div><ul class='xr-dim-list'><li><span class='xr-has-index'>variable</span>: 10</li><li><span class='xr-has-index'>time</span>: 744</li><li><span class='xr-has-index'>latitude</span>: 1801</li><li><span class='xr-has-index'>longitude</span>: 3600</li></ul></div><ul class='xr-sections'><li class='xr-section-item'><div class='xr-array-wrap'><input id='section-f699fbeb-075a-4001-bca2-e8b784693a50' class='xr-array-in' type='checkbox' checked><label for='section-f699fbeb-075a-4001-bca2-e8b784693a50' title='Show/hide data repr'><svg class='icon xr-icon-database'><use xlink:href='#icon-database'></use></svg></label><div class='xr-array-preview xr-preview'><span>dask.array&lt;chunksize=(10, 125, 250, 250), meta=np.ndarray&gt;</span></div><div class='xr-array-data'><table>\n",
       "    <tr>\n",
       "        <td>\n",
       "            <table style=\"border-collapse: collapse;\">\n",
       "                <thead>\n",
       "                    <tr>\n",
       "                        <td> </td>\n",
       "                        <th> Array </th>\n",
       "                        <th> Chunk </th>\n",
       "                    </tr>\n",
       "                </thead>\n",
       "                <tbody>\n",
       "                    \n",
       "                    <tr>\n",
       "                        <th> Bytes </th>\n",
       "                        <td> 359.40 GiB </td>\n",
       "                        <td> 596.05 MiB </td>\n",
       "                    </tr>\n",
       "                    \n",
       "                    <tr>\n",
       "                        <th> Shape </th>\n",
       "                        <td> (10, 744, 1801, 3600) </td>\n",
       "                        <td> (10, 125, 250, 250) </td>\n",
       "                    </tr>\n",
       "                    <tr>\n",
       "                        <th> Dask graph </th>\n",
       "                        <td colspan=\"2\"> 720 chunks in 139 graph layers </td>\n",
       "                    </tr>\n",
       "                    <tr>\n",
       "                        <th> Data type </th>\n",
       "                        <td colspan=\"2\"> float64 numpy.ndarray </td>\n",
       "                    </tr>\n",
       "                </tbody>\n",
       "            </table>\n",
       "        </td>\n",
       "        <td>\n",
       "        <svg width=\"384\" height=\"134\" style=\"stroke:rgb(0,0,0);stroke-width:1\" >\n",
       "\n",
       "  <!-- Horizontal lines -->\n",
       "  <line x1=\"0\" y1=\"0\" x2=\"25\" y2=\"0\" style=\"stroke-width:2\" />\n",
       "  <line x1=\"0\" y1=\"25\" x2=\"25\" y2=\"25\" style=\"stroke-width:2\" />\n",
       "\n",
       "  <!-- Vertical lines -->\n",
       "  <line x1=\"0\" y1=\"0\" x2=\"0\" y2=\"25\" style=\"stroke-width:2\" />\n",
       "  <line x1=\"25\" y1=\"0\" x2=\"25\" y2=\"25\" style=\"stroke-width:2\" />\n",
       "\n",
       "  <!-- Colored Rectangle -->\n",
       "  <polygon points=\"0.0,0.0 25.412616514582485,0.0 25.412616514582485,25.412616514582485 0.0,25.412616514582485\" style=\"fill:#ECB172A0;stroke-width:0\"/>\n",
       "\n",
       "  <!-- Text -->\n",
       "  <text x=\"12.706308\" y=\"45.412617\" font-size=\"1.0rem\" font-weight=\"100\" text-anchor=\"middle\" >10</text>\n",
       "  <text x=\"45.412617\" y=\"12.706308\" font-size=\"1.0rem\" font-weight=\"100\" text-anchor=\"middle\" transform=\"rotate(0,45.412617,12.706308)\">1</text>\n",
       "\n",
       "\n",
       "  <!-- Horizontal lines -->\n",
       "  <line x1=\"95\" y1=\"0\" x2=\"119\" y2=\"24\" style=\"stroke-width:2\" />\n",
       "  <line x1=\"95\" y1=\"8\" x2=\"119\" y2=\"33\" />\n",
       "  <line x1=\"95\" y1=\"16\" x2=\"119\" y2=\"41\" />\n",
       "  <line x1=\"95\" y1=\"25\" x2=\"119\" y2=\"49\" />\n",
       "  <line x1=\"95\" y1=\"33\" x2=\"119\" y2=\"58\" />\n",
       "  <line x1=\"95\" y1=\"41\" x2=\"119\" y2=\"66\" />\n",
       "  <line x1=\"95\" y1=\"50\" x2=\"119\" y2=\"74\" />\n",
       "  <line x1=\"95\" y1=\"58\" x2=\"119\" y2=\"83\" />\n",
       "  <line x1=\"95\" y1=\"60\" x2=\"119\" y2=\"84\" style=\"stroke-width:2\" />\n",
       "\n",
       "  <!-- Vertical lines -->\n",
       "  <line x1=\"95\" y1=\"0\" x2=\"95\" y2=\"60\" style=\"stroke-width:2\" />\n",
       "  <line x1=\"99\" y1=\"4\" x2=\"99\" y2=\"64\" />\n",
       "  <line x1=\"103\" y1=\"8\" x2=\"103\" y2=\"68\" />\n",
       "  <line x1=\"107\" y1=\"12\" x2=\"107\" y2=\"72\" />\n",
       "  <line x1=\"111\" y1=\"16\" x2=\"111\" y2=\"76\" />\n",
       "  <line x1=\"115\" y1=\"20\" x2=\"115\" y2=\"80\" />\n",
       "  <line x1=\"119\" y1=\"24\" x2=\"119\" y2=\"84\" style=\"stroke-width:2\" />\n",
       "\n",
       "  <!-- Colored Rectangle -->\n",
       "  <polygon points=\"95.0,0.0 119.79252985955935,24.792529859559348 119.79252985955935,84.82586319289268 95.0,60.03333333333333\" style=\"fill:#ECB172A0;stroke-width:0\"/>\n",
       "\n",
       "  <!-- Horizontal lines -->\n",
       "  <line x1=\"95\" y1=\"0\" x2=\"215\" y2=\"0\" style=\"stroke-width:2\" />\n",
       "  <line x1=\"99\" y1=\"4\" x2=\"219\" y2=\"4\" />\n",
       "  <line x1=\"103\" y1=\"8\" x2=\"223\" y2=\"8\" />\n",
       "  <line x1=\"107\" y1=\"12\" x2=\"227\" y2=\"12\" />\n",
       "  <line x1=\"111\" y1=\"16\" x2=\"231\" y2=\"16\" />\n",
       "  <line x1=\"115\" y1=\"20\" x2=\"235\" y2=\"20\" />\n",
       "  <line x1=\"119\" y1=\"24\" x2=\"239\" y2=\"24\" style=\"stroke-width:2\" />\n",
       "\n",
       "  <!-- Vertical lines -->\n",
       "  <line x1=\"95\" y1=\"0\" x2=\"119\" y2=\"24\" style=\"stroke-width:2\" />\n",
       "  <line x1=\"103\" y1=\"0\" x2=\"128\" y2=\"24\" />\n",
       "  <line x1=\"111\" y1=\"0\" x2=\"136\" y2=\"24\" />\n",
       "  <line x1=\"120\" y1=\"0\" x2=\"144\" y2=\"24\" />\n",
       "  <line x1=\"128\" y1=\"0\" x2=\"153\" y2=\"24\" />\n",
       "  <line x1=\"136\" y1=\"0\" x2=\"161\" y2=\"24\" />\n",
       "  <line x1=\"145\" y1=\"0\" x2=\"169\" y2=\"24\" />\n",
       "  <line x1=\"153\" y1=\"0\" x2=\"178\" y2=\"24\" />\n",
       "  <line x1=\"161\" y1=\"0\" x2=\"186\" y2=\"24\" />\n",
       "  <line x1=\"170\" y1=\"0\" x2=\"194\" y2=\"24\" />\n",
       "  <line x1=\"178\" y1=\"0\" x2=\"203\" y2=\"24\" />\n",
       "  <line x1=\"186\" y1=\"0\" x2=\"211\" y2=\"24\" />\n",
       "  <line x1=\"195\" y1=\"0\" x2=\"219\" y2=\"24\" />\n",
       "  <line x1=\"203\" y1=\"0\" x2=\"228\" y2=\"24\" />\n",
       "  <line x1=\"211\" y1=\"0\" x2=\"236\" y2=\"24\" />\n",
       "  <line x1=\"215\" y1=\"0\" x2=\"239\" y2=\"24\" style=\"stroke-width:2\" />\n",
       "\n",
       "  <!-- Colored Rectangle -->\n",
       "  <polygon points=\"95.0,0.0 215.0,0.0 239.79252985955935,24.792529859559348 119.79252985955935,24.792529859559348\" style=\"fill:#ECB172A0;stroke-width:0\"/>\n",
       "\n",
       "  <!-- Horizontal lines -->\n",
       "  <line x1=\"119\" y1=\"24\" x2=\"239\" y2=\"24\" style=\"stroke-width:2\" />\n",
       "  <line x1=\"119\" y1=\"33\" x2=\"239\" y2=\"33\" />\n",
       "  <line x1=\"119\" y1=\"41\" x2=\"239\" y2=\"41\" />\n",
       "  <line x1=\"119\" y1=\"49\" x2=\"239\" y2=\"49\" />\n",
       "  <line x1=\"119\" y1=\"58\" x2=\"239\" y2=\"58\" />\n",
       "  <line x1=\"119\" y1=\"66\" x2=\"239\" y2=\"66\" />\n",
       "  <line x1=\"119\" y1=\"74\" x2=\"239\" y2=\"74\" />\n",
       "  <line x1=\"119\" y1=\"83\" x2=\"239\" y2=\"83\" />\n",
       "  <line x1=\"119\" y1=\"84\" x2=\"239\" y2=\"84\" style=\"stroke-width:2\" />\n",
       "\n",
       "  <!-- Vertical lines -->\n",
       "  <line x1=\"119\" y1=\"24\" x2=\"119\" y2=\"84\" style=\"stroke-width:2\" />\n",
       "  <line x1=\"128\" y1=\"24\" x2=\"128\" y2=\"84\" />\n",
       "  <line x1=\"136\" y1=\"24\" x2=\"136\" y2=\"84\" />\n",
       "  <line x1=\"144\" y1=\"24\" x2=\"144\" y2=\"84\" />\n",
       "  <line x1=\"153\" y1=\"24\" x2=\"153\" y2=\"84\" />\n",
       "  <line x1=\"161\" y1=\"24\" x2=\"161\" y2=\"84\" />\n",
       "  <line x1=\"169\" y1=\"24\" x2=\"169\" y2=\"84\" />\n",
       "  <line x1=\"178\" y1=\"24\" x2=\"178\" y2=\"84\" />\n",
       "  <line x1=\"186\" y1=\"24\" x2=\"186\" y2=\"84\" />\n",
       "  <line x1=\"194\" y1=\"24\" x2=\"194\" y2=\"84\" />\n",
       "  <line x1=\"203\" y1=\"24\" x2=\"203\" y2=\"84\" />\n",
       "  <line x1=\"211\" y1=\"24\" x2=\"211\" y2=\"84\" />\n",
       "  <line x1=\"219\" y1=\"24\" x2=\"219\" y2=\"84\" />\n",
       "  <line x1=\"228\" y1=\"24\" x2=\"228\" y2=\"84\" />\n",
       "  <line x1=\"236\" y1=\"24\" x2=\"236\" y2=\"84\" />\n",
       "  <line x1=\"239\" y1=\"24\" x2=\"239\" y2=\"84\" style=\"stroke-width:2\" />\n",
       "\n",
       "  <!-- Colored Rectangle -->\n",
       "  <polygon points=\"119.79252985955935,24.792529859559348 239.79252985955935,24.792529859559348 239.79252985955935,84.82586319289268 119.79252985955935,84.82586319289268\" style=\"fill:#ECB172A0;stroke-width:0\"/>\n",
       "\n",
       "  <!-- Text -->\n",
       "  <text x=\"179.792530\" y=\"104.825863\" font-size=\"1.0rem\" font-weight=\"100\" text-anchor=\"middle\" >3600</text>\n",
       "  <text x=\"259.792530\" y=\"54.809197\" font-size=\"1.0rem\" font-weight=\"100\" text-anchor=\"middle\" transform=\"rotate(-90,259.792530,54.809197)\">1801</text>\n",
       "  <text x=\"97.396265\" y=\"92.429598\" font-size=\"1.0rem\" font-weight=\"100\" text-anchor=\"middle\" transform=\"rotate(45,97.396265,92.429598)\">744</text>\n",
       "</svg>\n",
       "        </td>\n",
       "    </tr>\n",
       "</table></div></div></li><li class='xr-section-item'><input id='section-dc023476-374a-42b2-a579-e11b496fd45a' class='xr-section-summary-in' type='checkbox'  checked><label for='section-dc023476-374a-42b2-a579-e11b496fd45a' class='xr-section-summary' >Coordinates: <span>(4)</span></label><div class='xr-section-inline-details'></div><div class='xr-section-details'><ul class='xr-var-list'><li class='xr-var-item'><div class='xr-var-name'><span class='xr-has-index'>latitude</span></div><div class='xr-var-dims'>(latitude)</div><div class='xr-var-dtype'>float32</div><div class='xr-var-preview xr-preview'>-90.0 -89.9 -89.8 ... 89.9 90.0</div><input id='attrs-8bee54a2-ad96-4e2c-b8e6-fa2c5735ad90' class='xr-var-attrs-in' type='checkbox' ><label for='attrs-8bee54a2-ad96-4e2c-b8e6-fa2c5735ad90' title='Show/Hide attributes'><svg class='icon xr-icon-file-text2'><use xlink:href='#icon-file-text2'></use></svg></label><input id='data-277752ad-f67a-4235-b48e-d9c3cac08e97' class='xr-var-data-in' type='checkbox'><label for='data-277752ad-f67a-4235-b48e-d9c3cac08e97' title='Show/Hide data repr'><svg class='icon xr-icon-database'><use xlink:href='#icon-database'></use></svg></label><div class='xr-var-attrs'><dl class='xr-attrs'><dt><span>long_name :</span></dt><dd>latitude</dd><dt><span>units :</span></dt><dd>degrees_north</dd></dl></div><div class='xr-var-data'><pre>array([-90. , -89.9, -89.8, ...,  89.8,  89.9,  90. ], dtype=float32)</pre></div></li><li class='xr-var-item'><div class='xr-var-name'><span class='xr-has-index'>longitude</span></div><div class='xr-var-dims'>(longitude)</div><div class='xr-var-dtype'>float32</div><div class='xr-var-preview xr-preview'>-180.0 -179.9 ... 179.8 179.9</div><input id='attrs-9657d545-d784-4ea9-8fdc-99255ae63d82' class='xr-var-attrs-in' type='checkbox' disabled><label for='attrs-9657d545-d784-4ea9-8fdc-99255ae63d82' title='Show/Hide attributes'><svg class='icon xr-icon-file-text2'><use xlink:href='#icon-file-text2'></use></svg></label><input id='data-30a8eec1-057b-4d0d-8cae-2901a8006648' class='xr-var-data-in' type='checkbox'><label for='data-30a8eec1-057b-4d0d-8cae-2901a8006648' title='Show/Hide data repr'><svg class='icon xr-icon-database'><use xlink:href='#icon-database'></use></svg></label><div class='xr-var-attrs'><dl class='xr-attrs'></dl></div><div class='xr-var-data'><pre>array([-180. , -179.9, -179.8, ...,  179.7,  179.8,  179.9], dtype=float32)</pre></div></li><li class='xr-var-item'><div class='xr-var-name'><span class='xr-has-index'>time</span></div><div class='xr-var-dims'>(time)</div><div class='xr-var-dtype'>datetime64[ns]</div><div class='xr-var-preview xr-preview'>2014-01-01 ... 2014-01-31T23:00:00</div><input id='attrs-2433f67a-ed81-4664-be0a-c32ac50e2b62' class='xr-var-attrs-in' type='checkbox' ><label for='attrs-2433f67a-ed81-4664-be0a-c32ac50e2b62' title='Show/Hide attributes'><svg class='icon xr-icon-file-text2'><use xlink:href='#icon-file-text2'></use></svg></label><input id='data-51a7d63d-bde7-40bd-8e0a-a9233f76d480' class='xr-var-data-in' type='checkbox'><label for='data-51a7d63d-bde7-40bd-8e0a-a9233f76d480' title='Show/Hide data repr'><svg class='icon xr-icon-database'><use xlink:href='#icon-database'></use></svg></label><div class='xr-var-attrs'><dl class='xr-attrs'><dt><span>long_name :</span></dt><dd>time</dd></dl></div><div class='xr-var-data'><pre>array([&#x27;2014-01-01T00:00:00.000000000&#x27;, &#x27;2014-01-01T01:00:00.000000000&#x27;,\n",
       "       &#x27;2014-01-01T02:00:00.000000000&#x27;, ..., &#x27;2014-01-31T21:00:00.000000000&#x27;,\n",
       "       &#x27;2014-01-31T22:00:00.000000000&#x27;, &#x27;2014-01-31T23:00:00.000000000&#x27;],\n",
       "      dtype=&#x27;datetime64[ns]&#x27;)</pre></div></li><li class='xr-var-item'><div class='xr-var-name'><span class='xr-has-index'>variable</span></div><div class='xr-var-dims'>(variable)</div><div class='xr-var-dtype'>object</div><div class='xr-var-preview xr-preview'>&#x27;Rin&#x27; &#x27;Rli&#x27; &#x27;p&#x27; ... &#x27;CO2&#x27; &#x27;SSM&#x27;</div><input id='attrs-2933acbb-d8f9-40c9-8c3f-d39abc90a7e7' class='xr-var-attrs-in' type='checkbox' disabled><label for='attrs-2933acbb-d8f9-40c9-8c3f-d39abc90a7e7' title='Show/Hide attributes'><svg class='icon xr-icon-file-text2'><use xlink:href='#icon-file-text2'></use></svg></label><input id='data-965afc4d-a354-444b-837a-f5a50254e411' class='xr-var-data-in' type='checkbox'><label for='data-965afc4d-a354-444b-837a-f5a50254e411' title='Show/Hide data repr'><svg class='icon xr-icon-database'><use xlink:href='#icon-database'></use></svg></label><div class='xr-var-attrs'><dl class='xr-attrs'></dl></div><div class='xr-var-data'><pre>array([&#x27;Rin&#x27;, &#x27;Rli&#x27;, &#x27;p&#x27;, &#x27;Ta&#x27;, &#x27;ea&#x27;, &#x27;u&#x27;, &#x27;Precip&#x27;, &#x27;LAI&#x27;, &#x27;CO2&#x27;, &#x27;SSM&#x27;],\n",
       "      dtype=object)</pre></div></li></ul></div></li><li class='xr-section-item'><input id='section-7b68273f-8119-4f39-a55a-8a964e2f82cd' class='xr-section-summary-in' type='checkbox' disabled ><label for='section-7b68273f-8119-4f39-a55a-8a964e2f82cd' class='xr-section-summary'  title='Expand/collapse section'>Attributes: <span>(0)</span></label><div class='xr-section-inline-details'></div><div class='xr-section-details'><dl class='xr-attrs'></dl></div></li></ul></div></div>"
      ],
      "text/plain": [
       "<xarray.DataArray (variable: 10, time: 744, latitude: 1801, longitude: 3600)>\n",
       "dask.array<rechunk-merge, shape=(10, 744, 1801, 3600), dtype=float64, chunksize=(10, 125, 250, 250), chunktype=numpy.ndarray>\n",
       "Coordinates:\n",
       "  * latitude   (latitude) float32 -90.0 -89.9 -89.8 -89.7 ... 89.8 89.9 90.0\n",
       "  * longitude  (longitude) float32 -180.0 -179.9 -179.8 ... 179.7 179.8 179.9\n",
       "  * time       (time) datetime64[ns] 2014-01-01 ... 2014-01-31T23:00:00\n",
       "  * variable   (variable) object 'Rin' 'Rli' 'p' 'Ta' ... 'LAI' 'CO2' 'SSM'"
      ]
     },
     "execution_count": 206,
     "metadata": {},
     "output_type": "execute_result"
    }
   ],
   "source": [
    "ds"
   ]
  },
  {
   "cell_type": "markdown",
   "id": "86bf1162-22a9-44b5-b63f-c44b5bd752d6",
   "metadata": {},
   "source": [
    "## 5) predict fluxes with map_blocks"
   ]
  },
  {
   "cell_type": "code",
   "execution_count": 27,
   "id": "aee08121-c8b2-47cf-bec1-16482bb7ed7b",
   "metadata": {
    "tags": []
   },
   "outputs": [],
   "source": [
    "INPUT_VARIABLES = [\n",
    "    'Rin', 'Rli', 'p', 'Ta', 'ea', 'u', 'CO2','LAI','Vcmo','hc', 'Precip',  \n",
    "    'SSM',  *[f'IGBP_veg_long{i}' for i in range(1, 12)]\n",
    "]\n",
    "OUTPUT_VARIABLES = ['Rn_OI','LE_OI','H_OI','updated_Gtot','Actot', 'SIF685', 'SIF740']\n",
    "# OUTPUT_VARIABLES = ['Rn_OI_daily_std_SG', 'LE_OI_daily_std_SG', 'H_OI_daily_std_SG','updated_Gtot_daily_std_SG','Actot_daily_std_SG', 'SIF685_daily_std_SG','SIF740_daily_std_SG']\n",
    "# OUTPUT_VARIABLES = ['Rn_OI_sameTime_std_SG', 'LE_OI_sameTime_std_SG','H_OI_sameTime_std_SG', 'updated_Gtot_sameTime_std_SG','Actot_sameTime_std_SG',\n",
    "       # 'SIF685_sameTime_std_SG', 'SIF740_sameTime_std_SG']"
   ]
  },
  {
   "cell_type": "code",
   "execution_count": 28,
   "id": "ce15b015-2b1c-4029-8e9c-76d2bc0c2b6c",
   "metadata": {
    "tags": []
   },
   "outputs": [],
   "source": [
    "chunks = [ds.chunksizes[v] for v in ['time', 'latitude', 'longitude']]\n",
    "chunks.append((len(OUTPUT_VARIABLES),))\n",
    "\n",
    "template_LEH = xr.DataArray(\n",
    "    name = 'LEH',\n",
    "    data=da.zeros(\n",
    "        (len(ds.time), len(ds.latitude), len(ds.longitude), len(OUTPUT_VARIABLES)), \n",
    "        chunks=chunks,\n",
    "    ),\n",
    "    dims=(\"time\", \"latitude\", \"longitude\", \"output_variable\"),\n",
    "    coords={\n",
    "        \"output_variable\": OUTPUT_VARIABLES, \n",
    "        \"time\": ds.time, \n",
    "        \"latitude\": ds.latitude,\n",
    "        \"longitude\": ds.longitude\n",
    "    }\n",
    ")"
   ]
  },
  {
   "cell_type": "code",
   "execution_count": 29,
   "id": "45317176-f436-4f3d-a66b-455db9596e65",
   "metadata": {
    "tags": []
   },
   "outputs": [],
   "source": [
    "def expand_time_dimension(data, n_time):\n",
    "    \"\"\" \n",
    "    Expand the space-dependent data over the time dimension.\n",
    "    \n",
    "    Parameters\n",
    "    ----------\n",
    "    data : np.ndarray\n",
    "        (ny, nx) matrix\n",
    "    n_time : int\n",
    "        number of elements in the time dimension\n",
    "    \n",
    "    Returns\n",
    "    -------\n",
    "    np.ndarray\n",
    "        (1, ntime*ny*nx) matrix\n",
    "    \"\"\"\n",
    "    expanded = np.tile(data.reshape(1, -1), (n_time, 1))\n",
    "    return expanded.reshape(1, -1)\n",
    "    \n",
    "\n",
    "def predictFlux(ds, hc, Vcmo, landcover, IGBP_table, training_testing_append, path_model):\n",
    "    n_time = len(ds.time)\n",
    "    \n",
    "    hc_ = expand_time_dimension(hc.data, n_time)\n",
    "    Vcmo_ = expand_time_dimension(Vcmo.data, n_time)\n",
    "    \n",
    "    IGBP_all = landcover_to_igbp(landcover, IGBP_table, training_testing_append)\n",
    "    IGBP_ = [\n",
    "        expand_time_dimension(IGBP_all[f'IGBP_veg_long{i}'].to_numpy(), n_time)\n",
    "        for i in range(1, 12)\n",
    "    ]\n",
    "    \n",
    "    Rin_ = ds.sel(variable='Rin').data.reshape(1, -1)\n",
    "    Rli_ = ds.sel(variable='Rli').data.reshape(1, -1)\n",
    "    p_ = ds.sel(variable='p').data.reshape(1, -1)\n",
    "    Ta_ = ds.sel(variable='Ta').data.reshape(1, -1)\n",
    "    ea_ = ds.sel(variable='ea').data.reshape(1, -1)\n",
    "    u_ = ds.sel(variable='u').data.reshape(1, -1)\n",
    "    Precip_msr_ = ds.sel(variable='Precip').data.reshape(1, -1)\n",
    "    LAI_ = ds.sel(variable='LAI').data.reshape(1, -1)\n",
    "    CO2_ = ds.sel(variable='CO2').data.reshape(1, -1)\n",
    "    SSM_ = ds.sel(variable='SSM').data.reshape(1, -1)\n",
    "\n",
    "    features_arr = np.concatenate((\n",
    "        Rin_, Rli_, p_, Ta_, ea_, u_,  CO2_,LAI_,Vcmo_,hc_,Precip_msr_,   SSM_,  *IGBP_\n",
    "    ))\n",
    "    features_arr = features_arr.transpose()\n",
    "    df_features = pd.DataFrame(\n",
    "        data=features_arr,\n",
    "        columns=INPUT_VARIABLES,\n",
    "    )\n",
    "    invalid_index = df_features.isnull().any(axis=1)\n",
    "    \n",
    "    # Convert the nan value as 0 for the calculation\n",
    "    df_features[invalid_index] = 0\n",
    "    \n",
    "    model = load_model(path_model)\n",
    "    LEH = model.predict(df_features)\n",
    "    LEH[invalid_index] = np.nan\n",
    "    \n",
    "    return xr.DataArray(\n",
    "        name='LEH',\n",
    "        data=LEH.reshape(len(ds.time), len(ds.latitude), len(ds.longitude), len(OUTPUT_VARIABLES)),\n",
    "        dims=(\"time\", \"latitude\", \"longitude\", \"output_variable\"),\n",
    "        coords={\n",
    "            \"output_variable\": OUTPUT_VARIABLES, \n",
    "            \"time\": ds.time, \n",
    "            \"latitude\": ds.latitude,\n",
    "            \"longitude\":ds.longitude\n",
    "        }\n",
    "    )"
   ]
  },
  {
   "cell_type": "code",
   "execution_count": 30,
   "id": "b9fc3d33-7df4-4522-a657-6ed4cca79f3f",
   "metadata": {
    "tags": []
   },
   "outputs": [],
   "source": [
    "hc = hc.squeeze('band')\n",
    "vcmax = vcmax.squeeze('band')\n",
    "landcover = landcover.squeeze('time')"
   ]
  },
  {
   "cell_type": "code",
   "execution_count": 31,
   "id": "a12e1fc9-92a0-4eaa-adb2-48640c38a40b",
   "metadata": {
    "tags": []
   },
   "outputs": [],
   "source": [
    "LEH = xr.map_blocks(\n",
    "    predictFlux,\n",
    "    ds,\n",
    "    args= [hc, vcmax, landcover],\n",
    "    kwargs={\n",
    "        \"IGBP_table\": IGBP_table, \n",
    "        \"training_testing_append\": training_testing_append, \n",
    "        \"path_model\": MODEL_PATH,\n",
    "    },\n",
    "    template=template_LEH,\n",
    ")"
   ]
  },
  {
   "cell_type": "markdown",
   "id": "6e869007-e31d-424e-93c5-b0d873e998a9",
   "metadata": {},
   "source": [
    "## export"
   ]
  },
  {
   "cell_type": "code",
   "execution_count": 32,
   "id": "c510e3b2-2e66-4b3f-af11-afa8098eff18",
   "metadata": {
    "tags": []
   },
   "outputs": [],
   "source": [
    "LEH = LEH.chunk({\"latitude\":200, \"longitude\":200})"
   ]
  },
  {
   "cell_type": "code",
   "execution_count": 33,
   "id": "0d6f4046-f850-4aa8-9283-435db44c80d9",
   "metadata": {
    "tags": []
   },
   "outputs": [],
   "source": [
    "LEH_ds = LEH.to_dataset(dim=\"output_variable\") "
   ]
  },
  {
   "cell_type": "code",
   "execution_count": 34,
   "id": "7d80fb7a-e235-4767-916e-52b771ee93b5",
   "metadata": {
    "tags": []
   },
   "outputs": [
    {
     "data": {
      "text/plain": [
       "'/gpfs/work2/0/ttse0619/qianqian/global_data_Qianqian/5output_data/global_fluxes_RFOI_2014-01_v1.3.zarr'"
      ]
     },
     "execution_count": 34,
     "metadata": {},
     "output_type": "execute_result"
    }
   ],
   "source": [
    "LEH_PATH"
   ]
  },
  {
   "cell_type": "code",
   "execution_count": null,
   "id": "68d08903-5a99-428b-abaf-2f9e379556b8",
   "metadata": {
    "tags": []
   },
   "outputs": [],
   "source": [
    "LEH_ds.to_zarr(LEH_PATH, mode='w')"
   ]
  },
  {
   "cell_type": "code",
   "execution_count": 36,
   "id": "85cf8755-5208-4695-91fe-bf689caf50c4",
   "metadata": {
    "tags": []
   },
   "outputs": [],
   "source": [
    "client.shutdown()"
   ]
  }
 ],
 "metadata": {
  "kernelspec": {
   "display_name": "Python 3 (ipykernel)",
   "language": "python",
   "name": "python3"
  },
  "language_info": {
   "codemirror_mode": {
    "name": "ipython",
    "version": 3
   },
   "file_extension": ".py",
   "mimetype": "text/x-python",
   "name": "python",
   "nbconvert_exporter": "python",
   "pygments_lexer": "ipython3",
   "version": "3.9.16"
  }
 },
 "nbformat": 4,
 "nbformat_minor": 5
}
