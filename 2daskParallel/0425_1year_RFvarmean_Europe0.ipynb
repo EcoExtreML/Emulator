{
 "cells": [
  {
   "cell_type": "markdown",
   "id": "136a780b-bf72-473c-b45c-0c776cb28d02",
   "metadata": {},
   "source": [
    "## 0)import libraries "
   ]
  },
  {
   "cell_type": "code",
   "execution_count": 1,
   "id": "b853c432-ffcc-4bce-949c-3f92a72f5482",
   "metadata": {
    "tags": []
   },
   "outputs": [],
   "source": [
    "import os\n",
    "import pickle\n",
    "\n",
    "import dask.array as da\n",
    "import numpy as np\n",
    "import pandas as pd\n",
    "import xarray as xr\n",
    "\n",
    "from PyStemmusScope import variable_conversion as vc\n",
    "from sklearn.preprocessing import OneHotEncoder\n",
    "from dask.distributed import Client, LocalCluster\n",
    "from dask_jobqueue import SLURMCluster"
   ]
  },
  {
   "cell_type": "markdown",
   "id": "9fe0c4cc-7ff2-4869-83ae-58161c2c67b0",
   "metadata": {},
   "source": [
    "## 1)settings for Dask"
   ]
  },
  {
   "cell_type": "code",
   "execution_count": 2,
   "id": "bc672cf7-5c9b-45f1-9f35-90b731d64d08",
   "metadata": {
    "tags": []
   },
   "outputs": [],
   "source": [
    "# Set the MALLOC_TRIM_THRESHOLD_ environment variable\n",
    "os.environ['MALLOC_TRIM_THRESHOLD_'] = '0'"
   ]
  },
  {
   "cell_type": "code",
   "execution_count": 3,
   "id": "1367f3d8-bf03-4a8c-95b1-ac8740e87c29",
   "metadata": {
    "tags": []
   },
   "outputs": [],
   "source": [
    "# cluster = LocalCluster(n_workers=4, threads_per_worker=1)"
   ]
  },
  {
   "cell_type": "markdown",
   "id": "91caea31-74ce-478e-952c-400021f77d0c",
   "metadata": {},
   "source": [
    "Setup a Dask cluster on 6 * 16 = 96 cores (6 * 4 = 24 workers with 4 threads each) and 6 * 120 GB = 720 GB memory in total ('fat' nodes on Snellius):"
   ]
  },
  {
   "cell_type": "code",
   "execution_count": 4,
   "id": "563a4b40-b792-47f0-b90f-9716903b2cbf",
   "metadata": {
    "tags": []
   },
   "outputs": [
    {
     "name": "stderr",
     "output_type": "stream",
     "text": [
      "/home/qiahan/.conda/envs/mamba/envs/emulator/lib/python3.9/site-packages/distributed/node.py:182: UserWarning: Port 8787 is already in use.\n",
      "Perhaps you already have a cluster running?\n",
      "Hosting the HTTP server on port 33353 instead\n",
      "  warnings.warn(\n"
     ]
    }
   ],
   "source": [
    "cluster = SLURMCluster(\n",
    "    name='dask-worker',\n",
    "    cores=16,\n",
    "    processes=4,\n",
    "    queue='fat',\n",
    "    memory='120GiB',\n",
    "    local_directory='$TMPDIR',\n",
    "    walltime='1:00:00'\n",
    ")\n",
    "cluster.scale(jobs=4)"
   ]
  },
  {
   "cell_type": "code",
   "execution_count": 5,
   "id": "2cca79b2-49b7-44ff-beb6-65d9d7f14161",
   "metadata": {
    "tags": []
   },
   "outputs": [
    {
     "data": {
      "text/html": [
       "<div>\n",
       "    <div style=\"width: 24px; height: 24px; background-color: #e1e1e1; border: 3px solid #9D9D9D; border-radius: 5px; position: absolute;\"> </div>\n",
       "    <div style=\"margin-left: 48px;\">\n",
       "        <h3 style=\"margin-bottom: 0px;\">Client</h3>\n",
       "        <p style=\"color: #9D9D9D; margin-bottom: 0px;\">Client-2ddd19e1-02e1-11ef-ac3b-b8cef6791308</p>\n",
       "        <table style=\"width: 100%; text-align: left;\">\n",
       "\n",
       "        <tr>\n",
       "        \n",
       "            <td style=\"text-align: left;\"><strong>Connection method:</strong> Cluster object</td>\n",
       "            <td style=\"text-align: left;\"><strong>Cluster type:</strong> dask_jobqueue.SLURMCluster</td>\n",
       "        \n",
       "        </tr>\n",
       "\n",
       "        \n",
       "            <tr>\n",
       "                <td style=\"text-align: left;\">\n",
       "                    <strong>Dashboard: </strong> <a href=\"/proxy/33353/status\" target=\"_blank\">/proxy/33353/status</a>\n",
       "                </td>\n",
       "                <td style=\"text-align: left;\"></td>\n",
       "            </tr>\n",
       "        \n",
       "\n",
       "        </table>\n",
       "\n",
       "        \n",
       "            <button style=\"margin-bottom: 12px;\" data-commandlinker-command=\"dask:populate-and-launch-layout\" data-commandlinker-args='{\"url\": \"/proxy/33353/status\" }'>\n",
       "                Launch dashboard in JupyterLab\n",
       "            </button>\n",
       "        \n",
       "\n",
       "        \n",
       "            <details>\n",
       "            <summary style=\"margin-bottom: 20px;\"><h3 style=\"display: inline;\">Cluster Info</h3></summary>\n",
       "            <div class=\"jp-RenderedHTMLCommon jp-RenderedHTML jp-mod-trusted jp-OutputArea-output\">\n",
       "    <div style=\"width: 24px; height: 24px; background-color: #e1e1e1; border: 3px solid #9D9D9D; border-radius: 5px; position: absolute;\">\n",
       "    </div>\n",
       "    <div style=\"margin-left: 48px;\">\n",
       "        <h3 style=\"margin-bottom: 0px; margin-top: 0px;\">SLURMCluster</h3>\n",
       "        <p style=\"color: #9D9D9D; margin-bottom: 0px;\">dask-worker</p>\n",
       "        <table style=\"width: 100%; text-align: left;\">\n",
       "            <tr>\n",
       "                <td style=\"text-align: left;\">\n",
       "                    <strong>Dashboard:</strong> <a href=\"/proxy/33353/status\" target=\"_blank\">/proxy/33353/status</a>\n",
       "                </td>\n",
       "                <td style=\"text-align: left;\">\n",
       "                    <strong>Workers:</strong> 0\n",
       "                </td>\n",
       "            </tr>\n",
       "            <tr>\n",
       "                <td style=\"text-align: left;\">\n",
       "                    <strong>Total threads:</strong> 0\n",
       "                </td>\n",
       "                <td style=\"text-align: left;\">\n",
       "                    <strong>Total memory:</strong> 0 B\n",
       "                </td>\n",
       "            </tr>\n",
       "            \n",
       "        </table>\n",
       "\n",
       "        <details>\n",
       "            <summary style=\"margin-bottom: 20px;\">\n",
       "                <h3 style=\"display: inline;\">Scheduler Info</h3>\n",
       "            </summary>\n",
       "\n",
       "            <div style=\"\">\n",
       "    <div>\n",
       "        <div style=\"width: 24px; height: 24px; background-color: #FFF7E5; border: 3px solid #FF6132; border-radius: 5px; position: absolute;\"> </div>\n",
       "        <div style=\"margin-left: 48px;\">\n",
       "            <h3 style=\"margin-bottom: 0px;\">Scheduler</h3>\n",
       "            <p style=\"color: #9D9D9D; margin-bottom: 0px;\">Scheduler-a18cc1b9-f9fb-43f3-8d27-dfd5f0048e9f</p>\n",
       "            <table style=\"width: 100%; text-align: left;\">\n",
       "                <tr>\n",
       "                    <td style=\"text-align: left;\">\n",
       "                        <strong>Comm:</strong> tcp://145.136.63.39:34593\n",
       "                    </td>\n",
       "                    <td style=\"text-align: left;\">\n",
       "                        <strong>Workers:</strong> 0\n",
       "                    </td>\n",
       "                </tr>\n",
       "                <tr>\n",
       "                    <td style=\"text-align: left;\">\n",
       "                        <strong>Dashboard:</strong> <a href=\"/proxy/33353/status\" target=\"_blank\">/proxy/33353/status</a>\n",
       "                    </td>\n",
       "                    <td style=\"text-align: left;\">\n",
       "                        <strong>Total threads:</strong> 0\n",
       "                    </td>\n",
       "                </tr>\n",
       "                <tr>\n",
       "                    <td style=\"text-align: left;\">\n",
       "                        <strong>Started:</strong> Just now\n",
       "                    </td>\n",
       "                    <td style=\"text-align: left;\">\n",
       "                        <strong>Total memory:</strong> 0 B\n",
       "                    </td>\n",
       "                </tr>\n",
       "            </table>\n",
       "        </div>\n",
       "    </div>\n",
       "\n",
       "    <details style=\"margin-left: 48px;\">\n",
       "        <summary style=\"margin-bottom: 20px;\">\n",
       "            <h3 style=\"display: inline;\">Workers</h3>\n",
       "        </summary>\n",
       "\n",
       "        \n",
       "\n",
       "    </details>\n",
       "</div>\n",
       "\n",
       "        </details>\n",
       "    </div>\n",
       "</div>\n",
       "            </details>\n",
       "        \n",
       "\n",
       "    </div>\n",
       "</div>"
      ],
      "text/plain": [
       "<Client: 'tcp://145.136.63.39:34593' processes=0 threads=0, memory=0 B>"
      ]
     },
     "execution_count": 5,
     "metadata": {},
     "output_type": "execute_result"
    }
   ],
   "source": [
    "client = Client(cluster)\n",
    "client"
   ]
  },
  {
   "cell_type": "markdown",
   "id": "eb63f25e-1237-4ea9-9024-46e2d4cfacba",
   "metadata": {},
   "source": [
    "## 2)define working path, load trained model, define functions"
   ]
  },
  {
   "cell_type": "code",
   "execution_count": 6,
   "id": "e91a66ee-3639-4b12-a6e7-9b5237bb8704",
   "metadata": {
    "tags": []
   },
   "outputs": [],
   "source": [
    "year = 2014"
   ]
  },
  {
   "cell_type": "code",
   "execution_count": 7,
   "id": "1dbc97db-02d1-414a-861c-1172f586397e",
   "metadata": {
    "tags": []
   },
   "outputs": [],
   "source": [
    "ROOT_DIR = '/gpfs/work2/0/ttse0619'\n",
    "DATA_DIR = f'{ROOT_DIR}/qianqian/global_data_Qianqian/1input_data/{year}global'\n",
    "ERA5_PATH = f'{DATA_DIR}/era5land/era5land.zarr'\n",
    "LAI_PATH = f'{DATA_DIR}/lai_v2/lai_v2.zarr'\n",
    "SSM_PATH = f'{DATA_DIR}/ssm/ssm_global.zarr'\n",
    "CO2_PATH = f'{DATA_DIR}/co2/co2.zarr'\n",
    "LANDCOVER_PATH = f'{DATA_DIR}/igbp/landcover_snellius.zarr'\n",
    "IGBP_CLASS_PATH = f'{ROOT_DIR}/qianqian/global_data_Qianqian/1input_data/IGBP11unique.csv'\n",
    "IGBP_TABLE_PATH = f'{ROOT_DIR}/qianqian/global_data_Qianqian/1input_data/{year}global/igbp/lccs_to_igbp_table.csv' \n",
    "hc_PATH = f'{DATA_DIR}/canopy_height/hc_global.zarr'\n",
    "VCMAX_PATH = f'{DATA_DIR}/vcmax/vcmax_fillnan.zarr'\n",
    "MODEL_PATH = f'{ROOT_DIR}/qianqian/global_data_Qianqian/3RF_train/hourlyFluxes_varmean2024-4-25.pkl'\n",
    "\n",
    "LEH_PATH = f'{ROOT_DIR}/qianqian/global_data_Qianqian/5output_data/Europe0_fluxes_RFvarmean_{year}_v1.2.zarr'"
   ]
  },
  {
   "cell_type": "code",
   "execution_count": 8,
   "id": "649543dd-9d92-400f-856e-6a851b887e04",
   "metadata": {
    "tags": []
   },
   "outputs": [],
   "source": [
    "# function for loading the trained model\n",
    "def load_model(path):\n",
    "    # load trained RF model, better use not parallel model with Dask\n",
    "    with open(path, 'rb') as f:\n",
    "        rfLEHmulti = pickle.load(f)\n",
    "    return rfLEHmulti"
   ]
  },
  {
   "cell_type": "markdown",
   "id": "a0998390-ba37-4d64-86ef-679464812aaf",
   "metadata": {},
   "source": [
    "## 3) read data"
   ]
  },
  {
   "cell_type": "code",
   "execution_count": 9,
   "id": "a8c4f8e8-71f0-4eb4-9311-8108e246d750",
   "metadata": {
    "tags": []
   },
   "outputs": [],
   "source": [
    "## 0) read era5land data\n",
    "era5 = xr.open_zarr(ERA5_PATH)\n",
    "# round coordinates to facilitate matching with other datasets\n",
    "era5 = era5.assign_coords(\n",
    "    longitude=era5.longitude.round(4),\n",
    "    latitude=era5.latitude.round(4)\n",
    ")"
   ]
  },
  {
   "cell_type": "code",
   "execution_count": 10,
   "id": "15c2a984-97f4-45de-80c2-0af6b9a52040",
   "metadata": {
    "tags": []
   },
   "outputs": [],
   "source": [
    "import geopandas as gpd\n",
    "from shapely.geometry import box\n",
    "from shapely.geometry import mapping\n",
    "from shapely.affinity import translate\n",
    "\n",
    "shapefile_path = \"/gpfs/work2/0/ttse0619/qianqian/global_data_Qianqian/Emulator/input_data/EuropeBoundary.shp\"\n",
    "gdf = gpd.read_file(shapefile_path)\n",
    "bbox = gdf.total_bounds"
   ]
  },
  {
   "cell_type": "code",
   "execution_count": 11,
   "id": "299605fa-e0dd-44a6-84a7-48068514cc2e",
   "metadata": {
    "tags": []
   },
   "outputs": [
    {
     "data": {
      "text/plain": [
       "array([-31.28903052,  34.93055094,  68.93136141,  81.85192337])"
      ]
     },
     "execution_count": 11,
     "metadata": {},
     "output_type": "execute_result"
    }
   ],
   "source": [
    "bbox"
   ]
  },
  {
   "cell_type": "code",
   "execution_count": 12,
   "id": "1bb58e87-3de8-4434-b018-25a0489fb050",
   "metadata": {
    "tags": []
   },
   "outputs": [],
   "source": [
    "# 120 x 120 degrees\n",
    "era5 = era5.sel(\n",
    "    latitude=slice(81.85192337, 34.93055094),  # (0., 125.) deg\n",
    "    longitude=slice(0, 68.93136141),  # (90., -35.) deg\n",
    ")"
   ]
  },
  {
   "cell_type": "markdown",
   "id": "5d23e7e1-2b90-45d0-9725-d616411b66fe",
   "metadata": {},
   "source": [
    "Conversion to half-hourly quantities involves:\n",
    "\n",
    "1. resampling to half-hourly grid;\n",
    "2. differentiation with respect to time;\n",
    "\n",
    "The order in which these tasks are carried matters: one should first resample the cumulative quantities to a finer grid and only then do the differentiation with respect to time. I think these tasks were carried out in the wrong order in an earlier version of the notebook.\n",
    "\n",
    "In addition, the resampling to a half-hourly grid is problematic since it creates a single time chunk, increasing enormously the memory footprint of the calculation. Could we calculate half-hourly quantities (as I understood, these are required by the model) but on an hourly grid instead? As far as I understand, dividing by two `Rin` and `Rli` should bring them to half-hour-based unit. If results are required on a half-hourly grid, one could always interpolate results..   "
   ]
  },
  {
   "cell_type": "code",
   "execution_count": 13,
   "id": "c163d8f4-5ca1-4162-8ae8-6ca63f7ff223",
   "metadata": {
    "tags": []
   },
   "outputs": [],
   "source": [
    "# calculate the Rin and Rli difference for every hour\n",
    "ssrd = era5['ssrd'] / 3600\n",
    "Rin = ssrd.diff(\"time\")\n",
    "Rin[0::24] = ssrd[1::24]\n",
    "\n",
    "strd = era5['strd'] / 3600\n",
    "Rli = strd.diff(\"time\")\n",
    "Rli[0::24] = strd[1::24]"
   ]
  },
  {
   "cell_type": "code",
   "execution_count": 14,
   "id": "c8bcfc15-3ca4-4e7f-8d31-9f17e73acd98",
   "metadata": {
    "tags": []
   },
   "outputs": [],
   "source": [
    "Precip_msr = era5['tp'].diff(\"time\")  #xr.concat([all1['ssrd'].isel(time=0),all1['ssrd']], dim=\"time\")\n",
    "Precip_msr[0::24] = era5['tp'][1::24] # assign the original values in t01"
   ]
  },
  {
   "cell_type": "code",
   "execution_count": 15,
   "id": "41ca3b11-6ee4-4eef-8458-f9846640de5a",
   "metadata": {
    "tags": []
   },
   "outputs": [],
   "source": [
    "p = era5[\"sp\"]/100  # Pa -> hPa\n",
    "Ta = era5[\"t2m\"] - 273.15  # K -> degC\n",
    "ea = vc.calculate_es(era5[\"d2m\"] - 273.15)*10 #kPa -> hPa\n",
    "u = (era5[\"u10\"] ** 2 + era5[\"v10\"] ** 2) ** 0.5\n",
    "Precip_msr = Precip_msr*1000 # mm"
   ]
  },
  {
   "cell_type": "code",
   "execution_count": 16,
   "id": "301128ac-c81e-4257-8ac5-ffb04f70cfe5",
   "metadata": {
    "tags": []
   },
   "outputs": [],
   "source": [
    "### 1) read LAI data\n",
    "LAI = xr.open_zarr(LAI_PATH)#.sel(time=str(year))\n",
    "LAI = LAI.assign_coords(\n",
    "    longitude=LAI.longitude.round(4),\n",
    "    latitude=LAI.latitude.round(4)\n",
    ")"
   ]
  },
  {
   "cell_type": "code",
   "execution_count": 17,
   "id": "dbf74743-7c93-40bb-995c-e79a87e8b3ce",
   "metadata": {
    "tags": []
   },
   "outputs": [],
   "source": [
    "LAI = LAI['LAI']"
   ]
  },
  {
   "cell_type": "code",
   "execution_count": 18,
   "id": "b5b55b5c-3157-4dfb-b0ba-2b3fdfa498cd",
   "metadata": {
    "tags": []
   },
   "outputs": [],
   "source": [
    "LAI = LAI.sel(\n",
    "    latitude=slice(81.85192337, 34.93055094),  # (0., 125.) deg\n",
    "    longitude=slice(0, 68.93136141),  # (90., -35.) deg\n",
    ")"
   ]
  },
  {
   "cell_type": "markdown",
   "id": "7dabdba2-b772-48e7-b625-6f4c81277b9b",
   "metadata": {},
   "source": [
    "Interpolation creates a single chunk in time! Can we use nearest-neighbour to match the time domain of the ERA5 dataset instead?"
   ]
  },
  {
   "cell_type": "code",
   "execution_count": 19,
   "id": "d6b2748e-44be-4d91-97da-d1ead00f9e1c",
   "metadata": {
    "tags": []
   },
   "outputs": [],
   "source": [
    "# # # INTERPOLATION CREATES A SINGLE CHUNK IN TIME!\n",
    "LAI = LAI.resample(time='1D').interpolate('linear')"
   ]
  },
  {
   "cell_type": "markdown",
   "id": "7a4ddd2c-c967-43ea-842a-95dd879ad83c",
   "metadata": {},
   "source": [
    "The following Dask option allows to avoid creating a single time chunk when using nearest-neighbour matching: "
   ]
  },
  {
   "cell_type": "code",
   "execution_count": 20,
   "id": "862da099-de5c-4898-add5-5676e86e4703",
   "metadata": {
    "tags": []
   },
   "outputs": [],
   "source": [
    "import dask.config\n",
    "\n",
    "with dask.config.set({\"array.slicing.split_large_chunks\": True}):\n",
    "    LAI = LAI.resample(time='1H').nearest()"
   ]
  },
  {
   "cell_type": "code",
   "execution_count": 21,
   "id": "4f655079-459b-4785-baae-99f893ffd24d",
   "metadata": {
    "tags": []
   },
   "outputs": [],
   "source": [
    "LAI = LAI.sel(time=str(year))"
   ]
  },
  {
   "cell_type": "code",
   "execution_count": 22,
   "id": "9a2c2c9e-10ce-4725-8891-afba6dc808e4",
   "metadata": {
    "tags": []
   },
   "outputs": [],
   "source": [
    "### 2) read SSM data\n",
    "SSM = xr.open_zarr(SSM_PATH)\n",
    "SSM = SSM.assign_coords(\n",
    "    longitude=SSM.longitude.round(4),\n",
    "    latitude=SSM.latitude.round(4)\n",
    ")\n"
   ]
  },
  {
   "cell_type": "code",
   "execution_count": 23,
   "id": "092e3367-f445-4877-9229-3a6fd6943a25",
   "metadata": {
    "tags": []
   },
   "outputs": [],
   "source": [
    "SSM = SSM.sel(\n",
    "    latitude=slice(81.85192337, 34.93055094),  # (0., 125.) deg\n",
    "    longitude=slice(0, 68.93136141),  # (90., -35.) deg\n",
    ")"
   ]
  },
  {
   "cell_type": "code",
   "execution_count": 24,
   "id": "ee681d6f-ed3e-4e0a-b54c-3de404142278",
   "metadata": {
    "tags": []
   },
   "outputs": [],
   "source": [
    "SSM = SSM['SSM']"
   ]
  },
  {
   "cell_type": "code",
   "execution_count": 25,
   "id": "ab1a6a34-f818-4a7b-baf0-1eed88aec22d",
   "metadata": {
    "tags": []
   },
   "outputs": [],
   "source": [
    "# # INTERPOLATION CREATES A SINGLE CHUNK IN TIME!\n",
    "SSM = SSM.resample(time='1H').interpolate('linear')/1000 "
   ]
  },
  {
   "cell_type": "code",
   "execution_count": 26,
   "id": "02bfd6c9-e9db-4438-b203-6e35ba6b79c1",
   "metadata": {
    "tags": []
   },
   "outputs": [],
   "source": [
    "### 3) read CO2 data\n",
    "CO2 = xr.open_zarr(CO2_PATH)\n",
    "CO2 = CO2.assign_coords(\n",
    "    longitude=CO2.longitude.round(4),\n",
    "    latitude=CO2.latitude.round(4)\n",
    ")\n",
    "CO2 = CO2['co2']\n",
    "CO2 = CO2.sel(\n",
    "    latitude=slice(81.85192337, 34.93055094),  # (0., 125.) deg\n",
    "    longitude=slice(0, 68.93136141),  # (90., -35.) deg\n",
    ")"
   ]
  },
  {
   "cell_type": "code",
   "execution_count": 27,
   "id": "a64a0968-6d40-4037-acad-1df9111580c7",
   "metadata": {
    "tags": []
   },
   "outputs": [],
   "source": [
    "# # # # INTERPOLATION CREATES A SINGLE CHUNK IN TIME!\n",
    "# CO2 = CO2.resample(time='1H').interpolate('linear')"
   ]
  },
  {
   "cell_type": "code",
   "execution_count": 28,
   "id": "e7c39e9b-eb05-4012-aaee-c5aba2a0bf65",
   "metadata": {
    "tags": []
   },
   "outputs": [],
   "source": [
    "with dask.config.set({\"array.slicing.split_large_chunks\": True}):\n",
    "    CO2 = CO2.resample(time='1H').nearest()"
   ]
  },
  {
   "cell_type": "markdown",
   "id": "fda3fb7b-881a-4f11-98c3-cad43b492e4d",
   "metadata": {},
   "source": [
    "**Done datasets up to here!** Moving on with landcover\n",
    "\n",
    "----"
   ]
  },
  {
   "cell_type": "code",
   "execution_count": 29,
   "id": "7cebbd65-18f6-4146-97f6-6a983a520f83",
   "metadata": {
    "tags": []
   },
   "outputs": [],
   "source": [
    "## 4) read IGBP data\n",
    "hc = xr.open_zarr(hc_PATH)\n",
    "hc = hc.assign_coords(\n",
    "    longitude=hc.longitude.round(4),\n",
    "    latitude=hc.latitude.round(4)\n",
    ")"
   ]
  },
  {
   "cell_type": "code",
   "execution_count": 30,
   "id": "b84b1dd5-85d7-4d30-aec6-6ff7dc5feca8",
   "metadata": {
    "tags": []
   },
   "outputs": [
    {
     "data": {
      "text/html": [
       "<div><svg style=\"position: absolute; width: 0; height: 0; overflow: hidden\">\n",
       "<defs>\n",
       "<symbol id=\"icon-database\" viewBox=\"0 0 32 32\">\n",
       "<path d=\"M16 0c-8.837 0-16 2.239-16 5v4c0 2.761 7.163 5 16 5s16-2.239 16-5v-4c0-2.761-7.163-5-16-5z\"></path>\n",
       "<path d=\"M16 17c-8.837 0-16-2.239-16-5v6c0 2.761 7.163 5 16 5s16-2.239 16-5v-6c0 2.761-7.163 5-16 5z\"></path>\n",
       "<path d=\"M16 26c-8.837 0-16-2.239-16-5v6c0 2.761 7.163 5 16 5s16-2.239 16-5v-6c0 2.761-7.163 5-16 5z\"></path>\n",
       "</symbol>\n",
       "<symbol id=\"icon-file-text2\" viewBox=\"0 0 32 32\">\n",
       "<path d=\"M28.681 7.159c-0.694-0.947-1.662-2.053-2.724-3.116s-2.169-2.030-3.116-2.724c-1.612-1.182-2.393-1.319-2.841-1.319h-15.5c-1.378 0-2.5 1.121-2.5 2.5v27c0 1.378 1.122 2.5 2.5 2.5h23c1.378 0 2.5-1.122 2.5-2.5v-19.5c0-0.448-0.137-1.23-1.319-2.841zM24.543 5.457c0.959 0.959 1.712 1.825 2.268 2.543h-4.811v-4.811c0.718 0.556 1.584 1.309 2.543 2.268zM28 29.5c0 0.271-0.229 0.5-0.5 0.5h-23c-0.271 0-0.5-0.229-0.5-0.5v-27c0-0.271 0.229-0.5 0.5-0.5 0 0 15.499-0 15.5 0v7c0 0.552 0.448 1 1 1h7v19.5z\"></path>\n",
       "<path d=\"M23 26h-14c-0.552 0-1-0.448-1-1s0.448-1 1-1h14c0.552 0 1 0.448 1 1s-0.448 1-1 1z\"></path>\n",
       "<path d=\"M23 22h-14c-0.552 0-1-0.448-1-1s0.448-1 1-1h14c0.552 0 1 0.448 1 1s-0.448 1-1 1z\"></path>\n",
       "<path d=\"M23 18h-14c-0.552 0-1-0.448-1-1s0.448-1 1-1h14c0.552 0 1 0.448 1 1s-0.448 1-1 1z\"></path>\n",
       "</symbol>\n",
       "</defs>\n",
       "</svg>\n",
       "<style>/* CSS stylesheet for displaying xarray objects in jupyterlab.\n",
       " *\n",
       " */\n",
       "\n",
       ":root {\n",
       "  --xr-font-color0: var(--jp-content-font-color0, rgba(0, 0, 0, 1));\n",
       "  --xr-font-color2: var(--jp-content-font-color2, rgba(0, 0, 0, 0.54));\n",
       "  --xr-font-color3: var(--jp-content-font-color3, rgba(0, 0, 0, 0.38));\n",
       "  --xr-border-color: var(--jp-border-color2, #e0e0e0);\n",
       "  --xr-disabled-color: var(--jp-layout-color3, #bdbdbd);\n",
       "  --xr-background-color: var(--jp-layout-color0, white);\n",
       "  --xr-background-color-row-even: var(--jp-layout-color1, white);\n",
       "  --xr-background-color-row-odd: var(--jp-layout-color2, #eeeeee);\n",
       "}\n",
       "\n",
       "html[theme=dark],\n",
       "body[data-theme=dark],\n",
       "body.vscode-dark {\n",
       "  --xr-font-color0: rgba(255, 255, 255, 1);\n",
       "  --xr-font-color2: rgba(255, 255, 255, 0.54);\n",
       "  --xr-font-color3: rgba(255, 255, 255, 0.38);\n",
       "  --xr-border-color: #1F1F1F;\n",
       "  --xr-disabled-color: #515151;\n",
       "  --xr-background-color: #111111;\n",
       "  --xr-background-color-row-even: #111111;\n",
       "  --xr-background-color-row-odd: #313131;\n",
       "}\n",
       "\n",
       ".xr-wrap {\n",
       "  display: block !important;\n",
       "  min-width: 300px;\n",
       "  max-width: 700px;\n",
       "}\n",
       "\n",
       ".xr-text-repr-fallback {\n",
       "  /* fallback to plain text repr when CSS is not injected (untrusted notebook) */\n",
       "  display: none;\n",
       "}\n",
       "\n",
       ".xr-header {\n",
       "  padding-top: 6px;\n",
       "  padding-bottom: 6px;\n",
       "  margin-bottom: 4px;\n",
       "  border-bottom: solid 1px var(--xr-border-color);\n",
       "}\n",
       "\n",
       ".xr-header > div,\n",
       ".xr-header > ul {\n",
       "  display: inline;\n",
       "  margin-top: 0;\n",
       "  margin-bottom: 0;\n",
       "}\n",
       "\n",
       ".xr-obj-type,\n",
       ".xr-array-name {\n",
       "  margin-left: 2px;\n",
       "  margin-right: 10px;\n",
       "}\n",
       "\n",
       ".xr-obj-type {\n",
       "  color: var(--xr-font-color2);\n",
       "}\n",
       "\n",
       ".xr-sections {\n",
       "  padding-left: 0 !important;\n",
       "  display: grid;\n",
       "  grid-template-columns: 150px auto auto 1fr 20px 20px;\n",
       "}\n",
       "\n",
       ".xr-section-item {\n",
       "  display: contents;\n",
       "}\n",
       "\n",
       ".xr-section-item input {\n",
       "  display: none;\n",
       "}\n",
       "\n",
       ".xr-section-item input + label {\n",
       "  color: var(--xr-disabled-color);\n",
       "}\n",
       "\n",
       ".xr-section-item input:enabled + label {\n",
       "  cursor: pointer;\n",
       "  color: var(--xr-font-color2);\n",
       "}\n",
       "\n",
       ".xr-section-item input:enabled + label:hover {\n",
       "  color: var(--xr-font-color0);\n",
       "}\n",
       "\n",
       ".xr-section-summary {\n",
       "  grid-column: 1;\n",
       "  color: var(--xr-font-color2);\n",
       "  font-weight: 500;\n",
       "}\n",
       "\n",
       ".xr-section-summary > span {\n",
       "  display: inline-block;\n",
       "  padding-left: 0.5em;\n",
       "}\n",
       "\n",
       ".xr-section-summary-in:disabled + label {\n",
       "  color: var(--xr-font-color2);\n",
       "}\n",
       "\n",
       ".xr-section-summary-in + label:before {\n",
       "  display: inline-block;\n",
       "  content: '►';\n",
       "  font-size: 11px;\n",
       "  width: 15px;\n",
       "  text-align: center;\n",
       "}\n",
       "\n",
       ".xr-section-summary-in:disabled + label:before {\n",
       "  color: var(--xr-disabled-color);\n",
       "}\n",
       "\n",
       ".xr-section-summary-in:checked + label:before {\n",
       "  content: '▼';\n",
       "}\n",
       "\n",
       ".xr-section-summary-in:checked + label > span {\n",
       "  display: none;\n",
       "}\n",
       "\n",
       ".xr-section-summary,\n",
       ".xr-section-inline-details {\n",
       "  padding-top: 4px;\n",
       "  padding-bottom: 4px;\n",
       "}\n",
       "\n",
       ".xr-section-inline-details {\n",
       "  grid-column: 2 / -1;\n",
       "}\n",
       "\n",
       ".xr-section-details {\n",
       "  display: none;\n",
       "  grid-column: 1 / -1;\n",
       "  margin-bottom: 5px;\n",
       "}\n",
       "\n",
       ".xr-section-summary-in:checked ~ .xr-section-details {\n",
       "  display: contents;\n",
       "}\n",
       "\n",
       ".xr-array-wrap {\n",
       "  grid-column: 1 / -1;\n",
       "  display: grid;\n",
       "  grid-template-columns: 20px auto;\n",
       "}\n",
       "\n",
       ".xr-array-wrap > label {\n",
       "  grid-column: 1;\n",
       "  vertical-align: top;\n",
       "}\n",
       "\n",
       ".xr-preview {\n",
       "  color: var(--xr-font-color3);\n",
       "}\n",
       "\n",
       ".xr-array-preview,\n",
       ".xr-array-data {\n",
       "  padding: 0 5px !important;\n",
       "  grid-column: 2;\n",
       "}\n",
       "\n",
       ".xr-array-data,\n",
       ".xr-array-in:checked ~ .xr-array-preview {\n",
       "  display: none;\n",
       "}\n",
       "\n",
       ".xr-array-in:checked ~ .xr-array-data,\n",
       ".xr-array-preview {\n",
       "  display: inline-block;\n",
       "}\n",
       "\n",
       ".xr-dim-list {\n",
       "  display: inline-block !important;\n",
       "  list-style: none;\n",
       "  padding: 0 !important;\n",
       "  margin: 0;\n",
       "}\n",
       "\n",
       ".xr-dim-list li {\n",
       "  display: inline-block;\n",
       "  padding: 0;\n",
       "  margin: 0;\n",
       "}\n",
       "\n",
       ".xr-dim-list:before {\n",
       "  content: '(';\n",
       "}\n",
       "\n",
       ".xr-dim-list:after {\n",
       "  content: ')';\n",
       "}\n",
       "\n",
       ".xr-dim-list li:not(:last-child):after {\n",
       "  content: ',';\n",
       "  padding-right: 5px;\n",
       "}\n",
       "\n",
       ".xr-has-index {\n",
       "  font-weight: bold;\n",
       "}\n",
       "\n",
       ".xr-var-list,\n",
       ".xr-var-item {\n",
       "  display: contents;\n",
       "}\n",
       "\n",
       ".xr-var-item > div,\n",
       ".xr-var-item label,\n",
       ".xr-var-item > .xr-var-name span {\n",
       "  background-color: var(--xr-background-color-row-even);\n",
       "  margin-bottom: 0;\n",
       "}\n",
       "\n",
       ".xr-var-item > .xr-var-name:hover span {\n",
       "  padding-right: 5px;\n",
       "}\n",
       "\n",
       ".xr-var-list > li:nth-child(odd) > div,\n",
       ".xr-var-list > li:nth-child(odd) > label,\n",
       ".xr-var-list > li:nth-child(odd) > .xr-var-name span {\n",
       "  background-color: var(--xr-background-color-row-odd);\n",
       "}\n",
       "\n",
       ".xr-var-name {\n",
       "  grid-column: 1;\n",
       "}\n",
       "\n",
       ".xr-var-dims {\n",
       "  grid-column: 2;\n",
       "}\n",
       "\n",
       ".xr-var-dtype {\n",
       "  grid-column: 3;\n",
       "  text-align: right;\n",
       "  color: var(--xr-font-color2);\n",
       "}\n",
       "\n",
       ".xr-var-preview {\n",
       "  grid-column: 4;\n",
       "}\n",
       "\n",
       ".xr-var-name,\n",
       ".xr-var-dims,\n",
       ".xr-var-dtype,\n",
       ".xr-preview,\n",
       ".xr-attrs dt {\n",
       "  white-space: nowrap;\n",
       "  overflow: hidden;\n",
       "  text-overflow: ellipsis;\n",
       "  padding-right: 10px;\n",
       "}\n",
       "\n",
       ".xr-var-name:hover,\n",
       ".xr-var-dims:hover,\n",
       ".xr-var-dtype:hover,\n",
       ".xr-attrs dt:hover {\n",
       "  overflow: visible;\n",
       "  width: auto;\n",
       "  z-index: 1;\n",
       "}\n",
       "\n",
       ".xr-var-attrs,\n",
       ".xr-var-data {\n",
       "  display: none;\n",
       "  background-color: var(--xr-background-color) !important;\n",
       "  padding-bottom: 5px !important;\n",
       "}\n",
       "\n",
       ".xr-var-attrs-in:checked ~ .xr-var-attrs,\n",
       ".xr-var-data-in:checked ~ .xr-var-data {\n",
       "  display: block;\n",
       "}\n",
       "\n",
       ".xr-var-data > table {\n",
       "  float: right;\n",
       "}\n",
       "\n",
       ".xr-var-name span,\n",
       ".xr-var-data,\n",
       ".xr-attrs {\n",
       "  padding-left: 25px !important;\n",
       "}\n",
       "\n",
       ".xr-attrs,\n",
       ".xr-var-attrs,\n",
       ".xr-var-data {\n",
       "  grid-column: 1 / -1;\n",
       "}\n",
       "\n",
       "dl.xr-attrs {\n",
       "  padding: 0;\n",
       "  margin: 0;\n",
       "  display: grid;\n",
       "  grid-template-columns: 125px auto;\n",
       "}\n",
       "\n",
       ".xr-attrs dt,\n",
       ".xr-attrs dd {\n",
       "  padding: 0;\n",
       "  margin: 0;\n",
       "  float: left;\n",
       "  padding-right: 10px;\n",
       "  width: auto;\n",
       "}\n",
       "\n",
       ".xr-attrs dt {\n",
       "  font-weight: normal;\n",
       "  grid-column: 1;\n",
       "}\n",
       "\n",
       ".xr-attrs dt:hover span {\n",
       "  display: inline-block;\n",
       "  background: var(--xr-background-color);\n",
       "  padding-right: 10px;\n",
       "}\n",
       "\n",
       ".xr-attrs dd {\n",
       "  grid-column: 2;\n",
       "  white-space: pre-wrap;\n",
       "  word-break: break-all;\n",
       "}\n",
       "\n",
       ".xr-icon-database,\n",
       ".xr-icon-file-text2 {\n",
       "  display: inline-block;\n",
       "  vertical-align: middle;\n",
       "  width: 1em;\n",
       "  height: 1.5em !important;\n",
       "  stroke-width: 0;\n",
       "  stroke: currentColor;\n",
       "  fill: currentColor;\n",
       "}\n",
       "</style><pre class='xr-text-repr-fallback'>&lt;xarray.Dataset&gt;\n",
       "Dimensions:      (latitude: 1801, longitude: 3600)\n",
       "Coordinates:\n",
       "    band         int64 1\n",
       "  * latitude     (latitude) float32 90.0 89.9 89.8 89.7 ... -89.8 -89.9 -90.0\n",
       "  * longitude    (longitude) float32 0.0 0.1 0.2 0.3 ... 359.6 359.7 359.8 359.9\n",
       "Data variables:\n",
       "    hc           (latitude, longitude) float32 dask.array&lt;chunksize=(250, 250), meta=np.ndarray&gt;\n",
       "    spatial_ref  int64 ...</pre><div class='xr-wrap' style='display:none'><div class='xr-header'><div class='xr-obj-type'>xarray.Dataset</div></div><ul class='xr-sections'><li class='xr-section-item'><input id='section-5512f74d-514d-421f-bb3d-78d996c2d1f3' class='xr-section-summary-in' type='checkbox' disabled ><label for='section-5512f74d-514d-421f-bb3d-78d996c2d1f3' class='xr-section-summary'  title='Expand/collapse section'>Dimensions:</label><div class='xr-section-inline-details'><ul class='xr-dim-list'><li><span class='xr-has-index'>latitude</span>: 1801</li><li><span class='xr-has-index'>longitude</span>: 3600</li></ul></div><div class='xr-section-details'></div></li><li class='xr-section-item'><input id='section-0f16159f-d3ab-4e03-b392-e3cfbbfd0740' class='xr-section-summary-in' type='checkbox'  checked><label for='section-0f16159f-d3ab-4e03-b392-e3cfbbfd0740' class='xr-section-summary' >Coordinates: <span>(3)</span></label><div class='xr-section-inline-details'></div><div class='xr-section-details'><ul class='xr-var-list'><li class='xr-var-item'><div class='xr-var-name'><span>band</span></div><div class='xr-var-dims'>()</div><div class='xr-var-dtype'>int64</div><div class='xr-var-preview xr-preview'>1</div><input id='attrs-b4b29de6-4370-4f82-b418-11bac2d41794' class='xr-var-attrs-in' type='checkbox' disabled><label for='attrs-b4b29de6-4370-4f82-b418-11bac2d41794' title='Show/Hide attributes'><svg class='icon xr-icon-file-text2'><use xlink:href='#icon-file-text2'></use></svg></label><input id='data-c2f131fb-44ed-4b20-b90a-6579027e913e' class='xr-var-data-in' type='checkbox'><label for='data-c2f131fb-44ed-4b20-b90a-6579027e913e' title='Show/Hide data repr'><svg class='icon xr-icon-database'><use xlink:href='#icon-database'></use></svg></label><div class='xr-var-attrs'><dl class='xr-attrs'></dl></div><div class='xr-var-data'><pre>array(1)</pre></div></li><li class='xr-var-item'><div class='xr-var-name'><span class='xr-has-index'>latitude</span></div><div class='xr-var-dims'>(latitude)</div><div class='xr-var-dtype'>float32</div><div class='xr-var-preview xr-preview'>90.0 89.9 89.8 ... -89.9 -90.0</div><input id='attrs-9ef387e8-d4a1-4aeb-a6c7-f048416e9128' class='xr-var-attrs-in' type='checkbox' ><label for='attrs-9ef387e8-d4a1-4aeb-a6c7-f048416e9128' title='Show/Hide attributes'><svg class='icon xr-icon-file-text2'><use xlink:href='#icon-file-text2'></use></svg></label><input id='data-13142f0d-bb46-4ac5-b0ec-a305bf959574' class='xr-var-data-in' type='checkbox'><label for='data-13142f0d-bb46-4ac5-b0ec-a305bf959574' title='Show/Hide data repr'><svg class='icon xr-icon-database'><use xlink:href='#icon-database'></use></svg></label><div class='xr-var-attrs'><dl class='xr-attrs'><dt><span>axis :</span></dt><dd>Y</dd><dt><span>long_name :</span></dt><dd>latitude</dd><dt><span>standard_name :</span></dt><dd>latitude</dd><dt><span>units :</span></dt><dd>degrees_north</dd></dl></div><div class='xr-var-data'><pre>array([ 90. ,  89.9,  89.8, ..., -89.8, -89.9, -90. ], dtype=float32)</pre></div></li><li class='xr-var-item'><div class='xr-var-name'><span class='xr-has-index'>longitude</span></div><div class='xr-var-dims'>(longitude)</div><div class='xr-var-dtype'>float32</div><div class='xr-var-preview xr-preview'>0.0 0.1 0.2 ... 359.7 359.8 359.9</div><input id='attrs-7edde119-2def-4715-b7eb-0f82dc648e87' class='xr-var-attrs-in' type='checkbox' disabled><label for='attrs-7edde119-2def-4715-b7eb-0f82dc648e87' title='Show/Hide attributes'><svg class='icon xr-icon-file-text2'><use xlink:href='#icon-file-text2'></use></svg></label><input id='data-56e4edfd-8f32-4146-a3ab-9317e1f78467' class='xr-var-data-in' type='checkbox'><label for='data-56e4edfd-8f32-4146-a3ab-9317e1f78467' title='Show/Hide data repr'><svg class='icon xr-icon-database'><use xlink:href='#icon-database'></use></svg></label><div class='xr-var-attrs'><dl class='xr-attrs'></dl></div><div class='xr-var-data'><pre>array([0.000e+00, 1.000e-01, 2.000e-01, ..., 3.597e+02, 3.598e+02, 3.599e+02],\n",
       "      dtype=float32)</pre></div></li></ul></div></li><li class='xr-section-item'><input id='section-327c3882-e82b-4212-8105-f02ee757991a' class='xr-section-summary-in' type='checkbox'  checked><label for='section-327c3882-e82b-4212-8105-f02ee757991a' class='xr-section-summary' >Data variables: <span>(2)</span></label><div class='xr-section-inline-details'></div><div class='xr-section-details'><ul class='xr-var-list'><li class='xr-var-item'><div class='xr-var-name'><span>hc</span></div><div class='xr-var-dims'>(latitude, longitude)</div><div class='xr-var-dtype'>float32</div><div class='xr-var-preview xr-preview'>dask.array&lt;chunksize=(250, 250), meta=np.ndarray&gt;</div><input id='attrs-18088207-dbf2-4698-9df2-2f75f2923305' class='xr-var-attrs-in' type='checkbox' ><label for='attrs-18088207-dbf2-4698-9df2-2f75f2923305' title='Show/Hide attributes'><svg class='icon xr-icon-file-text2'><use xlink:href='#icon-file-text2'></use></svg></label><input id='data-b365972c-79b8-4ba5-b975-34458bcb492d' class='xr-var-data-in' type='checkbox'><label for='data-b365972c-79b8-4ba5-b975-34458bcb492d' title='Show/Hide data repr'><svg class='icon xr-icon-database'><use xlink:href='#icon-database'></use></svg></label><div class='xr-var-attrs'><dl class='xr-attrs'><dt><span>AREA_OR_POINT :</span></dt><dd>Area</dd><dt><span>grid_mapping :</span></dt><dd>spatial_ref</dd><dt><span>long_name :</span></dt><dd>b1</dd></dl></div><div class='xr-var-data'><table>\n",
       "    <tr>\n",
       "        <td>\n",
       "            <table style=\"border-collapse: collapse;\">\n",
       "                <thead>\n",
       "                    <tr>\n",
       "                        <td> </td>\n",
       "                        <th> Array </th>\n",
       "                        <th> Chunk </th>\n",
       "                    </tr>\n",
       "                </thead>\n",
       "                <tbody>\n",
       "                    \n",
       "                    <tr>\n",
       "                        <th> Bytes </th>\n",
       "                        <td> 24.73 MiB </td>\n",
       "                        <td> 244.14 kiB </td>\n",
       "                    </tr>\n",
       "                    \n",
       "                    <tr>\n",
       "                        <th> Shape </th>\n",
       "                        <td> (1801, 3600) </td>\n",
       "                        <td> (250, 250) </td>\n",
       "                    </tr>\n",
       "                    <tr>\n",
       "                        <th> Dask graph </th>\n",
       "                        <td colspan=\"2\"> 120 chunks in 2 graph layers </td>\n",
       "                    </tr>\n",
       "                    <tr>\n",
       "                        <th> Data type </th>\n",
       "                        <td colspan=\"2\"> float32 numpy.ndarray </td>\n",
       "                    </tr>\n",
       "                </tbody>\n",
       "            </table>\n",
       "        </td>\n",
       "        <td>\n",
       "        <svg width=\"170\" height=\"110\" style=\"stroke:rgb(0,0,0);stroke-width:1\" >\n",
       "\n",
       "  <!-- Horizontal lines -->\n",
       "  <line x1=\"0\" y1=\"0\" x2=\"120\" y2=\"0\" style=\"stroke-width:2\" />\n",
       "  <line x1=\"0\" y1=\"8\" x2=\"120\" y2=\"8\" />\n",
       "  <line x1=\"0\" y1=\"16\" x2=\"120\" y2=\"16\" />\n",
       "  <line x1=\"0\" y1=\"25\" x2=\"120\" y2=\"25\" />\n",
       "  <line x1=\"0\" y1=\"33\" x2=\"120\" y2=\"33\" />\n",
       "  <line x1=\"0\" y1=\"41\" x2=\"120\" y2=\"41\" />\n",
       "  <line x1=\"0\" y1=\"50\" x2=\"120\" y2=\"50\" />\n",
       "  <line x1=\"0\" y1=\"58\" x2=\"120\" y2=\"58\" />\n",
       "  <line x1=\"0\" y1=\"60\" x2=\"120\" y2=\"60\" style=\"stroke-width:2\" />\n",
       "\n",
       "  <!-- Vertical lines -->\n",
       "  <line x1=\"0\" y1=\"0\" x2=\"0\" y2=\"60\" style=\"stroke-width:2\" />\n",
       "  <line x1=\"8\" y1=\"0\" x2=\"8\" y2=\"60\" />\n",
       "  <line x1=\"16\" y1=\"0\" x2=\"16\" y2=\"60\" />\n",
       "  <line x1=\"25\" y1=\"0\" x2=\"25\" y2=\"60\" />\n",
       "  <line x1=\"33\" y1=\"0\" x2=\"33\" y2=\"60\" />\n",
       "  <line x1=\"41\" y1=\"0\" x2=\"41\" y2=\"60\" />\n",
       "  <line x1=\"50\" y1=\"0\" x2=\"50\" y2=\"60\" />\n",
       "  <line x1=\"58\" y1=\"0\" x2=\"58\" y2=\"60\" />\n",
       "  <line x1=\"66\" y1=\"0\" x2=\"66\" y2=\"60\" />\n",
       "  <line x1=\"75\" y1=\"0\" x2=\"75\" y2=\"60\" />\n",
       "  <line x1=\"83\" y1=\"0\" x2=\"83\" y2=\"60\" />\n",
       "  <line x1=\"91\" y1=\"0\" x2=\"91\" y2=\"60\" />\n",
       "  <line x1=\"100\" y1=\"0\" x2=\"100\" y2=\"60\" />\n",
       "  <line x1=\"108\" y1=\"0\" x2=\"108\" y2=\"60\" />\n",
       "  <line x1=\"116\" y1=\"0\" x2=\"116\" y2=\"60\" />\n",
       "  <line x1=\"120\" y1=\"0\" x2=\"120\" y2=\"60\" style=\"stroke-width:2\" />\n",
       "\n",
       "  <!-- Colored Rectangle -->\n",
       "  <polygon points=\"0.0,0.0 120.0,0.0 120.0,60.03333333333333 0.0,60.03333333333333\" style=\"fill:#ECB172A0;stroke-width:0\"/>\n",
       "\n",
       "  <!-- Text -->\n",
       "  <text x=\"60.000000\" y=\"80.033333\" font-size=\"1.0rem\" font-weight=\"100\" text-anchor=\"middle\" >3600</text>\n",
       "  <text x=\"140.000000\" y=\"30.016667\" font-size=\"1.0rem\" font-weight=\"100\" text-anchor=\"middle\" transform=\"rotate(-90,140.000000,30.016667)\">1801</text>\n",
       "</svg>\n",
       "        </td>\n",
       "    </tr>\n",
       "</table></div></li><li class='xr-var-item'><div class='xr-var-name'><span>spatial_ref</span></div><div class='xr-var-dims'>()</div><div class='xr-var-dtype'>int64</div><div class='xr-var-preview xr-preview'>...</div><input id='attrs-08f0db34-a32b-4304-ac08-9b5e5236fd0f' class='xr-var-attrs-in' type='checkbox' ><label for='attrs-08f0db34-a32b-4304-ac08-9b5e5236fd0f' title='Show/Hide attributes'><svg class='icon xr-icon-file-text2'><use xlink:href='#icon-file-text2'></use></svg></label><input id='data-024c5f3b-f5ef-46af-8bc7-9f3563465cd0' class='xr-var-data-in' type='checkbox'><label for='data-024c5f3b-f5ef-46af-8bc7-9f3563465cd0' title='Show/Hide data repr'><svg class='icon xr-icon-database'><use xlink:href='#icon-database'></use></svg></label><div class='xr-var-attrs'><dl class='xr-attrs'><dt><span>GeoTransform :</span></dt><dd>-180.04999999915205 0.09999999830410791 0.0 90.05 0.0 -0.1</dd><dt><span>crs_wkt :</span></dt><dd>GEOGCS[&quot;WGS 84&quot;,DATUM[&quot;WGS_1984&quot;,SPHEROID[&quot;WGS 84&quot;,6378137,298.257223563,AUTHORITY[&quot;EPSG&quot;,&quot;7030&quot;]],AUTHORITY[&quot;EPSG&quot;,&quot;6326&quot;]],PRIMEM[&quot;Greenwich&quot;,0,AUTHORITY[&quot;EPSG&quot;,&quot;8901&quot;]],UNIT[&quot;degree&quot;,0.0174532925199433,AUTHORITY[&quot;EPSG&quot;,&quot;9122&quot;]],AXIS[&quot;Latitude&quot;,NORTH],AXIS[&quot;Longitude&quot;,EAST],AUTHORITY[&quot;EPSG&quot;,&quot;4326&quot;]]</dd><dt><span>geographic_crs_name :</span></dt><dd>WGS 84</dd><dt><span>grid_mapping_name :</span></dt><dd>latitude_longitude</dd><dt><span>horizontal_datum_name :</span></dt><dd>World Geodetic System 1984</dd><dt><span>inverse_flattening :</span></dt><dd>298.257223563</dd><dt><span>longitude_of_prime_meridian :</span></dt><dd>0.0</dd><dt><span>prime_meridian_name :</span></dt><dd>Greenwich</dd><dt><span>reference_ellipsoid_name :</span></dt><dd>WGS 84</dd><dt><span>semi_major_axis :</span></dt><dd>6378137.0</dd><dt><span>semi_minor_axis :</span></dt><dd>6356752.314245179</dd><dt><span>spatial_ref :</span></dt><dd>GEOGCS[&quot;WGS 84&quot;,DATUM[&quot;WGS_1984&quot;,SPHEROID[&quot;WGS 84&quot;,6378137,298.257223563,AUTHORITY[&quot;EPSG&quot;,&quot;7030&quot;]],AUTHORITY[&quot;EPSG&quot;,&quot;6326&quot;]],PRIMEM[&quot;Greenwich&quot;,0,AUTHORITY[&quot;EPSG&quot;,&quot;8901&quot;]],UNIT[&quot;degree&quot;,0.0174532925199433,AUTHORITY[&quot;EPSG&quot;,&quot;9122&quot;]],AXIS[&quot;Latitude&quot;,NORTH],AXIS[&quot;Longitude&quot;,EAST],AUTHORITY[&quot;EPSG&quot;,&quot;4326&quot;]]</dd></dl></div><div class='xr-var-data'><pre>array(0)</pre></div></li></ul></div></li><li class='xr-section-item'><input id='section-2e8a19b5-30f3-417a-a5a5-99b9589dbb22' class='xr-section-summary-in' type='checkbox' disabled ><label for='section-2e8a19b5-30f3-417a-a5a5-99b9589dbb22' class='xr-section-summary'  title='Expand/collapse section'>Attributes: <span>(0)</span></label><div class='xr-section-inline-details'></div><div class='xr-section-details'><dl class='xr-attrs'></dl></div></li></ul></div></div>"
      ],
      "text/plain": [
       "<xarray.Dataset>\n",
       "Dimensions:      (latitude: 1801, longitude: 3600)\n",
       "Coordinates:\n",
       "    band         int64 1\n",
       "  * latitude     (latitude) float32 90.0 89.9 89.8 89.7 ... -89.8 -89.9 -90.0\n",
       "  * longitude    (longitude) float32 0.0 0.1 0.2 0.3 ... 359.6 359.7 359.8 359.9\n",
       "Data variables:\n",
       "    hc           (latitude, longitude) float32 dask.array<chunksize=(250, 250), meta=np.ndarray>\n",
       "    spatial_ref  int64 ..."
      ]
     },
     "execution_count": 30,
     "metadata": {},
     "output_type": "execute_result"
    }
   ],
   "source": [
    "hc"
   ]
  },
  {
   "cell_type": "code",
   "execution_count": 31,
   "id": "0c6427ea-39b2-4dcd-a664-15b847bccc64",
   "metadata": {
    "tags": []
   },
   "outputs": [],
   "source": [
    "hc = hc['hc']"
   ]
  },
  {
   "cell_type": "code",
   "execution_count": 32,
   "id": "3319fbe7-7c2e-4295-ade7-9fff88c8079c",
   "metadata": {
    "tags": []
   },
   "outputs": [],
   "source": [
    "hc = hc.sel(\n",
    "    latitude=slice(81.85192337, 34.93055094),  # (0., 125.) deg\n",
    "    longitude=slice(0, 68.93136141),  # (90., -35.) deg\n",
    ")"
   ]
  },
  {
   "cell_type": "code",
   "execution_count": 33,
   "id": "cfa10f51-6b7f-4553-92a4-3050ca8dad92",
   "metadata": {
    "tags": []
   },
   "outputs": [],
   "source": [
    "## 5) read Vcmax data\n",
    "vcmax = xr.open_zarr(VCMAX_PATH)\n",
    "vcmax = vcmax.assign_coords(\n",
    "    longitude=vcmax.longitude.round(4),\n",
    "    latitude=vcmax.latitude.round(4)\n",
    ")"
   ]
  },
  {
   "cell_type": "code",
   "execution_count": 34,
   "id": "451ed03c-c377-4f82-a31b-bb6a50eae8c7",
   "metadata": {
    "tags": []
   },
   "outputs": [],
   "source": [
    "vcmax = vcmax['vcmax']"
   ]
  },
  {
   "cell_type": "code",
   "execution_count": 35,
   "id": "5ba8b338-fc4e-4b48-adda-3164b08c2897",
   "metadata": {
    "tags": []
   },
   "outputs": [],
   "source": [
    "vcmax = vcmax.sel(\n",
    "    latitude=slice(81.85192337, 34.93055094),  # (0., 125.) deg\n",
    "    longitude=slice(0, 68.93136141),  # (90., -35.) deg\n",
    ")"
   ]
  },
  {
   "cell_type": "markdown",
   "id": "148d8459-b34d-41ec-86aa-d39000cff633",
   "metadata": {},
   "source": [
    "---"
   ]
  },
  {
   "cell_type": "code",
   "execution_count": 36,
   "id": "67c45d8e-d888-4adf-81e8-7a9a8a9866db",
   "metadata": {
    "tags": []
   },
   "outputs": [],
   "source": [
    "## 6) read IGBP data\n",
    "landcover = xr.open_zarr(LANDCOVER_PATH)\n",
    "landcover = landcover.assign_coords(\n",
    "    longitude=landcover.longitude.round(4),\n",
    "    latitude=landcover.latitude.round(4)\n",
    ")"
   ]
  },
  {
   "cell_type": "code",
   "execution_count": 37,
   "id": "a25042fb-3d3e-44d1-98f2-a07101c85d99",
   "metadata": {
    "tags": []
   },
   "outputs": [],
   "source": [
    "landcover = landcover['lccs_class']"
   ]
  },
  {
   "cell_type": "code",
   "execution_count": 38,
   "id": "126508ac-825e-4dc8-a446-ddbafbc8e7bb",
   "metadata": {
    "tags": []
   },
   "outputs": [],
   "source": [
    "landcover = landcover.sel(\n",
    "    latitude=slice(81.85192337, 34.93055094),  # (0., 125.) deg\n",
    "    longitude=slice(0, 68.93136141),  # (90., -35.) deg\n",
    ")"
   ]
  },
  {
   "cell_type": "code",
   "execution_count": 39,
   "id": "e7125f83-5224-4bc9-ac27-63f451d12ba2",
   "metadata": {
    "tags": []
   },
   "outputs": [],
   "source": [
    "# read IGBP unique values\n",
    "training_testing_append = pd.read_csv(IGBP_CLASS_PATH)['0'].unique()\n",
    "# read the table for converting landcover to IGBP\n",
    "IGBP_table = pd.read_csv(IGBP_TABLE_PATH)"
   ]
  },
  {
   "cell_type": "code",
   "execution_count": 40,
   "id": "5dac66ba-c18e-48e5-a2d3-b5e754e2a4ee",
   "metadata": {
    "tags": []
   },
   "outputs": [],
   "source": [
    "def landcover_to_igbp(landcover, IGBP_table, training_testing_append):\n",
    "    get_IGBP = np.vectorize(IGBP_table.set_index(\"lccs_class\").T.to_dict('records')[0].get)\n",
    "    IGBP = get_IGBP(landcover.values) \n",
    "    IGBP_all = pd.DataFrame(\n",
    "        columns=[f'IGBP_veg_long{i}' for i in range(1, 12)]\n",
    "    )\n",
    "    \n",
    "    # define one hot encoding for IGBP\n",
    "    encoder = OneHotEncoder(\n",
    "        categories=[training_testing_append],\n",
    "        sparse=False,\n",
    "        handle_unknown=\"ignore\"\n",
    "    )\n",
    "    \n",
    "    # transform data\n",
    "    aa = encoder.fit_transform(IGBP.reshape(IGBP.shape[0]*IGBP.shape[1], 1))\n",
    "    \n",
    "    # assign 23-D IGBP into 23 columns\n",
    "    for i in range(1, 12):\n",
    "        IGBP_all[f'IGBP_veg_long{i}'] = aa[:,i-1]\n",
    "    return IGBP_all"
   ]
  },
  {
   "cell_type": "markdown",
   "id": "fa3b01d8-1554-4ae5-86c9-872df1dd29bd",
   "metadata": {},
   "source": [
    "## 4) chunk all the input variables"
   ]
  },
  {
   "cell_type": "markdown",
   "id": "04750738-d276-4c22-b89f-1814ad2094c4",
   "metadata": {},
   "source": [
    "**Missing data here!** I haven't loaded the CO2 and SSM datasets."
   ]
  },
  {
   "cell_type": "code",
   "execution_count": 41,
   "id": "1a6f40e5-16a9-4619-9fa7-47761f241c7d",
   "metadata": {
    "tags": []
   },
   "outputs": [
    {
     "name": "stderr",
     "output_type": "stream",
     "text": [
      "/home/qiahan/.conda/envs/mamba/envs/emulator/lib/python3.9/site-packages/xarray/core/indexing.py:1374: PerformanceWarning: Slicing is producing a large chunk. To accept the large\n",
      "chunk and silence this warning, set the option\n",
      "    >>> with dask.config.set(**{'array.slicing.split_large_chunks': False}):\n",
      "    ...     array[indexer]\n",
      "\n",
      "To avoid creating the large chunks, set the option\n",
      "    >>> with dask.config.set(**{'array.slicing.split_large_chunks': True}):\n",
      "    ...     array[indexer]\n",
      "  return self.array[key]\n"
     ]
    }
   ],
   "source": [
    "ds = xr.Dataset()\n",
    "\n",
    "ds = ds.assign(\n",
    "    Rin=Rin,\n",
    "    Rli=Rli,\n",
    "    p=p,\n",
    "    Ta=Ta,\n",
    "    ea=ea,\n",
    "    u=u,\n",
    "    Precip_msr=Precip_msr,\n",
    "    LAI=LAI,\n",
    "#######\n",
    "    CO2=CO2,\n",
    "    SSM=SSM,\n",
    "#######\n",
    ")\n",
    "\n",
    "ds = ds.to_array()\n",
    "\n",
    "ds = ds.chunk(time=125, variable=-1)"
   ]
  },
  {
   "cell_type": "code",
   "execution_count": 42,
   "id": "f2f31612-24a3-4dc4-8022-4e74cb907999",
   "metadata": {
    "tags": []
   },
   "outputs": [
    {
     "data": {
      "text/html": [
       "<div><svg style=\"position: absolute; width: 0; height: 0; overflow: hidden\">\n",
       "<defs>\n",
       "<symbol id=\"icon-database\" viewBox=\"0 0 32 32\">\n",
       "<path d=\"M16 0c-8.837 0-16 2.239-16 5v4c0 2.761 7.163 5 16 5s16-2.239 16-5v-4c0-2.761-7.163-5-16-5z\"></path>\n",
       "<path d=\"M16 17c-8.837 0-16-2.239-16-5v6c0 2.761 7.163 5 16 5s16-2.239 16-5v-6c0 2.761-7.163 5-16 5z\"></path>\n",
       "<path d=\"M16 26c-8.837 0-16-2.239-16-5v6c0 2.761 7.163 5 16 5s16-2.239 16-5v-6c0 2.761-7.163 5-16 5z\"></path>\n",
       "</symbol>\n",
       "<symbol id=\"icon-file-text2\" viewBox=\"0 0 32 32\">\n",
       "<path d=\"M28.681 7.159c-0.694-0.947-1.662-2.053-2.724-3.116s-2.169-2.030-3.116-2.724c-1.612-1.182-2.393-1.319-2.841-1.319h-15.5c-1.378 0-2.5 1.121-2.5 2.5v27c0 1.378 1.122 2.5 2.5 2.5h23c1.378 0 2.5-1.122 2.5-2.5v-19.5c0-0.448-0.137-1.23-1.319-2.841zM24.543 5.457c0.959 0.959 1.712 1.825 2.268 2.543h-4.811v-4.811c0.718 0.556 1.584 1.309 2.543 2.268zM28 29.5c0 0.271-0.229 0.5-0.5 0.5h-23c-0.271 0-0.5-0.229-0.5-0.5v-27c0-0.271 0.229-0.5 0.5-0.5 0 0 15.499-0 15.5 0v7c0 0.552 0.448 1 1 1h7v19.5z\"></path>\n",
       "<path d=\"M23 26h-14c-0.552 0-1-0.448-1-1s0.448-1 1-1h14c0.552 0 1 0.448 1 1s-0.448 1-1 1z\"></path>\n",
       "<path d=\"M23 22h-14c-0.552 0-1-0.448-1-1s0.448-1 1-1h14c0.552 0 1 0.448 1 1s-0.448 1-1 1z\"></path>\n",
       "<path d=\"M23 18h-14c-0.552 0-1-0.448-1-1s0.448-1 1-1h14c0.552 0 1 0.448 1 1s-0.448 1-1 1z\"></path>\n",
       "</symbol>\n",
       "</defs>\n",
       "</svg>\n",
       "<style>/* CSS stylesheet for displaying xarray objects in jupyterlab.\n",
       " *\n",
       " */\n",
       "\n",
       ":root {\n",
       "  --xr-font-color0: var(--jp-content-font-color0, rgba(0, 0, 0, 1));\n",
       "  --xr-font-color2: var(--jp-content-font-color2, rgba(0, 0, 0, 0.54));\n",
       "  --xr-font-color3: var(--jp-content-font-color3, rgba(0, 0, 0, 0.38));\n",
       "  --xr-border-color: var(--jp-border-color2, #e0e0e0);\n",
       "  --xr-disabled-color: var(--jp-layout-color3, #bdbdbd);\n",
       "  --xr-background-color: var(--jp-layout-color0, white);\n",
       "  --xr-background-color-row-even: var(--jp-layout-color1, white);\n",
       "  --xr-background-color-row-odd: var(--jp-layout-color2, #eeeeee);\n",
       "}\n",
       "\n",
       "html[theme=dark],\n",
       "body[data-theme=dark],\n",
       "body.vscode-dark {\n",
       "  --xr-font-color0: rgba(255, 255, 255, 1);\n",
       "  --xr-font-color2: rgba(255, 255, 255, 0.54);\n",
       "  --xr-font-color3: rgba(255, 255, 255, 0.38);\n",
       "  --xr-border-color: #1F1F1F;\n",
       "  --xr-disabled-color: #515151;\n",
       "  --xr-background-color: #111111;\n",
       "  --xr-background-color-row-even: #111111;\n",
       "  --xr-background-color-row-odd: #313131;\n",
       "}\n",
       "\n",
       ".xr-wrap {\n",
       "  display: block !important;\n",
       "  min-width: 300px;\n",
       "  max-width: 700px;\n",
       "}\n",
       "\n",
       ".xr-text-repr-fallback {\n",
       "  /* fallback to plain text repr when CSS is not injected (untrusted notebook) */\n",
       "  display: none;\n",
       "}\n",
       "\n",
       ".xr-header {\n",
       "  padding-top: 6px;\n",
       "  padding-bottom: 6px;\n",
       "  margin-bottom: 4px;\n",
       "  border-bottom: solid 1px var(--xr-border-color);\n",
       "}\n",
       "\n",
       ".xr-header > div,\n",
       ".xr-header > ul {\n",
       "  display: inline;\n",
       "  margin-top: 0;\n",
       "  margin-bottom: 0;\n",
       "}\n",
       "\n",
       ".xr-obj-type,\n",
       ".xr-array-name {\n",
       "  margin-left: 2px;\n",
       "  margin-right: 10px;\n",
       "}\n",
       "\n",
       ".xr-obj-type {\n",
       "  color: var(--xr-font-color2);\n",
       "}\n",
       "\n",
       ".xr-sections {\n",
       "  padding-left: 0 !important;\n",
       "  display: grid;\n",
       "  grid-template-columns: 150px auto auto 1fr 20px 20px;\n",
       "}\n",
       "\n",
       ".xr-section-item {\n",
       "  display: contents;\n",
       "}\n",
       "\n",
       ".xr-section-item input {\n",
       "  display: none;\n",
       "}\n",
       "\n",
       ".xr-section-item input + label {\n",
       "  color: var(--xr-disabled-color);\n",
       "}\n",
       "\n",
       ".xr-section-item input:enabled + label {\n",
       "  cursor: pointer;\n",
       "  color: var(--xr-font-color2);\n",
       "}\n",
       "\n",
       ".xr-section-item input:enabled + label:hover {\n",
       "  color: var(--xr-font-color0);\n",
       "}\n",
       "\n",
       ".xr-section-summary {\n",
       "  grid-column: 1;\n",
       "  color: var(--xr-font-color2);\n",
       "  font-weight: 500;\n",
       "}\n",
       "\n",
       ".xr-section-summary > span {\n",
       "  display: inline-block;\n",
       "  padding-left: 0.5em;\n",
       "}\n",
       "\n",
       ".xr-section-summary-in:disabled + label {\n",
       "  color: var(--xr-font-color2);\n",
       "}\n",
       "\n",
       ".xr-section-summary-in + label:before {\n",
       "  display: inline-block;\n",
       "  content: '►';\n",
       "  font-size: 11px;\n",
       "  width: 15px;\n",
       "  text-align: center;\n",
       "}\n",
       "\n",
       ".xr-section-summary-in:disabled + label:before {\n",
       "  color: var(--xr-disabled-color);\n",
       "}\n",
       "\n",
       ".xr-section-summary-in:checked + label:before {\n",
       "  content: '▼';\n",
       "}\n",
       "\n",
       ".xr-section-summary-in:checked + label > span {\n",
       "  display: none;\n",
       "}\n",
       "\n",
       ".xr-section-summary,\n",
       ".xr-section-inline-details {\n",
       "  padding-top: 4px;\n",
       "  padding-bottom: 4px;\n",
       "}\n",
       "\n",
       ".xr-section-inline-details {\n",
       "  grid-column: 2 / -1;\n",
       "}\n",
       "\n",
       ".xr-section-details {\n",
       "  display: none;\n",
       "  grid-column: 1 / -1;\n",
       "  margin-bottom: 5px;\n",
       "}\n",
       "\n",
       ".xr-section-summary-in:checked ~ .xr-section-details {\n",
       "  display: contents;\n",
       "}\n",
       "\n",
       ".xr-array-wrap {\n",
       "  grid-column: 1 / -1;\n",
       "  display: grid;\n",
       "  grid-template-columns: 20px auto;\n",
       "}\n",
       "\n",
       ".xr-array-wrap > label {\n",
       "  grid-column: 1;\n",
       "  vertical-align: top;\n",
       "}\n",
       "\n",
       ".xr-preview {\n",
       "  color: var(--xr-font-color3);\n",
       "}\n",
       "\n",
       ".xr-array-preview,\n",
       ".xr-array-data {\n",
       "  padding: 0 5px !important;\n",
       "  grid-column: 2;\n",
       "}\n",
       "\n",
       ".xr-array-data,\n",
       ".xr-array-in:checked ~ .xr-array-preview {\n",
       "  display: none;\n",
       "}\n",
       "\n",
       ".xr-array-in:checked ~ .xr-array-data,\n",
       ".xr-array-preview {\n",
       "  display: inline-block;\n",
       "}\n",
       "\n",
       ".xr-dim-list {\n",
       "  display: inline-block !important;\n",
       "  list-style: none;\n",
       "  padding: 0 !important;\n",
       "  margin: 0;\n",
       "}\n",
       "\n",
       ".xr-dim-list li {\n",
       "  display: inline-block;\n",
       "  padding: 0;\n",
       "  margin: 0;\n",
       "}\n",
       "\n",
       ".xr-dim-list:before {\n",
       "  content: '(';\n",
       "}\n",
       "\n",
       ".xr-dim-list:after {\n",
       "  content: ')';\n",
       "}\n",
       "\n",
       ".xr-dim-list li:not(:last-child):after {\n",
       "  content: ',';\n",
       "  padding-right: 5px;\n",
       "}\n",
       "\n",
       ".xr-has-index {\n",
       "  font-weight: bold;\n",
       "}\n",
       "\n",
       ".xr-var-list,\n",
       ".xr-var-item {\n",
       "  display: contents;\n",
       "}\n",
       "\n",
       ".xr-var-item > div,\n",
       ".xr-var-item label,\n",
       ".xr-var-item > .xr-var-name span {\n",
       "  background-color: var(--xr-background-color-row-even);\n",
       "  margin-bottom: 0;\n",
       "}\n",
       "\n",
       ".xr-var-item > .xr-var-name:hover span {\n",
       "  padding-right: 5px;\n",
       "}\n",
       "\n",
       ".xr-var-list > li:nth-child(odd) > div,\n",
       ".xr-var-list > li:nth-child(odd) > label,\n",
       ".xr-var-list > li:nth-child(odd) > .xr-var-name span {\n",
       "  background-color: var(--xr-background-color-row-odd);\n",
       "}\n",
       "\n",
       ".xr-var-name {\n",
       "  grid-column: 1;\n",
       "}\n",
       "\n",
       ".xr-var-dims {\n",
       "  grid-column: 2;\n",
       "}\n",
       "\n",
       ".xr-var-dtype {\n",
       "  grid-column: 3;\n",
       "  text-align: right;\n",
       "  color: var(--xr-font-color2);\n",
       "}\n",
       "\n",
       ".xr-var-preview {\n",
       "  grid-column: 4;\n",
       "}\n",
       "\n",
       ".xr-var-name,\n",
       ".xr-var-dims,\n",
       ".xr-var-dtype,\n",
       ".xr-preview,\n",
       ".xr-attrs dt {\n",
       "  white-space: nowrap;\n",
       "  overflow: hidden;\n",
       "  text-overflow: ellipsis;\n",
       "  padding-right: 10px;\n",
       "}\n",
       "\n",
       ".xr-var-name:hover,\n",
       ".xr-var-dims:hover,\n",
       ".xr-var-dtype:hover,\n",
       ".xr-attrs dt:hover {\n",
       "  overflow: visible;\n",
       "  width: auto;\n",
       "  z-index: 1;\n",
       "}\n",
       "\n",
       ".xr-var-attrs,\n",
       ".xr-var-data {\n",
       "  display: none;\n",
       "  background-color: var(--xr-background-color) !important;\n",
       "  padding-bottom: 5px !important;\n",
       "}\n",
       "\n",
       ".xr-var-attrs-in:checked ~ .xr-var-attrs,\n",
       ".xr-var-data-in:checked ~ .xr-var-data {\n",
       "  display: block;\n",
       "}\n",
       "\n",
       ".xr-var-data > table {\n",
       "  float: right;\n",
       "}\n",
       "\n",
       ".xr-var-name span,\n",
       ".xr-var-data,\n",
       ".xr-attrs {\n",
       "  padding-left: 25px !important;\n",
       "}\n",
       "\n",
       ".xr-attrs,\n",
       ".xr-var-attrs,\n",
       ".xr-var-data {\n",
       "  grid-column: 1 / -1;\n",
       "}\n",
       "\n",
       "dl.xr-attrs {\n",
       "  padding: 0;\n",
       "  margin: 0;\n",
       "  display: grid;\n",
       "  grid-template-columns: 125px auto;\n",
       "}\n",
       "\n",
       ".xr-attrs dt,\n",
       ".xr-attrs dd {\n",
       "  padding: 0;\n",
       "  margin: 0;\n",
       "  float: left;\n",
       "  padding-right: 10px;\n",
       "  width: auto;\n",
       "}\n",
       "\n",
       ".xr-attrs dt {\n",
       "  font-weight: normal;\n",
       "  grid-column: 1;\n",
       "}\n",
       "\n",
       ".xr-attrs dt:hover span {\n",
       "  display: inline-block;\n",
       "  background: var(--xr-background-color);\n",
       "  padding-right: 10px;\n",
       "}\n",
       "\n",
       ".xr-attrs dd {\n",
       "  grid-column: 2;\n",
       "  white-space: pre-wrap;\n",
       "  word-break: break-all;\n",
       "}\n",
       "\n",
       ".xr-icon-database,\n",
       ".xr-icon-file-text2 {\n",
       "  display: inline-block;\n",
       "  vertical-align: middle;\n",
       "  width: 1em;\n",
       "  height: 1.5em !important;\n",
       "  stroke-width: 0;\n",
       "  stroke: currentColor;\n",
       "  fill: currentColor;\n",
       "}\n",
       "</style><pre class='xr-text-repr-fallback'>&lt;xarray.DataArray (variable: 10, time: 8761, latitude: 469, longitude: 690)&gt;\n",
       "dask.array&lt;rechunk-merge, shape=(10, 8761, 469, 690), dtype=float64, chunksize=(10, 125, 250, 250), chunktype=numpy.ndarray&gt;\n",
       "Coordinates:\n",
       "  * latitude   (latitude) float32 81.8 81.7 81.6 81.5 ... 35.3 35.2 35.1 35.0\n",
       "  * longitude  (longitude) float32 0.0 0.1 0.2 0.3 0.4 ... 68.6 68.7 68.8 68.9\n",
       "  * time       (time) datetime64[ns] 2014-01-01 ... 2015-01-01\n",
       "  * variable   (variable) object &#x27;Rin&#x27; &#x27;Rli&#x27; &#x27;p&#x27; &#x27;Ta&#x27; ... &#x27;LAI&#x27; &#x27;CO2&#x27; &#x27;SSM&#x27;</pre><div class='xr-wrap' style='display:none'><div class='xr-header'><div class='xr-obj-type'>xarray.DataArray</div><div class='xr-array-name'></div><ul class='xr-dim-list'><li><span class='xr-has-index'>variable</span>: 10</li><li><span class='xr-has-index'>time</span>: 8761</li><li><span class='xr-has-index'>latitude</span>: 469</li><li><span class='xr-has-index'>longitude</span>: 690</li></ul></div><ul class='xr-sections'><li class='xr-section-item'><div class='xr-array-wrap'><input id='section-fabde76a-f097-4d07-82fb-8c43f4aee81e' class='xr-array-in' type='checkbox' checked><label for='section-fabde76a-f097-4d07-82fb-8c43f4aee81e' title='Show/hide data repr'><svg class='icon xr-icon-database'><use xlink:href='#icon-database'></use></svg></label><div class='xr-array-preview xr-preview'><span>dask.array&lt;chunksize=(10, 125, 168, 250), meta=np.ndarray&gt;</span></div><div class='xr-array-data'><table>\n",
       "    <tr>\n",
       "        <td>\n",
       "            <table style=\"border-collapse: collapse;\">\n",
       "                <thead>\n",
       "                    <tr>\n",
       "                        <td> </td>\n",
       "                        <th> Array </th>\n",
       "                        <th> Chunk </th>\n",
       "                    </tr>\n",
       "                </thead>\n",
       "                <tbody>\n",
       "                    \n",
       "                    <tr>\n",
       "                        <th> Bytes </th>\n",
       "                        <td> 211.23 GiB </td>\n",
       "                        <td> 596.05 MiB </td>\n",
       "                    </tr>\n",
       "                    \n",
       "                    <tr>\n",
       "                        <th> Shape </th>\n",
       "                        <td> (10, 8761, 469, 690) </td>\n",
       "                        <td> (10, 125, 250, 250) </td>\n",
       "                    </tr>\n",
       "                    <tr>\n",
       "                        <th> Dask graph </th>\n",
       "                        <td colspan=\"2\"> 639 chunks in 155 graph layers </td>\n",
       "                    </tr>\n",
       "                    <tr>\n",
       "                        <th> Data type </th>\n",
       "                        <td colspan=\"2\"> float64 numpy.ndarray </td>\n",
       "                    </tr>\n",
       "                </tbody>\n",
       "            </table>\n",
       "        </td>\n",
       "        <td>\n",
       "        <svg width=\"347\" height=\"155\" style=\"stroke:rgb(0,0,0);stroke-width:1\" >\n",
       "\n",
       "  <!-- Horizontal lines -->\n",
       "  <line x1=\"0\" y1=\"0\" x2=\"25\" y2=\"0\" style=\"stroke-width:2\" />\n",
       "  <line x1=\"0\" y1=\"25\" x2=\"25\" y2=\"25\" style=\"stroke-width:2\" />\n",
       "\n",
       "  <!-- Vertical lines -->\n",
       "  <line x1=\"0\" y1=\"0\" x2=\"0\" y2=\"25\" style=\"stroke-width:2\" />\n",
       "  <line x1=\"25\" y1=\"0\" x2=\"25\" y2=\"25\" style=\"stroke-width:2\" />\n",
       "\n",
       "  <!-- Colored Rectangle -->\n",
       "  <polygon points=\"0.0,0.0 25.412616514582485,0.0 25.412616514582485,25.412616514582485 0.0,25.412616514582485\" style=\"fill:#ECB172A0;stroke-width:0\"/>\n",
       "\n",
       "  <!-- Text -->\n",
       "  <text x=\"12.706308\" y=\"45.412617\" font-size=\"1.0rem\" font-weight=\"100\" text-anchor=\"middle\" >10</text>\n",
       "  <text x=\"45.412617\" y=\"12.706308\" font-size=\"1.0rem\" font-weight=\"100\" text-anchor=\"middle\" transform=\"rotate(0,45.412617,12.706308)\">1</text>\n",
       "\n",
       "\n",
       "  <!-- Horizontal lines -->\n",
       "  <line x1=\"95\" y1=\"0\" x2=\"165\" y2=\"70\" style=\"stroke-width:2\" />\n",
       "  <line x1=\"95\" y1=\"12\" x2=\"165\" y2=\"83\" />\n",
       "  <line x1=\"95\" y1=\"31\" x2=\"165\" y2=\"101\" />\n",
       "  <line x1=\"95\" y1=\"34\" x2=\"165\" y2=\"105\" style=\"stroke-width:2\" />\n",
       "\n",
       "  <!-- Vertical lines -->\n",
       "  <line x1=\"95\" y1=\"0\" x2=\"95\" y2=\"34\" style=\"stroke-width:2\" />\n",
       "  <line x1=\"97\" y1=\"2\" x2=\"97\" y2=\"36\" />\n",
       "  <line x1=\"99\" y1=\"4\" x2=\"99\" y2=\"38\" />\n",
       "  <line x1=\"101\" y1=\"6\" x2=\"101\" y2=\"40\" />\n",
       "  <line x1=\"103\" y1=\"8\" x2=\"103\" y2=\"42\" />\n",
       "  <line x1=\"106\" y1=\"11\" x2=\"106\" y2=\"45\" />\n",
       "  <line x1=\"108\" y1=\"13\" x2=\"108\" y2=\"48\" />\n",
       "  <line x1=\"110\" y1=\"15\" x2=\"110\" y2=\"50\" />\n",
       "  <line x1=\"112\" y1=\"17\" x2=\"112\" y2=\"52\" />\n",
       "  <line x1=\"114\" y1=\"19\" x2=\"114\" y2=\"54\" />\n",
       "  <line x1=\"117\" y1=\"22\" x2=\"117\" y2=\"57\" />\n",
       "  <line x1=\"119\" y1=\"24\" x2=\"119\" y2=\"59\" />\n",
       "  <line x1=\"121\" y1=\"26\" x2=\"121\" y2=\"61\" />\n",
       "  <line x1=\"123\" y1=\"28\" x2=\"123\" y2=\"63\" />\n",
       "  <line x1=\"126\" y1=\"31\" x2=\"126\" y2=\"66\" />\n",
       "  <line x1=\"128\" y1=\"33\" x2=\"128\" y2=\"68\" />\n",
       "  <line x1=\"130\" y1=\"35\" x2=\"130\" y2=\"70\" />\n",
       "  <line x1=\"132\" y1=\"37\" x2=\"132\" y2=\"72\" />\n",
       "  <line x1=\"134\" y1=\"39\" x2=\"134\" y2=\"74\" />\n",
       "  <line x1=\"137\" y1=\"42\" x2=\"137\" y2=\"77\" />\n",
       "  <line x1=\"139\" y1=\"44\" x2=\"139\" y2=\"79\" />\n",
       "  <line x1=\"141\" y1=\"46\" x2=\"141\" y2=\"81\" />\n",
       "  <line x1=\"143\" y1=\"48\" x2=\"143\" y2=\"83\" />\n",
       "  <line x1=\"146\" y1=\"51\" x2=\"146\" y2=\"86\" />\n",
       "  <line x1=\"148\" y1=\"53\" x2=\"148\" y2=\"88\" />\n",
       "  <line x1=\"150\" y1=\"55\" x2=\"150\" y2=\"90\" />\n",
       "  <line x1=\"152\" y1=\"57\" x2=\"152\" y2=\"92\" />\n",
       "  <line x1=\"154\" y1=\"59\" x2=\"154\" y2=\"94\" />\n",
       "  <line x1=\"157\" y1=\"62\" x2=\"157\" y2=\"97\" />\n",
       "  <line x1=\"159\" y1=\"64\" x2=\"159\" y2=\"99\" />\n",
       "  <line x1=\"161\" y1=\"66\" x2=\"161\" y2=\"101\" />\n",
       "  <line x1=\"163\" y1=\"68\" x2=\"163\" y2=\"103\" />\n",
       "  <line x1=\"165\" y1=\"70\" x2=\"165\" y2=\"105\" style=\"stroke-width:2\" />\n",
       "\n",
       "  <!-- Colored Rectangle -->\n",
       "  <polygon points=\"95.0,0.0 165.58823529411765,70.58823529411765 165.58823529411765,105.50677311509128 95.0,34.91853782097362\" style=\"fill:#8B4903A0;stroke-width:0\"/>\n",
       "\n",
       "  <!-- Horizontal lines -->\n",
       "  <line x1=\"95\" y1=\"0\" x2=\"132\" y2=\"0\" style=\"stroke-width:2\" />\n",
       "  <line x1=\"97\" y1=\"2\" x2=\"134\" y2=\"2\" />\n",
       "  <line x1=\"99\" y1=\"4\" x2=\"136\" y2=\"4\" />\n",
       "  <line x1=\"101\" y1=\"6\" x2=\"138\" y2=\"6\" />\n",
       "  <line x1=\"103\" y1=\"8\" x2=\"140\" y2=\"8\" />\n",
       "  <line x1=\"106\" y1=\"11\" x2=\"143\" y2=\"11\" />\n",
       "  <line x1=\"108\" y1=\"13\" x2=\"145\" y2=\"13\" />\n",
       "  <line x1=\"110\" y1=\"15\" x2=\"147\" y2=\"15\" />\n",
       "  <line x1=\"112\" y1=\"17\" x2=\"149\" y2=\"17\" />\n",
       "  <line x1=\"114\" y1=\"19\" x2=\"151\" y2=\"19\" />\n",
       "  <line x1=\"117\" y1=\"22\" x2=\"154\" y2=\"22\" />\n",
       "  <line x1=\"119\" y1=\"24\" x2=\"156\" y2=\"24\" />\n",
       "  <line x1=\"121\" y1=\"26\" x2=\"158\" y2=\"26\" />\n",
       "  <line x1=\"123\" y1=\"28\" x2=\"160\" y2=\"28\" />\n",
       "  <line x1=\"126\" y1=\"31\" x2=\"163\" y2=\"31\" />\n",
       "  <line x1=\"128\" y1=\"33\" x2=\"165\" y2=\"33\" />\n",
       "  <line x1=\"130\" y1=\"35\" x2=\"167\" y2=\"35\" />\n",
       "  <line x1=\"132\" y1=\"37\" x2=\"169\" y2=\"37\" />\n",
       "  <line x1=\"134\" y1=\"39\" x2=\"171\" y2=\"39\" />\n",
       "  <line x1=\"137\" y1=\"42\" x2=\"174\" y2=\"42\" />\n",
       "  <line x1=\"139\" y1=\"44\" x2=\"176\" y2=\"44\" />\n",
       "  <line x1=\"141\" y1=\"46\" x2=\"178\" y2=\"46\" />\n",
       "  <line x1=\"143\" y1=\"48\" x2=\"180\" y2=\"48\" />\n",
       "  <line x1=\"146\" y1=\"51\" x2=\"183\" y2=\"51\" />\n",
       "  <line x1=\"148\" y1=\"53\" x2=\"185\" y2=\"53\" />\n",
       "  <line x1=\"150\" y1=\"55\" x2=\"187\" y2=\"55\" />\n",
       "  <line x1=\"152\" y1=\"57\" x2=\"189\" y2=\"57\" />\n",
       "  <line x1=\"154\" y1=\"59\" x2=\"191\" y2=\"59\" />\n",
       "  <line x1=\"157\" y1=\"62\" x2=\"194\" y2=\"62\" />\n",
       "  <line x1=\"159\" y1=\"64\" x2=\"196\" y2=\"64\" />\n",
       "  <line x1=\"161\" y1=\"66\" x2=\"198\" y2=\"66\" />\n",
       "  <line x1=\"163\" y1=\"68\" x2=\"200\" y2=\"68\" />\n",
       "  <line x1=\"165\" y1=\"70\" x2=\"202\" y2=\"70\" style=\"stroke-width:2\" />\n",
       "\n",
       "  <!-- Vertical lines -->\n",
       "  <line x1=\"95\" y1=\"0\" x2=\"165\" y2=\"70\" style=\"stroke-width:2\" />\n",
       "  <line x1=\"108\" y1=\"0\" x2=\"179\" y2=\"70\" />\n",
       "  <line x1=\"121\" y1=\"0\" x2=\"192\" y2=\"70\" />\n",
       "  <line x1=\"132\" y1=\"0\" x2=\"202\" y2=\"70\" style=\"stroke-width:2\" />\n",
       "\n",
       "  <!-- Colored Rectangle -->\n",
       "  <polygon points=\"95.0,0.0 132.2352531684436,0.0 202.82348846256124,70.58823529411765 165.58823529411765,70.58823529411765\" style=\"fill:#8B4903A0;stroke-width:0\"/>\n",
       "\n",
       "  <!-- Horizontal lines -->\n",
       "  <line x1=\"165\" y1=\"70\" x2=\"202\" y2=\"70\" style=\"stroke-width:2\" />\n",
       "  <line x1=\"165\" y1=\"83\" x2=\"202\" y2=\"83\" />\n",
       "  <line x1=\"165\" y1=\"101\" x2=\"202\" y2=\"101\" />\n",
       "  <line x1=\"165\" y1=\"105\" x2=\"202\" y2=\"105\" style=\"stroke-width:2\" />\n",
       "\n",
       "  <!-- Vertical lines -->\n",
       "  <line x1=\"165\" y1=\"70\" x2=\"165\" y2=\"105\" style=\"stroke-width:2\" />\n",
       "  <line x1=\"179\" y1=\"70\" x2=\"179\" y2=\"105\" />\n",
       "  <line x1=\"192\" y1=\"70\" x2=\"192\" y2=\"105\" />\n",
       "  <line x1=\"202\" y1=\"70\" x2=\"202\" y2=\"105\" style=\"stroke-width:2\" />\n",
       "\n",
       "  <!-- Colored Rectangle -->\n",
       "  <polygon points=\"165.58823529411765,70.58823529411765 202.82348846256124,70.58823529411765 202.82348846256124,105.50677311509128 165.58823529411765,105.50677311509128\" style=\"fill:#ECB172A0;stroke-width:0\"/>\n",
       "\n",
       "  <!-- Text -->\n",
       "  <text x=\"184.205862\" y=\"125.506773\" font-size=\"1.0rem\" font-weight=\"100\" text-anchor=\"middle\" >690</text>\n",
       "  <text x=\"222.823488\" y=\"88.047504\" font-size=\"1.0rem\" font-weight=\"100\" text-anchor=\"middle\" transform=\"rotate(-90,222.823488,88.047504)\">469</text>\n",
       "  <text x=\"120.294118\" y=\"90.212655\" font-size=\"1.0rem\" font-weight=\"100\" text-anchor=\"middle\" transform=\"rotate(45,120.294118,90.212655)\">8761</text>\n",
       "</svg>\n",
       "        </td>\n",
       "    </tr>\n",
       "</table></div></div></li><li class='xr-section-item'><input id='section-5eeaff1b-1be3-4618-8674-60ff5fb9706b' class='xr-section-summary-in' type='checkbox'  checked><label for='section-5eeaff1b-1be3-4618-8674-60ff5fb9706b' class='xr-section-summary' >Coordinates: <span>(4)</span></label><div class='xr-section-inline-details'></div><div class='xr-section-details'><ul class='xr-var-list'><li class='xr-var-item'><div class='xr-var-name'><span class='xr-has-index'>latitude</span></div><div class='xr-var-dims'>(latitude)</div><div class='xr-var-dtype'>float32</div><div class='xr-var-preview xr-preview'>81.8 81.7 81.6 ... 35.2 35.1 35.0</div><input id='attrs-00ec99f5-20f9-451a-bc66-6cb1229a5a67' class='xr-var-attrs-in' type='checkbox' ><label for='attrs-00ec99f5-20f9-451a-bc66-6cb1229a5a67' title='Show/Hide attributes'><svg class='icon xr-icon-file-text2'><use xlink:href='#icon-file-text2'></use></svg></label><input id='data-69eebfc9-d6d0-4f48-8f96-3b0b0fb6b914' class='xr-var-data-in' type='checkbox'><label for='data-69eebfc9-d6d0-4f48-8f96-3b0b0fb6b914' title='Show/Hide data repr'><svg class='icon xr-icon-database'><use xlink:href='#icon-database'></use></svg></label><div class='xr-var-attrs'><dl class='xr-attrs'><dt><span>long_name :</span></dt><dd>latitude</dd><dt><span>units :</span></dt><dd>degrees_north</dd></dl></div><div class='xr-var-data'><pre>array([81.8, 81.7, 81.6, ..., 35.2, 35.1, 35. ], dtype=float32)</pre></div></li><li class='xr-var-item'><div class='xr-var-name'><span class='xr-has-index'>longitude</span></div><div class='xr-var-dims'>(longitude)</div><div class='xr-var-dtype'>float32</div><div class='xr-var-preview xr-preview'>0.0 0.1 0.2 0.3 ... 68.7 68.8 68.9</div><input id='attrs-d98f9f49-32ac-40f7-a7f4-1afb6a039b32' class='xr-var-attrs-in' type='checkbox' ><label for='attrs-d98f9f49-32ac-40f7-a7f4-1afb6a039b32' title='Show/Hide attributes'><svg class='icon xr-icon-file-text2'><use xlink:href='#icon-file-text2'></use></svg></label><input id='data-5b273ad4-c54c-4193-a133-f1e865f91068' class='xr-var-data-in' type='checkbox'><label for='data-5b273ad4-c54c-4193-a133-f1e865f91068' title='Show/Hide data repr'><svg class='icon xr-icon-database'><use xlink:href='#icon-database'></use></svg></label><div class='xr-var-attrs'><dl class='xr-attrs'><dt><span>long_name :</span></dt><dd>longitude</dd><dt><span>units :</span></dt><dd>degrees_east</dd></dl></div><div class='xr-var-data'><pre>array([ 0. ,  0.1,  0.2, ..., 68.7, 68.8, 68.9], dtype=float32)</pre></div></li><li class='xr-var-item'><div class='xr-var-name'><span class='xr-has-index'>time</span></div><div class='xr-var-dims'>(time)</div><div class='xr-var-dtype'>datetime64[ns]</div><div class='xr-var-preview xr-preview'>2014-01-01 ... 2015-01-01</div><input id='attrs-10b405a7-dfd3-4c5d-bdbd-3cb832977754' class='xr-var-attrs-in' type='checkbox' ><label for='attrs-10b405a7-dfd3-4c5d-bdbd-3cb832977754' title='Show/Hide attributes'><svg class='icon xr-icon-file-text2'><use xlink:href='#icon-file-text2'></use></svg></label><input id='data-3b708e3c-4be3-4bd3-be74-97c486bcd608' class='xr-var-data-in' type='checkbox'><label for='data-3b708e3c-4be3-4bd3-be74-97c486bcd608' title='Show/Hide data repr'><svg class='icon xr-icon-database'><use xlink:href='#icon-database'></use></svg></label><div class='xr-var-attrs'><dl class='xr-attrs'><dt><span>long_name :</span></dt><dd>time</dd></dl></div><div class='xr-var-data'><pre>array([&#x27;2014-01-01T00:00:00.000000000&#x27;, &#x27;2014-01-01T01:00:00.000000000&#x27;,\n",
       "       &#x27;2014-01-01T02:00:00.000000000&#x27;, ..., &#x27;2014-12-31T22:00:00.000000000&#x27;,\n",
       "       &#x27;2014-12-31T23:00:00.000000000&#x27;, &#x27;2015-01-01T00:00:00.000000000&#x27;],\n",
       "      dtype=&#x27;datetime64[ns]&#x27;)</pre></div></li><li class='xr-var-item'><div class='xr-var-name'><span class='xr-has-index'>variable</span></div><div class='xr-var-dims'>(variable)</div><div class='xr-var-dtype'>object</div><div class='xr-var-preview xr-preview'>&#x27;Rin&#x27; &#x27;Rli&#x27; &#x27;p&#x27; ... &#x27;CO2&#x27; &#x27;SSM&#x27;</div><input id='attrs-89626630-0357-4255-84ad-a94d438a308a' class='xr-var-attrs-in' type='checkbox' disabled><label for='attrs-89626630-0357-4255-84ad-a94d438a308a' title='Show/Hide attributes'><svg class='icon xr-icon-file-text2'><use xlink:href='#icon-file-text2'></use></svg></label><input id='data-cb18bec0-f3c7-4744-bd6e-9d8d40b3dea8' class='xr-var-data-in' type='checkbox'><label for='data-cb18bec0-f3c7-4744-bd6e-9d8d40b3dea8' title='Show/Hide data repr'><svg class='icon xr-icon-database'><use xlink:href='#icon-database'></use></svg></label><div class='xr-var-attrs'><dl class='xr-attrs'></dl></div><div class='xr-var-data'><pre>array([&#x27;Rin&#x27;, &#x27;Rli&#x27;, &#x27;p&#x27;, &#x27;Ta&#x27;, &#x27;ea&#x27;, &#x27;u&#x27;, &#x27;Precip_msr&#x27;, &#x27;LAI&#x27;, &#x27;CO2&#x27;, &#x27;SSM&#x27;],\n",
       "      dtype=object)</pre></div></li></ul></div></li><li class='xr-section-item'><input id='section-ba04e5ef-f901-4476-8886-95b9aaa7dbc4' class='xr-section-summary-in' type='checkbox' disabled ><label for='section-ba04e5ef-f901-4476-8886-95b9aaa7dbc4' class='xr-section-summary'  title='Expand/collapse section'>Attributes: <span>(0)</span></label><div class='xr-section-inline-details'></div><div class='xr-section-details'><dl class='xr-attrs'></dl></div></li></ul></div></div>"
      ],
      "text/plain": [
       "<xarray.DataArray (variable: 10, time: 8761, latitude: 469, longitude: 690)>\n",
       "dask.array<rechunk-merge, shape=(10, 8761, 469, 690), dtype=float64, chunksize=(10, 125, 250, 250), chunktype=numpy.ndarray>\n",
       "Coordinates:\n",
       "  * latitude   (latitude) float32 81.8 81.7 81.6 81.5 ... 35.3 35.2 35.1 35.0\n",
       "  * longitude  (longitude) float32 0.0 0.1 0.2 0.3 0.4 ... 68.6 68.7 68.8 68.9\n",
       "  * time       (time) datetime64[ns] 2014-01-01 ... 2015-01-01\n",
       "  * variable   (variable) object 'Rin' 'Rli' 'p' 'Ta' ... 'LAI' 'CO2' 'SSM'"
      ]
     },
     "execution_count": 42,
     "metadata": {},
     "output_type": "execute_result"
    }
   ],
   "source": [
    "ds"
   ]
  },
  {
   "cell_type": "markdown",
   "id": "86bf1162-22a9-44b5-b63f-c44b5bd752d6",
   "metadata": {},
   "source": [
    "## 5) predict fluxes with map_blocks"
   ]
  },
  {
   "cell_type": "code",
   "execution_count": 43,
   "id": "aee08121-c8b2-47cf-bec1-16482bb7ed7b",
   "metadata": {
    "tags": []
   },
   "outputs": [],
   "source": [
    "INPUT_VARIABLES = [\n",
    "    'Rin', 'Rli', 'p', 'Ta', 'ea', 'u', 'CO2','LAI','Vcmo','hc', 'Precip_msr',  \n",
    "    'SSM',  *[f'IGBP_veg_long{i}' for i in range(1, 12)]\n",
    "]\n",
    "OUTPUT_VARIABLES = ['Rn_varmean','LE_varmean','H_varmean','GPP_varmean','Gtot', 'SIF685', 'SIF740']"
   ]
  },
  {
   "cell_type": "code",
   "execution_count": 44,
   "id": "ce15b015-2b1c-4029-8e9c-76d2bc0c2b6c",
   "metadata": {
    "tags": []
   },
   "outputs": [],
   "source": [
    "chunks = [ds.chunksizes[v] for v in ['time', 'latitude', 'longitude']]\n",
    "chunks.append((len(OUTPUT_VARIABLES),))\n",
    "\n",
    "template_LEH = xr.DataArray(\n",
    "    name = 'LEH',\n",
    "    data=da.zeros(\n",
    "        (len(ds.time), len(ds.latitude), len(ds.longitude), len(OUTPUT_VARIABLES)), \n",
    "        chunks=chunks,\n",
    "    ),\n",
    "    dims=(\"time\", \"latitude\", \"longitude\", \"output_variable\"),\n",
    "    coords={\n",
    "        \"output_variable\": OUTPUT_VARIABLES, \n",
    "        \"time\": ds.time, \n",
    "        \"latitude\": ds.latitude,\n",
    "        \"longitude\": ds.longitude\n",
    "    }\n",
    ")"
   ]
  },
  {
   "cell_type": "markdown",
   "id": "241e073d-7865-4fc2-b26a-e350ce2ee6fe",
   "metadata": {},
   "source": [
    "**Fake data here!** instead of taking `ds['CO2']` and `ds['SSM']` , I use `ds['p']` and `ds['Ta']`: "
   ]
  },
  {
   "cell_type": "code",
   "execution_count": 45,
   "id": "45317176-f436-4f3d-a66b-455db9596e65",
   "metadata": {
    "tags": []
   },
   "outputs": [],
   "source": [
    "def expand_time_dimension(data, n_time):\n",
    "    \"\"\" \n",
    "    Expand the space-dependent data over the time dimension.\n",
    "    \n",
    "    Parameters\n",
    "    ----------\n",
    "    data : np.ndarray\n",
    "        (ny, nx) matrix\n",
    "    n_time : int\n",
    "        number of elements in the time dimension\n",
    "    \n",
    "    Returns\n",
    "    -------\n",
    "    np.ndarray\n",
    "        (1, ntime*ny*nx) matrix\n",
    "    \"\"\"\n",
    "    expanded = np.tile(data.reshape(1, -1), (n_time, 1))\n",
    "    return expanded.reshape(1, -1)\n",
    "    \n",
    "\n",
    "def predictFlux(ds, hc, Vcmo, landcover, IGBP_table, training_testing_append, path_model):\n",
    "\n",
    "    n_time = len(ds.time)\n",
    "    \n",
    "    hc_ = expand_time_dimension(hc.data, n_time)\n",
    "    Vcmo_ = expand_time_dimension(Vcmo.data, n_time)\n",
    "    \n",
    "    IGBP_all = landcover_to_igbp(landcover, IGBP_table, training_testing_append)\n",
    "    IGBP_ = [\n",
    "        expand_time_dimension(IGBP_all[f'IGBP_veg_long{i}'].to_numpy(), n_time)\n",
    "        for i in range(1, 12)\n",
    "    ]\n",
    "    \n",
    "    Rin_ = ds.sel(variable='Rin').data.reshape(1, -1)\n",
    "    Rli_ = ds.sel(variable='Rli').data.reshape(1, -1)\n",
    "    p_ = ds.sel(variable='p').data.reshape(1, -1)\n",
    "    Ta_ = ds.sel(variable='Ta').data.reshape(1, -1)\n",
    "    ea_ = ds.sel(variable='ea').data.reshape(1, -1)\n",
    "    u_ = ds.sel(variable='u').data.reshape(1, -1)\n",
    "    Precip_msr_ = ds.sel(variable='Precip_msr').data.reshape(1, -1)\n",
    "    LAI_ = ds.sel(variable='LAI').data.reshape(1, -1)\n",
    "###############\n",
    "#    CO2_ = ds.sel(variable='CO2').data.reshape(1, -1)\n",
    "#    SSM_ = ds.sel(variable='SSM').data.reshape(1, -1)\n",
    "    CO2_ = ds.sel(variable='CO2').data.reshape(1, -1)\n",
    "    SSM_ = ds.sel(variable='SSM').data.reshape(1, -1)\n",
    "###############\n",
    "\n",
    "    features_arr = np.concatenate((\n",
    "        Rin_, Rli_, p_, Ta_, ea_, u_,  CO2_,LAI_,Vcmo_,hc_,Precip_msr_,   SSM_,  *IGBP_\n",
    "    ))\n",
    "    features_arr = features_arr.transpose()\n",
    "    df_features = pd.DataFrame(\n",
    "        data=features_arr,\n",
    "        columns=INPUT_VARIABLES,\n",
    "    )\n",
    "    invalid_index = df_features.isnull().any(axis=1)\n",
    "    \n",
    "    # Convert the nan value as 0 for the calculation\n",
    "    df_features[invalid_index] = 0\n",
    "    \n",
    "    model = load_model(path_model)\n",
    "    LEH = model.predict(df_features)\n",
    "    LEH[invalid_index] = np.nan\n",
    "    \n",
    "    return xr.DataArray(\n",
    "        name='LEH',\n",
    "        data=LEH.reshape(len(ds.time), len(ds.latitude), len(ds.longitude), len(OUTPUT_VARIABLES)),\n",
    "        dims=(\"time\", \"latitude\", \"longitude\", \"output_variable\"),\n",
    "        coords={\n",
    "            \"output_variable\": OUTPUT_VARIABLES, \n",
    "            \"time\": ds.time, \n",
    "            \"latitude\": ds.latitude,\n",
    "            \"longitude\":ds.longitude\n",
    "        }\n",
    "    )"
   ]
  },
  {
   "cell_type": "markdown",
   "id": "f7b22c6e-1a2e-4435-af31-5fe3c41e2bef",
   "metadata": {},
   "source": [
    "**Fake data here!** instead of passing `hc, Vcmo, landcover`, I pass three times `landcover`: "
   ]
  },
  {
   "cell_type": "code",
   "execution_count": 46,
   "id": "a740a3b5-9a0c-4e09-b54c-f2ad30721fd7",
   "metadata": {
    "tags": []
   },
   "outputs": [],
   "source": [
    "# hc = hc.chunk({\"latitude\":51})\n",
    "# vcmax = vcmax.chunk({\"latitude\":51})\n",
    "# landcover = landcover.chunk({\"latitude\":51})"
   ]
  },
  {
   "cell_type": "code",
   "execution_count": 47,
   "id": "a12e1fc9-92a0-4eaa-adb2-48640c38a40b",
   "metadata": {
    "tags": []
   },
   "outputs": [],
   "source": [
    "LEH = xr.map_blocks(\n",
    "    predictFlux,\n",
    "    ds,\n",
    "#########\n",
    "    # args=[hc, Vcmo, landcover],\n",
    "    args=[hc, vcmax, landcover],\n",
    "#########\n",
    "    kwargs={\n",
    "        \"IGBP_table\": IGBP_table, \n",
    "        \"training_testing_append\": training_testing_append, \n",
    "        \"path_model\": MODEL_PATH,\n",
    "    },\n",
    "    template=template_LEH,\n",
    ")"
   ]
  },
  {
   "cell_type": "markdown",
   "id": "24d38429-5ff4-44fa-b243-d9146fa00f86",
   "metadata": {
    "tags": []
   },
   "source": [
    "## clip Europe area"
   ]
  },
  {
   "cell_type": "code",
   "execution_count": 48,
   "id": "bbb42108-28f7-417d-a20d-38a736d73a7f",
   "metadata": {
    "tags": []
   },
   "outputs": [],
   "source": [
    "# area between 0 and 68\n",
    "clip_box0 = box(0, -90, bbox[3], 90)\n",
    "gdf0 = gdf.clip(clip_box0)"
   ]
  },
  {
   "cell_type": "code",
   "execution_count": 49,
   "id": "b34b15b3-43b1-4610-9832-0ffb1f163d28",
   "metadata": {
    "tags": []
   },
   "outputs": [
    {
     "data": {
      "text/plain": [
       "<Axes: >"
      ]
     },
     "execution_count": 49,
     "metadata": {},
     "output_type": "execute_result"
    },
    {
     "data": {
      "image/png": "[encoded data removed]",
      "text/plain": [
       "<Figure size 640x480 with 1 Axes>"
      ]
     },
     "metadata": {},
     "output_type": "display_data"
    }
   ],
   "source": [
    "gdf0.plot()"
   ]
  },
  {
   "cell_type": "code",
   "execution_count": 50,
   "id": "3444d4d4-71a7-4ef2-ad47-00507029c389",
   "metadata": {
    "tags": []
   },
   "outputs": [],
   "source": [
    "# convert [-180, 180] to [0, 360] for the Boundary\n",
    "gdf['geometry'] = gdf['geometry'].map(lambda polygon: translate(polygon, xoff=360) if polygon.bounds[0] < 0 else polygon)\n",
    "# area between 330 and 360\n",
    "clip_box360 = box(360+bbox[0], -90, 360, 90)\n",
    "gdf360 = gdf.clip(clip_box360)"
   ]
  },
  {
   "cell_type": "code",
   "execution_count": 51,
   "id": "72f59c5e-f346-4575-bd51-7adcaa6bfbf9",
   "metadata": {
    "tags": []
   },
   "outputs": [],
   "source": [
    "LEH = LEH.rio.write_crs(\"EPSG:4326\", inplace=True).rio.clip(gdf0.geometry.apply(mapping), gdf0.crs,drop=True)"
   ]
  },
  {
   "cell_type": "markdown",
   "id": "6e869007-e31d-424e-93c5-b0d873e998a9",
   "metadata": {},
   "source": [
    "## export"
   ]
  },
  {
   "cell_type": "code",
   "execution_count": 52,
   "id": "c510e3b2-2e66-4b3f-af11-afa8098eff18",
   "metadata": {
    "tags": []
   },
   "outputs": [],
   "source": [
    "LEH = LEH.chunk({\"latitude\":200, \"longitude\":200})"
   ]
  },
  {
   "cell_type": "code",
   "execution_count": 53,
   "id": "0d6f4046-f850-4aa8-9283-435db44c80d9",
   "metadata": {
    "tags": []
   },
   "outputs": [],
   "source": [
    "LEH_ds = LEH.to_dataset(dim=\"output_variable\") "
   ]
  },
  {
   "cell_type": "code",
   "execution_count": 54,
   "id": "f4233d7b-6e74-486e-8007-cc941c55f0fb",
   "metadata": {
    "tags": []
   },
   "outputs": [
    {
     "data": {
      "text/plain": [
       "'/gpfs/work2/0/ttse0619/qianqian/global_data_Qianqian/5output_data/Europe0_fluxes_RFvarmean_2014_v1.2.zarr'"
      ]
     },
     "execution_count": 54,
     "metadata": {},
     "output_type": "execute_result"
    }
   ],
   "source": [
    "LEH_PATH"
   ]
  },
  {
   "cell_type": "code",
   "execution_count": 55,
   "id": "68d08903-5a99-428b-abaf-2f9e379556b8",
   "metadata": {
    "tags": []
   },
   "outputs": [
    {
     "name": "stdout",
     "output_type": "stream",
     "text": [
      "CPU times: user 2min 44s, sys: 7.03 s, total: 2min 51s\n",
      "Wall time: 10min 10s\n"
     ]
    },
    {
     "data": {
      "text/plain": [
       "<xarray.backends.zarr.ZarrStore at 0x14d7e6730740>"
      ]
     },
     "execution_count": 55,
     "metadata": {},
     "output_type": "execute_result"
    }
   ],
   "source": [
    "%%time\n",
    "LEH_ds.to_zarr(LEH_PATH, mode='w')"
   ]
  },
  {
   "cell_type": "markdown",
   "id": "c6c27b67-5a9e-4b7a-ab3c-1b529c243b1a",
   "metadata": {},
   "source": [
    "Release resources of the Dask cluster:"
   ]
  },
  {
   "cell_type": "code",
   "execution_count": 56,
   "id": "85cf8755-5208-4695-91fe-bf689caf50c4",
   "metadata": {
    "tags": []
   },
   "outputs": [],
   "source": [
    "client.shutdown()"
   ]
  },
  {
   "cell_type": "code",
   "execution_count": 57,
   "id": "d1fe35a6-cee9-4db1-9a83-6a2f9d894634",
   "metadata": {
    "tags": []
   },
   "outputs": [
    {
     "data": {
      "text/html": [
       "<div><svg style=\"position: absolute; width: 0; height: 0; overflow: hidden\">\n",
       "<defs>\n",
       "<symbol id=\"icon-database\" viewBox=\"0 0 32 32\">\n",
       "<path d=\"M16 0c-8.837 0-16 2.239-16 5v4c0 2.761 7.163 5 16 5s16-2.239 16-5v-4c0-2.761-7.163-5-16-5z\"></path>\n",
       "<path d=\"M16 17c-8.837 0-16-2.239-16-5v6c0 2.761 7.163 5 16 5s16-2.239 16-5v-6c0 2.761-7.163 5-16 5z\"></path>\n",
       "<path d=\"M16 26c-8.837 0-16-2.239-16-5v6c0 2.761 7.163 5 16 5s16-2.239 16-5v-6c0 2.761-7.163 5-16 5z\"></path>\n",
       "</symbol>\n",
       "<symbol id=\"icon-file-text2\" viewBox=\"0 0 32 32\">\n",
       "<path d=\"M28.681 7.159c-0.694-0.947-1.662-2.053-2.724-3.116s-2.169-2.030-3.116-2.724c-1.612-1.182-2.393-1.319-2.841-1.319h-15.5c-1.378 0-2.5 1.121-2.5 2.5v27c0 1.378 1.122 2.5 2.5 2.5h23c1.378 0 2.5-1.122 2.5-2.5v-19.5c0-0.448-0.137-1.23-1.319-2.841zM24.543 5.457c0.959 0.959 1.712 1.825 2.268 2.543h-4.811v-4.811c0.718 0.556 1.584 1.309 2.543 2.268zM28 29.5c0 0.271-0.229 0.5-0.5 0.5h-23c-0.271 0-0.5-0.229-0.5-0.5v-27c0-0.271 0.229-0.5 0.5-0.5 0 0 15.499-0 15.5 0v7c0 0.552 0.448 1 1 1h7v19.5z\"></path>\n",
       "<path d=\"M23 26h-14c-0.552 0-1-0.448-1-1s0.448-1 1-1h14c0.552 0 1 0.448 1 1s-0.448 1-1 1z\"></path>\n",
       "<path d=\"M23 22h-14c-0.552 0-1-0.448-1-1s0.448-1 1-1h14c0.552 0 1 0.448 1 1s-0.448 1-1 1z\"></path>\n",
       "<path d=\"M23 18h-14c-0.552 0-1-0.448-1-1s0.448-1 1-1h14c0.552 0 1 0.448 1 1s-0.448 1-1 1z\"></path>\n",
       "</symbol>\n",
       "</defs>\n",
       "</svg>\n",
       "<style>/* CSS stylesheet for displaying xarray objects in jupyterlab.\n",
       " *\n",
       " */\n",
       "\n",
       ":root {\n",
       "  --xr-font-color0: var(--jp-content-font-color0, rgba(0, 0, 0, 1));\n",
       "  --xr-font-color2: var(--jp-content-font-color2, rgba(0, 0, 0, 0.54));\n",
       "  --xr-font-color3: var(--jp-content-font-color3, rgba(0, 0, 0, 0.38));\n",
       "  --xr-border-color: var(--jp-border-color2, #e0e0e0);\n",
       "  --xr-disabled-color: var(--jp-layout-color3, #bdbdbd);\n",
       "  --xr-background-color: var(--jp-layout-color0, white);\n",
       "  --xr-background-color-row-even: var(--jp-layout-color1, white);\n",
       "  --xr-background-color-row-odd: var(--jp-layout-color2, #eeeeee);\n",
       "}\n",
       "\n",
       "html[theme=dark],\n",
       "body[data-theme=dark],\n",
       "body.vscode-dark {\n",
       "  --xr-font-color0: rgba(255, 255, 255, 1);\n",
       "  --xr-font-color2: rgba(255, 255, 255, 0.54);\n",
       "  --xr-font-color3: rgba(255, 255, 255, 0.38);\n",
       "  --xr-border-color: #1F1F1F;\n",
       "  --xr-disabled-color: #515151;\n",
       "  --xr-background-color: #111111;\n",
       "  --xr-background-color-row-even: #111111;\n",
       "  --xr-background-color-row-odd: #313131;\n",
       "}\n",
       "\n",
       ".xr-wrap {\n",
       "  display: block !important;\n",
       "  min-width: 300px;\n",
       "  max-width: 700px;\n",
       "}\n",
       "\n",
       ".xr-text-repr-fallback {\n",
       "  /* fallback to plain text repr when CSS is not injected (untrusted notebook) */\n",
       "  display: none;\n",
       "}\n",
       "\n",
       ".xr-header {\n",
       "  padding-top: 6px;\n",
       "  padding-bottom: 6px;\n",
       "  margin-bottom: 4px;\n",
       "  border-bottom: solid 1px var(--xr-border-color);\n",
       "}\n",
       "\n",
       ".xr-header > div,\n",
       ".xr-header > ul {\n",
       "  display: inline;\n",
       "  margin-top: 0;\n",
       "  margin-bottom: 0;\n",
       "}\n",
       "\n",
       ".xr-obj-type,\n",
       ".xr-array-name {\n",
       "  margin-left: 2px;\n",
       "  margin-right: 10px;\n",
       "}\n",
       "\n",
       ".xr-obj-type {\n",
       "  color: var(--xr-font-color2);\n",
       "}\n",
       "\n",
       ".xr-sections {\n",
       "  padding-left: 0 !important;\n",
       "  display: grid;\n",
       "  grid-template-columns: 150px auto auto 1fr 20px 20px;\n",
       "}\n",
       "\n",
       ".xr-section-item {\n",
       "  display: contents;\n",
       "}\n",
       "\n",
       ".xr-section-item input {\n",
       "  display: none;\n",
       "}\n",
       "\n",
       ".xr-section-item input + label {\n",
       "  color: var(--xr-disabled-color);\n",
       "}\n",
       "\n",
       ".xr-section-item input:enabled + label {\n",
       "  cursor: pointer;\n",
       "  color: var(--xr-font-color2);\n",
       "}\n",
       "\n",
       ".xr-section-item input:enabled + label:hover {\n",
       "  color: var(--xr-font-color0);\n",
       "}\n",
       "\n",
       ".xr-section-summary {\n",
       "  grid-column: 1;\n",
       "  color: var(--xr-font-color2);\n",
       "  font-weight: 500;\n",
       "}\n",
       "\n",
       ".xr-section-summary > span {\n",
       "  display: inline-block;\n",
       "  padding-left: 0.5em;\n",
       "}\n",
       "\n",
       ".xr-section-summary-in:disabled + label {\n",
       "  color: var(--xr-font-color2);\n",
       "}\n",
       "\n",
       ".xr-section-summary-in + label:before {\n",
       "  display: inline-block;\n",
       "  content: '►';\n",
       "  font-size: 11px;\n",
       "  width: 15px;\n",
       "  text-align: center;\n",
       "}\n",
       "\n",
       ".xr-section-summary-in:disabled + label:before {\n",
       "  color: var(--xr-disabled-color);\n",
       "}\n",
       "\n",
       ".xr-section-summary-in:checked + label:before {\n",
       "  content: '▼';\n",
       "}\n",
       "\n",
       ".xr-section-summary-in:checked + label > span {\n",
       "  display: none;\n",
       "}\n",
       "\n",
       ".xr-section-summary,\n",
       ".xr-section-inline-details {\n",
       "  padding-top: 4px;\n",
       "  padding-bottom: 4px;\n",
       "}\n",
       "\n",
       ".xr-section-inline-details {\n",
       "  grid-column: 2 / -1;\n",
       "}\n",
       "\n",
       ".xr-section-details {\n",
       "  display: none;\n",
       "  grid-column: 1 / -1;\n",
       "  margin-bottom: 5px;\n",
       "}\n",
       "\n",
       ".xr-section-summary-in:checked ~ .xr-section-details {\n",
       "  display: contents;\n",
       "}\n",
       "\n",
       ".xr-array-wrap {\n",
       "  grid-column: 1 / -1;\n",
       "  display: grid;\n",
       "  grid-template-columns: 20px auto;\n",
       "}\n",
       "\n",
       ".xr-array-wrap > label {\n",
       "  grid-column: 1;\n",
       "  vertical-align: top;\n",
       "}\n",
       "\n",
       ".xr-preview {\n",
       "  color: var(--xr-font-color3);\n",
       "}\n",
       "\n",
       ".xr-array-preview,\n",
       ".xr-array-data {\n",
       "  padding: 0 5px !important;\n",
       "  grid-column: 2;\n",
       "}\n",
       "\n",
       ".xr-array-data,\n",
       ".xr-array-in:checked ~ .xr-array-preview {\n",
       "  display: none;\n",
       "}\n",
       "\n",
       ".xr-array-in:checked ~ .xr-array-data,\n",
       ".xr-array-preview {\n",
       "  display: inline-block;\n",
       "}\n",
       "\n",
       ".xr-dim-list {\n",
       "  display: inline-block !important;\n",
       "  list-style: none;\n",
       "  padding: 0 !important;\n",
       "  margin: 0;\n",
       "}\n",
       "\n",
       ".xr-dim-list li {\n",
       "  display: inline-block;\n",
       "  padding: 0;\n",
       "  margin: 0;\n",
       "}\n",
       "\n",
       ".xr-dim-list:before {\n",
       "  content: '(';\n",
       "}\n",
       "\n",
       ".xr-dim-list:after {\n",
       "  content: ')';\n",
       "}\n",
       "\n",
       ".xr-dim-list li:not(:last-child):after {\n",
       "  content: ',';\n",
       "  padding-right: 5px;\n",
       "}\n",
       "\n",
       ".xr-has-index {\n",
       "  font-weight: bold;\n",
       "}\n",
       "\n",
       ".xr-var-list,\n",
       ".xr-var-item {\n",
       "  display: contents;\n",
       "}\n",
       "\n",
       ".xr-var-item > div,\n",
       ".xr-var-item label,\n",
       ".xr-var-item > .xr-var-name span {\n",
       "  background-color: var(--xr-background-color-row-even);\n",
       "  margin-bottom: 0;\n",
       "}\n",
       "\n",
       ".xr-var-item > .xr-var-name:hover span {\n",
       "  padding-right: 5px;\n",
       "}\n",
       "\n",
       ".xr-var-list > li:nth-child(odd) > div,\n",
       ".xr-var-list > li:nth-child(odd) > label,\n",
       ".xr-var-list > li:nth-child(odd) > .xr-var-name span {\n",
       "  background-color: var(--xr-background-color-row-odd);\n",
       "}\n",
       "\n",
       ".xr-var-name {\n",
       "  grid-column: 1;\n",
       "}\n",
       "\n",
       ".xr-var-dims {\n",
       "  grid-column: 2;\n",
       "}\n",
       "\n",
       ".xr-var-dtype {\n",
       "  grid-column: 3;\n",
       "  text-align: right;\n",
       "  color: var(--xr-font-color2);\n",
       "}\n",
       "\n",
       ".xr-var-preview {\n",
       "  grid-column: 4;\n",
       "}\n",
       "\n",
       ".xr-var-name,\n",
       ".xr-var-dims,\n",
       ".xr-var-dtype,\n",
       ".xr-preview,\n",
       ".xr-attrs dt {\n",
       "  white-space: nowrap;\n",
       "  overflow: hidden;\n",
       "  text-overflow: ellipsis;\n",
       "  padding-right: 10px;\n",
       "}\n",
       "\n",
       ".xr-var-name:hover,\n",
       ".xr-var-dims:hover,\n",
       ".xr-var-dtype:hover,\n",
       ".xr-attrs dt:hover {\n",
       "  overflow: visible;\n",
       "  width: auto;\n",
       "  z-index: 1;\n",
       "}\n",
       "\n",
       ".xr-var-attrs,\n",
       ".xr-var-data {\n",
       "  display: none;\n",
       "  background-color: var(--xr-background-color) !important;\n",
       "  padding-bottom: 5px !important;\n",
       "}\n",
       "\n",
       ".xr-var-attrs-in:checked ~ .xr-var-attrs,\n",
       ".xr-var-data-in:checked ~ .xr-var-data {\n",
       "  display: block;\n",
       "}\n",
       "\n",
       ".xr-var-data > table {\n",
       "  float: right;\n",
       "}\n",
       "\n",
       ".xr-var-name span,\n",
       ".xr-var-data,\n",
       ".xr-attrs {\n",
       "  padding-left: 25px !important;\n",
       "}\n",
       "\n",
       ".xr-attrs,\n",
       ".xr-var-attrs,\n",
       ".xr-var-data {\n",
       "  grid-column: 1 / -1;\n",
       "}\n",
       "\n",
       "dl.xr-attrs {\n",
       "  padding: 0;\n",
       "  margin: 0;\n",
       "  display: grid;\n",
       "  grid-template-columns: 125px auto;\n",
       "}\n",
       "\n",
       ".xr-attrs dt,\n",
       ".xr-attrs dd {\n",
       "  padding: 0;\n",
       "  margin: 0;\n",
       "  float: left;\n",
       "  padding-right: 10px;\n",
       "  width: auto;\n",
       "}\n",
       "\n",
       ".xr-attrs dt {\n",
       "  font-weight: normal;\n",
       "  grid-column: 1;\n",
       "}\n",
       "\n",
       ".xr-attrs dt:hover span {\n",
       "  display: inline-block;\n",
       "  background: var(--xr-background-color);\n",
       "  padding-right: 10px;\n",
       "}\n",
       "\n",
       ".xr-attrs dd {\n",
       "  grid-column: 2;\n",
       "  white-space: pre-wrap;\n",
       "  word-break: break-all;\n",
       "}\n",
       "\n",
       ".xr-icon-database,\n",
       ".xr-icon-file-text2 {\n",
       "  display: inline-block;\n",
       "  vertical-align: middle;\n",
       "  width: 1em;\n",
       "  height: 1.5em !important;\n",
       "  stroke-width: 0;\n",
       "  stroke: currentColor;\n",
       "  fill: currentColor;\n",
       "}\n",
       "</style><pre class='xr-text-repr-fallback'>&lt;xarray.DataArray &#x27;LEH&#x27; (time: 8761, latitude: 469, longitude: 690,\n",
       "                         output_variable: 7)&gt;\n",
       "dask.array&lt;zeros_like, shape=(8761, 469, 690, 7), dtype=float64, chunksize=(125, 250, 250, 7), chunktype=numpy.ndarray&gt;\n",
       "Coordinates:\n",
       "  * output_variable  (output_variable) &lt;U11 &#x27;Rn_varmean&#x27; ... &#x27;SIF740&#x27;\n",
       "  * time             (time) datetime64[ns] 2014-01-01 ... 2015-01-01\n",
       "  * latitude         (latitude) float32 81.8 81.7 81.6 81.5 ... 35.2 35.1 35.0\n",
       "  * longitude        (longitude) float32 0.0 0.1 0.2 0.3 ... 68.6 68.7 68.8 68.9</pre><div class='xr-wrap' style='display:none'><div class='xr-header'><div class='xr-obj-type'>xarray.DataArray</div><div class='xr-array-name'>'LEH'</div><ul class='xr-dim-list'><li><span class='xr-has-index'>time</span>: 8761</li><li><span class='xr-has-index'>latitude</span>: 469</li><li><span class='xr-has-index'>longitude</span>: 690</li><li><span class='xr-has-index'>output_variable</span>: 7</li></ul></div><ul class='xr-sections'><li class='xr-section-item'><div class='xr-array-wrap'><input id='section-09d19eb3-60c8-429c-9702-e552dcc4fed9' class='xr-array-in' type='checkbox' checked><label for='section-09d19eb3-60c8-429c-9702-e552dcc4fed9' title='Show/hide data repr'><svg class='icon xr-icon-database'><use xlink:href='#icon-database'></use></svg></label><div class='xr-array-preview xr-preview'><span>dask.array&lt;chunksize=(125, 168, 250, 7), meta=np.ndarray&gt;</span></div><div class='xr-array-data'><table>\n",
       "    <tr>\n",
       "        <td>\n",
       "            <table style=\"border-collapse: collapse;\">\n",
       "                <thead>\n",
       "                    <tr>\n",
       "                        <td> </td>\n",
       "                        <th> Array </th>\n",
       "                        <th> Chunk </th>\n",
       "                    </tr>\n",
       "                </thead>\n",
       "                <tbody>\n",
       "                    \n",
       "                    <tr>\n",
       "                        <th> Bytes </th>\n",
       "                        <td> 147.86 GiB </td>\n",
       "                        <td> 417.23 MiB </td>\n",
       "                    </tr>\n",
       "                    \n",
       "                    <tr>\n",
       "                        <th> Shape </th>\n",
       "                        <td> (8761, 469, 690, 7) </td>\n",
       "                        <td> (125, 250, 250, 7) </td>\n",
       "                    </tr>\n",
       "                    <tr>\n",
       "                        <th> Dask graph </th>\n",
       "                        <td colspan=\"2\"> 639 chunks in 1 graph layer </td>\n",
       "                    </tr>\n",
       "                    <tr>\n",
       "                        <th> Data type </th>\n",
       "                        <td colspan=\"2\"> float64 numpy.ndarray </td>\n",
       "                    </tr>\n",
       "                </tbody>\n",
       "            </table>\n",
       "        </td>\n",
       "        <td>\n",
       "        <svg width=\"475\" height=\"107\" style=\"stroke:rgb(0,0,0);stroke-width:1\" >\n",
       "\n",
       "  <!-- Horizontal lines -->\n",
       "  <line x1=\"0\" y1=\"0\" x2=\"120\" y2=\"0\" style=\"stroke-width:2\" />\n",
       "  <line x1=\"0\" y1=\"25\" x2=\"120\" y2=\"25\" style=\"stroke-width:2\" />\n",
       "\n",
       "  <!-- Vertical lines -->\n",
       "  <line x1=\"0\" y1=\"0\" x2=\"0\" y2=\"25\" style=\"stroke-width:2\" />\n",
       "  <line x1=\"3\" y1=\"0\" x2=\"3\" y2=\"25\" />\n",
       "  <line x1=\"6\" y1=\"0\" x2=\"6\" y2=\"25\" />\n",
       "  <line x1=\"10\" y1=\"0\" x2=\"10\" y2=\"25\" />\n",
       "  <line x1=\"13\" y1=\"0\" x2=\"13\" y2=\"25\" />\n",
       "  <line x1=\"18\" y1=\"0\" x2=\"18\" y2=\"25\" />\n",
       "  <line x1=\"22\" y1=\"0\" x2=\"22\" y2=\"25\" />\n",
       "  <line x1=\"25\" y1=\"0\" x2=\"25\" y2=\"25\" />\n",
       "  <line x1=\"29\" y1=\"0\" x2=\"29\" y2=\"25\" />\n",
       "  <line x1=\"32\" y1=\"0\" x2=\"32\" y2=\"25\" />\n",
       "  <line x1=\"37\" y1=\"0\" x2=\"37\" y2=\"25\" />\n",
       "  <line x1=\"41\" y1=\"0\" x2=\"41\" y2=\"25\" />\n",
       "  <line x1=\"44\" y1=\"0\" x2=\"44\" y2=\"25\" />\n",
       "  <line x1=\"47\" y1=\"0\" x2=\"47\" y2=\"25\" />\n",
       "  <line x1=\"53\" y1=\"0\" x2=\"53\" y2=\"25\" />\n",
       "  <line x1=\"56\" y1=\"0\" x2=\"56\" y2=\"25\" />\n",
       "  <line x1=\"59\" y1=\"0\" x2=\"59\" y2=\"25\" />\n",
       "  <line x1=\"63\" y1=\"0\" x2=\"63\" y2=\"25\" />\n",
       "  <line x1=\"66\" y1=\"0\" x2=\"66\" y2=\"25\" />\n",
       "  <line x1=\"71\" y1=\"0\" x2=\"71\" y2=\"25\" />\n",
       "  <line x1=\"75\" y1=\"0\" x2=\"75\" y2=\"25\" />\n",
       "  <line x1=\"78\" y1=\"0\" x2=\"78\" y2=\"25\" />\n",
       "  <line x1=\"82\" y1=\"0\" x2=\"82\" y2=\"25\" />\n",
       "  <line x1=\"87\" y1=\"0\" x2=\"87\" y2=\"25\" />\n",
       "  <line x1=\"90\" y1=\"0\" x2=\"90\" y2=\"25\" />\n",
       "  <line x1=\"94\" y1=\"0\" x2=\"94\" y2=\"25\" />\n",
       "  <line x1=\"97\" y1=\"0\" x2=\"97\" y2=\"25\" />\n",
       "  <line x1=\"101\" y1=\"0\" x2=\"101\" y2=\"25\" />\n",
       "  <line x1=\"106\" y1=\"0\" x2=\"106\" y2=\"25\" />\n",
       "  <line x1=\"109\" y1=\"0\" x2=\"109\" y2=\"25\" />\n",
       "  <line x1=\"113\" y1=\"0\" x2=\"113\" y2=\"25\" />\n",
       "  <line x1=\"116\" y1=\"0\" x2=\"116\" y2=\"25\" />\n",
       "  <line x1=\"120\" y1=\"0\" x2=\"120\" y2=\"25\" style=\"stroke-width:2\" />\n",
       "\n",
       "  <!-- Colored Rectangle -->\n",
       "  <polygon points=\"0.0,0.0 120.0,0.0 120.0,25.412616514582485 0.0,25.412616514582485\" style=\"fill:#8B4903A0;stroke-width:0\"/>\n",
       "\n",
       "  <!-- Text -->\n",
       "  <text x=\"60.000000\" y=\"45.412617\" font-size=\"1.0rem\" font-weight=\"100\" text-anchor=\"middle\" >8761</text>\n",
       "  <text x=\"140.000000\" y=\"12.706308\" font-size=\"1.0rem\" font-weight=\"100\" text-anchor=\"middle\" transform=\"rotate(0,140.000000,12.706308)\">1</text>\n",
       "\n",
       "\n",
       "  <!-- Horizontal lines -->\n",
       "  <line x1=\"190\" y1=\"0\" x2=\"210\" y2=\"20\" style=\"stroke-width:2\" />\n",
       "  <line x1=\"190\" y1=\"13\" x2=\"210\" y2=\"34\" />\n",
       "  <line x1=\"190\" y1=\"26\" x2=\"210\" y2=\"47\" />\n",
       "  <line x1=\"190\" y1=\"37\" x2=\"210\" y2=\"57\" style=\"stroke-width:2\" />\n",
       "\n",
       "  <!-- Vertical lines -->\n",
       "  <line x1=\"190\" y1=\"0\" x2=\"190\" y2=\"37\" style=\"stroke-width:2\" />\n",
       "  <line x1=\"197\" y1=\"7\" x2=\"197\" y2=\"44\" />\n",
       "  <line x1=\"208\" y1=\"18\" x2=\"208\" y2=\"55\" />\n",
       "  <line x1=\"210\" y1=\"20\" x2=\"210\" y2=\"57\" style=\"stroke-width:2\" />\n",
       "\n",
       "  <!-- Colored Rectangle -->\n",
       "  <polygon points=\"190.0,0.0 210.5403163652786,20.5403163652786 210.5403163652786,57.77556953372219 190.0,37.23525316844359\" style=\"fill:#ECB172A0;stroke-width:0\"/>\n",
       "\n",
       "  <!-- Horizontal lines -->\n",
       "  <line x1=\"190\" y1=\"0\" x2=\"215\" y2=\"0\" style=\"stroke-width:2\" />\n",
       "  <line x1=\"197\" y1=\"7\" x2=\"222\" y2=\"7\" />\n",
       "  <line x1=\"208\" y1=\"18\" x2=\"233\" y2=\"18\" />\n",
       "  <line x1=\"210\" y1=\"20\" x2=\"235\" y2=\"20\" style=\"stroke-width:2\" />\n",
       "\n",
       "  <!-- Vertical lines -->\n",
       "  <line x1=\"190\" y1=\"0\" x2=\"210\" y2=\"20\" style=\"stroke-width:2\" />\n",
       "  <line x1=\"215\" y1=\"0\" x2=\"235\" y2=\"20\" style=\"stroke-width:2\" />\n",
       "\n",
       "  <!-- Colored Rectangle -->\n",
       "  <polygon points=\"190.0,0.0 215.41261651458248,0.0 235.95293287986107,20.5403163652786 210.5403163652786,20.5403163652786\" style=\"fill:#ECB172A0;stroke-width:0\"/>\n",
       "\n",
       "  <!-- Horizontal lines -->\n",
       "  <line x1=\"210\" y1=\"20\" x2=\"235\" y2=\"20\" style=\"stroke-width:2\" />\n",
       "  <line x1=\"210\" y1=\"34\" x2=\"235\" y2=\"34\" />\n",
       "  <line x1=\"210\" y1=\"47\" x2=\"235\" y2=\"47\" />\n",
       "  <line x1=\"210\" y1=\"57\" x2=\"235\" y2=\"57\" style=\"stroke-width:2\" />\n",
       "\n",
       "  <!-- Vertical lines -->\n",
       "  <line x1=\"210\" y1=\"20\" x2=\"210\" y2=\"57\" style=\"stroke-width:2\" />\n",
       "  <line x1=\"235\" y1=\"20\" x2=\"235\" y2=\"57\" style=\"stroke-width:2\" />\n",
       "\n",
       "  <!-- Colored Rectangle -->\n",
       "  <polygon points=\"210.5403163652786,20.5403163652786 235.9529328798611,20.5403163652786 235.9529328798611,57.77556953372219 210.5403163652786,57.77556953372219\" style=\"fill:#ECB172A0;stroke-width:0\"/>\n",
       "\n",
       "  <!-- Text -->\n",
       "  <text x=\"223.246625\" y=\"77.775570\" font-size=\"1.0rem\" font-weight=\"100\" text-anchor=\"middle\" >7</text>\n",
       "  <text x=\"255.952933\" y=\"39.157943\" font-size=\"1.0rem\" font-weight=\"100\" text-anchor=\"middle\" transform=\"rotate(-90,255.952933,39.157943)\">690</text>\n",
       "  <text x=\"190.270158\" y=\"67.505411\" font-size=\"1.0rem\" font-weight=\"100\" text-anchor=\"middle\" transform=\"rotate(45,190.270158,67.505411)\">469</text>\n",
       "</svg>\n",
       "        </td>\n",
       "    </tr>\n",
       "</table></div></div></li><li class='xr-section-item'><input id='section-729b39ab-c4d5-4733-9fac-17ac0d3ab6a1' class='xr-section-summary-in' type='checkbox'  checked><label for='section-729b39ab-c4d5-4733-9fac-17ac0d3ab6a1' class='xr-section-summary' >Coordinates: <span>(4)</span></label><div class='xr-section-inline-details'></div><div class='xr-section-details'><ul class='xr-var-list'><li class='xr-var-item'><div class='xr-var-name'><span class='xr-has-index'>output_variable</span></div><div class='xr-var-dims'>(output_variable)</div><div class='xr-var-dtype'>&lt;U11</div><div class='xr-var-preview xr-preview'>&#x27;Rn_varmean&#x27; ... &#x27;SIF740&#x27;</div><input id='attrs-ad6ac532-6d81-494b-aee3-dc19382414ee' class='xr-var-attrs-in' type='checkbox' disabled><label for='attrs-ad6ac532-6d81-494b-aee3-dc19382414ee' title='Show/Hide attributes'><svg class='icon xr-icon-file-text2'><use xlink:href='#icon-file-text2'></use></svg></label><input id='data-ab9dfa35-02fe-4dc3-8dc4-b9fbdb0baf12' class='xr-var-data-in' type='checkbox'><label for='data-ab9dfa35-02fe-4dc3-8dc4-b9fbdb0baf12' title='Show/Hide data repr'><svg class='icon xr-icon-database'><use xlink:href='#icon-database'></use></svg></label><div class='xr-var-attrs'><dl class='xr-attrs'></dl></div><div class='xr-var-data'><pre>array([&#x27;Rn_varmean&#x27;, &#x27;LE_varmean&#x27;, &#x27;H_varmean&#x27;, &#x27;GPP_varmean&#x27;, &#x27;Gtot&#x27;,\n",
       "       &#x27;SIF685&#x27;, &#x27;SIF740&#x27;], dtype=&#x27;&lt;U11&#x27;)</pre></div></li><li class='xr-var-item'><div class='xr-var-name'><span class='xr-has-index'>time</span></div><div class='xr-var-dims'>(time)</div><div class='xr-var-dtype'>datetime64[ns]</div><div class='xr-var-preview xr-preview'>2014-01-01 ... 2015-01-01</div><input id='attrs-95e2ca34-ed84-465a-b3c2-5a3ae08f23a6' class='xr-var-attrs-in' type='checkbox' ><label for='attrs-95e2ca34-ed84-465a-b3c2-5a3ae08f23a6' title='Show/Hide attributes'><svg class='icon xr-icon-file-text2'><use xlink:href='#icon-file-text2'></use></svg></label><input id='data-d5bd4217-0483-4074-8ea4-76cdb5bb487e' class='xr-var-data-in' type='checkbox'><label for='data-d5bd4217-0483-4074-8ea4-76cdb5bb487e' title='Show/Hide data repr'><svg class='icon xr-icon-database'><use xlink:href='#icon-database'></use></svg></label><div class='xr-var-attrs'><dl class='xr-attrs'><dt><span>long_name :</span></dt><dd>time</dd></dl></div><div class='xr-var-data'><pre>array([&#x27;2014-01-01T00:00:00.000000000&#x27;, &#x27;2014-01-01T01:00:00.000000000&#x27;,\n",
       "       &#x27;2014-01-01T02:00:00.000000000&#x27;, ..., &#x27;2014-12-31T22:00:00.000000000&#x27;,\n",
       "       &#x27;2014-12-31T23:00:00.000000000&#x27;, &#x27;2015-01-01T00:00:00.000000000&#x27;],\n",
       "      dtype=&#x27;datetime64[ns]&#x27;)</pre></div></li><li class='xr-var-item'><div class='xr-var-name'><span class='xr-has-index'>latitude</span></div><div class='xr-var-dims'>(latitude)</div><div class='xr-var-dtype'>float32</div><div class='xr-var-preview xr-preview'>81.8 81.7 81.6 ... 35.2 35.1 35.0</div><input id='attrs-7c99ff1f-4184-43eb-af97-074d7ba2dfa0' class='xr-var-attrs-in' type='checkbox' ><label for='attrs-7c99ff1f-4184-43eb-af97-074d7ba2dfa0' title='Show/Hide attributes'><svg class='icon xr-icon-file-text2'><use xlink:href='#icon-file-text2'></use></svg></label><input id='data-ae283b69-9eab-4fdf-b7ea-fd4f6213c342' class='xr-var-data-in' type='checkbox'><label for='data-ae283b69-9eab-4fdf-b7ea-fd4f6213c342' title='Show/Hide data repr'><svg class='icon xr-icon-database'><use xlink:href='#icon-database'></use></svg></label><div class='xr-var-attrs'><dl class='xr-attrs'><dt><span>long_name :</span></dt><dd>latitude</dd><dt><span>units :</span></dt><dd>degrees_north</dd></dl></div><div class='xr-var-data'><pre>array([81.8, 81.7, 81.6, ..., 35.2, 35.1, 35. ], dtype=float32)</pre></div></li><li class='xr-var-item'><div class='xr-var-name'><span class='xr-has-index'>longitude</span></div><div class='xr-var-dims'>(longitude)</div><div class='xr-var-dtype'>float32</div><div class='xr-var-preview xr-preview'>0.0 0.1 0.2 0.3 ... 68.7 68.8 68.9</div><input id='attrs-15792e8f-dbdf-43de-90a5-ae732de4e33c' class='xr-var-attrs-in' type='checkbox' ><label for='attrs-15792e8f-dbdf-43de-90a5-ae732de4e33c' title='Show/Hide attributes'><svg class='icon xr-icon-file-text2'><use xlink:href='#icon-file-text2'></use></svg></label><input id='data-bfc753a8-1980-4213-ba12-891a7a72dc9a' class='xr-var-data-in' type='checkbox'><label for='data-bfc753a8-1980-4213-ba12-891a7a72dc9a' title='Show/Hide data repr'><svg class='icon xr-icon-database'><use xlink:href='#icon-database'></use></svg></label><div class='xr-var-attrs'><dl class='xr-attrs'><dt><span>long_name :</span></dt><dd>longitude</dd><dt><span>units :</span></dt><dd>degrees_east</dd></dl></div><div class='xr-var-data'><pre>array([ 0. ,  0.1,  0.2, ..., 68.7, 68.8, 68.9], dtype=float32)</pre></div></li></ul></div></li><li class='xr-section-item'><input id='section-ac31748c-40cd-4754-a9c7-8fccf0baa49d' class='xr-section-summary-in' type='checkbox' disabled ><label for='section-ac31748c-40cd-4754-a9c7-8fccf0baa49d' class='xr-section-summary'  title='Expand/collapse section'>Attributes: <span>(0)</span></label><div class='xr-section-inline-details'></div><div class='xr-section-details'><dl class='xr-attrs'></dl></div></li></ul></div></div>"
      ],
      "text/plain": [
       "<xarray.DataArray 'LEH' (time: 8761, latitude: 469, longitude: 690,\n",
       "                         output_variable: 7)>\n",
       "dask.array<zeros_like, shape=(8761, 469, 690, 7), dtype=float64, chunksize=(125, 250, 250, 7), chunktype=numpy.ndarray>\n",
       "Coordinates:\n",
       "  * output_variable  (output_variable) <U11 'Rn_varmean' ... 'SIF740'\n",
       "  * time             (time) datetime64[ns] 2014-01-01 ... 2015-01-01\n",
       "  * latitude         (latitude) float32 81.8 81.7 81.6 81.5 ... 35.2 35.1 35.0\n",
       "  * longitude        (longitude) float32 0.0 0.1 0.2 0.3 ... 68.6 68.7 68.8 68.9"
      ]
     },
     "execution_count": 57,
     "metadata": {},
     "output_type": "execute_result"
    }
   ],
   "source": [
    "template_LEH"
   ]
  },
  {
   "cell_type": "markdown",
   "id": "251c68ef-d2b1-435a-83a3-b64a8871bea6",
   "metadata": {},
   "source": [
    "Verify the output is written:"
   ]
  },
  {
   "cell_type": "code",
   "execution_count": 59,
   "id": "a0e9807b-b0b8-478e-b61b-dc87e29b46e4",
   "metadata": {
    "tags": []
   },
   "outputs": [
    {
     "name": "stdout",
     "output_type": "stream",
     "text": [
      "7.9G\t/gpfs/work2/0/ttse0619/qianqian/global_data_Qianqian/5output_data/Europe0_fluxes_RFvarmean_2014_v1.2.zarr/H_varmean\n",
      "7.8G\t/gpfs/work2/0/ttse0619/qianqian/global_data_Qianqian/5output_data/Europe0_fluxes_RFvarmean_2014_v1.2.zarr/LE_varmean\n",
      "2.0K\t/gpfs/work2/0/ttse0619/qianqian/global_data_Qianqian/5output_data/Europe0_fluxes_RFvarmean_2014_v1.2.zarr/spatial_ref\n",
      "2.0K\t/gpfs/work2/0/ttse0619/qianqian/global_data_Qianqian/5output_data/Europe0_fluxes_RFvarmean_2014_v1.2.zarr/longitude\n",
      "2.0K\t/gpfs/work2/0/ttse0619/qianqian/global_data_Qianqian/5output_data/Europe0_fluxes_RFvarmean_2014_v1.2.zarr/latitude\n",
      "8.0G\t/gpfs/work2/0/ttse0619/qianqian/global_data_Qianqian/5output_data/Europe0_fluxes_RFvarmean_2014_v1.2.zarr/Gtot\n",
      "4.5G\t/gpfs/work2/0/ttse0619/qianqian/global_data_Qianqian/5output_data/Europe0_fluxes_RFvarmean_2014_v1.2.zarr/SIF685\n",
      "2.5K\t/gpfs/work2/0/ttse0619/qianqian/global_data_Qianqian/5output_data/Europe0_fluxes_RFvarmean_2014_v1.2.zarr/time\n",
      "8.0G\t/gpfs/work2/0/ttse0619/qianqian/global_data_Qianqian/5output_data/Europe0_fluxes_RFvarmean_2014_v1.2.zarr/GPP_varmean\n",
      "7.7G\t/gpfs/work2/0/ttse0619/qianqian/global_data_Qianqian/5output_data/Europe0_fluxes_RFvarmean_2014_v1.2.zarr/Rn_varmean\n",
      "4.5G\t/gpfs/work2/0/ttse0619/qianqian/global_data_Qianqian/5output_data/Europe0_fluxes_RFvarmean_2014_v1.2.zarr/SIF740\n",
      "49G\t/gpfs/work2/0/ttse0619/qianqian/global_data_Qianqian/5output_data/Europe0_fluxes_RFvarmean_2014_v1.2.zarr\n"
     ]
    }
   ],
   "source": [
    "! du -h $LEH_PATH"
   ]
  },
  {
   "cell_type": "code",
   "execution_count": 66,
   "id": "6a589585-2103-4ace-89e4-78e71d4dbad2",
   "metadata": {
    "tags": []
   },
   "outputs": [],
   "source": [
    "LEHSS = xr.open_zarr(\"/gpfs/work2/0/ttse0619/qianqian/global_data_Qianqian/5output_data/Europe0_fluxes_RFSS_2014_v1.1.zarr\")"
   ]
  },
  {
   "cell_type": "code",
   "execution_count": 67,
   "id": "77d82231-90d6-4812-a7c0-183bf63fbbc3",
   "metadata": {
    "tags": []
   },
   "outputs": [],
   "source": [
    "LEHvarmean = xr.open_zarr(\"/gpfs/work2/0/ttse0619/qianqian/global_data_Qianqian/5output_data/Europe0_fluxes_RFvarmean_2014_v1.2.zarr\")"
   ]
  },
  {
   "cell_type": "code",
   "execution_count": 70,
   "id": "4ec7aa9d-9d69-4bd4-8ebf-78f79f3fb18d",
   "metadata": {
    "tags": []
   },
   "outputs": [
    {
     "data": {
      "text/plain": [
       "(<xarray.DataArray 'LEtot' ()>\n",
       " array(12.1558311)\n",
       " Coordinates:\n",
       "     time     datetime64[ns] 2014-12-24,\n",
       " <xarray.DataArray 'LE_varmean' ()>\n",
       " array(5.32006003)\n",
       " Coordinates:\n",
       "     time     datetime64[ns] 2014-12-24)"
      ]
     },
     "execution_count": 70,
     "metadata": {},
     "output_type": "execute_result"
    }
   ],
   "source": [
    "LEHSS.LEtot[-193,:].mean().compute(),LEHvarmean.LE_varmean[-193,:].mean().compute()"
   ]
  },
  {
   "cell_type": "code",
   "execution_count": 72,
   "id": "8b96c7a0-de3e-4111-8c10-ec638d9ea5bf",
   "metadata": {
    "tags": []
   },
   "outputs": [
    {
     "data": {
      "text/plain": [
       "<matplotlib.collections.QuadMesh at 0x14d7cdf4c1c0>"
      ]
     },
     "execution_count": 72,
     "metadata": {},
     "output_type": "execute_result"
    },
    {
     "data": {
      "image/png": "[encoded data removed]",
      "text/plain": [
       "<Figure size 640x480 with 2 Axes>"
      ]
     },
     "metadata": {},
     "output_type": "display_data"
    }
   ],
   "source": [
    "LEHSS.LEtot[-193,:].plot()\n"
   ]
  },
  {
   "cell_type": "code",
   "execution_count": 73,
   "id": "85d1ee38-fe9f-48be-8afe-38b48d67cfc1",
   "metadata": {
    "tags": []
   },
   "outputs": [
    {
     "data": {
      "text/plain": [
       "<matplotlib.collections.QuadMesh at 0x14d7cc791f70>"
      ]
     },
     "execution_count": 73,
     "metadata": {},
     "output_type": "execute_result"
    },
    {
     "data": {
      "image/png": "[encoded data removed]",
      "text/plain": [
       "<Figure size 640x480 with 2 Axes>"
      ]
     },
     "metadata": {},
     "output_type": "display_data"
    }
   ],
   "source": [
    "LEHvarmean.LE_varmean[-193,:].plot()"
   ]
  },
  {
   "cell_type": "code",
   "execution_count": 62,
   "id": "0e92c73a-63bf-4d06-85d5-4a6051f4f554",
   "metadata": {
    "tags": []
   },
   "outputs": [
    {
     "data": {
      "text/plain": [
       "147.43593084067106"
      ]
     },
     "execution_count": 62,
     "metadata": {},
     "output_type": "execute_result"
    }
   ],
   "source": [
    "LEH2013.nbytes/2**30"
   ]
  },
  {
   "cell_type": "code",
   "execution_count": 139,
   "id": "df45568f-3717-48b1-8ad5-d7a13a9f8874",
   "metadata": {
    "tags": []
   },
   "outputs": [],
   "source": [
    "clip_box0 = box(0, -90,bbox[3], 90)\n",
    "gdf0 = gdf.clip(clip_box0)"
   ]
  },
  {
   "cell_type": "code",
   "execution_count": 150,
   "id": "9506f071-0798-4939-b03b-f9061fba1271",
   "metadata": {
    "tags": []
   },
   "outputs": [
    {
     "data": {
      "text/plain": [
       "10.560540854930878"
      ]
     },
     "execution_count": 150,
     "metadata": {},
     "output_type": "execute_result"
    }
   ],
   "source": [
    "era5.sp.nbytes/2**30"
   ]
  },
  {
   "cell_type": "code",
   "execution_count": 158,
   "id": "8280013c-46d4-4ad2-b13c-e2ada4f8525e",
   "metadata": {},
   "outputs": [
    {
     "data": {
      "text/plain": [
       "10.529930591583252"
      ]
     },
     "execution_count": 158,
     "metadata": {},
     "output_type": "execute_result"
    }
   ],
   "source": [
    "era5.sp.rio.write_crs(\"EPSG:4326\", inplace=True).rio.clip(gdf0.geometry.apply(mapping), gdf0.crs,drop=True).nbytes/2**30"
   ]
  },
  {
   "cell_type": "code",
   "execution_count": 156,
   "id": "888528ac-cbe1-4c51-8293-6c448db4468a",
   "metadata": {
    "tags": []
   },
   "outputs": [
    {
     "name": "stderr",
     "output_type": "stream",
     "text": [
      "/home/qiahan/.local/lib/python3.9/site-packages/IPython/core/displayhook.py:281: UserWarning: Output cache limit (currently 20 entries) hit.\n",
      "Flushing oldest 4 entries.\n",
      "  warn('Output cache limit (currently {sz} entries) hit.\\n'\n"
     ]
    },
    {
     "data": {
      "text/plain": [
       "10.560540854930878"
      ]
     },
     "execution_count": 156,
     "metadata": {},
     "output_type": "execute_result"
    }
   ],
   "source": [
    "era5.sp.where(era5.longitude<bbox[3]).nbytes/2**30"
   ]
  },
  {
   "cell_type": "code",
   "execution_count": null,
   "id": "e7f65354-36f3-443d-b08a-c2d4101ef634",
   "metadata": {},
   "outputs": [],
   "source": []
  }
 ],
 "metadata": {
  "kernelspec": {
   "display_name": "Python 3 (ipykernel)",
   "language": "python",
   "name": "python3"
  },
  "language_info": {
   "codemirror_mode": {
    "name": "ipython",
    "version": 3
   },
   "file_extension": ".py",
   "mimetype": "text/x-python",
   "name": "python",
   "nbconvert_exporter": "python",
   "pygments_lexer": "ipython3",
   "version": "3.9.16"
  }
 },
 "nbformat": 4,
 "nbformat_minor": 5
}
